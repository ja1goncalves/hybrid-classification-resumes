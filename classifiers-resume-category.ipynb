{
 "nbformat": 4,
 "nbformat_minor": 0,
 "metadata": {
  "colab": {
   "provenance": [],
   "collapsed_sections": [
    "fvzb4uT51yVn",
    "n6L7kABUMhbr",
    "3GmUOob4o5yC",
    "eJxMwuE6YifW"
   ],
   "gpuType": "T4",
   "mount_file_id": "1ovNbxtKXRbQbyG7bfi_tl2gh9-nc8k6H",
   "authorship_tag": "ABX9TyPOG1wf6RFGeukmtcOoDjIC"
  },
  "kernelspec": {
   "name": "python3",
   "display_name": "Python 3"
  },
  "language_info": {
   "name": "python"
  },
  "accelerator": "GPU"
 },
 "cells": [
  {
   "cell_type": "markdown",
   "source": [
    "### Preparing the env dependencies"
   ],
   "metadata": {
    "id": "EU7agKrS1FOe"
   }
  },
  {
   "cell_type": "code",
   "source": [
    "import os\n",
    "os.environ['TF_USE_LEGACY_KERAS'] = '1'\n",
    "import warnings\n",
    "import joblib\n",
    "import numpy as np\n",
    "import pandas as pd\n",
    "import tensorflow as tf\n",
    "import tensorflow_hub as hub\n",
    "import tensorflow_text as text\n",
    "from sklearn import metrics\n",
    "from sklearn.experimental import enable_halving_search_cv\n",
    "from sklearn.model_selection import HalvingGridSearchCV, GridSearchCV\n",
    "from sklearn.metrics import confusion_matrix, accuracy_score\n",
    "from sklearn.model_selection import train_test_split\n",
    "from sklearn.metrics import classification_report\n",
    "from tensorflow.keras.layers import Dense, Embedding, LSTM, Bidirectional, Dropout\n",
    "warnings.simplefilter(\"ignore\")"
   ],
   "metadata": {
    "id": "2HOZV4PF1DE_",
    "executionInfo": {
     "status": "ok",
     "timestamp": 1750420259432,
     "user_tz": 180,
     "elapsed": 15146,
     "user": {
      "displayName": "Joao Paulo Felix",
      "userId": "12626999418256548582"
     }
    }
   },
   "outputs": [],
   "execution_count": null
  },
  {
   "cell_type": "markdown",
   "source": "### Catching off-line data",
   "metadata": {
    "id": "-5xbcvmLgqQh"
   }
  },
  {
   "cell_type": "code",
   "source": [
    "# after that I ask to gemini to generate new data for categories with less count\n",
    "all_data = pd.read_csv(\"data/filtered/normalized.csv\")\n",
    "all_data = all_data.dropna()\n",
    "all_data = all_data.drop_duplicates()\n",
    "all_data.shape"
   ],
   "metadata": {
    "colab": {
     "base_uri": "https://localhost:8080/"
    },
    "id": "5rKnY-YjgpfU",
    "executionInfo": {
     "status": "ok",
     "timestamp": 1750420458526,
     "user_tz": 180,
     "elapsed": 313,
     "user": {
      "displayName": "Joao Paulo Felix",
      "userId": "12626999418256548582"
     }
    },
    "outputId": "98562453-36c0-4c9b-9590-aa12f0b0962d",
    "ExecuteTime": {
     "end_time": "2025-06-25T06:54:27.066782Z",
     "start_time": "2025-06-25T06:54:26.844755Z"
    }
   },
   "outputs": [
    {
     "data": {
      "text/plain": [
       "(18240, 2)"
      ]
     },
     "execution_count": 2,
     "metadata": {},
     "output_type": "execute_result"
    }
   ],
   "execution_count": 2
  },
  {
   "cell_type": "markdown",
   "source": [
    "### Vectorizer"
   ],
   "metadata": {
    "id": "fLhjsaoXGU-I"
   }
  },
  {
   "cell_type": "markdown",
   "source": "#### Label Encoder",
   "metadata": {
    "id": "6zyeowvGIAEd"
   }
  },
  {
   "metadata": {
    "ExecuteTime": {
     "end_time": "2025-06-25T06:54:29.637130Z",
     "start_time": "2025-06-25T06:54:29.633962Z"
    }
   },
   "cell_type": "code",
   "source": [
    "from sklearn.preprocessing import LabelEncoder\n",
    "from tensorflow.keras.utils import to_categorical\n",
    "\n",
    "def encode_labels(categories):\n",
    "    label_encoder = LabelEncoder()\n",
    "    category_encoded = label_encoder.fit_transform(categories)\n",
    "    print(category_encoded)\n",
    "    num_categories = len(label_encoder.classes_)\n",
    "    y = to_categorical(category_encoded)\n",
    "    return label_encoder, y, num_categories\n",
    "\n",
    "def decoded_label(label_encoder, y_encoded, categorical=True):\n",
    "    label = [int(np.argmax(y)) for y in y_encoded] if categorical else y_encoded\n",
    "    return label_encoder.inverse_transform(label)"
   ],
   "outputs": [],
   "execution_count": 3
  },
  {
   "cell_type": "code",
   "source": [
    "categories = all_data['category']\n",
    "label_encoder, y, num_categories = encode_labels(categories)\n",
    "print(num_categories, y)"
   ],
   "metadata": {
    "colab": {
     "base_uri": "https://localhost:8080/"
    },
    "id": "4fOWd9YHIKXm",
    "executionInfo": {
     "status": "ok",
     "timestamp": 1750416211303,
     "user_tz": 180,
     "elapsed": 40,
     "user": {
      "displayName": "Joao Paulo Felix",
      "userId": "12626999418256548582"
     }
    },
    "outputId": "b9bf06da-0529-414b-fbda-68eb124cd162",
    "ExecuteTime": {
     "end_time": "2025-06-25T06:54:31.235479Z",
     "start_time": "2025-06-25T06:54:31.228252Z"
    }
   },
   "outputs": [
    {
     "name": "stdout",
     "output_type": "stream",
     "text": [
      "[48 70 46 ... 72 72 72]\n",
      "95 [[0. 0. 0. ... 0. 0. 0.]\n",
      " [0. 0. 0. ... 0. 0. 0.]\n",
      " [0. 0. 0. ... 0. 0. 0.]\n",
      " ...\n",
      " [0. 0. 0. ... 0. 0. 0.]\n",
      " [0. 0. 0. ... 0. 0. 0.]\n",
      " [0. 0. 0. ... 0. 0. 0.]]\n"
     ]
    }
   ],
   "execution_count": 4
  },
  {
   "cell_type": "markdown",
   "source": "#### TF-IDF",
   "metadata": {
    "id": "68JaMuIOInXP"
   }
  },
  {
   "cell_type": "code",
   "source": [
    "from sklearn.feature_extraction.text import TfidfVectorizer\n",
    "\n",
    "tfidf_vec = TfidfVectorizer()\n",
    "resumes_vec = tfidf_vec.fit_transform(all_data['resume'])\n",
    "inputs = len(tfidf_vec.get_feature_names_out())\n",
    "print(\"Tamanho:\", len(tfidf_vec.get_feature_names_out()), \"Vocabulário:\", tfidf_vec.get_feature_names_out(), )\n",
    "resumes_vec"
   ],
   "metadata": {
    "colab": {
     "base_uri": "https://localhost:8080/"
    },
    "id": "Py2DrD1eIpde",
    "executionInfo": {
     "status": "ok",
     "timestamp": 1750416213817,
     "user_tz": 180,
     "elapsed": 1098,
     "user": {
      "displayName": "Joao Paulo Felix",
      "userId": "12626999418256548582"
     }
    },
    "outputId": "9f92622c-cf19-476e-d878-ab86a9900943",
    "ExecuteTime": {
     "end_time": "2025-06-24T02:19:27.493519Z",
     "start_time": "2025-06-24T02:19:26.197283Z"
    }
   },
   "outputs": [
    {
     "name": "stdout",
     "output_type": "stream",
     "text": [
      "Tamanho: 48295 Vocabulário: ['aa' 'aaa' 'aaacom' ... 'zyvox' 'zz' 'zzxzx']\n"
     ]
    },
    {
     "data": {
      "text/plain": [
       "<Compressed Sparse Row sparse matrix of dtype 'float64'\n",
       "\twith 2122670 stored elements and shape (18240, 48295)>"
      ]
     },
     "execution_count": 5,
     "metadata": {},
     "output_type": "execute_result"
    }
   ],
   "execution_count": 5
  },
  {
   "metadata": {
    "ExecuteTime": {
     "end_time": "2025-06-24T02:19:28.903406Z",
     "start_time": "2025-06-24T02:19:28.882713Z"
    }
   },
   "cell_type": "code",
   "source": [
    "X_train_vec, X_temp_vec, y_train_vec, y_temp_vec = train_test_split(resumes_vec, y, test_size=0.3, random_state=42)\n",
    "X_val_vec, X_test_vec, y_val_vec, y_test_vec = train_test_split(X_temp_vec, y_temp_vec, test_size=0.5, random_state=42)\n",
    "X_train_vec.shape, X_temp_vec.shape, X_val_vec.shape, X_test_vec.shape"
   ],
   "outputs": [
    {
     "data": {
      "text/plain": [
       "((12768, 48295), (5472, 48295), (2736, 48295), (2736, 48295))"
      ]
     },
     "execution_count": 6,
     "metadata": {},
     "output_type": "execute_result"
    }
   ],
   "execution_count": 6
  },
  {
   "cell_type": "markdown",
   "source": "#### Tokens",
   "metadata": {
    "id": "QeWKmUClKvxR"
   }
  },
  {
   "cell_type": "code",
   "source": [
    "from tensorflow.keras.preprocessing.text import Tokenizer\n",
    "from tensorflow.keras.preprocessing.sequence import pad_sequences\n",
    "\n",
    "num_words = 20000\n",
    "max_length = 500\n",
    "oov_tok = \"<OOV>\"\n",
    "token = Tokenizer(num_words=num_words, oov_token=oov_tok)\n",
    "token.fit_on_texts(all_data['resume'])\n",
    "inputs = len(token.word_index)\n",
    "resumes_token = token.texts_to_sequences(all_data['resume'])\n",
    "resumes_token = pad_sequences(resumes_token, padding=\"post\", truncating=\"post\", maxlen=max_length)\n",
    "inputs, resumes_token"
   ],
   "metadata": {
    "colab": {
     "base_uri": "https://localhost:8080/"
    },
    "collapsed": true,
    "id": "mqrjDPy3KxC9",
    "executionInfo": {
     "status": "ok",
     "timestamp": 1750417516389,
     "user_tz": 180,
     "elapsed": 2193,
     "user": {
      "displayName": "Joao Paulo Felix",
      "userId": "12626999418256548582"
     }
    },
    "outputId": "72b6e187-d3c5-47a0-c06b-1a4d6c4275ce",
    "ExecuteTime": {
     "end_time": "2025-06-25T06:54:39.558410Z",
     "start_time": "2025-06-25T06:54:37.733258Z"
    }
   },
   "outputs": [
    {
     "data": {
      "text/plain": [
       "(48319,\n",
       " array([[  34, 1307, 1032, ...,    0,    0,    0],\n",
       "        [  34,  350, 2123, ...,    0,    0,    0],\n",
       "        [  34,  769,   59, ...,    0,    0,    0],\n",
       "        ...,\n",
       "        [   9,  621,   61, ...,    0,    0,    0],\n",
       "        [ 154,  307,  602, ...,   23, 2651,   23],\n",
       "        [ 154,  307,  602, ...,   23, 2651,   23]], dtype=int32))"
      ]
     },
     "execution_count": 5,
     "metadata": {},
     "output_type": "execute_result"
    }
   ],
   "execution_count": 5
  },
  {
   "metadata": {
    "ExecuteTime": {
     "end_time": "2025-06-25T06:54:40.998817Z",
     "start_time": "2025-06-25T06:54:40.982586Z"
    }
   },
   "cell_type": "code",
   "source": [
    "X_train_tkn, X_temp_tkn, y_train_tkn, y_temp_tkn = train_test_split(resumes_token, y, test_size=0.3, random_state=42)\n",
    "X_val_tkn, X_test_tkn, y_val_tkn, y_test_tkn = train_test_split(X_temp_tkn, y_temp_tkn, test_size=0.5, random_state=42)\n",
    "X_train_tkn.shape, X_temp_tkn.shape, X_val_tkn.shape, X_test_tkn.shape"
   ],
   "outputs": [
    {
     "data": {
      "text/plain": [
       "((12768, 500), (5472, 500), (2736, 500), (2736, 500))"
      ]
     },
     "execution_count": 6,
     "metadata": {},
     "output_type": "execute_result"
    }
   ],
   "execution_count": 6
  },
  {
   "metadata": {},
   "cell_type": "markdown",
   "source": "## Training"
  },
  {
   "metadata": {
    "ExecuteTime": {
     "end_time": "2025-06-22T19:37:37.821704Z",
     "start_time": "2025-06-22T19:37:37.819815Z"
    }
   },
   "cell_type": "code",
   "source": [
    "# Play this only in the first execution\n",
    "# result_vec_decoded = decoded_label(label_encoder, y_test_vec)\n",
    "# result_vec_df = pd.DataFrame(result_vec_decoded, columns=['target'])\n",
    "# result_vec_df.to_csv('data/results/tf-idf/classifiers-results.csv', encoding='utf-8', index=False)\n",
    "#\n",
    "# result_tkn_decoded = decoded_label(label_encoder, y_test_tkn)\n",
    "# result_tkn_df = pd.DataFrame(result_tkn_decoded, columns=['target'])\n",
    "# result_tkn_df.to_csv('data/results/token/classifiers-results.csv', encoding='utf-8', index=False)"
   ],
   "outputs": [],
   "execution_count": 17
  },
  {
   "metadata": {
    "ExecuteTime": {
     "end_time": "2025-06-25T06:54:46.964977Z",
     "start_time": "2025-06-25T06:54:46.962633Z"
    }
   },
   "cell_type": "code",
   "source": [
    "def save_results(prediction, model_name, categorical=True):\n",
    "    filename = f'data/results/classifiers-results.csv'\n",
    "    result_decoded = decoded_label(label_encoder, prediction, categorical)\n",
    "    result = pd.read_csv(filename)\n",
    "    result[model_name] = result_decoded\n",
    "    result.to_csv(filename, encoding='utf-8', index=False)\n",
    "    print('Results saved in {}'.format(filename))"
   ],
   "outputs": [],
   "execution_count": 7
  },
  {
   "cell_type": "markdown",
   "source": [
    "### Random Forests"
   ],
   "metadata": {
    "id": "s0pG-UFlBbJ6"
   }
  },
  {
   "cell_type": "code",
   "source": [
    "from sklearn.ensemble import RandomForestClassifier\n",
    "\n",
    "def random_forest_model(X_train, X_test, X_val, y_train, y_test, y_val):\n",
    "    y_train_categorical = [int(np.argmax(y)) for y in y_train]\n",
    "    y_test_categorical = [int(np.argmax(y)) for y in y_test]\n",
    "    y_val_categorical = [int(np.argmax(y)) for y in y_val]\n",
    "    rng = np.random.RandomState(0)\n",
    "    param_grid = {\n",
    "        'n_estimators': [100, 200, 300, 400, 500, 600, 700, 800, 900, 1000],\n",
    "        'criterion': [\"gini\", \"entropy\"]\n",
    "    }\n",
    "    forest = RandomForestClassifier(n_estimators=700, criterion='gini', bootstrap=False)\n",
    "    rsh = HalvingGridSearchCV(estimator=forest, param_grid=param_grid, random_state=rng, factor=5, n_jobs=-1)\n",
    "    rsh.fit(X_val, y_val_categorical)\n",
    "    score = rsh.score(X_test, y_test_categorical)\n",
    "    print(\"Score: \", score, \"Params:\", rsh.best_params_)\n",
    "\n",
    "    model = RandomForestClassifier(\n",
    "        n_estimators=rsh.best_params_['n_estimators'],\n",
    "        criterion=rsh.best_params_['criterion'],\n",
    "        bootstrap=False\n",
    "    )\n",
    "\n",
    "    model.fit(X_val, y_val_categorical)\n",
    "    model.fit(X_train, y_train_categorical)\n",
    "    prediction = model.predict(X_test)\n",
    "    accuracy = accuracy_score(y_test_categorical, prediction)\n",
    "    save_results(prediction, 'RFC', False)\n",
    "    print(accuracy)\n",
    "    print(metrics.classification_report(y_test_categorical, prediction))\n",
    "    return model, accuracy"
   ],
   "metadata": {
    "colab": {
     "base_uri": "https://localhost:8080/"
    },
    "id": "8hYUEs63Bfp9",
    "executionInfo": {
     "status": "ok",
     "timestamp": 1750419193544,
     "user_tz": 180,
     "elapsed": 726860,
     "user": {
      "displayName": "Joao Paulo Felix",
      "userId": "12626999418256548582"
     }
    },
    "outputId": "c5d0df0d-2ed1-4d33-e98c-b482d90ee3bc",
    "ExecuteTime": {
     "end_time": "2025-06-21T21:33:42.783476Z",
     "start_time": "2025-06-21T21:33:42.780053Z"
    }
   },
   "outputs": [],
   "execution_count": 25
  },
  {
   "metadata": {
    "colab": {
     "base_uri": "https://localhost:8080/"
    },
    "id": "J-w5T_RzWfcQ",
    "executionInfo": {
     "status": "ok",
     "timestamp": 1750418393105,
     "user_tz": 180,
     "elapsed": 27,
     "user": {
      "displayName": "Joao Paulo Felix",
      "userId": "12626999418256548582"
     }
    },
    "outputId": "38ffaa00-68f1-4e3f-cff4-5693d64afab8",
    "ExecuteTime": {
     "end_time": "2025-06-21T21:19:19.077130Z",
     "start_time": "2025-06-21T21:10:13.804569Z"
    }
   },
   "cell_type": "code",
   "source": "model_vec, acc_vec = random_forest_model(X_train_vec, X_test_vec, X_val_vec, y_train_vec, y_test_vec, y_val_vec)",
   "outputs": [
    {
     "name": "stderr",
     "output_type": "stream",
     "text": [
      "/usr/lib/python3.12/multiprocessing/queues.py:122: UserWarning: pkg_resources is deprecated as an API. See https://setuptools.pypa.io/en/latest/pkg_resources.html. The pkg_resources package is slated for removal as early as 2025-11-30. Refrain from using this package or pin to Setuptools<81.\n",
      "  return _ForkingPickler.loads(res)\n",
      "/usr/lib/python3.12/multiprocessing/queues.py:122: UserWarning: pkg_resources is deprecated as an API. See https://setuptools.pypa.io/en/latest/pkg_resources.html. The pkg_resources package is slated for removal as early as 2025-11-30. Refrain from using this package or pin to Setuptools<81.\n",
      "  return _ForkingPickler.loads(res)\n",
      "/usr/lib/python3.12/multiprocessing/queues.py:122: UserWarning: pkg_resources is deprecated as an API. See https://setuptools.pypa.io/en/latest/pkg_resources.html. The pkg_resources package is slated for removal as early as 2025-11-30. Refrain from using this package or pin to Setuptools<81.\n",
      "  return _ForkingPickler.loads(res)\n",
      "/usr/lib/python3.12/multiprocessing/queues.py:122: UserWarning: pkg_resources is deprecated as an API. See https://setuptools.pypa.io/en/latest/pkg_resources.html. The pkg_resources package is slated for removal as early as 2025-11-30. Refrain from using this package or pin to Setuptools<81.\n",
      "  return _ForkingPickler.loads(res)\n",
      "/usr/lib/python3.12/multiprocessing/queues.py:122: UserWarning: pkg_resources is deprecated as an API. See https://setuptools.pypa.io/en/latest/pkg_resources.html. The pkg_resources package is slated for removal as early as 2025-11-30. Refrain from using this package or pin to Setuptools<81.\n",
      "  return _ForkingPickler.loads(res)\n",
      "/usr/lib/python3.12/multiprocessing/queues.py:122: UserWarning: pkg_resources is deprecated as an API. See https://setuptools.pypa.io/en/latest/pkg_resources.html. The pkg_resources package is slated for removal as early as 2025-11-30. Refrain from using this package or pin to Setuptools<81.\n",
      "  return _ForkingPickler.loads(res)\n",
      "/usr/lib/python3.12/multiprocessing/queues.py:122: UserWarning: pkg_resources is deprecated as an API. See https://setuptools.pypa.io/en/latest/pkg_resources.html. The pkg_resources package is slated for removal as early as 2025-11-30. Refrain from using this package or pin to Setuptools<81.\n",
      "  return _ForkingPickler.loads(res)\n",
      "/usr/lib/python3.12/multiprocessing/queues.py:122: UserWarning: pkg_resources is deprecated as an API. See https://setuptools.pypa.io/en/latest/pkg_resources.html. The pkg_resources package is slated for removal as early as 2025-11-30. Refrain from using this package or pin to Setuptools<81.\n",
      "  return _ForkingPickler.loads(res)\n",
      "/usr/lib/python3.12/multiprocessing/queues.py:122: UserWarning: pkg_resources is deprecated as an API. See https://setuptools.pypa.io/en/latest/pkg_resources.html. The pkg_resources package is slated for removal as early as 2025-11-30. Refrain from using this package or pin to Setuptools<81.\n",
      "  return _ForkingPickler.loads(res)\n",
      "/usr/lib/python3.12/multiprocessing/queues.py:122: UserWarning: pkg_resources is deprecated as an API. See https://setuptools.pypa.io/en/latest/pkg_resources.html. The pkg_resources package is slated for removal as early as 2025-11-30. Refrain from using this package or pin to Setuptools<81.\n",
      "  return _ForkingPickler.loads(res)\n",
      "/usr/lib/python3.12/multiprocessing/queues.py:122: UserWarning: pkg_resources is deprecated as an API. See https://setuptools.pypa.io/en/latest/pkg_resources.html. The pkg_resources package is slated for removal as early as 2025-11-30. Refrain from using this package or pin to Setuptools<81.\n",
      "  return _ForkingPickler.loads(res)\n",
      "/usr/lib/python3.12/multiprocessing/queues.py:122: UserWarning: pkg_resources is deprecated as an API. See https://setuptools.pypa.io/en/latest/pkg_resources.html. The pkg_resources package is slated for removal as early as 2025-11-30. Refrain from using this package or pin to Setuptools<81.\n",
      "  return _ForkingPickler.loads(res)\n",
      "/usr/lib/python3.12/multiprocessing/queues.py:122: UserWarning: pkg_resources is deprecated as an API. See https://setuptools.pypa.io/en/latest/pkg_resources.html. The pkg_resources package is slated for removal as early as 2025-11-30. Refrain from using this package or pin to Setuptools<81.\n",
      "  return _ForkingPickler.loads(res)\n",
      "/usr/lib/python3.12/multiprocessing/queues.py:122: UserWarning: pkg_resources is deprecated as an API. See https://setuptools.pypa.io/en/latest/pkg_resources.html. The pkg_resources package is slated for removal as early as 2025-11-30. Refrain from using this package or pin to Setuptools<81.\n",
      "  return _ForkingPickler.loads(res)\n",
      "/usr/lib/python3.12/multiprocessing/queues.py:122: UserWarning: pkg_resources is deprecated as an API. See https://setuptools.pypa.io/en/latest/pkg_resources.html. The pkg_resources package is slated for removal as early as 2025-11-30. Refrain from using this package or pin to Setuptools<81.\n",
      "  return _ForkingPickler.loads(res)\n",
      "/usr/lib/python3.12/multiprocessing/queues.py:122: UserWarning: pkg_resources is deprecated as an API. See https://setuptools.pypa.io/en/latest/pkg_resources.html. The pkg_resources package is slated for removal as early as 2025-11-30. Refrain from using this package or pin to Setuptools<81.\n",
      "  return _ForkingPickler.loads(res)\n",
      "/usr/lib/python3.12/multiprocessing/queues.py:122: UserWarning: pkg_resources is deprecated as an API. See https://setuptools.pypa.io/en/latest/pkg_resources.html. The pkg_resources package is slated for removal as early as 2025-11-30. Refrain from using this package or pin to Setuptools<81.\n",
      "  return _ForkingPickler.loads(res)\n",
      "/usr/lib/python3.12/multiprocessing/queues.py:122: UserWarning: pkg_resources is deprecated as an API. See https://setuptools.pypa.io/en/latest/pkg_resources.html. The pkg_resources package is slated for removal as early as 2025-11-30. Refrain from using this package or pin to Setuptools<81.\n",
      "  return _ForkingPickler.loads(res)\n",
      "/usr/lib/python3.12/multiprocessing/queues.py:122: UserWarning: pkg_resources is deprecated as an API. See https://setuptools.pypa.io/en/latest/pkg_resources.html. The pkg_resources package is slated for removal as early as 2025-11-30. Refrain from using this package or pin to Setuptools<81.\n",
      "  return _ForkingPickler.loads(res)\n",
      "/usr/lib/python3.12/multiprocessing/queues.py:122: UserWarning: pkg_resources is deprecated as an API. See https://setuptools.pypa.io/en/latest/pkg_resources.html. The pkg_resources package is slated for removal as early as 2025-11-30. Refrain from using this package or pin to Setuptools<81.\n",
      "  return _ForkingPickler.loads(res)\n",
      "/usr/lib/python3.12/multiprocessing/queues.py:122: UserWarning: pkg_resources is deprecated as an API. See https://setuptools.pypa.io/en/latest/pkg_resources.html. The pkg_resources package is slated for removal as early as 2025-11-30. Refrain from using this package or pin to Setuptools<81.\n",
      "  return _ForkingPickler.loads(res)\n",
      "/usr/lib/python3.12/multiprocessing/queues.py:122: UserWarning: pkg_resources is deprecated as an API. See https://setuptools.pypa.io/en/latest/pkg_resources.html. The pkg_resources package is slated for removal as early as 2025-11-30. Refrain from using this package or pin to Setuptools<81.\n",
      "  return _ForkingPickler.loads(res)\n",
      "/usr/lib/python3.12/multiprocessing/queues.py:122: UserWarning: pkg_resources is deprecated as an API. See https://setuptools.pypa.io/en/latest/pkg_resources.html. The pkg_resources package is slated for removal as early as 2025-11-30. Refrain from using this package or pin to Setuptools<81.\n",
      "  return _ForkingPickler.loads(res)\n",
      "/usr/lib/python3.12/multiprocessing/queues.py:122: UserWarning: pkg_resources is deprecated as an API. See https://setuptools.pypa.io/en/latest/pkg_resources.html. The pkg_resources package is slated for removal as early as 2025-11-30. Refrain from using this package or pin to Setuptools<81.\n",
      "  return _ForkingPickler.loads(res)\n",
      "/usr/lib/python3.12/multiprocessing/queues.py:122: UserWarning: pkg_resources is deprecated as an API. See https://setuptools.pypa.io/en/latest/pkg_resources.html. The pkg_resources package is slated for removal as early as 2025-11-30. Refrain from using this package or pin to Setuptools<81.\n",
      "  return _ForkingPickler.loads(res)\n",
      "/usr/lib/python3.12/multiprocessing/queues.py:122: UserWarning: pkg_resources is deprecated as an API. See https://setuptools.pypa.io/en/latest/pkg_resources.html. The pkg_resources package is slated for removal as early as 2025-11-30. Refrain from using this package or pin to Setuptools<81.\n",
      "  return _ForkingPickler.loads(res)\n",
      "/usr/lib/python3.12/multiprocessing/queues.py:122: UserWarning: pkg_resources is deprecated as an API. See https://setuptools.pypa.io/en/latest/pkg_resources.html. The pkg_resources package is slated for removal as early as 2025-11-30. Refrain from using this package or pin to Setuptools<81.\n",
      "  return _ForkingPickler.loads(res)\n",
      "/usr/lib/python3.12/multiprocessing/queues.py:122: UserWarning: pkg_resources is deprecated as an API. See https://setuptools.pypa.io/en/latest/pkg_resources.html. The pkg_resources package is slated for removal as early as 2025-11-30. Refrain from using this package or pin to Setuptools<81.\n",
      "  return _ForkingPickler.loads(res)\n",
      "/usr/lib/python3.12/multiprocessing/queues.py:122: UserWarning: pkg_resources is deprecated as an API. See https://setuptools.pypa.io/en/latest/pkg_resources.html. The pkg_resources package is slated for removal as early as 2025-11-30. Refrain from using this package or pin to Setuptools<81.\n",
      "  return _ForkingPickler.loads(res)\n",
      "/usr/lib/python3.12/multiprocessing/queues.py:122: UserWarning: pkg_resources is deprecated as an API. See https://setuptools.pypa.io/en/latest/pkg_resources.html. The pkg_resources package is slated for removal as early as 2025-11-30. Refrain from using this package or pin to Setuptools<81.\n",
      "  return _ForkingPickler.loads(res)\n",
      "/usr/lib/python3.12/multiprocessing/queues.py:122: UserWarning: pkg_resources is deprecated as an API. See https://setuptools.pypa.io/en/latest/pkg_resources.html. The pkg_resources package is slated for removal as early as 2025-11-30. Refrain from using this package or pin to Setuptools<81.\n",
      "  return _ForkingPickler.loads(res)\n",
      "/usr/lib/python3.12/multiprocessing/queues.py:122: UserWarning: pkg_resources is deprecated as an API. See https://setuptools.pypa.io/en/latest/pkg_resources.html. The pkg_resources package is slated for removal as early as 2025-11-30. Refrain from using this package or pin to Setuptools<81.\n",
      "  return _ForkingPickler.loads(res)\n"
     ]
    },
    {
     "name": "stdout",
     "output_type": "stream",
     "text": [
      "Score:  0.9057017543859649 Params: {'criterion': 'gini', 'n_estimators': 800}\n",
      "Results saved in data/results/tf-idf/results.csv\n",
      "0.966374269005848\n",
      "              precision    recall  f1-score   support\n",
      "\n",
      "           0       0.89      1.00      0.94        49\n",
      "           1       0.95      0.88      0.91        40\n",
      "           2       1.00      0.91      0.95        23\n",
      "           3       1.00      1.00      1.00        32\n",
      "           4       1.00      0.84      0.91        31\n",
      "           5       0.96      0.77      0.86        31\n",
      "           6       1.00      1.00      1.00        20\n",
      "           7       0.91      0.59      0.71        34\n",
      "           8       0.96      1.00      0.98        22\n",
      "           9       1.00      1.00      1.00        18\n",
      "          10       0.97      1.00      0.99        39\n",
      "          11       1.00      1.00      1.00        34\n",
      "          12       0.92      0.87      0.89        38\n",
      "          13       1.00      1.00      1.00        42\n",
      "          14       1.00      1.00      1.00        28\n",
      "          15       1.00      0.91      0.95        23\n",
      "          16       1.00      0.93      0.96        28\n",
      "          17       0.83      0.97      0.89        30\n",
      "          18       0.96      0.96      0.96        56\n",
      "          19       1.00      1.00      1.00        28\n",
      "          20       1.00      1.00      1.00        25\n",
      "          21       1.00      1.00      1.00        15\n",
      "          22       0.97      0.88      0.92        34\n",
      "          23       1.00      1.00      1.00        36\n",
      "          24       0.92      0.63      0.75        38\n",
      "          25       1.00      1.00      1.00        20\n",
      "          26       1.00      1.00      1.00        41\n",
      "          27       1.00      1.00      1.00        23\n",
      "          28       1.00      1.00      1.00        23\n",
      "          29       1.00      1.00      1.00        34\n",
      "          30       1.00      1.00      1.00        16\n",
      "          31       0.95      1.00      0.98        21\n",
      "          32       1.00      1.00      1.00        24\n",
      "          33       1.00      1.00      1.00        21\n",
      "          34       1.00      1.00      1.00        28\n",
      "          35       0.91      0.95      0.93        41\n",
      "          36       1.00      1.00      1.00        18\n",
      "          37       0.93      0.93      0.93        27\n",
      "          38       1.00      1.00      1.00        16\n",
      "          39       1.00      1.00      1.00        31\n",
      "          40       1.00      1.00      1.00        30\n",
      "          41       0.86      0.97      0.91        33\n",
      "          42       1.00      1.00      1.00        29\n",
      "          43       1.00      1.00      1.00        17\n",
      "          44       1.00      1.00      1.00        28\n",
      "          45       0.88      0.91      0.89        32\n",
      "          46       1.00      1.00      1.00        26\n",
      "          47       0.88      0.91      0.89        32\n",
      "          48       1.00      1.00      1.00        25\n",
      "          49       1.00      1.00      1.00        24\n",
      "          50       1.00      1.00      1.00        32\n",
      "          51       1.00      1.00      1.00        23\n",
      "          52       1.00      1.00      1.00        19\n",
      "          53       0.94      0.74      0.83        42\n",
      "          54       0.82      1.00      0.90        27\n",
      "          55       1.00      1.00      1.00        30\n",
      "          56       0.81      0.98      0.88        43\n",
      "          57       1.00      1.00      1.00        23\n",
      "          58       1.00      1.00      1.00        22\n",
      "          59       1.00      1.00      1.00        32\n",
      "          60       1.00      1.00      1.00        35\n",
      "          61       0.91      0.98      0.94        51\n",
      "          62       1.00      1.00      1.00        31\n",
      "          63       1.00      0.97      0.98        33\n",
      "          64       1.00      1.00      1.00        28\n",
      "          65       1.00      1.00      1.00        23\n",
      "          66       1.00      1.00      1.00        26\n",
      "          67       1.00      1.00      1.00        27\n",
      "          68       1.00      1.00      1.00        32\n",
      "          69       1.00      1.00      1.00        26\n",
      "          70       1.00      1.00      1.00        31\n",
      "          71       1.00      1.00      1.00        37\n",
      "          72       1.00      1.00      1.00        22\n",
      "          73       1.00      1.00      1.00        34\n",
      "          74       1.00      1.00      1.00        27\n",
      "          75       0.94      0.97      0.95        30\n",
      "          76       1.00      1.00      1.00        23\n",
      "          77       1.00      1.00      1.00        19\n",
      "          78       1.00      1.00      1.00        34\n",
      "          79       0.67      0.90      0.77        31\n",
      "          80       1.00      1.00      1.00        25\n",
      "          81       1.00      1.00      1.00        16\n",
      "          82       1.00      1.00      1.00        30\n",
      "          83       1.00      1.00      1.00        29\n",
      "          84       1.00      1.00      1.00        31\n",
      "          85       1.00      1.00      1.00        17\n",
      "          86       1.00      1.00      1.00        25\n",
      "          87       1.00      1.00      1.00        31\n",
      "          88       0.88      1.00      0.93        42\n",
      "          89       1.00      1.00      1.00        25\n",
      "          90       1.00      1.00      1.00        29\n",
      "          91       1.00      1.00      1.00        17\n",
      "          92       1.00      1.00      1.00        21\n",
      "          93       1.00      1.00      1.00        26\n",
      "          94       1.00      1.00      1.00        25\n",
      "\n",
      "    accuracy                           0.97      2736\n",
      "   macro avg       0.97      0.97      0.97      2736\n",
      "weighted avg       0.97      0.97      0.97      2736\n",
      "\n"
     ]
    }
   ],
   "execution_count": 19
  },
  {
   "metadata": {
    "ExecuteTime": {
     "end_time": "2025-06-21T21:27:18.475189Z",
     "start_time": "2025-06-21T21:26:56.444353Z"
    }
   },
   "cell_type": "code",
   "source": [
    "filename = 'models/RFC_model.pkl'\n",
    "joblib.dump(model_vec, filename)\n",
    "print('Model RF saved in {}'.format(filename))"
   ],
   "outputs": [
    {
     "name": "stdout",
     "output_type": "stream",
     "text": [
      "Model RF saved in models/RFC_model.pkl\n"
     ]
    }
   ],
   "execution_count": 20
  },
  {
   "cell_type": "markdown",
   "source": [
    "### MLP"
   ],
   "metadata": {
    "id": "eJxMwuE6YifW"
   }
  },
  {
   "cell_type": "code",
   "source": [
    "from sklearn.neural_network import MLPClassifier\n",
    "\n",
    "def mlp_model(X_train, X_test, X_val, y_train, y_test, y_val):\n",
    "    y_train_categorical = [int(np.argmax(y)) for y in y_train]\n",
    "    y_test_categorical = [int(np.argmax(y)) for y in y_test]\n",
    "    y_val_categorical = [int(np.argmax(y)) for y in y_val]\n",
    "    rng = np.random.RandomState(0)\n",
    "    param_grid = {\n",
    "        'hidden_layer_sizes': [(8,32,16), (16,64,32), (32,128,64), (32,64,128,64,32)], # 56, 112, 224, 320, 640\n",
    "        'max_iter': [200, 400, 600, 800, 1000],\n",
    "        'activation': ['relu', 'tanh', 'identity'],\n",
    "        'solver': ['adam'],\n",
    "        'alpha': [0.0001, 0.001],\n",
    "        'learning_rate': ['adaptive', 'constant'],\n",
    "    }\n",
    "    model = MLPClassifier(hidden_layer_sizes=200, max_iter=400, learning_rate='adaptive')\n",
    "    rsh = HalvingGridSearchCV(estimator=model, param_grid=param_grid, random_state=rng, factor=3, n_jobs=-1)\n",
    "    rsh.fit(X_val, y_val_categorical)\n",
    "    score = rsh.score(X_test, y_test_categorical)\n",
    "    print(\"Score: \", score, \"Params:\", rsh.best_params_)\n",
    "\n",
    "    model = MLPClassifier(\n",
    "        hidden_layer_sizes=rsh.best_params_['hidden_layer_sizes'],\n",
    "        max_iter=rsh.best_params_['max_iter'],\n",
    "        activation=rsh.best_params_['activation'],\n",
    "        solver=rsh.best_params_['solver'],\n",
    "        alpha=rsh.best_params_['alpha'],\n",
    "        learning_rate=rsh.best_params_['learning_rate'],\n",
    "    )\n",
    "    model.fit(X_val, y_val_categorical)\n",
    "    model.fit(X_train, y_train_categorical)\n",
    "    prediction = model.predict(X_test)\n",
    "    accuracy = accuracy_score(y_test_categorical, prediction)\n",
    "    print('Accuracy: {} updated'.format(accuracy))\n",
    "    save_results(prediction, 'MLP', False)\n",
    "    print(accuracy)\n",
    "    print(metrics.classification_report(y_test_categorical, prediction))\n",
    "    return model, accuracy"
   ],
   "metadata": {
    "colab": {
     "base_uri": "https://localhost:8080/",
     "height": 115
    },
    "id": "KOUJND5JYj2_",
    "executionInfo": {
     "status": "ok",
     "timestamp": 1750417569827,
     "user_tz": 180,
     "elapsed": 19010,
     "user": {
      "displayName": "Joao Paulo Felix",
      "userId": "12626999418256548582"
     }
    },
    "outputId": "01ed2c31-ca60-4ffa-cf71-d32e200e8e3a",
    "ExecuteTime": {
     "end_time": "2025-06-22T23:35:45.433642Z",
     "start_time": "2025-06-22T23:35:45.429717Z"
    }
   },
   "outputs": [],
   "execution_count": 23
  },
  {
   "cell_type": "code",
   "source": "mlp_model_vec, mlp_acc_vec = mlp_model(X_train_vec, X_test_vec, X_val_vec, y_train_vec, y_test_vec, y_val_vec)",
   "metadata": {
    "colab": {
     "base_uri": "https://localhost:8080/"
    },
    "id": "uuar8pNdZl4a",
    "executionInfo": {
     "status": "ok",
     "timestamp": 1750417572459,
     "user_tz": 180,
     "elapsed": 40,
     "user": {
      "displayName": "Joao Paulo Felix",
      "userId": "12626999418256548582"
     }
    },
    "outputId": "d6e657fb-db05-42ae-e297-41bbd286c756",
    "ExecuteTime": {
     "end_time": "2025-06-22T23:08:45.213103Z",
     "start_time": "2025-06-22T19:37:42.435858Z"
    }
   },
   "outputs": [
    {
     "name": "stderr",
     "output_type": "stream",
     "text": [
      "/usr/lib/python3.12/multiprocessing/queues.py:122: UserWarning: pkg_resources is deprecated as an API. See https://setuptools.pypa.io/en/latest/pkg_resources.html. The pkg_resources package is slated for removal as early as 2025-11-30. Refrain from using this package or pin to Setuptools<81.\n",
      "  return _ForkingPickler.loads(res)\n",
      "/usr/lib/python3.12/multiprocessing/queues.py:122: UserWarning: pkg_resources is deprecated as an API. See https://setuptools.pypa.io/en/latest/pkg_resources.html. The pkg_resources package is slated for removal as early as 2025-11-30. Refrain from using this package or pin to Setuptools<81.\n",
      "  return _ForkingPickler.loads(res)\n",
      "/usr/lib/python3.12/multiprocessing/queues.py:122: UserWarning: pkg_resources is deprecated as an API. See https://setuptools.pypa.io/en/latest/pkg_resources.html. The pkg_resources package is slated for removal as early as 2025-11-30. Refrain from using this package or pin to Setuptools<81.\n",
      "  return _ForkingPickler.loads(res)\n",
      "/usr/lib/python3.12/multiprocessing/queues.py:122: UserWarning: pkg_resources is deprecated as an API. See https://setuptools.pypa.io/en/latest/pkg_resources.html. The pkg_resources package is slated for removal as early as 2025-11-30. Refrain from using this package or pin to Setuptools<81.\n",
      "  return _ForkingPickler.loads(res)\n",
      "/usr/lib/python3.12/multiprocessing/queues.py:122: UserWarning: pkg_resources is deprecated as an API. See https://setuptools.pypa.io/en/latest/pkg_resources.html. The pkg_resources package is slated for removal as early as 2025-11-30. Refrain from using this package or pin to Setuptools<81.\n",
      "  return _ForkingPickler.loads(res)\n",
      "/usr/lib/python3.12/multiprocessing/queues.py:122: UserWarning: pkg_resources is deprecated as an API. See https://setuptools.pypa.io/en/latest/pkg_resources.html. The pkg_resources package is slated for removal as early as 2025-11-30. Refrain from using this package or pin to Setuptools<81.\n",
      "  return _ForkingPickler.loads(res)\n",
      "/usr/lib/python3.12/multiprocessing/queues.py:122: UserWarning: pkg_resources is deprecated as an API. See https://setuptools.pypa.io/en/latest/pkg_resources.html. The pkg_resources package is slated for removal as early as 2025-11-30. Refrain from using this package or pin to Setuptools<81.\n",
      "  return _ForkingPickler.loads(res)\n",
      "/usr/lib/python3.12/multiprocessing/queues.py:122: UserWarning: pkg_resources is deprecated as an API. See https://setuptools.pypa.io/en/latest/pkg_resources.html. The pkg_resources package is slated for removal as early as 2025-11-30. Refrain from using this package or pin to Setuptools<81.\n",
      "  return _ForkingPickler.loads(res)\n",
      "/usr/lib/python3.12/multiprocessing/queues.py:122: UserWarning: pkg_resources is deprecated as an API. See https://setuptools.pypa.io/en/latest/pkg_resources.html. The pkg_resources package is slated for removal as early as 2025-11-30. Refrain from using this package or pin to Setuptools<81.\n",
      "  return _ForkingPickler.loads(res)\n",
      "/usr/lib/python3.12/multiprocessing/queues.py:122: UserWarning: pkg_resources is deprecated as an API. See https://setuptools.pypa.io/en/latest/pkg_resources.html. The pkg_resources package is slated for removal as early as 2025-11-30. Refrain from using this package or pin to Setuptools<81.\n",
      "  return _ForkingPickler.loads(res)\n",
      "/usr/lib/python3.12/multiprocessing/queues.py:122: UserWarning: pkg_resources is deprecated as an API. See https://setuptools.pypa.io/en/latest/pkg_resources.html. The pkg_resources package is slated for removal as early as 2025-11-30. Refrain from using this package or pin to Setuptools<81.\n",
      "  return _ForkingPickler.loads(res)\n",
      "/usr/lib/python3.12/multiprocessing/queues.py:122: UserWarning: pkg_resources is deprecated as an API. See https://setuptools.pypa.io/en/latest/pkg_resources.html. The pkg_resources package is slated for removal as early as 2025-11-30. Refrain from using this package or pin to Setuptools<81.\n",
      "  return _ForkingPickler.loads(res)\n",
      "/usr/lib/python3.12/multiprocessing/queues.py:122: UserWarning: pkg_resources is deprecated as an API. See https://setuptools.pypa.io/en/latest/pkg_resources.html. The pkg_resources package is slated for removal as early as 2025-11-30. Refrain from using this package or pin to Setuptools<81.\n",
      "  return _ForkingPickler.loads(res)\n",
      "/usr/lib/python3.12/multiprocessing/queues.py:122: UserWarning: pkg_resources is deprecated as an API. See https://setuptools.pypa.io/en/latest/pkg_resources.html. The pkg_resources package is slated for removal as early as 2025-11-30. Refrain from using this package or pin to Setuptools<81.\n",
      "  return _ForkingPickler.loads(res)\n",
      "/usr/lib/python3.12/multiprocessing/queues.py:122: UserWarning: pkg_resources is deprecated as an API. See https://setuptools.pypa.io/en/latest/pkg_resources.html. The pkg_resources package is slated for removal as early as 2025-11-30. Refrain from using this package or pin to Setuptools<81.\n",
      "  return _ForkingPickler.loads(res)\n",
      "/usr/lib/python3.12/multiprocessing/queues.py:122: UserWarning: pkg_resources is deprecated as an API. See https://setuptools.pypa.io/en/latest/pkg_resources.html. The pkg_resources package is slated for removal as early as 2025-11-30. Refrain from using this package or pin to Setuptools<81.\n",
      "  return _ForkingPickler.loads(res)\n"
     ]
    },
    {
     "name": "stdout",
     "output_type": "stream",
     "text": [
      "Score:  0.8607456140350878 Params: {'activation': 'tanh', 'alpha': 0.001, 'hidden_layer_sizes': (32, 128, 64), 'learning_rate': 'constant', 'max_iter': 400, 'solver': 'adam'}\n",
      "0.9539473684210527\n",
      "              precision    recall  f1-score   support\n",
      "\n",
      "           0       0.92      0.96      0.94        49\n",
      "           1       0.94      0.82      0.88        40\n",
      "           2       0.81      0.91      0.86        23\n",
      "           3       1.00      1.00      1.00        32\n",
      "           4       0.97      0.90      0.93        31\n",
      "           5       0.71      0.77      0.74        31\n",
      "           6       1.00      1.00      1.00        20\n",
      "           7       0.75      0.62      0.68        34\n",
      "           8       1.00      1.00      1.00        22\n",
      "           9       1.00      1.00      1.00        18\n",
      "          10       0.97      0.82      0.89        39\n",
      "          11       1.00      1.00      1.00        34\n",
      "          12       0.89      0.87      0.88        38\n",
      "          13       1.00      1.00      1.00        42\n",
      "          14       1.00      1.00      1.00        28\n",
      "          15       0.95      0.91      0.93        23\n",
      "          16       1.00      0.93      0.96        28\n",
      "          17       0.67      0.97      0.79        30\n",
      "          18       0.95      0.95      0.95        56\n",
      "          19       1.00      1.00      1.00        28\n",
      "          20       1.00      1.00      1.00        25\n",
      "          21       1.00      1.00      1.00        15\n",
      "          22       0.97      0.82      0.89        34\n",
      "          23       1.00      1.00      1.00        36\n",
      "          24       0.80      0.63      0.71        38\n",
      "          25       1.00      1.00      1.00        20\n",
      "          26       1.00      1.00      1.00        41\n",
      "          27       1.00      1.00      1.00        23\n",
      "          28       1.00      1.00      1.00        23\n",
      "          29       1.00      1.00      1.00        34\n",
      "          30       0.94      1.00      0.97        16\n",
      "          31       0.95      1.00      0.98        21\n",
      "          32       1.00      1.00      1.00        24\n",
      "          33       1.00      1.00      1.00        21\n",
      "          34       1.00      1.00      1.00        28\n",
      "          35       0.88      0.85      0.86        41\n",
      "          36       1.00      1.00      1.00        18\n",
      "          37       0.86      0.89      0.87        27\n",
      "          38       0.94      1.00      0.97        16\n",
      "          39       1.00      1.00      1.00        31\n",
      "          40       1.00      1.00      1.00        30\n",
      "          41       0.87      0.82      0.84        33\n",
      "          42       1.00      1.00      1.00        29\n",
      "          43       1.00      1.00      1.00        17\n",
      "          44       1.00      1.00      1.00        28\n",
      "          45       0.93      0.88      0.90        32\n",
      "          46       1.00      1.00      1.00        26\n",
      "          47       0.90      0.88      0.89        32\n",
      "          48       1.00      1.00      1.00        25\n",
      "          49       1.00      1.00      1.00        24\n",
      "          50       1.00      1.00      1.00        32\n",
      "          51       1.00      1.00      1.00        23\n",
      "          52       1.00      1.00      1.00        19\n",
      "          53       0.91      0.76      0.83        42\n",
      "          54       0.89      0.93      0.91        27\n",
      "          55       1.00      1.00      1.00        30\n",
      "          56       0.82      0.84      0.83        43\n",
      "          57       0.96      1.00      0.98        23\n",
      "          58       1.00      1.00      1.00        22\n",
      "          59       1.00      1.00      1.00        32\n",
      "          60       1.00      1.00      1.00        35\n",
      "          61       0.94      0.96      0.95        51\n",
      "          62       1.00      1.00      1.00        31\n",
      "          63       1.00      0.97      0.98        33\n",
      "          64       1.00      1.00      1.00        28\n",
      "          65       0.85      1.00      0.92        23\n",
      "          66       1.00      1.00      1.00        26\n",
      "          67       1.00      1.00      1.00        27\n",
      "          68       1.00      1.00      1.00        32\n",
      "          69       1.00      1.00      1.00        26\n",
      "          70       1.00      1.00      1.00        31\n",
      "          71       0.95      1.00      0.97        37\n",
      "          72       0.96      1.00      0.98        22\n",
      "          73       1.00      1.00      1.00        34\n",
      "          74       1.00      1.00      1.00        27\n",
      "          75       0.91      0.97      0.94        30\n",
      "          76       1.00      1.00      1.00        23\n",
      "          77       1.00      1.00      1.00        19\n",
      "          78       1.00      1.00      1.00        34\n",
      "          79       0.75      0.87      0.81        31\n",
      "          80       1.00      1.00      1.00        25\n",
      "          81       0.94      1.00      0.97        16\n",
      "          82       1.00      1.00      1.00        30\n",
      "          83       1.00      1.00      1.00        29\n",
      "          84       1.00      1.00      1.00        31\n",
      "          85       1.00      1.00      1.00        17\n",
      "          86       1.00      1.00      1.00        25\n",
      "          87       1.00      1.00      1.00        31\n",
      "          88       0.83      0.95      0.89        42\n",
      "          89       1.00      1.00      1.00        25\n",
      "          90       1.00      1.00      1.00        29\n",
      "          91       1.00      1.00      1.00        17\n",
      "          92       1.00      1.00      1.00        21\n",
      "          93       1.00      1.00      1.00        26\n",
      "          94       1.00      1.00      1.00        25\n",
      "\n",
      "    accuracy                           0.95      2736\n",
      "   macro avg       0.96      0.96      0.96      2736\n",
      "weighted avg       0.96      0.95      0.95      2736\n",
      "\n"
     ]
    }
   ],
   "execution_count": 18
  },
  {
   "metadata": {
    "ExecuteTime": {
     "end_time": "2025-06-22T15:33:50.511914Z",
     "start_time": "2025-06-22T15:33:50.499128Z"
    }
   },
   "cell_type": "code",
   "source": [
    "filename = 'models/MLP_model.pkl'\n",
    "joblib.dump(mlp_model_vec, filename)\n",
    "print('Model MLP saved in {}'.format(filename))"
   ],
   "outputs": [
    {
     "name": "stdout",
     "output_type": "stream",
     "text": [
      "Model MLP saved in models/MLP_model.pkl\n"
     ]
    }
   ],
   "execution_count": 13
  },
  {
   "metadata": {},
   "cell_type": "markdown",
   "source": "### SVC"
  },
  {
   "metadata": {
    "ExecuteTime": {
     "end_time": "2025-06-23T04:58:36.859611Z",
     "start_time": "2025-06-23T04:58:36.856592Z"
    }
   },
   "cell_type": "code",
   "source": [
    "from sklearn.svm import SVC\n",
    "\n",
    "def svc_model(X_train, X_test, X_val, y_train, y_test, y_val):\n",
    "    y_train_categorical = [int(np.argmax(y)) for y in y_train]\n",
    "    y_test_categorical = [int(np.argmax(y)) for y in y_test]\n",
    "    y_val_categorical = [int(np.argmax(y)) for y in y_val]\n",
    "    rng = np.random.RandomState(0)\n",
    "    param_grid = {\n",
    "        'C': [0.1, 1, 10, 100, 1000],\n",
    "        'kernel': ['linear', 'rbf', 'poly', 'sigmoid'],\n",
    "        'gamma': [0.1, 1, 10, 100],\n",
    "        'degree': [0, 1, 2, 3, 4, 5, 6]\n",
    "    }\n",
    "    svc = SVC(C=0.1, kernel='poly')\n",
    "    rsh = HalvingGridSearchCV(estimator=svc, param_grid=param_grid, random_state=rng, factor=3, n_jobs=-1)\n",
    "    rsh.fit(X_val, y_val_categorical)\n",
    "    score = rsh.score(X_test, y_test_categorical)\n",
    "    print(\"Score: \", score, \"Params:\", rsh.best_params_)\n",
    "\n",
    "    model = SVC(\n",
    "        C=rsh.best_params_['C'],\n",
    "        kernel=rsh.best_params_['kernel'],\n",
    "        gamma=rsh.best_params_['gamma'],\n",
    "        degree=rsh.best_params_['degree'],\n",
    "    )\n",
    "\n",
    "    model.fit(X_val, y_val_categorical)\n",
    "    model.fit(X_train, y_train_categorical)\n",
    "    prediction = model.predict(X_test)\n",
    "    accuracy = accuracy_score(y_test_categorical, prediction)\n",
    "    save_results(prediction, 'SVC', False)\n",
    "    print(accuracy)\n",
    "    print(metrics.classification_report(y_test_categorical, prediction))\n",
    "    return model, accuracy"
   ],
   "outputs": [],
   "execution_count": 34
  },
  {
   "metadata": {
    "ExecuteTime": {
     "end_time": "2025-06-23T03:17:18.125611Z",
     "start_time": "2025-06-23T03:12:22.507495Z"
    }
   },
   "cell_type": "code",
   "source": "svc_model_vec, svc_acc_vec = svc_model(X_train_vec, X_test_vec, X_val_vec, y_train_vec, y_test_vec, y_val_vec)",
   "outputs": [
    {
     "name": "stderr",
     "output_type": "stream",
     "text": [
      "/usr/lib/python3.12/multiprocessing/queues.py:122: UserWarning: pkg_resources is deprecated as an API. See https://setuptools.pypa.io/en/latest/pkg_resources.html. The pkg_resources package is slated for removal as early as 2025-11-30. Refrain from using this package or pin to Setuptools<81.\n",
      "  return _ForkingPickler.loads(res)\n",
      "/usr/lib/python3.12/multiprocessing/queues.py:122: UserWarning: pkg_resources is deprecated as an API. See https://setuptools.pypa.io/en/latest/pkg_resources.html. The pkg_resources package is slated for removal as early as 2025-11-30. Refrain from using this package or pin to Setuptools<81.\n",
      "  return _ForkingPickler.loads(res)\n",
      "/usr/lib/python3.12/multiprocessing/queues.py:122: UserWarning: pkg_resources is deprecated as an API. See https://setuptools.pypa.io/en/latest/pkg_resources.html. The pkg_resources package is slated for removal as early as 2025-11-30. Refrain from using this package or pin to Setuptools<81.\n",
      "  return _ForkingPickler.loads(res)\n",
      "/usr/lib/python3.12/multiprocessing/queues.py:122: UserWarning: pkg_resources is deprecated as an API. See https://setuptools.pypa.io/en/latest/pkg_resources.html. The pkg_resources package is slated for removal as early as 2025-11-30. Refrain from using this package or pin to Setuptools<81.\n",
      "  return _ForkingPickler.loads(res)\n",
      "/usr/lib/python3.12/multiprocessing/queues.py:122: UserWarning: pkg_resources is deprecated as an API. See https://setuptools.pypa.io/en/latest/pkg_resources.html. The pkg_resources package is slated for removal as early as 2025-11-30. Refrain from using this package or pin to Setuptools<81.\n",
      "  return _ForkingPickler.loads(res)\n",
      "/usr/lib/python3.12/multiprocessing/queues.py:122: UserWarning: pkg_resources is deprecated as an API. See https://setuptools.pypa.io/en/latest/pkg_resources.html. The pkg_resources package is slated for removal as early as 2025-11-30. Refrain from using this package or pin to Setuptools<81.\n",
      "  return _ForkingPickler.loads(res)\n",
      "/usr/lib/python3.12/multiprocessing/queues.py:122: UserWarning: pkg_resources is deprecated as an API. See https://setuptools.pypa.io/en/latest/pkg_resources.html. The pkg_resources package is slated for removal as early as 2025-11-30. Refrain from using this package or pin to Setuptools<81.\n",
      "  return _ForkingPickler.loads(res)\n",
      "/usr/lib/python3.12/multiprocessing/queues.py:122: UserWarning: pkg_resources is deprecated as an API. See https://setuptools.pypa.io/en/latest/pkg_resources.html. The pkg_resources package is slated for removal as early as 2025-11-30. Refrain from using this package or pin to Setuptools<81.\n",
      "  return _ForkingPickler.loads(res)\n",
      "/usr/lib/python3.12/multiprocessing/queues.py:122: UserWarning: pkg_resources is deprecated as an API. See https://setuptools.pypa.io/en/latest/pkg_resources.html. The pkg_resources package is slated for removal as early as 2025-11-30. Refrain from using this package or pin to Setuptools<81.\n",
      "  return _ForkingPickler.loads(res)\n",
      "/usr/lib/python3.12/multiprocessing/queues.py:122: UserWarning: pkg_resources is deprecated as an API. See https://setuptools.pypa.io/en/latest/pkg_resources.html. The pkg_resources package is slated for removal as early as 2025-11-30. Refrain from using this package or pin to Setuptools<81.\n",
      "  return _ForkingPickler.loads(res)\n",
      "/usr/lib/python3.12/multiprocessing/queues.py:122: UserWarning: pkg_resources is deprecated as an API. See https://setuptools.pypa.io/en/latest/pkg_resources.html. The pkg_resources package is slated for removal as early as 2025-11-30. Refrain from using this package or pin to Setuptools<81.\n",
      "  return _ForkingPickler.loads(res)\n",
      "/usr/lib/python3.12/multiprocessing/queues.py:122: UserWarning: pkg_resources is deprecated as an API. See https://setuptools.pypa.io/en/latest/pkg_resources.html. The pkg_resources package is slated for removal as early as 2025-11-30. Refrain from using this package or pin to Setuptools<81.\n",
      "  return _ForkingPickler.loads(res)\n",
      "/usr/lib/python3.12/multiprocessing/queues.py:122: UserWarning: pkg_resources is deprecated as an API. See https://setuptools.pypa.io/en/latest/pkg_resources.html. The pkg_resources package is slated for removal as early as 2025-11-30. Refrain from using this package or pin to Setuptools<81.\n",
      "  return _ForkingPickler.loads(res)\n",
      "/usr/lib/python3.12/multiprocessing/queues.py:122: UserWarning: pkg_resources is deprecated as an API. See https://setuptools.pypa.io/en/latest/pkg_resources.html. The pkg_resources package is slated for removal as early as 2025-11-30. Refrain from using this package or pin to Setuptools<81.\n",
      "  return _ForkingPickler.loads(res)\n",
      "/usr/lib/python3.12/multiprocessing/queues.py:122: UserWarning: pkg_resources is deprecated as an API. See https://setuptools.pypa.io/en/latest/pkg_resources.html. The pkg_resources package is slated for removal as early as 2025-11-30. Refrain from using this package or pin to Setuptools<81.\n",
      "  return _ForkingPickler.loads(res)\n",
      "/usr/lib/python3.12/multiprocessing/queues.py:122: UserWarning: pkg_resources is deprecated as an API. See https://setuptools.pypa.io/en/latest/pkg_resources.html. The pkg_resources package is slated for removal as early as 2025-11-30. Refrain from using this package or pin to Setuptools<81.\n",
      "  return _ForkingPickler.loads(res)\n"
     ]
    },
    {
     "name": "stdout",
     "output_type": "stream",
     "text": [
      "Score:  0.8951023391812866 Params: {'C': 10, 'degree': 0, 'gamma': 1, 'kernel': 'sigmoid'}\n",
      "Accuracy: 0.9638157894736842 updated\n",
      "Results saved in data/results/tf-idf/results.csv\n",
      "0.9638157894736842\n",
      "              precision    recall  f1-score   support\n",
      "\n",
      "           0       0.92      0.98      0.95        49\n",
      "           1       0.79      0.85      0.82        40\n",
      "           2       0.78      0.91      0.84        23\n",
      "           3       0.97      1.00      0.98        32\n",
      "           4       0.93      0.81      0.86        31\n",
      "           5       0.76      0.84      0.80        31\n",
      "           6       1.00      1.00      1.00        20\n",
      "           7       0.85      0.65      0.73        34\n",
      "           8       1.00      1.00      1.00        22\n",
      "           9       0.95      1.00      0.97        18\n",
      "          10       0.91      1.00      0.95        39\n",
      "          11       1.00      1.00      1.00        34\n",
      "          12       0.92      0.89      0.91        38\n",
      "          13       1.00      1.00      1.00        42\n",
      "          14       1.00      1.00      1.00        28\n",
      "          15       1.00      0.91      0.95        23\n",
      "          16       1.00      0.93      0.96        28\n",
      "          17       0.83      0.97      0.89        30\n",
      "          18       0.96      0.96      0.96        56\n",
      "          19       1.00      1.00      1.00        28\n",
      "          20       1.00      1.00      1.00        25\n",
      "          21       1.00      1.00      1.00        15\n",
      "          22       1.00      0.88      0.94        34\n",
      "          23       1.00      1.00      1.00        36\n",
      "          24       0.80      0.74      0.77        38\n",
      "          25       1.00      1.00      1.00        20\n",
      "          26       1.00      1.00      1.00        41\n",
      "          27       1.00      1.00      1.00        23\n",
      "          28       1.00      1.00      1.00        23\n",
      "          29       1.00      1.00      1.00        34\n",
      "          30       1.00      1.00      1.00        16\n",
      "          31       1.00      1.00      1.00        21\n",
      "          32       1.00      1.00      1.00        24\n",
      "          33       1.00      1.00      1.00        21\n",
      "          34       1.00      1.00      1.00        28\n",
      "          35       0.93      0.95      0.94        41\n",
      "          36       1.00      1.00      1.00        18\n",
      "          37       0.96      0.93      0.94        27\n",
      "          38       1.00      1.00      1.00        16\n",
      "          39       1.00      1.00      1.00        31\n",
      "          40       1.00      1.00      1.00        30\n",
      "          41       0.88      0.88      0.88        33\n",
      "          42       1.00      1.00      1.00        29\n",
      "          43       1.00      1.00      1.00        17\n",
      "          44       1.00      1.00      1.00        28\n",
      "          45       0.97      0.88      0.92        32\n",
      "          46       1.00      1.00      1.00        26\n",
      "          47       0.90      0.81      0.85        32\n",
      "          48       1.00      1.00      1.00        25\n",
      "          49       1.00      1.00      1.00        24\n",
      "          50       1.00      1.00      1.00        32\n",
      "          51       1.00      1.00      1.00        23\n",
      "          52       1.00      1.00      1.00        19\n",
      "          53       0.91      0.76      0.83        42\n",
      "          54       0.84      0.96      0.90        27\n",
      "          55       1.00      1.00      1.00        30\n",
      "          56       0.91      0.91      0.91        43\n",
      "          57       1.00      1.00      1.00        23\n",
      "          58       1.00      1.00      1.00        22\n",
      "          59       1.00      1.00      1.00        32\n",
      "          60       1.00      1.00      1.00        35\n",
      "          61       0.91      0.96      0.93        51\n",
      "          62       1.00      1.00      1.00        31\n",
      "          63       1.00      0.97      0.98        33\n",
      "          64       1.00      1.00      1.00        28\n",
      "          65       0.92      1.00      0.96        23\n",
      "          66       1.00      1.00      1.00        26\n",
      "          67       1.00      1.00      1.00        27\n",
      "          68       1.00      1.00      1.00        32\n",
      "          69       1.00      1.00      1.00        26\n",
      "          70       1.00      1.00      1.00        31\n",
      "          71       1.00      1.00      1.00        37\n",
      "          72       1.00      1.00      1.00        22\n",
      "          73       1.00      1.00      1.00        34\n",
      "          74       1.00      1.00      1.00        27\n",
      "          75       0.97      0.97      0.97        30\n",
      "          76       1.00      1.00      1.00        23\n",
      "          77       1.00      1.00      1.00        19\n",
      "          78       1.00      1.00      1.00        34\n",
      "          79       0.87      0.87      0.87        31\n",
      "          80       1.00      1.00      1.00        25\n",
      "          81       1.00      1.00      1.00        16\n",
      "          82       1.00      1.00      1.00        30\n",
      "          83       1.00      1.00      1.00        29\n",
      "          84       1.00      1.00      1.00        31\n",
      "          85       1.00      1.00      1.00        17\n",
      "          86       1.00      1.00      1.00        25\n",
      "          87       1.00      1.00      1.00        31\n",
      "          88       0.87      0.98      0.92        42\n",
      "          89       1.00      1.00      1.00        25\n",
      "          90       1.00      1.00      1.00        29\n",
      "          91       1.00      1.00      1.00        17\n",
      "          92       1.00      1.00      1.00        21\n",
      "          93       1.00      1.00      1.00        26\n",
      "          94       1.00      1.00      1.00        25\n",
      "\n",
      "    accuracy                           0.96      2736\n",
      "   macro avg       0.97      0.97      0.97      2736\n",
      "weighted avg       0.96      0.96      0.96      2736\n",
      "\n"
     ]
    }
   ],
   "execution_count": 30
  },
  {
   "metadata": {
    "ExecuteTime": {
     "end_time": "2025-06-23T03:46:26.022703Z",
     "start_time": "2025-06-23T03:46:26.005473Z"
    }
   },
   "cell_type": "code",
   "source": [
    "filename = 'models/SVC_model.pkl'\n",
    "joblib.dump(svc_model_vec, filename)\n",
    "print('Model SVC saved in {}'.format(filename))"
   ],
   "outputs": [
    {
     "name": "stdout",
     "output_type": "stream",
     "text": [
      "Model SVC saved in models/SVC_model.pkl\n"
     ]
    }
   ],
   "execution_count": 31
  },
  {
   "metadata": {},
   "cell_type": "markdown",
   "source": "### Linear SVC"
  },
  {
   "metadata": {
    "ExecuteTime": {
     "end_time": "2025-06-23T22:52:18.541380Z",
     "start_time": "2025-06-23T22:52:18.538142Z"
    }
   },
   "cell_type": "code",
   "source": [
    "from sklearn.svm import LinearSVC\n",
    "\n",
    "def linear_svc_model(X_train, X_test, X_val, y_train, y_test, y_val):\n",
    "    y_train_categorical = [int(np.argmax(y)) for y in y_train]\n",
    "    y_test_categorical = [int(np.argmax(y)) for y in y_test]\n",
    "    y_val_categorical = [int(np.argmax(y)) for y in y_val]\n",
    "    param_grid = {\n",
    "        'C': [0.001, 0.01, 0.1, 1, 10, 100],\n",
    "        'penalty': ['l1', 'l2'],\n",
    "        'loss': ['hinge', 'squared_hinge'],\n",
    "        'tol': [0.0001, 0.001],\n",
    "        'multi_class': ['ovr', 'crammer_singer'],\n",
    "    }\n",
    "    # svc = LinearSVC(C=10, loss='squared_hinge', max_iter=100000)\n",
    "    # rsh = HalvingGridSearchCV(estimator=svc, param_grid=param_grid, random_state=42, factor=2, n_jobs=-1)\n",
    "    # rsh.fit(X_val, y_val_categorical)\n",
    "    # score = rsh.score(X_test, y_test_categorical)\n",
    "    # print(\"Score: \", score, \"Params:\", rsh.best_params_)\n",
    "\n",
    "    model = LinearSVC(\n",
    "        C=param_grid['C'][3],\n",
    "        penalty=param_grid['penalty'][1],\n",
    "        loss=param_grid['loss'][1],\n",
    "        tol=param_grid['tol'][1],\n",
    "        multi_class=param_grid['multi_class'][1],\n",
    "        max_iter=100000,\n",
    "    )\n",
    "\n",
    "    model.fit(X_val, y_val_categorical)\n",
    "    model.fit(X_train, y_train_categorical)\n",
    "    prediction = model.predict(X_test)\n",
    "    accuracy = accuracy_score(y_test_categorical, prediction)\n",
    "    save_results(prediction, 'LinearSVC', False)\n",
    "    print(accuracy)\n",
    "    print(metrics.classification_report(y_test_categorical, prediction))\n",
    "    return model, accuracy"
   ],
   "outputs": [],
   "execution_count": 84
  },
  {
   "metadata": {
    "ExecuteTime": {
     "end_time": "2025-06-23T05:16:41.598850Z",
     "start_time": "2025-06-23T05:11:52.339976Z"
    }
   },
   "cell_type": "code",
   "source": "linear_svc_model_vec, linear_svc_acc_vec = linear_svc_model(X_train_vec, X_test_vec, X_val_vec, y_train_vec, y_test_vec, y_val_vec)",
   "outputs": [
    {
     "name": "stderr",
     "output_type": "stream",
     "text": [
      "/usr/lib/python3.12/multiprocessing/queues.py:122: UserWarning: pkg_resources is deprecated as an API. See https://setuptools.pypa.io/en/latest/pkg_resources.html. The pkg_resources package is slated for removal as early as 2025-11-30. Refrain from using this package or pin to Setuptools<81.\n",
      "  return _ForkingPickler.loads(res)\n",
      "/usr/lib/python3.12/multiprocessing/queues.py:122: UserWarning: pkg_resources is deprecated as an API. See https://setuptools.pypa.io/en/latest/pkg_resources.html. The pkg_resources package is slated for removal as early as 2025-11-30. Refrain from using this package or pin to Setuptools<81.\n",
      "  return _ForkingPickler.loads(res)\n",
      "/usr/lib/python3.12/multiprocessing/queues.py:122: UserWarning: pkg_resources is deprecated as an API. See https://setuptools.pypa.io/en/latest/pkg_resources.html. The pkg_resources package is slated for removal as early as 2025-11-30. Refrain from using this package or pin to Setuptools<81.\n",
      "  return _ForkingPickler.loads(res)\n",
      "/usr/lib/python3.12/multiprocessing/queues.py:122: UserWarning: pkg_resources is deprecated as an API. See https://setuptools.pypa.io/en/latest/pkg_resources.html. The pkg_resources package is slated for removal as early as 2025-11-30. Refrain from using this package or pin to Setuptools<81.\n",
      "  return _ForkingPickler.loads(res)\n",
      "/usr/lib/python3.12/multiprocessing/queues.py:122: UserWarning: pkg_resources is deprecated as an API. See https://setuptools.pypa.io/en/latest/pkg_resources.html. The pkg_resources package is slated for removal as early as 2025-11-30. Refrain from using this package or pin to Setuptools<81.\n",
      "  return _ForkingPickler.loads(res)\n",
      "/usr/lib/python3.12/multiprocessing/queues.py:122: UserWarning: pkg_resources is deprecated as an API. See https://setuptools.pypa.io/en/latest/pkg_resources.html. The pkg_resources package is slated for removal as early as 2025-11-30. Refrain from using this package or pin to Setuptools<81.\n",
      "  return _ForkingPickler.loads(res)\n",
      "/usr/lib/python3.12/multiprocessing/queues.py:122: UserWarning: pkg_resources is deprecated as an API. See https://setuptools.pypa.io/en/latest/pkg_resources.html. The pkg_resources package is slated for removal as early as 2025-11-30. Refrain from using this package or pin to Setuptools<81.\n",
      "  return _ForkingPickler.loads(res)\n",
      "/usr/lib/python3.12/multiprocessing/queues.py:122: UserWarning: pkg_resources is deprecated as an API. See https://setuptools.pypa.io/en/latest/pkg_resources.html. The pkg_resources package is slated for removal as early as 2025-11-30. Refrain from using this package or pin to Setuptools<81.\n",
      "  return _ForkingPickler.loads(res)\n",
      "/usr/lib/python3.12/multiprocessing/queues.py:122: UserWarning: pkg_resources is deprecated as an API. See https://setuptools.pypa.io/en/latest/pkg_resources.html. The pkg_resources package is slated for removal as early as 2025-11-30. Refrain from using this package or pin to Setuptools<81.\n",
      "  return _ForkingPickler.loads(res)\n",
      "/usr/lib/python3.12/multiprocessing/queues.py:122: UserWarning: pkg_resources is deprecated as an API. See https://setuptools.pypa.io/en/latest/pkg_resources.html. The pkg_resources package is slated for removal as early as 2025-11-30. Refrain from using this package or pin to Setuptools<81.\n",
      "  return _ForkingPickler.loads(res)\n",
      "/usr/lib/python3.12/multiprocessing/queues.py:122: UserWarning: pkg_resources is deprecated as an API. See https://setuptools.pypa.io/en/latest/pkg_resources.html. The pkg_resources package is slated for removal as early as 2025-11-30. Refrain from using this package or pin to Setuptools<81.\n",
      "  return _ForkingPickler.loads(res)\n",
      "/usr/lib/python3.12/multiprocessing/queues.py:122: UserWarning: pkg_resources is deprecated as an API. See https://setuptools.pypa.io/en/latest/pkg_resources.html. The pkg_resources package is slated for removal as early as 2025-11-30. Refrain from using this package or pin to Setuptools<81.\n",
      "  return _ForkingPickler.loads(res)\n",
      "/usr/lib/python3.12/multiprocessing/queues.py:122: UserWarning: pkg_resources is deprecated as an API. See https://setuptools.pypa.io/en/latest/pkg_resources.html. The pkg_resources package is slated for removal as early as 2025-11-30. Refrain from using this package or pin to Setuptools<81.\n",
      "  return _ForkingPickler.loads(res)\n",
      "/usr/lib/python3.12/multiprocessing/queues.py:122: UserWarning: pkg_resources is deprecated as an API. See https://setuptools.pypa.io/en/latest/pkg_resources.html. The pkg_resources package is slated for removal as early as 2025-11-30. Refrain from using this package or pin to Setuptools<81.\n",
      "  return _ForkingPickler.loads(res)\n",
      "/usr/lib/python3.12/multiprocessing/queues.py:122: UserWarning: pkg_resources is deprecated as an API. See https://setuptools.pypa.io/en/latest/pkg_resources.html. The pkg_resources package is slated for removal as early as 2025-11-30. Refrain from using this package or pin to Setuptools<81.\n",
      "  return _ForkingPickler.loads(res)\n",
      "/usr/lib/python3.12/multiprocessing/queues.py:122: UserWarning: pkg_resources is deprecated as an API. See https://setuptools.pypa.io/en/latest/pkg_resources.html. The pkg_resources package is slated for removal as early as 2025-11-30. Refrain from using this package or pin to Setuptools<81.\n",
      "  return _ForkingPickler.loads(res)\n"
     ]
    },
    {
     "name": "stdout",
     "output_type": "stream",
     "text": [
      "Score:  0.9071637426900585 Params: {'C': 1, 'loss': 'squared_hinge', 'multi_class': 'crammer_singer', 'penalty': 'l2', 'tol': 0.001}\n",
      "Results saved in data/results/tf-idf/results.csv\n",
      "0.9641812865497076\n",
      "              precision    recall  f1-score   support\n",
      "\n",
      "           0       0.89      0.98      0.93        49\n",
      "           1       0.92      0.85      0.88        40\n",
      "           2       0.95      0.91      0.93        23\n",
      "           3       1.00      1.00      1.00        32\n",
      "           4       0.96      0.87      0.92        31\n",
      "           5       0.83      0.81      0.82        31\n",
      "           6       1.00      1.00      1.00        20\n",
      "           7       0.80      0.59      0.68        34\n",
      "           8       1.00      1.00      1.00        22\n",
      "           9       1.00      1.00      1.00        18\n",
      "          10       0.93      1.00      0.96        39\n",
      "          11       1.00      1.00      1.00        34\n",
      "          12       0.92      0.89      0.91        38\n",
      "          13       1.00      1.00      1.00        42\n",
      "          14       1.00      1.00      1.00        28\n",
      "          15       1.00      0.91      0.95        23\n",
      "          16       1.00      0.93      0.96        28\n",
      "          17       0.83      1.00      0.91        30\n",
      "          18       0.93      0.96      0.95        56\n",
      "          19       1.00      1.00      1.00        28\n",
      "          20       1.00      1.00      1.00        25\n",
      "          21       1.00      1.00      1.00        15\n",
      "          22       0.94      0.88      0.91        34\n",
      "          23       1.00      1.00      1.00        36\n",
      "          24       0.79      0.71      0.75        38\n",
      "          25       1.00      1.00      1.00        20\n",
      "          26       1.00      1.00      1.00        41\n",
      "          27       1.00      1.00      1.00        23\n",
      "          28       1.00      1.00      1.00        23\n",
      "          29       1.00      1.00      1.00        34\n",
      "          30       1.00      1.00      1.00        16\n",
      "          31       1.00      1.00      1.00        21\n",
      "          32       1.00      1.00      1.00        24\n",
      "          33       1.00      1.00      1.00        21\n",
      "          34       1.00      1.00      1.00        28\n",
      "          35       0.91      0.95      0.93        41\n",
      "          36       1.00      1.00      1.00        18\n",
      "          37       0.93      0.93      0.93        27\n",
      "          38       1.00      1.00      1.00        16\n",
      "          39       1.00      1.00      1.00        31\n",
      "          40       1.00      1.00      1.00        30\n",
      "          41       0.85      0.88      0.87        33\n",
      "          42       1.00      1.00      1.00        29\n",
      "          43       1.00      1.00      1.00        17\n",
      "          44       1.00      1.00      1.00        28\n",
      "          45       0.94      0.91      0.92        32\n",
      "          46       1.00      1.00      1.00        26\n",
      "          47       0.90      0.84      0.87        32\n",
      "          48       1.00      1.00      1.00        25\n",
      "          49       1.00      1.00      1.00        24\n",
      "          50       1.00      1.00      1.00        32\n",
      "          51       1.00      1.00      1.00        23\n",
      "          52       0.90      1.00      0.95        19\n",
      "          53       0.92      0.79      0.85        42\n",
      "          54       0.90      0.96      0.93        27\n",
      "          55       1.00      1.00      1.00        30\n",
      "          56       0.88      0.88      0.88        43\n",
      "          57       1.00      1.00      1.00        23\n",
      "          58       1.00      1.00      1.00        22\n",
      "          59       1.00      1.00      1.00        32\n",
      "          60       1.00      1.00      1.00        35\n",
      "          61       0.93      0.98      0.95        51\n",
      "          62       1.00      1.00      1.00        31\n",
      "          63       1.00      0.97      0.98        33\n",
      "          64       1.00      1.00      1.00        28\n",
      "          65       0.85      1.00      0.92        23\n",
      "          66       1.00      1.00      1.00        26\n",
      "          67       1.00      1.00      1.00        27\n",
      "          68       1.00      1.00      1.00        32\n",
      "          69       1.00      1.00      1.00        26\n",
      "          70       1.00      1.00      1.00        31\n",
      "          71       1.00      1.00      1.00        37\n",
      "          72       1.00      1.00      1.00        22\n",
      "          73       1.00      1.00      1.00        34\n",
      "          74       1.00      1.00      1.00        27\n",
      "          75       0.91      0.97      0.94        30\n",
      "          76       1.00      1.00      1.00        23\n",
      "          77       1.00      1.00      1.00        19\n",
      "          78       1.00      1.00      1.00        34\n",
      "          79       0.81      0.84      0.83        31\n",
      "          80       1.00      1.00      1.00        25\n",
      "          81       1.00      1.00      1.00        16\n",
      "          82       1.00      1.00      1.00        30\n",
      "          83       1.00      1.00      1.00        29\n",
      "          84       1.00      1.00      1.00        31\n",
      "          85       1.00      1.00      1.00        17\n",
      "          86       1.00      1.00      1.00        25\n",
      "          87       1.00      1.00      1.00        31\n",
      "          88       0.87      0.98      0.92        42\n",
      "          89       1.00      1.00      1.00        25\n",
      "          90       1.00      1.00      1.00        29\n",
      "          91       1.00      1.00      1.00        17\n",
      "          92       1.00      1.00      1.00        21\n",
      "          93       1.00      1.00      1.00        26\n",
      "          94       1.00      1.00      1.00        25\n",
      "\n",
      "    accuracy                           0.96      2736\n",
      "   macro avg       0.97      0.97      0.97      2736\n",
      "weighted avg       0.96      0.96      0.96      2736\n",
      "\n"
     ]
    }
   ],
   "execution_count": 13
  },
  {
   "metadata": {
    "ExecuteTime": {
     "end_time": "2025-06-23T05:17:55.270066Z",
     "start_time": "2025-06-23T05:17:55.242746Z"
    }
   },
   "cell_type": "code",
   "source": [
    "filename = 'models/LinearSVC_model.pkl'\n",
    "joblib.dump(linear_svc_model_vec, filename)\n",
    "print('Model Linear SVC saved in {}'.format(filename))"
   ],
   "outputs": [
    {
     "name": "stdout",
     "output_type": "stream",
     "text": [
      "Model Linear SVC saved in models/LinearSVC_model.pkl\n"
     ]
    }
   ],
   "execution_count": 15
  },
  {
   "metadata": {},
   "cell_type": "markdown",
   "source": "### NuSVC"
  },
  {
   "metadata": {
    "ExecuteTime": {
     "end_time": "2025-06-23T15:46:48.897314Z",
     "start_time": "2025-06-23T15:46:48.893757Z"
    }
   },
   "cell_type": "code",
   "source": [
    "from sklearn.svm import NuSVC\n",
    "\n",
    "def nu_svc_model(X_train, X_test, X_val, y_train, y_test, y_val):\n",
    "    y_train_categorical = [int(np.argmax(y)) for y in y_train]\n",
    "    y_test_categorical = [int(np.argmax(y)) for y in y_test]\n",
    "    y_val_categorical = [int(np.argmax(y)) for y in y_val]\n",
    "    param_grid = {\n",
    "        'nu': [0.001, 0.01, 0.1, 0.2, 0.3, 0.4, 0.5, 0.6],\n",
    "        'kernel': ['linear', 'poly', 'rbf', 'sigmoid'],\n",
    "        'tol': [0.0001, 0.001],\n",
    "        'gamma': ['scale', 'auto', 0.1, 1],\n",
    "    }\n",
    "    svc = NuSVC(nu=0.01, kernel='poly', max_iter=100000)\n",
    "    rsh = HalvingGridSearchCV(estimator=svc, param_grid=param_grid, random_state=42, factor=2, n_jobs=-1)\n",
    "    rsh.fit(X_val, y_val_categorical)\n",
    "    score = rsh.score(X_test, y_test_categorical)\n",
    "    print(\"Score: \", score, \"Params:\", rsh.best_params_)\n",
    "\n",
    "    model = NuSVC(\n",
    "        nu=rsh.best_params_['nu'],\n",
    "        kernel=rsh.best_params_['kernel'],\n",
    "        tol=rsh.best_params_['tol'],\n",
    "        gamma=rsh.best_params_['gamma'],\n",
    "        max_iter=100000,\n",
    "    )\n",
    "\n",
    "    model.fit(X_val, y_val_categorical)\n",
    "    model.fit(X_train, y_train_categorical)\n",
    "    prediction = model.predict(X_test)\n",
    "    accuracy = accuracy_score(y_test_categorical, prediction)\n",
    "    save_results(prediction, 'NuSVC', False)\n",
    "    print(accuracy)\n",
    "    print(metrics.classification_report(y_test_categorical, prediction))\n",
    "    return model, accuracy"
   ],
   "outputs": [],
   "execution_count": 41
  },
  {
   "metadata": {
    "ExecuteTime": {
     "end_time": "2025-06-23T15:44:32.946528Z",
     "start_time": "2025-06-23T15:39:45.061368Z"
    }
   },
   "cell_type": "code",
   "source": "nu_svc_model_vec, nu_svc_acc_vec = nu_svc_model(X_train_vec, X_test_vec, X_val_vec, y_train_vec, y_test_vec, y_val_vec)",
   "outputs": [
    {
     "name": "stderr",
     "output_type": "stream",
     "text": [
      "/usr/lib/python3.12/multiprocessing/queues.py:122: UserWarning: pkg_resources is deprecated as an API. See https://setuptools.pypa.io/en/latest/pkg_resources.html. The pkg_resources package is slated for removal as early as 2025-11-30. Refrain from using this package or pin to Setuptools<81.\n",
      "  return _ForkingPickler.loads(res)\n",
      "/usr/lib/python3.12/multiprocessing/queues.py:122: UserWarning: pkg_resources is deprecated as an API. See https://setuptools.pypa.io/en/latest/pkg_resources.html. The pkg_resources package is slated for removal as early as 2025-11-30. Refrain from using this package or pin to Setuptools<81.\n",
      "  return _ForkingPickler.loads(res)\n",
      "/usr/lib/python3.12/multiprocessing/queues.py:122: UserWarning: pkg_resources is deprecated as an API. See https://setuptools.pypa.io/en/latest/pkg_resources.html. The pkg_resources package is slated for removal as early as 2025-11-30. Refrain from using this package or pin to Setuptools<81.\n",
      "  return _ForkingPickler.loads(res)\n",
      "/usr/lib/python3.12/multiprocessing/queues.py:122: UserWarning: pkg_resources is deprecated as an API. See https://setuptools.pypa.io/en/latest/pkg_resources.html. The pkg_resources package is slated for removal as early as 2025-11-30. Refrain from using this package or pin to Setuptools<81.\n",
      "  return _ForkingPickler.loads(res)\n",
      "/usr/lib/python3.12/multiprocessing/queues.py:122: UserWarning: pkg_resources is deprecated as an API. See https://setuptools.pypa.io/en/latest/pkg_resources.html. The pkg_resources package is slated for removal as early as 2025-11-30. Refrain from using this package or pin to Setuptools<81.\n",
      "  return _ForkingPickler.loads(res)\n",
      "/usr/lib/python3.12/multiprocessing/queues.py:122: UserWarning: pkg_resources is deprecated as an API. See https://setuptools.pypa.io/en/latest/pkg_resources.html. The pkg_resources package is slated for removal as early as 2025-11-30. Refrain from using this package or pin to Setuptools<81.\n",
      "  return _ForkingPickler.loads(res)\n",
      "/usr/lib/python3.12/multiprocessing/queues.py:122: UserWarning: pkg_resources is deprecated as an API. See https://setuptools.pypa.io/en/latest/pkg_resources.html. The pkg_resources package is slated for removal as early as 2025-11-30. Refrain from using this package or pin to Setuptools<81.\n",
      "  return _ForkingPickler.loads(res)\n",
      "/usr/lib/python3.12/multiprocessing/queues.py:122: UserWarning: pkg_resources is deprecated as an API. See https://setuptools.pypa.io/en/latest/pkg_resources.html. The pkg_resources package is slated for removal as early as 2025-11-30. Refrain from using this package or pin to Setuptools<81.\n",
      "  return _ForkingPickler.loads(res)\n",
      "/usr/lib/python3.12/multiprocessing/queues.py:122: UserWarning: pkg_resources is deprecated as an API. See https://setuptools.pypa.io/en/latest/pkg_resources.html. The pkg_resources package is slated for removal as early as 2025-11-30. Refrain from using this package or pin to Setuptools<81.\n",
      "  return _ForkingPickler.loads(res)\n",
      "/usr/lib/python3.12/multiprocessing/queues.py:122: UserWarning: pkg_resources is deprecated as an API. See https://setuptools.pypa.io/en/latest/pkg_resources.html. The pkg_resources package is slated for removal as early as 2025-11-30. Refrain from using this package or pin to Setuptools<81.\n",
      "  return _ForkingPickler.loads(res)\n",
      "/usr/lib/python3.12/multiprocessing/queues.py:122: UserWarning: pkg_resources is deprecated as an API. See https://setuptools.pypa.io/en/latest/pkg_resources.html. The pkg_resources package is slated for removal as early as 2025-11-30. Refrain from using this package or pin to Setuptools<81.\n",
      "  return _ForkingPickler.loads(res)\n",
      "/usr/lib/python3.12/multiprocessing/queues.py:122: UserWarning: pkg_resources is deprecated as an API. See https://setuptools.pypa.io/en/latest/pkg_resources.html. The pkg_resources package is slated for removal as early as 2025-11-30. Refrain from using this package or pin to Setuptools<81.\n",
      "  return _ForkingPickler.loads(res)\n",
      "/usr/lib/python3.12/multiprocessing/queues.py:122: UserWarning: pkg_resources is deprecated as an API. See https://setuptools.pypa.io/en/latest/pkg_resources.html. The pkg_resources package is slated for removal as early as 2025-11-30. Refrain from using this package or pin to Setuptools<81.\n",
      "  return _ForkingPickler.loads(res)\n",
      "/usr/lib/python3.12/multiprocessing/queues.py:122: UserWarning: pkg_resources is deprecated as an API. See https://setuptools.pypa.io/en/latest/pkg_resources.html. The pkg_resources package is slated for removal as early as 2025-11-30. Refrain from using this package or pin to Setuptools<81.\n",
      "  return _ForkingPickler.loads(res)\n",
      "/usr/lib/python3.12/multiprocessing/queues.py:122: UserWarning: pkg_resources is deprecated as an API. See https://setuptools.pypa.io/en/latest/pkg_resources.html. The pkg_resources package is slated for removal as early as 2025-11-30. Refrain from using this package or pin to Setuptools<81.\n",
      "  return _ForkingPickler.loads(res)\n",
      "/usr/lib/python3.12/multiprocessing/queues.py:122: UserWarning: pkg_resources is deprecated as an API. See https://setuptools.pypa.io/en/latest/pkg_resources.html. The pkg_resources package is slated for removal as early as 2025-11-30. Refrain from using this package or pin to Setuptools<81.\n",
      "  return _ForkingPickler.loads(res)\n"
     ]
    },
    {
     "name": "stdout",
     "output_type": "stream",
     "text": [
      "Score:  0.8961988304093568 Params: {'gamma': 0.1, 'kernel': 'rbf', 'nu': 0.2, 'tol': 0.0001}\n",
      "0.9543128654970761\n",
      "              precision    recall  f1-score   support\n",
      "\n",
      "           0       0.90      0.96      0.93        49\n",
      "           1       0.82      0.82      0.82        40\n",
      "           2       0.87      0.87      0.87        23\n",
      "           3       1.00      1.00      1.00        32\n",
      "           4       0.97      0.90      0.93        31\n",
      "           5       0.76      0.81      0.78        31\n",
      "           6       1.00      1.00      1.00        20\n",
      "           7       0.80      0.59      0.68        34\n",
      "           8       0.92      1.00      0.96        22\n",
      "           9       1.00      1.00      1.00        18\n",
      "          10       0.95      0.92      0.94        39\n",
      "          11       1.00      1.00      1.00        34\n",
      "          12       0.92      0.92      0.92        38\n",
      "          13       1.00      1.00      1.00        42\n",
      "          14       1.00      1.00      1.00        28\n",
      "          15       1.00      0.83      0.90        23\n",
      "          16       1.00      0.93      0.96        28\n",
      "          17       0.78      0.93      0.85        30\n",
      "          18       0.96      0.91      0.94        56\n",
      "          19       1.00      1.00      1.00        28\n",
      "          20       1.00      1.00      1.00        25\n",
      "          21       1.00      1.00      1.00        15\n",
      "          22       1.00      0.88      0.94        34\n",
      "          23       1.00      1.00      1.00        36\n",
      "          24       0.75      0.71      0.73        38\n",
      "          25       1.00      1.00      1.00        20\n",
      "          26       1.00      1.00      1.00        41\n",
      "          27       1.00      1.00      1.00        23\n",
      "          28       1.00      1.00      1.00        23\n",
      "          29       1.00      1.00      1.00        34\n",
      "          30       1.00      1.00      1.00        16\n",
      "          31       0.81      1.00      0.89        21\n",
      "          32       1.00      1.00      1.00        24\n",
      "          33       1.00      1.00      1.00        21\n",
      "          34       1.00      1.00      1.00        28\n",
      "          35       0.93      0.93      0.93        41\n",
      "          36       1.00      1.00      1.00        18\n",
      "          37       0.93      0.93      0.93        27\n",
      "          38       1.00      1.00      1.00        16\n",
      "          39       1.00      1.00      1.00        31\n",
      "          40       1.00      1.00      1.00        30\n",
      "          41       0.76      0.88      0.82        33\n",
      "          42       1.00      1.00      1.00        29\n",
      "          43       1.00      1.00      1.00        17\n",
      "          44       1.00      1.00      1.00        28\n",
      "          45       0.97      0.91      0.94        32\n",
      "          46       0.96      1.00      0.98        26\n",
      "          47       0.91      0.66      0.76        32\n",
      "          48       1.00      1.00      1.00        25\n",
      "          49       1.00      1.00      1.00        24\n",
      "          50       1.00      1.00      1.00        32\n",
      "          51       1.00      1.00      1.00        23\n",
      "          52       1.00      1.00      1.00        19\n",
      "          53       0.84      0.76      0.80        42\n",
      "          54       0.74      0.93      0.82        27\n",
      "          55       1.00      1.00      1.00        30\n",
      "          56       0.83      0.91      0.87        43\n",
      "          57       1.00      1.00      1.00        23\n",
      "          58       1.00      1.00      1.00        22\n",
      "          59       1.00      1.00      1.00        32\n",
      "          60       1.00      1.00      1.00        35\n",
      "          61       0.94      0.88      0.91        51\n",
      "          62       1.00      1.00      1.00        31\n",
      "          63       1.00      0.97      0.98        33\n",
      "          64       1.00      1.00      1.00        28\n",
      "          65       0.85      1.00      0.92        23\n",
      "          66       1.00      1.00      1.00        26\n",
      "          67       1.00      1.00      1.00        27\n",
      "          68       1.00      1.00      1.00        32\n",
      "          69       1.00      1.00      1.00        26\n",
      "          70       1.00      1.00      1.00        31\n",
      "          71       1.00      1.00      1.00        37\n",
      "          72       1.00      1.00      1.00        22\n",
      "          73       1.00      1.00      1.00        34\n",
      "          74       1.00      1.00      1.00        27\n",
      "          75       0.94      0.97      0.95        30\n",
      "          76       1.00      1.00      1.00        23\n",
      "          77       1.00      1.00      1.00        19\n",
      "          78       1.00      1.00      1.00        34\n",
      "          79       0.78      0.81      0.79        31\n",
      "          80       1.00      1.00      1.00        25\n",
      "          81       1.00      1.00      1.00        16\n",
      "          82       1.00      1.00      1.00        30\n",
      "          83       1.00      1.00      1.00        29\n",
      "          84       1.00      1.00      1.00        31\n",
      "          85       1.00      1.00      1.00        17\n",
      "          86       1.00      1.00      1.00        25\n",
      "          87       1.00      1.00      1.00        31\n",
      "          88       0.83      0.93      0.88        42\n",
      "          89       1.00      1.00      1.00        25\n",
      "          90       1.00      1.00      1.00        29\n",
      "          91       1.00      1.00      1.00        17\n",
      "          92       1.00      1.00      1.00        21\n",
      "          93       1.00      1.00      1.00        26\n",
      "          94       1.00      1.00      1.00        25\n",
      "\n",
      "    accuracy                           0.95      2736\n",
      "   macro avg       0.96      0.96      0.96      2736\n",
      "weighted avg       0.96      0.95      0.95      2736\n",
      "\n"
     ]
    }
   ],
   "execution_count": 26
  },
  {
   "metadata": {
    "ExecuteTime": {
     "end_time": "2025-06-23T16:41:05.145073Z",
     "start_time": "2025-06-23T16:41:05.067077Z"
    }
   },
   "cell_type": "code",
   "source": [
    "# best_nu_svc_model = nu_svc_model_tkn if nu_svc_acc_tkn > nu_svc_acc_vec else nu_svc_model_vec\n",
    "filename = 'models/NuSVC_model.pkl'\n",
    "joblib.dump(nu_svc_model_vec, filename)\n",
    "print('Model NuSVC saved in {}'.format(filename))"
   ],
   "outputs": [
    {
     "name": "stdout",
     "output_type": "stream",
     "text": [
      "Model NuSVC saved in models/NuSVC_model.pkl\n"
     ]
    }
   ],
   "execution_count": 62
  },
  {
   "metadata": {},
   "cell_type": "markdown",
   "source": "### SGD"
  },
  {
   "metadata": {
    "ExecuteTime": {
     "end_time": "2025-06-23T22:51:01.653035Z",
     "start_time": "2025-06-23T22:51:01.649085Z"
    }
   },
   "cell_type": "code",
   "source": [
    "from sklearn.linear_model import SGDClassifier\n",
    "\n",
    "def sgd_model(X_train, X_test, X_val, y_train, y_test, y_val):\n",
    "    y_train_categorical = [int(np.argmax(y)) for y in y_train]\n",
    "    y_test_categorical = [int(np.argmax(y)) for y in y_test]\n",
    "    y_val_categorical = [int(np.argmax(y)) for y in y_val]\n",
    "    param_grid = {\n",
    "        'alpha': [0.0001, 0.001, 0.01, 0.1, 1],\n",
    "        'loss': ['hinge', 'log_loss', 'modified_huber', 'squared_hinge', 'perceptron', 'squared_error', 'huber'],\n",
    "        'penalty': ['l1', 'l2', 'elasticnet'],\n",
    "        'learning_rate': ['adaptive', 'invscaling', 'optimal'],\n",
    "        'epsilon': [0.001, 0.01, 0.1],\n",
    "    }\n",
    "    sgd = SGDClassifier(alpha=0.001, loss='perceptron', learning_rate='adaptive', max_iter=5000)\n",
    "    rsh = GridSearchCV(estimator=sgd, param_grid=param_grid, cv=2, n_jobs=-1)\n",
    "    rsh.fit(X_val, y_val_categorical)\n",
    "    score = rsh.score(X_test, y_test_categorical)\n",
    "    print(\"Score: \", score, \"Params:\", rsh.best_params_)\n",
    "\n",
    "    model = SGDClassifier(\n",
    "        alpha=rsh.best_params_['alpha'][0],\n",
    "        loss=rsh.best_params_['loss'][4],\n",
    "        penalty=rsh.best_params_['penalty'][1],\n",
    "        learning_rate=rsh.best_params_['learning_rate'][2],\n",
    "        epsilon=rsh.best_params_['epsilon'][0],\n",
    "        max_iter=100000,\n",
    "    )\n",
    "\n",
    "    model.fit(X_val, y_val_categorical)\n",
    "    model.fit(X_train, y_train_categorical)\n",
    "    prediction = model.predict(X_test)\n",
    "    accuracy = accuracy_score(y_test_categorical, prediction)\n",
    "    # if accuracy > 0.9638157894736842: parameters code 0-4-1-2-0\n",
    "    save_results(prediction, 'SGD', False)\n",
    "    print(accuracy)\n",
    "    print(metrics.classification_report(y_test_categorical, prediction))\n",
    "    return model, accuracy"
   ],
   "outputs": [],
   "execution_count": 83
  },
  {
   "metadata": {
    "ExecuteTime": {
     "end_time": "2025-06-23T20:49:05.455113Z",
     "start_time": "2025-06-23T19:52:53.274239Z"
    }
   },
   "cell_type": "code",
   "source": "sgd_model_vec, sgd_acc_vec = sgd_model(X_train_vec, X_test_vec, X_val_vec, y_train_vec, y_test_vec, y_val_vec)",
   "outputs": [
    {
     "name": "stderr",
     "output_type": "stream",
     "text": [
      "/usr/lib/python3.12/multiprocessing/queues.py:122: UserWarning: pkg_resources is deprecated as an API. See https://setuptools.pypa.io/en/latest/pkg_resources.html. The pkg_resources package is slated for removal as early as 2025-11-30. Refrain from using this package or pin to Setuptools<81.\n",
      "  return _ForkingPickler.loads(res)\n",
      "/usr/lib/python3.12/multiprocessing/queues.py:122: UserWarning: pkg_resources is deprecated as an API. See https://setuptools.pypa.io/en/latest/pkg_resources.html. The pkg_resources package is slated for removal as early as 2025-11-30. Refrain from using this package or pin to Setuptools<81.\n",
      "  return _ForkingPickler.loads(res)\n",
      "/usr/lib/python3.12/multiprocessing/queues.py:122: UserWarning: pkg_resources is deprecated as an API. See https://setuptools.pypa.io/en/latest/pkg_resources.html. The pkg_resources package is slated for removal as early as 2025-11-30. Refrain from using this package or pin to Setuptools<81.\n",
      "  return _ForkingPickler.loads(res)\n",
      "/usr/lib/python3.12/multiprocessing/queues.py:122: UserWarning: pkg_resources is deprecated as an API. See https://setuptools.pypa.io/en/latest/pkg_resources.html. The pkg_resources package is slated for removal as early as 2025-11-30. Refrain from using this package or pin to Setuptools<81.\n",
      "  return _ForkingPickler.loads(res)\n",
      "/usr/lib/python3.12/multiprocessing/queues.py:122: UserWarning: pkg_resources is deprecated as an API. See https://setuptools.pypa.io/en/latest/pkg_resources.html. The pkg_resources package is slated for removal as early as 2025-11-30. Refrain from using this package or pin to Setuptools<81.\n",
      "  return _ForkingPickler.loads(res)\n",
      "/usr/lib/python3.12/multiprocessing/queues.py:122: UserWarning: pkg_resources is deprecated as an API. See https://setuptools.pypa.io/en/latest/pkg_resources.html. The pkg_resources package is slated for removal as early as 2025-11-30. Refrain from using this package or pin to Setuptools<81.\n",
      "  return _ForkingPickler.loads(res)\n",
      "/usr/lib/python3.12/multiprocessing/queues.py:122: UserWarning: pkg_resources is deprecated as an API. See https://setuptools.pypa.io/en/latest/pkg_resources.html. The pkg_resources package is slated for removal as early as 2025-11-30. Refrain from using this package or pin to Setuptools<81.\n",
      "  return _ForkingPickler.loads(res)\n",
      "/usr/lib/python3.12/multiprocessing/queues.py:122: UserWarning: pkg_resources is deprecated as an API. See https://setuptools.pypa.io/en/latest/pkg_resources.html. The pkg_resources package is slated for removal as early as 2025-11-30. Refrain from using this package or pin to Setuptools<81.\n",
      "  return _ForkingPickler.loads(res)\n",
      "/usr/lib/python3.12/multiprocessing/queues.py:122: UserWarning: pkg_resources is deprecated as an API. See https://setuptools.pypa.io/en/latest/pkg_resources.html. The pkg_resources package is slated for removal as early as 2025-11-30. Refrain from using this package or pin to Setuptools<81.\n",
      "  return _ForkingPickler.loads(res)\n",
      "/usr/lib/python3.12/multiprocessing/queues.py:122: UserWarning: pkg_resources is deprecated as an API. See https://setuptools.pypa.io/en/latest/pkg_resources.html. The pkg_resources package is slated for removal as early as 2025-11-30. Refrain from using this package or pin to Setuptools<81.\n",
      "  return _ForkingPickler.loads(res)\n",
      "/usr/lib/python3.12/multiprocessing/queues.py:122: UserWarning: pkg_resources is deprecated as an API. See https://setuptools.pypa.io/en/latest/pkg_resources.html. The pkg_resources package is slated for removal as early as 2025-11-30. Refrain from using this package or pin to Setuptools<81.\n",
      "  return _ForkingPickler.loads(res)\n",
      "/usr/lib/python3.12/multiprocessing/queues.py:122: UserWarning: pkg_resources is deprecated as an API. See https://setuptools.pypa.io/en/latest/pkg_resources.html. The pkg_resources package is slated for removal as early as 2025-11-30. Refrain from using this package or pin to Setuptools<81.\n",
      "  return _ForkingPickler.loads(res)\n",
      "/usr/lib/python3.12/multiprocessing/queues.py:122: UserWarning: pkg_resources is deprecated as an API. See https://setuptools.pypa.io/en/latest/pkg_resources.html. The pkg_resources package is slated for removal as early as 2025-11-30. Refrain from using this package or pin to Setuptools<81.\n",
      "  return _ForkingPickler.loads(res)\n",
      "/usr/lib/python3.12/multiprocessing/queues.py:122: UserWarning: pkg_resources is deprecated as an API. See https://setuptools.pypa.io/en/latest/pkg_resources.html. The pkg_resources package is slated for removal as early as 2025-11-30. Refrain from using this package or pin to Setuptools<81.\n",
      "  return _ForkingPickler.loads(res)\n",
      "/usr/lib/python3.12/multiprocessing/queues.py:122: UserWarning: pkg_resources is deprecated as an API. See https://setuptools.pypa.io/en/latest/pkg_resources.html. The pkg_resources package is slated for removal as early as 2025-11-30. Refrain from using this package or pin to Setuptools<81.\n",
      "  return _ForkingPickler.loads(res)\n",
      "/usr/lib/python3.12/multiprocessing/queues.py:122: UserWarning: pkg_resources is deprecated as an API. See https://setuptools.pypa.io/en/latest/pkg_resources.html. The pkg_resources package is slated for removal as early as 2025-11-30. Refrain from using this package or pin to Setuptools<81.\n",
      "  return _ForkingPickler.loads(res)\n"
     ]
    },
    {
     "name": "stdout",
     "output_type": "stream",
     "text": [
      "Score:  0.8866959064327485 Params: {'alpha': 0.0001, 'epsilon': 0.01, 'learning_rate': 'optimal', 'loss': 'log_loss', 'penalty': 'l1'}\n",
      "0.8987573099415205\n",
      "              precision    recall  f1-score   support\n",
      "\n",
      "           0       0.83      0.92      0.87        49\n",
      "           1       0.65      0.78      0.70        40\n",
      "           2       0.80      0.17      0.29        23\n",
      "           3       1.00      0.97      0.98        32\n",
      "           4       0.90      0.90      0.90        31\n",
      "           5       0.56      0.29      0.38        31\n",
      "           6       1.00      1.00      1.00        20\n",
      "           7       0.60      0.35      0.44        34\n",
      "           8       0.92      1.00      0.96        22\n",
      "           9       0.00      0.00      0.00        18\n",
      "          10       0.91      0.77      0.83        39\n",
      "          11       1.00      1.00      1.00        34\n",
      "          12       0.72      0.61      0.66        38\n",
      "          13       1.00      1.00      1.00        42\n",
      "          14       1.00      1.00      1.00        28\n",
      "          15       0.86      0.52      0.65        23\n",
      "          16       1.00      0.93      0.96        28\n",
      "          17       0.47      0.67      0.55        30\n",
      "          18       0.94      0.89      0.92        56\n",
      "          19       1.00      1.00      1.00        28\n",
      "          20       1.00      1.00      1.00        25\n",
      "          21       1.00      1.00      1.00        15\n",
      "          22       0.93      0.82      0.88        34\n",
      "          23       0.97      1.00      0.99        36\n",
      "          24       0.52      0.32      0.39        38\n",
      "          25       1.00      1.00      1.00        20\n",
      "          26       1.00      1.00      1.00        41\n",
      "          27       1.00      1.00      1.00        23\n",
      "          28       0.92      1.00      0.96        23\n",
      "          29       0.97      1.00      0.99        34\n",
      "          30       1.00      1.00      1.00        16\n",
      "          31       0.88      1.00      0.93        21\n",
      "          32       0.96      1.00      0.98        24\n",
      "          33       1.00      1.00      1.00        21\n",
      "          34       1.00      1.00      1.00        28\n",
      "          35       0.86      0.76      0.81        41\n",
      "          36       1.00      1.00      1.00        18\n",
      "          37       0.75      0.67      0.71        27\n",
      "          38       0.80      1.00      0.89        16\n",
      "          39       1.00      1.00      1.00        31\n",
      "          40       0.94      1.00      0.97        30\n",
      "          41       0.61      0.91      0.73        33\n",
      "          42       0.94      1.00      0.97        29\n",
      "          43       1.00      1.00      1.00        17\n",
      "          44       1.00      1.00      1.00        28\n",
      "          45       0.74      0.81      0.78        32\n",
      "          46       1.00      1.00      1.00        26\n",
      "          47       0.75      0.47      0.58        32\n",
      "          48       1.00      1.00      1.00        25\n",
      "          49       1.00      1.00      1.00        24\n",
      "          50       1.00      1.00      1.00        32\n",
      "          51       1.00      1.00      1.00        23\n",
      "          52       1.00      1.00      1.00        19\n",
      "          53       0.67      0.57      0.62        42\n",
      "          54       0.68      0.96      0.80        27\n",
      "          55       1.00      1.00      1.00        30\n",
      "          56       0.65      0.81      0.72        43\n",
      "          57       0.85      1.00      0.92        23\n",
      "          58       1.00      1.00      1.00        22\n",
      "          59       0.97      1.00      0.98        32\n",
      "          60       1.00      1.00      1.00        35\n",
      "          61       0.94      0.92      0.93        51\n",
      "          62       1.00      1.00      1.00        31\n",
      "          63       1.00      0.97      0.98        33\n",
      "          64       1.00      1.00      1.00        28\n",
      "          65       0.82      1.00      0.90        23\n",
      "          66       0.96      1.00      0.98        26\n",
      "          67       1.00      1.00      1.00        27\n",
      "          68       1.00      1.00      1.00        32\n",
      "          69       0.96      1.00      0.98        26\n",
      "          70       1.00      1.00      1.00        31\n",
      "          71       0.97      1.00      0.99        37\n",
      "          72       1.00      1.00      1.00        22\n",
      "          73       1.00      1.00      1.00        34\n",
      "          74       1.00      1.00      1.00        27\n",
      "          75       0.68      0.87      0.76        30\n",
      "          76       1.00      1.00      1.00        23\n",
      "          77       1.00      1.00      1.00        19\n",
      "          78       1.00      1.00      1.00        34\n",
      "          79       0.42      0.71      0.52        31\n",
      "          80       1.00      1.00      1.00        25\n",
      "          81       0.94      1.00      0.97        16\n",
      "          82       1.00      1.00      1.00        30\n",
      "          83       0.97      1.00      0.98        29\n",
      "          84       1.00      1.00      1.00        31\n",
      "          85       1.00      1.00      1.00        17\n",
      "          86       1.00      1.00      1.00        25\n",
      "          87       1.00      1.00      1.00        31\n",
      "          88       0.81      0.90      0.85        42\n",
      "          89       0.96      1.00      0.98        25\n",
      "          90       1.00      1.00      1.00        29\n",
      "          91       1.00      1.00      1.00        17\n",
      "          92       0.95      1.00      0.98        21\n",
      "          93       1.00      1.00      1.00        26\n",
      "          94       1.00      1.00      1.00        25\n",
      "\n",
      "    accuracy                           0.90      2736\n",
      "   macro avg       0.90      0.91      0.90      2736\n",
      "weighted avg       0.90      0.90      0.89      2736\n",
      "\n"
     ]
    }
   ],
   "execution_count": 75
  },
  {
   "metadata": {
    "ExecuteTime": {
     "end_time": "2025-06-23T16:39:23.623092Z",
     "start_time": "2025-06-23T16:39:23.597155Z"
    }
   },
   "cell_type": "code",
   "source": [
    "# best_sgd_model = sgd_model_tkn if sgd_acc_tkn > sgd_acc_vec else sgd_model_vec\n",
    "filename = 'models/SGD_model.pkl'\n",
    "joblib.dump(sgd_model_vec, filename)\n",
    "print('Model SGD saved in {}'.format(filename))"
   ],
   "outputs": [
    {
     "name": "stdout",
     "output_type": "stream",
     "text": [
      "Model SGD saved in models/SGD_model.pkl\n"
     ]
    }
   ],
   "execution_count": 61
  },
  {
   "metadata": {},
   "cell_type": "markdown",
   "source": "### Logistic Regression"
  },
  {
   "metadata": {
    "ExecuteTime": {
     "end_time": "2025-06-24T02:21:33.840791Z",
     "start_time": "2025-06-24T02:21:33.837423Z"
    }
   },
   "cell_type": "code",
   "source": [
    "from sklearn.linear_model import LogisticRegression\n",
    "\n",
    "def lr_model(X_train, X_test, X_val, y_train, y_test, y_val):\n",
    "    y_train_categorical = [int(np.argmax(y)) for y in y_train]\n",
    "    y_test_categorical = [int(np.argmax(y)) for y in y_test]\n",
    "    y_val_categorical = [int(np.argmax(y)) for y in y_val]\n",
    "    param_grid = {\n",
    "        'penalty': ['l2', 'elasticnet'],\n",
    "        'tol': [0.0001, 0.001],\n",
    "        'C': [0.1, 1, 10, 100],\n",
    "        'solver': ['lbfgs', 'newton-cg', 'newton-cholesky', 'sag'],\n",
    "    }\n",
    "    lr_model = LogisticRegression(max_iter=5000)\n",
    "    rsh = HalvingGridSearchCV(estimator=lr_model, param_grid=param_grid, factor=3, n_jobs=-1)\n",
    "    rsh.fit(X_val, y_val_categorical)\n",
    "    score = rsh.score(X_test, y_test_categorical)\n",
    "    print(\"Score: \", score, \"Params:\", rsh.best_params_)\n",
    "\n",
    "    model = LogisticRegression(\n",
    "        penalty=rsh.best_params_['penalty'],\n",
    "        tol=rsh.best_params_['tol'],\n",
    "        C=rsh.best_params_['C'],\n",
    "        solver=rsh.best_params_['solver'],\n",
    "        max_iter=5000,\n",
    "    )\n",
    "\n",
    "    model.fit(X_val, y_val_categorical)\n",
    "    model.fit(X_train, y_train_categorical)\n",
    "    prediction = model.predict(X_test)\n",
    "    accuracy = accuracy_score(y_test_categorical, prediction)\n",
    "    save_results(prediction, 'LR', False)\n",
    "    print(accuracy)\n",
    "    print(metrics.classification_report(y_test_categorical, prediction))\n",
    "    return model, accuracy"
   ],
   "outputs": [],
   "execution_count": 10
  },
  {
   "metadata": {
    "ExecuteTime": {
     "end_time": "2025-06-24T02:28:39.634149Z",
     "start_time": "2025-06-24T02:21:36.741055Z"
    }
   },
   "cell_type": "code",
   "source": "lr_model_vec, lr_acc_vec = lr_model(X_train_vec, X_test_vec, X_val_vec, y_train_vec, y_test_vec, y_val_vec)",
   "outputs": [
    {
     "name": "stderr",
     "output_type": "stream",
     "text": [
      "/usr/lib/python3.12/multiprocessing/queues.py:122: UserWarning: pkg_resources is deprecated as an API. See https://setuptools.pypa.io/en/latest/pkg_resources.html. The pkg_resources package is slated for removal as early as 2025-11-30. Refrain from using this package or pin to Setuptools<81.\n",
      "  return _ForkingPickler.loads(res)\n",
      "/usr/lib/python3.12/multiprocessing/queues.py:122: UserWarning: pkg_resources is deprecated as an API. See https://setuptools.pypa.io/en/latest/pkg_resources.html. The pkg_resources package is slated for removal as early as 2025-11-30. Refrain from using this package or pin to Setuptools<81.\n",
      "  return _ForkingPickler.loads(res)\n",
      "/usr/lib/python3.12/multiprocessing/queues.py:122: UserWarning: pkg_resources is deprecated as an API. See https://setuptools.pypa.io/en/latest/pkg_resources.html. The pkg_resources package is slated for removal as early as 2025-11-30. Refrain from using this package or pin to Setuptools<81.\n",
      "  return _ForkingPickler.loads(res)\n",
      "/usr/lib/python3.12/multiprocessing/queues.py:122: UserWarning: pkg_resources is deprecated as an API. See https://setuptools.pypa.io/en/latest/pkg_resources.html. The pkg_resources package is slated for removal as early as 2025-11-30. Refrain from using this package or pin to Setuptools<81.\n",
      "  return _ForkingPickler.loads(res)\n",
      "/usr/lib/python3.12/multiprocessing/queues.py:122: UserWarning: pkg_resources is deprecated as an API. See https://setuptools.pypa.io/en/latest/pkg_resources.html. The pkg_resources package is slated for removal as early as 2025-11-30. Refrain from using this package or pin to Setuptools<81.\n",
      "  return _ForkingPickler.loads(res)\n",
      "/usr/lib/python3.12/multiprocessing/queues.py:122: UserWarning: pkg_resources is deprecated as an API. See https://setuptools.pypa.io/en/latest/pkg_resources.html. The pkg_resources package is slated for removal as early as 2025-11-30. Refrain from using this package or pin to Setuptools<81.\n",
      "  return _ForkingPickler.loads(res)\n",
      "/usr/lib/python3.12/multiprocessing/queues.py:122: UserWarning: pkg_resources is deprecated as an API. See https://setuptools.pypa.io/en/latest/pkg_resources.html. The pkg_resources package is slated for removal as early as 2025-11-30. Refrain from using this package or pin to Setuptools<81.\n",
      "  return _ForkingPickler.loads(res)\n",
      "/usr/lib/python3.12/multiprocessing/queues.py:122: UserWarning: pkg_resources is deprecated as an API. See https://setuptools.pypa.io/en/latest/pkg_resources.html. The pkg_resources package is slated for removal as early as 2025-11-30. Refrain from using this package or pin to Setuptools<81.\n",
      "  return _ForkingPickler.loads(res)\n",
      "/usr/lib/python3.12/multiprocessing/queues.py:122: UserWarning: pkg_resources is deprecated as an API. See https://setuptools.pypa.io/en/latest/pkg_resources.html. The pkg_resources package is slated for removal as early as 2025-11-30. Refrain from using this package or pin to Setuptools<81.\n",
      "  return _ForkingPickler.loads(res)\n",
      "/usr/lib/python3.12/multiprocessing/queues.py:122: UserWarning: pkg_resources is deprecated as an API. See https://setuptools.pypa.io/en/latest/pkg_resources.html. The pkg_resources package is slated for removal as early as 2025-11-30. Refrain from using this package or pin to Setuptools<81.\n",
      "  return _ForkingPickler.loads(res)\n",
      "/usr/lib/python3.12/multiprocessing/queues.py:122: UserWarning: pkg_resources is deprecated as an API. See https://setuptools.pypa.io/en/latest/pkg_resources.html. The pkg_resources package is slated for removal as early as 2025-11-30. Refrain from using this package or pin to Setuptools<81.\n",
      "  return _ForkingPickler.loads(res)\n",
      "/usr/lib/python3.12/multiprocessing/queues.py:122: UserWarning: pkg_resources is deprecated as an API. See https://setuptools.pypa.io/en/latest/pkg_resources.html. The pkg_resources package is slated for removal as early as 2025-11-30. Refrain from using this package or pin to Setuptools<81.\n",
      "  return _ForkingPickler.loads(res)\n",
      "/usr/lib/python3.12/multiprocessing/queues.py:122: UserWarning: pkg_resources is deprecated as an API. See https://setuptools.pypa.io/en/latest/pkg_resources.html. The pkg_resources package is slated for removal as early as 2025-11-30. Refrain from using this package or pin to Setuptools<81.\n",
      "  return _ForkingPickler.loads(res)\n",
      "/usr/lib/python3.12/multiprocessing/queues.py:122: UserWarning: pkg_resources is deprecated as an API. See https://setuptools.pypa.io/en/latest/pkg_resources.html. The pkg_resources package is slated for removal as early as 2025-11-30. Refrain from using this package or pin to Setuptools<81.\n",
      "  return _ForkingPickler.loads(res)\n",
      "/usr/lib/python3.12/multiprocessing/queues.py:122: UserWarning: pkg_resources is deprecated as an API. See https://setuptools.pypa.io/en/latest/pkg_resources.html. The pkg_resources package is slated for removal as early as 2025-11-30. Refrain from using this package or pin to Setuptools<81.\n",
      "  return _ForkingPickler.loads(res)\n",
      "/usr/lib/python3.12/multiprocessing/queues.py:122: UserWarning: pkg_resources is deprecated as an API. See https://setuptools.pypa.io/en/latest/pkg_resources.html. The pkg_resources package is slated for removal as early as 2025-11-30. Refrain from using this package or pin to Setuptools<81.\n",
      "  return _ForkingPickler.loads(res)\n"
     ]
    },
    {
     "name": "stdout",
     "output_type": "stream",
     "text": [
      "Score:  0.9064327485380117 Params: {'C': 100, 'penalty': 'l2', 'solver': 'newton-cg', 'tol': 0.0001}\n",
      "Results saved in data/results/tf-idf/results.csv\n",
      "0.9667397660818714\n",
      "              precision    recall  f1-score   support\n",
      "\n",
      "           0       0.92      0.98      0.95        49\n",
      "           1       0.95      0.90      0.92        40\n",
      "           2       0.88      0.91      0.89        23\n",
      "           3       1.00      1.00      1.00        32\n",
      "           4       0.97      0.90      0.93        31\n",
      "           5       0.76      0.81      0.78        31\n",
      "           6       1.00      1.00      1.00        20\n",
      "           7       0.81      0.65      0.72        34\n",
      "           8       1.00      1.00      1.00        22\n",
      "           9       1.00      1.00      1.00        18\n",
      "          10       0.93      1.00      0.96        39\n",
      "          11       1.00      1.00      1.00        34\n",
      "          12       0.92      0.95      0.94        38\n",
      "          13       1.00      1.00      1.00        42\n",
      "          14       1.00      1.00      1.00        28\n",
      "          15       1.00      0.91      0.95        23\n",
      "          16       1.00      0.93      0.96        28\n",
      "          17       0.83      0.97      0.89        30\n",
      "          18       0.96      0.96      0.96        56\n",
      "          19       1.00      1.00      1.00        28\n",
      "          20       1.00      1.00      1.00        25\n",
      "          21       1.00      1.00      1.00        15\n",
      "          22       1.00      0.88      0.94        34\n",
      "          23       1.00      1.00      1.00        36\n",
      "          24       0.79      0.71      0.75        38\n",
      "          25       1.00      1.00      1.00        20\n",
      "          26       1.00      1.00      1.00        41\n",
      "          27       1.00      1.00      1.00        23\n",
      "          28       1.00      1.00      1.00        23\n",
      "          29       1.00      1.00      1.00        34\n",
      "          30       1.00      1.00      1.00        16\n",
      "          31       0.95      1.00      0.98        21\n",
      "          32       1.00      1.00      1.00        24\n",
      "          33       1.00      1.00      1.00        21\n",
      "          34       1.00      1.00      1.00        28\n",
      "          35       0.93      0.93      0.93        41\n",
      "          36       1.00      1.00      1.00        18\n",
      "          37       0.96      0.93      0.94        27\n",
      "          38       1.00      1.00      1.00        16\n",
      "          39       1.00      1.00      1.00        31\n",
      "          40       1.00      1.00      1.00        30\n",
      "          41       0.85      0.88      0.87        33\n",
      "          42       1.00      1.00      1.00        29\n",
      "          43       1.00      1.00      1.00        17\n",
      "          44       1.00      1.00      1.00        28\n",
      "          45       1.00      0.91      0.95        32\n",
      "          46       1.00      1.00      1.00        26\n",
      "          47       0.90      0.84      0.87        32\n",
      "          48       1.00      1.00      1.00        25\n",
      "          49       1.00      1.00      1.00        24\n",
      "          50       1.00      1.00      1.00        32\n",
      "          51       1.00      1.00      1.00        23\n",
      "          52       1.00      1.00      1.00        19\n",
      "          53       0.89      0.79      0.84        42\n",
      "          54       0.90      0.96      0.93        27\n",
      "          55       1.00      1.00      1.00        30\n",
      "          56       0.89      0.91      0.90        43\n",
      "          57       1.00      1.00      1.00        23\n",
      "          58       1.00      1.00      1.00        22\n",
      "          59       1.00      1.00      1.00        32\n",
      "          60       1.00      1.00      1.00        35\n",
      "          61       0.94      0.96      0.95        51\n",
      "          62       1.00      1.00      1.00        31\n",
      "          63       1.00      0.97      0.98        33\n",
      "          64       1.00      1.00      1.00        28\n",
      "          65       0.85      1.00      0.92        23\n",
      "          66       1.00      1.00      1.00        26\n",
      "          67       1.00      1.00      1.00        27\n",
      "          68       1.00      1.00      1.00        32\n",
      "          69       1.00      1.00      1.00        26\n",
      "          70       1.00      1.00      1.00        31\n",
      "          71       1.00      1.00      1.00        37\n",
      "          72       1.00      1.00      1.00        22\n",
      "          73       1.00      1.00      1.00        34\n",
      "          74       1.00      1.00      1.00        27\n",
      "          75       0.97      0.97      0.97        30\n",
      "          76       1.00      1.00      1.00        23\n",
      "          77       1.00      1.00      1.00        19\n",
      "          78       1.00      1.00      1.00        34\n",
      "          79       0.78      0.90      0.84        31\n",
      "          80       1.00      1.00      1.00        25\n",
      "          81       1.00      1.00      1.00        16\n",
      "          82       1.00      1.00      1.00        30\n",
      "          83       1.00      1.00      1.00        29\n",
      "          84       1.00      1.00      1.00        31\n",
      "          85       1.00      1.00      1.00        17\n",
      "          86       1.00      1.00      1.00        25\n",
      "          87       1.00      1.00      1.00        31\n",
      "          88       0.89      0.98      0.93        42\n",
      "          89       0.96      1.00      0.98        25\n",
      "          90       1.00      1.00      1.00        29\n",
      "          91       1.00      1.00      1.00        17\n",
      "          92       1.00      1.00      1.00        21\n",
      "          93       1.00      1.00      1.00        26\n",
      "          94       1.00      1.00      1.00        25\n",
      "\n",
      "    accuracy                           0.97      2736\n",
      "   macro avg       0.97      0.97      0.97      2736\n",
      "weighted avg       0.97      0.97      0.97      2736\n",
      "\n"
     ]
    }
   ],
   "execution_count": 12
  },
  {
   "metadata": {
    "ExecuteTime": {
     "end_time": "2025-06-24T01:35:09.859812Z",
     "start_time": "2025-06-24T01:35:09.815374Z"
    }
   },
   "cell_type": "code",
   "source": [
    "# best_lr_model = lr_model_tkn if lr_acc_tkn > lr_acc_vec else lr_model_vec\n",
    "filename = 'models/LR_model.pkl'\n",
    "joblib.dump(lr_model_vec, filename)\n",
    "print('Model LR saved in {}'.format(filename))"
   ],
   "outputs": [
    {
     "name": "stdout",
     "output_type": "stream",
     "text": [
      "Model LR saved in models/LR_model.pkl\n"
     ]
    }
   ],
   "execution_count": 21
  },
  {
   "metadata": {},
   "cell_type": "markdown",
   "source": "### KNeighbors"
  },
  {
   "metadata": {
    "ExecuteTime": {
     "end_time": "2025-06-24T03:21:12.330312Z",
     "start_time": "2025-06-24T03:21:12.325568Z"
    }
   },
   "cell_type": "code",
   "source": [
    "from sklearn.neighbors import KNeighborsClassifier\n",
    "\n",
    "def knc_model(X_train, X_test, X_val, y_train, y_test, y_val):\n",
    "    y_train_categorical = [int(np.argmax(y)) for y in y_train]\n",
    "    y_test_categorical = [int(np.argmax(y)) for y in y_test]\n",
    "    y_val_categorical = [int(np.argmax(y)) for y in y_val]\n",
    "    param_grid = {\n",
    "        'n_neighbors': [3, 5, 7, 9],\n",
    "        'weights': ['uniform', 'distance'],\n",
    "        'algorithm': ['auto', 'ball_tree', 'kd_tree', 'brute'],\n",
    "        'leaf_size': [10, 20, 30, 40, 50],\n",
    "        'metric': ['euclidean', 'manhattan', 'cityblock', 'cosine'],\n",
    "        'p': [0.1, 0.2, 0.5, 1, 2],\n",
    "    }\n",
    "    knc = KNeighborsClassifier(n_neighbors=5, algorithm='kd_tree', weights='distance', leaf_size=10)\n",
    "    rsh = HalvingGridSearchCV(estimator=knc, param_grid=param_grid, factor=5, n_jobs=-1)\n",
    "    rsh.fit(X_val, y_val_categorical)\n",
    "    score = rsh.score(X_test, y_test_categorical)\n",
    "    print(\"Score: \", score, \"Params:\", rsh.best_params_)\n",
    "\n",
    "    model = KNeighborsClassifier(\n",
    "        n_neighbors=rsh.best_params_['n_neighbors'],\n",
    "        weights=rsh.best_params_['weights'],\n",
    "        algorithm=rsh.best_params_['algorithm'],\n",
    "        leaf_size=rsh.best_params_['leaf_size'],\n",
    "        metric=rsh.best_params_['metric'],\n",
    "        p=rsh.best_params_['p'],\n",
    "    )\n",
    "\n",
    "    model.fit(X_val, y_val_categorical)\n",
    "    model.fit(X_train, y_train_categorical)\n",
    "    prediction = model.predict(X_test)\n",
    "    accuracy = accuracy_score(y_test_categorical, prediction)\n",
    "    if accuracy > 0.9506578947368421: # parameters code 1-1-0-0-0-2\n",
    "        save_results(prediction, 'KNC', False)\n",
    "    print(accuracy)\n",
    "    print(metrics.classification_report(y_test_categorical, prediction))\n",
    "    return model, accuracy"
   ],
   "outputs": [],
   "execution_count": 38
  },
  {
   "metadata": {
    "ExecuteTime": {
     "end_time": "2025-06-24T03:23:52.231708Z",
     "start_time": "2025-06-24T03:21:15.523160Z"
    }
   },
   "cell_type": "code",
   "source": "knc_model_vec, knc_acc_vec = knc_model(X_train_vec, X_test_vec, X_val_vec, y_train_vec, y_test_vec, y_val_vec)",
   "outputs": [
    {
     "name": "stderr",
     "output_type": "stream",
     "text": [
      "/usr/lib/python3.12/multiprocessing/queues.py:122: UserWarning: pkg_resources is deprecated as an API. See https://setuptools.pypa.io/en/latest/pkg_resources.html. The pkg_resources package is slated for removal as early as 2025-11-30. Refrain from using this package or pin to Setuptools<81.\n",
      "  return _ForkingPickler.loads(res)\n",
      "/usr/lib/python3.12/multiprocessing/queues.py:122: UserWarning: pkg_resources is deprecated as an API. See https://setuptools.pypa.io/en/latest/pkg_resources.html. The pkg_resources package is slated for removal as early as 2025-11-30. Refrain from using this package or pin to Setuptools<81.\n",
      "  return _ForkingPickler.loads(res)\n",
      "/usr/lib/python3.12/multiprocessing/queues.py:122: UserWarning: pkg_resources is deprecated as an API. See https://setuptools.pypa.io/en/latest/pkg_resources.html. The pkg_resources package is slated for removal as early as 2025-11-30. Refrain from using this package or pin to Setuptools<81.\n",
      "  return _ForkingPickler.loads(res)\n",
      "/usr/lib/python3.12/multiprocessing/queues.py:122: UserWarning: pkg_resources is deprecated as an API. See https://setuptools.pypa.io/en/latest/pkg_resources.html. The pkg_resources package is slated for removal as early as 2025-11-30. Refrain from using this package or pin to Setuptools<81.\n",
      "  return _ForkingPickler.loads(res)\n",
      "/usr/lib/python3.12/multiprocessing/queues.py:122: UserWarning: pkg_resources is deprecated as an API. See https://setuptools.pypa.io/en/latest/pkg_resources.html. The pkg_resources package is slated for removal as early as 2025-11-30. Refrain from using this package or pin to Setuptools<81.\n",
      "  return _ForkingPickler.loads(res)\n",
      "/usr/lib/python3.12/multiprocessing/queues.py:122: UserWarning: pkg_resources is deprecated as an API. See https://setuptools.pypa.io/en/latest/pkg_resources.html. The pkg_resources package is slated for removal as early as 2025-11-30. Refrain from using this package or pin to Setuptools<81.\n",
      "  return _ForkingPickler.loads(res)\n",
      "/usr/lib/python3.12/multiprocessing/queues.py:122: UserWarning: pkg_resources is deprecated as an API. See https://setuptools.pypa.io/en/latest/pkg_resources.html. The pkg_resources package is slated for removal as early as 2025-11-30. Refrain from using this package or pin to Setuptools<81.\n",
      "  return _ForkingPickler.loads(res)\n",
      "/usr/lib/python3.12/multiprocessing/queues.py:122: UserWarning: pkg_resources is deprecated as an API. See https://setuptools.pypa.io/en/latest/pkg_resources.html. The pkg_resources package is slated for removal as early as 2025-11-30. Refrain from using this package or pin to Setuptools<81.\n",
      "  return _ForkingPickler.loads(res)\n",
      "/usr/lib/python3.12/multiprocessing/queues.py:122: UserWarning: pkg_resources is deprecated as an API. See https://setuptools.pypa.io/en/latest/pkg_resources.html. The pkg_resources package is slated for removal as early as 2025-11-30. Refrain from using this package or pin to Setuptools<81.\n",
      "  return _ForkingPickler.loads(res)\n",
      "/usr/lib/python3.12/multiprocessing/queues.py:122: UserWarning: pkg_resources is deprecated as an API. See https://setuptools.pypa.io/en/latest/pkg_resources.html. The pkg_resources package is slated for removal as early as 2025-11-30. Refrain from using this package or pin to Setuptools<81.\n",
      "  return _ForkingPickler.loads(res)\n",
      "/usr/lib/python3.12/multiprocessing/queues.py:122: UserWarning: pkg_resources is deprecated as an API. See https://setuptools.pypa.io/en/latest/pkg_resources.html. The pkg_resources package is slated for removal as early as 2025-11-30. Refrain from using this package or pin to Setuptools<81.\n",
      "  return _ForkingPickler.loads(res)\n",
      "/usr/lib/python3.12/multiprocessing/queues.py:122: UserWarning: pkg_resources is deprecated as an API. See https://setuptools.pypa.io/en/latest/pkg_resources.html. The pkg_resources package is slated for removal as early as 2025-11-30. Refrain from using this package or pin to Setuptools<81.\n",
      "  return _ForkingPickler.loads(res)\n",
      "/usr/lib/python3.12/multiprocessing/queues.py:122: UserWarning: pkg_resources is deprecated as an API. See https://setuptools.pypa.io/en/latest/pkg_resources.html. The pkg_resources package is slated for removal as early as 2025-11-30. Refrain from using this package or pin to Setuptools<81.\n",
      "  return _ForkingPickler.loads(res)\n",
      "/usr/lib/python3.12/multiprocessing/queues.py:122: UserWarning: pkg_resources is deprecated as an API. See https://setuptools.pypa.io/en/latest/pkg_resources.html. The pkg_resources package is slated for removal as early as 2025-11-30. Refrain from using this package or pin to Setuptools<81.\n",
      "  return _ForkingPickler.loads(res)\n",
      "/usr/lib/python3.12/multiprocessing/queues.py:122: UserWarning: pkg_resources is deprecated as an API. See https://setuptools.pypa.io/en/latest/pkg_resources.html. The pkg_resources package is slated for removal as early as 2025-11-30. Refrain from using this package or pin to Setuptools<81.\n",
      "  return _ForkingPickler.loads(res)\n",
      "/usr/lib/python3.12/multiprocessing/queues.py:122: UserWarning: pkg_resources is deprecated as an API. See https://setuptools.pypa.io/en/latest/pkg_resources.html. The pkg_resources package is slated for removal as early as 2025-11-30. Refrain from using this package or pin to Setuptools<81.\n",
      "  return _ForkingPickler.loads(res)\n"
     ]
    },
    {
     "name": "stdout",
     "output_type": "stream",
     "text": [
      "Score:  0.8603801169590644 Params: {'algorithm': 'auto', 'leaf_size': 10, 'metric': 'cosine', 'n_neighbors': 5, 'p': 0.1, 'weights': 'distance'}\n",
      "0.9506578947368421\n",
      "              precision    recall  f1-score   support\n",
      "\n",
      "           0       0.81      0.94      0.87        49\n",
      "           1       0.88      0.75      0.81        40\n",
      "           2       0.81      0.91      0.86        23\n",
      "           3       1.00      1.00      1.00        32\n",
      "           4       0.96      0.87      0.92        31\n",
      "           5       0.84      0.84      0.84        31\n",
      "           6       1.00      1.00      1.00        20\n",
      "           7       0.80      0.59      0.68        34\n",
      "           8       1.00      1.00      1.00        22\n",
      "           9       0.78      1.00      0.88        18\n",
      "          10       0.97      0.79      0.87        39\n",
      "          11       1.00      1.00      1.00        34\n",
      "          12       0.89      0.84      0.86        38\n",
      "          13       1.00      1.00      1.00        42\n",
      "          14       1.00      1.00      1.00        28\n",
      "          15       0.91      0.91      0.91        23\n",
      "          16       1.00      0.93      0.96        28\n",
      "          17       0.66      0.97      0.78        30\n",
      "          18       0.96      0.96      0.96        56\n",
      "          19       1.00      1.00      1.00        28\n",
      "          20       1.00      1.00      1.00        25\n",
      "          21       1.00      1.00      1.00        15\n",
      "          22       0.97      0.85      0.91        34\n",
      "          23       1.00      1.00      1.00        36\n",
      "          24       0.78      0.66      0.71        38\n",
      "          25       1.00      1.00      1.00        20\n",
      "          26       1.00      1.00      1.00        41\n",
      "          27       1.00      1.00      1.00        23\n",
      "          28       1.00      1.00      1.00        23\n",
      "          29       1.00      1.00      1.00        34\n",
      "          30       0.89      1.00      0.94        16\n",
      "          31       0.91      1.00      0.95        21\n",
      "          32       1.00      1.00      1.00        24\n",
      "          33       1.00      1.00      1.00        21\n",
      "          34       1.00      1.00      1.00        28\n",
      "          35       0.93      0.90      0.91        41\n",
      "          36       1.00      1.00      1.00        18\n",
      "          37       0.93      0.93      0.93        27\n",
      "          38       1.00      1.00      1.00        16\n",
      "          39       1.00      1.00      1.00        31\n",
      "          40       0.97      1.00      0.98        30\n",
      "          41       0.87      0.82      0.84        33\n",
      "          42       1.00      1.00      1.00        29\n",
      "          43       1.00      1.00      1.00        17\n",
      "          44       1.00      1.00      1.00        28\n",
      "          45       0.90      0.81      0.85        32\n",
      "          46       1.00      1.00      1.00        26\n",
      "          47       0.74      0.72      0.73        32\n",
      "          48       1.00      1.00      1.00        25\n",
      "          49       1.00      1.00      1.00        24\n",
      "          50       1.00      1.00      1.00        32\n",
      "          51       1.00      1.00      1.00        23\n",
      "          52       0.95      1.00      0.97        19\n",
      "          53       0.88      0.71      0.79        42\n",
      "          54       0.89      0.93      0.91        27\n",
      "          55       1.00      1.00      1.00        30\n",
      "          56       0.90      0.88      0.89        43\n",
      "          57       0.96      1.00      0.98        23\n",
      "          58       1.00      1.00      1.00        22\n",
      "          59       1.00      1.00      1.00        32\n",
      "          60       1.00      1.00      1.00        35\n",
      "          61       0.92      0.94      0.93        51\n",
      "          62       1.00      1.00      1.00        31\n",
      "          63       1.00      0.97      0.98        33\n",
      "          64       1.00      1.00      1.00        28\n",
      "          65       0.85      1.00      0.92        23\n",
      "          66       1.00      1.00      1.00        26\n",
      "          67       1.00      1.00      1.00        27\n",
      "          68       1.00      1.00      1.00        32\n",
      "          69       1.00      1.00      1.00        26\n",
      "          70       1.00      1.00      1.00        31\n",
      "          71       0.95      1.00      0.97        37\n",
      "          72       1.00      1.00      1.00        22\n",
      "          73       1.00      1.00      1.00        34\n",
      "          74       1.00      1.00      1.00        27\n",
      "          75       0.94      0.97      0.95        30\n",
      "          76       0.96      1.00      0.98        23\n",
      "          77       1.00      1.00      1.00        19\n",
      "          78       0.97      1.00      0.99        34\n",
      "          79       0.79      0.84      0.81        31\n",
      "          80       1.00      1.00      1.00        25\n",
      "          81       0.94      1.00      0.97        16\n",
      "          82       1.00      1.00      1.00        30\n",
      "          83       1.00      1.00      1.00        29\n",
      "          84       1.00      1.00      1.00        31\n",
      "          85       1.00      1.00      1.00        17\n",
      "          86       1.00      1.00      1.00        25\n",
      "          87       1.00      1.00      1.00        31\n",
      "          88       0.85      0.95      0.90        42\n",
      "          89       1.00      1.00      1.00        25\n",
      "          90       1.00      1.00      1.00        29\n",
      "          91       1.00      1.00      1.00        17\n",
      "          92       1.00      1.00      1.00        21\n",
      "          93       1.00      1.00      1.00        26\n",
      "          94       1.00      1.00      1.00        25\n",
      "\n",
      "    accuracy                           0.95      2736\n",
      "   macro avg       0.96      0.96      0.96      2736\n",
      "weighted avg       0.95      0.95      0.95      2736\n",
      "\n"
     ]
    }
   ],
   "execution_count": 39
  },
  {
   "metadata": {
    "ExecuteTime": {
     "end_time": "2025-06-24T03:24:13.774478Z",
     "start_time": "2025-06-24T03:24:13.759173Z"
    }
   },
   "cell_type": "code",
   "source": [
    "# best_knc_model = knc_model_tkn if knc_acc_tkn > knc_acc_vec else knc_model_vec\n",
    "filename = 'models/KNC_model.pkl'\n",
    "joblib.dump(knc_model_vec, filename)\n",
    "print('Model KNC saved in {}'.format(filename))"
   ],
   "outputs": [
    {
     "name": "stdout",
     "output_type": "stream",
     "text": [
      "Model KNC saved in models/KNC_model.pkl\n"
     ]
    }
   ],
   "execution_count": 40
  },
  {
   "metadata": {},
   "cell_type": "markdown",
   "source": "### LSTM"
  },
  {
   "metadata": {
    "ExecuteTime": {
     "end_time": "2025-06-24T03:35:48.608939Z",
     "start_time": "2025-06-24T03:35:44.230854Z"
    }
   },
   "cell_type": "code",
   "source": [
    "embeddings_index = {}\n",
    "with open('models/glove.6B.100d.txt', encoding='utf-8') as f:\n",
    "    for line in f:\n",
    "        values = line.split()\n",
    "        word = values[0]\n",
    "        coefs = np.asarray(values[1:], dtype='float32')\n",
    "        embeddings_index[word] = coefs\n",
    "print(f\"Found {len(embeddings_index)} word vectors.\")"
   ],
   "outputs": [
    {
     "name": "stdout",
     "output_type": "stream",
     "text": [
      "Found 400000 word vectors.\n"
     ]
    }
   ],
   "execution_count": 45
  },
  {
   "metadata": {
    "ExecuteTime": {
     "end_time": "2025-06-24T03:36:42.681271Z",
     "start_time": "2025-06-24T03:36:42.656195Z"
    }
   },
   "cell_type": "code",
   "source": [
    "embedding_dim = 100  # Must match the GloVe file dimension\n",
    "embedding_matrix = np.zeros((num_words, embedding_dim))\n",
    "for word, i in token.word_index.items():\n",
    "    if i < num_words:\n",
    "        embedding_vector = embeddings_index.get(word)\n",
    "        if embedding_vector is not None:\n",
    "            embedding_matrix[i] = embedding_vector"
   ],
   "outputs": [],
   "execution_count": 48
  },
  {
   "metadata": {
    "ExecuteTime": {
     "end_time": "2025-06-25T02:57:13.261355Z",
     "start_time": "2025-06-25T02:57:13.257979Z"
    }
   },
   "cell_type": "code",
   "source": [
    "from tensorflow.keras.models import Sequential\n",
    "\n",
    "def lstm_model(X_train, X_test, X_val, y_train, y_test, y_val):\n",
    "    model = Sequential([\n",
    "        Embedding(num_words, embedding_dim, weights=[embedding_matrix], input_length=max_length, trainable=False),\n",
    "        Bidirectional(LSTM(128, return_sequences=True)),\n",
    "        Bidirectional(LSTM(64)),\n",
    "        Dense(128, activation='relu'),\n",
    "        Dropout(0.4),\n",
    "        Dense(num_categories, activation='softmax')\n",
    "    ])\n",
    "    model.compile(loss='categorical_crossentropy', optimizer='adam', metrics=['accuracy'])\n",
    "    model.summary()\n",
    "\n",
    "    X = np.concatenate((X_train, X_val))\n",
    "    y = np.concatenate((y_train, y_val))\n",
    "    model.fit(X, y, epochs=30, batch_size=50, verbose=True, validation_data=(X_test, y_test))\n",
    "    loss, accuracy = model.evaluate(X_test, y_test, verbose=0)\n",
    "    print(f\"Test Accuracy: {accuracy}\")\n",
    "    print(f\"Test Loss: {loss}\")\n",
    "    prediction = model.predict(X_test)\n",
    "    y_pred = [int(np.argmax(y)) for y in prediction]\n",
    "    y_categorical = [int(np.argmax(y)) for y in y_test]\n",
    "    save_results(y_pred, 'LSTM', False)\n",
    "    print(classification_report(y_categorical, y_pred))\n",
    "    return model, accuracy"
   ],
   "outputs": [],
   "execution_count": 52
  },
  {
   "metadata": {
    "ExecuteTime": {
     "end_time": "2025-06-24T05:00:38.336013Z",
     "start_time": "2025-06-24T04:51:01.401704Z"
    }
   },
   "cell_type": "code",
   "source": "lstm_model_vec, lstm_acc_vec = lstm_model(X_train_tkn, X_test_tkn, X_val_tkn, y_train_tkn, y_test_tkn, y_val_tkn)",
   "outputs": [
    {
     "data": {
      "text/plain": [
       "\u001B[1mModel: \"sequential_18\"\u001B[0m\n"
      ],
      "text/html": [
       "<pre style=\"white-space:pre;overflow-x:auto;line-height:normal;font-family:Menlo,'DejaVu Sans Mono',consolas,'Courier New',monospace\"><span style=\"font-weight: bold\">Model: \"sequential_18\"</span>\n",
       "</pre>\n"
      ]
     },
     "metadata": {},
     "output_type": "display_data"
    },
    {
     "data": {
      "text/plain": [
       "┏━━━━━━━━━━━━━━━━━━━━━━━━━━━━━━━━━┳━━━━━━━━━━━━━━━━━━━━━━━━┳━━━━━━━━━━━━━━━┓\n",
       "┃\u001B[1m \u001B[0m\u001B[1mLayer (type)                   \u001B[0m\u001B[1m \u001B[0m┃\u001B[1m \u001B[0m\u001B[1mOutput Shape          \u001B[0m\u001B[1m \u001B[0m┃\u001B[1m \u001B[0m\u001B[1m      Param #\u001B[0m\u001B[1m \u001B[0m┃\n",
       "┡━━━━━━━━━━━━━━━━━━━━━━━━━━━━━━━━━╇━━━━━━━━━━━━━━━━━━━━━━━━╇━━━━━━━━━━━━━━━┩\n",
       "│ embedding_15 (\u001B[38;5;33mEmbedding\u001B[0m)        │ ?                      │     \u001B[38;5;34m2,000,000\u001B[0m │\n",
       "├─────────────────────────────────┼────────────────────────┼───────────────┤\n",
       "│ bidirectional_34                │ ?                      │   \u001B[38;5;34m0\u001B[0m (unbuilt) │\n",
       "│ (\u001B[38;5;33mBidirectional\u001B[0m)                 │                        │               │\n",
       "├─────────────────────────────────┼────────────────────────┼───────────────┤\n",
       "│ bidirectional_35                │ ?                      │   \u001B[38;5;34m0\u001B[0m (unbuilt) │\n",
       "│ (\u001B[38;5;33mBidirectional\u001B[0m)                 │                        │               │\n",
       "├─────────────────────────────────┼────────────────────────┼───────────────┤\n",
       "│ dense_36 (\u001B[38;5;33mDense\u001B[0m)                │ ?                      │   \u001B[38;5;34m0\u001B[0m (unbuilt) │\n",
       "├─────────────────────────────────┼────────────────────────┼───────────────┤\n",
       "│ dropout_18 (\u001B[38;5;33mDropout\u001B[0m)            │ ?                      │             \u001B[38;5;34m0\u001B[0m │\n",
       "├─────────────────────────────────┼────────────────────────┼───────────────┤\n",
       "│ dense_37 (\u001B[38;5;33mDense\u001B[0m)                │ ?                      │   \u001B[38;5;34m0\u001B[0m (unbuilt) │\n",
       "└─────────────────────────────────┴────────────────────────┴───────────────┘\n"
      ],
      "text/html": [
       "<pre style=\"white-space:pre;overflow-x:auto;line-height:normal;font-family:Menlo,'DejaVu Sans Mono',consolas,'Courier New',monospace\">┏━━━━━━━━━━━━━━━━━━━━━━━━━━━━━━━━━┳━━━━━━━━━━━━━━━━━━━━━━━━┳━━━━━━━━━━━━━━━┓\n",
       "┃<span style=\"font-weight: bold\"> Layer (type)                    </span>┃<span style=\"font-weight: bold\"> Output Shape           </span>┃<span style=\"font-weight: bold\">       Param # </span>┃\n",
       "┡━━━━━━━━━━━━━━━━━━━━━━━━━━━━━━━━━╇━━━━━━━━━━━━━━━━━━━━━━━━╇━━━━━━━━━━━━━━━┩\n",
       "│ embedding_15 (<span style=\"color: #0087ff; text-decoration-color: #0087ff\">Embedding</span>)        │ ?                      │     <span style=\"color: #00af00; text-decoration-color: #00af00\">2,000,000</span> │\n",
       "├─────────────────────────────────┼────────────────────────┼───────────────┤\n",
       "│ bidirectional_34                │ ?                      │   <span style=\"color: #00af00; text-decoration-color: #00af00\">0</span> (unbuilt) │\n",
       "│ (<span style=\"color: #0087ff; text-decoration-color: #0087ff\">Bidirectional</span>)                 │                        │               │\n",
       "├─────────────────────────────────┼────────────────────────┼───────────────┤\n",
       "│ bidirectional_35                │ ?                      │   <span style=\"color: #00af00; text-decoration-color: #00af00\">0</span> (unbuilt) │\n",
       "│ (<span style=\"color: #0087ff; text-decoration-color: #0087ff\">Bidirectional</span>)                 │                        │               │\n",
       "├─────────────────────────────────┼────────────────────────┼───────────────┤\n",
       "│ dense_36 (<span style=\"color: #0087ff; text-decoration-color: #0087ff\">Dense</span>)                │ ?                      │   <span style=\"color: #00af00; text-decoration-color: #00af00\">0</span> (unbuilt) │\n",
       "├─────────────────────────────────┼────────────────────────┼───────────────┤\n",
       "│ dropout_18 (<span style=\"color: #0087ff; text-decoration-color: #0087ff\">Dropout</span>)            │ ?                      │             <span style=\"color: #00af00; text-decoration-color: #00af00\">0</span> │\n",
       "├─────────────────────────────────┼────────────────────────┼───────────────┤\n",
       "│ dense_37 (<span style=\"color: #0087ff; text-decoration-color: #0087ff\">Dense</span>)                │ ?                      │   <span style=\"color: #00af00; text-decoration-color: #00af00\">0</span> (unbuilt) │\n",
       "└─────────────────────────────────┴────────────────────────┴───────────────┘\n",
       "</pre>\n"
      ]
     },
     "metadata": {},
     "output_type": "display_data"
    },
    {
     "data": {
      "text/plain": [
       "\u001B[1m Total params: \u001B[0m\u001B[38;5;34m2,000,000\u001B[0m (7.63 MB)\n"
      ],
      "text/html": [
       "<pre style=\"white-space:pre;overflow-x:auto;line-height:normal;font-family:Menlo,'DejaVu Sans Mono',consolas,'Courier New',monospace\"><span style=\"font-weight: bold\"> Total params: </span><span style=\"color: #00af00; text-decoration-color: #00af00\">2,000,000</span> (7.63 MB)\n",
       "</pre>\n"
      ]
     },
     "metadata": {},
     "output_type": "display_data"
    },
    {
     "data": {
      "text/plain": [
       "\u001B[1m Trainable params: \u001B[0m\u001B[38;5;34m0\u001B[0m (0.00 B)\n"
      ],
      "text/html": [
       "<pre style=\"white-space:pre;overflow-x:auto;line-height:normal;font-family:Menlo,'DejaVu Sans Mono',consolas,'Courier New',monospace\"><span style=\"font-weight: bold\"> Trainable params: </span><span style=\"color: #00af00; text-decoration-color: #00af00\">0</span> (0.00 B)\n",
       "</pre>\n"
      ]
     },
     "metadata": {},
     "output_type": "display_data"
    },
    {
     "data": {
      "text/plain": [
       "\u001B[1m Non-trainable params: \u001B[0m\u001B[38;5;34m2,000,000\u001B[0m (7.63 MB)\n"
      ],
      "text/html": [
       "<pre style=\"white-space:pre;overflow-x:auto;line-height:normal;font-family:Menlo,'DejaVu Sans Mono',consolas,'Courier New',monospace\"><span style=\"font-weight: bold\"> Non-trainable params: </span><span style=\"color: #00af00; text-decoration-color: #00af00\">2,000,000</span> (7.63 MB)\n",
       "</pre>\n"
      ]
     },
     "metadata": {},
     "output_type": "display_data"
    },
    {
     "name": "stdout",
     "output_type": "stream",
     "text": [
      "Epoch 1/30\n",
      "\u001B[1m311/311\u001B[0m \u001B[32m━━━━━━━━━━━━━━━━━━━━\u001B[0m\u001B[37m\u001B[0m \u001B[1m21s\u001B[0m 61ms/step - accuracy: 0.1927 - loss: 3.4239 - val_accuracy: 0.7591 - val_loss: 0.9209\n",
      "Epoch 2/30\n",
      "\u001B[1m311/311\u001B[0m \u001B[32m━━━━━━━━━━━━━━━━━━━━\u001B[0m\u001B[37m\u001B[0m \u001B[1m21s\u001B[0m 66ms/step - accuracy: 0.7290 - loss: 0.9809 - val_accuracy: 0.8695 - val_loss: 0.4974\n",
      "Epoch 3/30\n",
      "\u001B[1m311/311\u001B[0m \u001B[32m━━━━━━━━━━━━━━━━━━━━\u001B[0m\u001B[37m\u001B[0m \u001B[1m23s\u001B[0m 72ms/step - accuracy: 0.8498 - loss: 0.5700 - val_accuracy: 0.8988 - val_loss: 0.3815\n",
      "Epoch 4/30\n",
      "\u001B[1m311/311\u001B[0m \u001B[32m━━━━━━━━━━━━━━━━━━━━\u001B[0m\u001B[37m\u001B[0m \u001B[1m25s\u001B[0m 79ms/step - accuracy: 0.8939 - loss: 0.4060 - val_accuracy: 0.9097 - val_loss: 0.3212\n",
      "Epoch 5/30\n",
      "\u001B[1m311/311\u001B[0m \u001B[32m━━━━━━━━━━━━━━━━━━━━\u001B[0m\u001B[37m\u001B[0m \u001B[1m23s\u001B[0m 74ms/step - accuracy: 0.9170 - loss: 0.3171 - val_accuracy: 0.9240 - val_loss: 0.2910\n",
      "Epoch 6/30\n",
      "\u001B[1m311/311\u001B[0m \u001B[32m━━━━━━━━━━━━━━━━━━━━\u001B[0m\u001B[37m\u001B[0m \u001B[1m21s\u001B[0m 66ms/step - accuracy: 0.9157 - loss: 0.3034 - val_accuracy: 0.9196 - val_loss: 0.2811\n",
      "Epoch 7/30\n",
      "\u001B[1m311/311\u001B[0m \u001B[32m━━━━━━━━━━━━━━━━━━━━\u001B[0m\u001B[37m\u001B[0m \u001B[1m19s\u001B[0m 60ms/step - accuracy: 0.9316 - loss: 0.2489 - val_accuracy: 0.9331 - val_loss: 0.2477\n",
      "Epoch 8/30\n",
      "\u001B[1m311/311\u001B[0m \u001B[32m━━━━━━━━━━━━━━━━━━━━\u001B[0m\u001B[37m\u001B[0m \u001B[1m18s\u001B[0m 59ms/step - accuracy: 0.9475 - loss: 0.1808 - val_accuracy: 0.9360 - val_loss: 0.2356\n",
      "Epoch 9/30\n",
      "\u001B[1m311/311\u001B[0m \u001B[32m━━━━━━━━━━━━━━━━━━━━\u001B[0m\u001B[37m\u001B[0m \u001B[1m18s\u001B[0m 59ms/step - accuracy: 0.9542 - loss: 0.1728 - val_accuracy: 0.9390 - val_loss: 0.2247\n",
      "Epoch 10/30\n",
      "\u001B[1m311/311\u001B[0m \u001B[32m━━━━━━━━━━━━━━━━━━━━\u001B[0m\u001B[37m\u001B[0m \u001B[1m18s\u001B[0m 59ms/step - accuracy: 0.9653 - loss: 0.1242 - val_accuracy: 0.9459 - val_loss: 0.2194\n",
      "Epoch 11/30\n",
      "\u001B[1m311/311\u001B[0m \u001B[32m━━━━━━━━━━━━━━━━━━━━\u001B[0m\u001B[37m\u001B[0m \u001B[1m18s\u001B[0m 59ms/step - accuracy: 0.9645 - loss: 0.1205 - val_accuracy: 0.9539 - val_loss: 0.1907\n",
      "Epoch 12/30\n",
      "\u001B[1m311/311\u001B[0m \u001B[32m━━━━━━━━━━━━━━━━━━━━\u001B[0m\u001B[37m\u001B[0m \u001B[1m18s\u001B[0m 59ms/step - accuracy: 0.9729 - loss: 0.0924 - val_accuracy: 0.9554 - val_loss: 0.2003\n",
      "Epoch 13/30\n",
      "\u001B[1m311/311\u001B[0m \u001B[32m━━━━━━━━━━━━━━━━━━━━\u001B[0m\u001B[37m\u001B[0m \u001B[1m18s\u001B[0m 59ms/step - accuracy: 0.9775 - loss: 0.0812 - val_accuracy: 0.9620 - val_loss: 0.1672\n",
      "Epoch 14/30\n",
      "\u001B[1m311/311\u001B[0m \u001B[32m━━━━━━━━━━━━━━━━━━━━\u001B[0m\u001B[37m\u001B[0m \u001B[1m18s\u001B[0m 59ms/step - accuracy: 0.9852 - loss: 0.0536 - val_accuracy: 0.9569 - val_loss: 0.1956\n",
      "Epoch 15/30\n",
      "\u001B[1m311/311\u001B[0m \u001B[32m━━━━━━━━━━━━━━━━━━━━\u001B[0m\u001B[37m\u001B[0m \u001B[1m18s\u001B[0m 59ms/step - accuracy: 0.9815 - loss: 0.0624 - val_accuracy: 0.9576 - val_loss: 0.1747\n",
      "Epoch 16/30\n",
      "\u001B[1m311/311\u001B[0m \u001B[32m━━━━━━━━━━━━━━━━━━━━\u001B[0m\u001B[37m\u001B[0m \u001B[1m18s\u001B[0m 59ms/step - accuracy: 0.9810 - loss: 0.0638 - val_accuracy: 0.9474 - val_loss: 0.2545\n",
      "Epoch 17/30\n",
      "\u001B[1m311/311\u001B[0m \u001B[32m━━━━━━━━━━━━━━━━━━━━\u001B[0m\u001B[37m\u001B[0m \u001B[1m18s\u001B[0m 59ms/step - accuracy: 0.9813 - loss: 0.0600 - val_accuracy: 0.9715 - val_loss: 0.1475\n",
      "Epoch 18/30\n",
      "\u001B[1m311/311\u001B[0m \u001B[32m━━━━━━━━━━━━━━━━━━━━\u001B[0m\u001B[37m\u001B[0m \u001B[1m18s\u001B[0m 59ms/step - accuracy: 0.9913 - loss: 0.0317 - val_accuracy: 0.9591 - val_loss: 0.1809\n",
      "Epoch 19/30\n",
      "\u001B[1m311/311\u001B[0m \u001B[32m━━━━━━━━━━━━━━━━━━━━\u001B[0m\u001B[37m\u001B[0m \u001B[1m18s\u001B[0m 59ms/step - accuracy: 0.9878 - loss: 0.0399 - val_accuracy: 0.9664 - val_loss: 0.1766\n",
      "Epoch 20/30\n",
      "\u001B[1m311/311\u001B[0m \u001B[32m━━━━━━━━━━━━━━━━━━━━\u001B[0m\u001B[37m\u001B[0m \u001B[1m18s\u001B[0m 59ms/step - accuracy: 0.9927 - loss: 0.0281 - val_accuracy: 0.9609 - val_loss: 0.2149\n",
      "Epoch 21/30\n",
      "\u001B[1m311/311\u001B[0m \u001B[32m━━━━━━━━━━━━━━━━━━━━\u001B[0m\u001B[37m\u001B[0m \u001B[1m18s\u001B[0m 59ms/step - accuracy: 0.9938 - loss: 0.0221 - val_accuracy: 0.9744 - val_loss: 0.1566\n",
      "Epoch 22/30\n",
      "\u001B[1m311/311\u001B[0m \u001B[32m━━━━━━━━━━━━━━━━━━━━\u001B[0m\u001B[37m\u001B[0m \u001B[1m18s\u001B[0m 59ms/step - accuracy: 0.9958 - loss: 0.0166 - val_accuracy: 0.9689 - val_loss: 0.1853\n",
      "Epoch 23/30\n",
      "\u001B[1m311/311\u001B[0m \u001B[32m━━━━━━━━━━━━━━━━━━━━\u001B[0m\u001B[37m\u001B[0m \u001B[1m18s\u001B[0m 59ms/step - accuracy: 0.9938 - loss: 0.0255 - val_accuracy: 0.9733 - val_loss: 0.1708\n",
      "Epoch 24/30\n",
      "\u001B[1m311/311\u001B[0m \u001B[32m━━━━━━━━━━━━━━━━━━━━\u001B[0m\u001B[37m\u001B[0m \u001B[1m18s\u001B[0m 59ms/step - accuracy: 0.9973 - loss: 0.0107 - val_accuracy: 0.9704 - val_loss: 0.1891\n",
      "Epoch 25/30\n",
      "\u001B[1m311/311\u001B[0m \u001B[32m━━━━━━━━━━━━━━━━━━━━\u001B[0m\u001B[37m\u001B[0m \u001B[1m18s\u001B[0m 59ms/step - accuracy: 0.9852 - loss: 0.0478 - val_accuracy: 0.9572 - val_loss: 0.2093\n",
      "Epoch 26/30\n",
      "\u001B[1m311/311\u001B[0m \u001B[32m━━━━━━━━━━━━━━━━━━━━\u001B[0m\u001B[37m\u001B[0m \u001B[1m18s\u001B[0m 59ms/step - accuracy: 0.9885 - loss: 0.0374 - val_accuracy: 0.9751 - val_loss: 0.1637\n",
      "Epoch 27/30\n",
      "\u001B[1m311/311\u001B[0m \u001B[32m━━━━━━━━━━━━━━━━━━━━\u001B[0m\u001B[37m\u001B[0m \u001B[1m18s\u001B[0m 59ms/step - accuracy: 0.9975 - loss: 0.0110 - val_accuracy: 0.9689 - val_loss: 0.1908\n",
      "Epoch 28/30\n",
      "\u001B[1m311/311\u001B[0m \u001B[32m━━━━━━━━━━━━━━━━━━━━\u001B[0m\u001B[37m\u001B[0m \u001B[1m18s\u001B[0m 59ms/step - accuracy: 0.9939 - loss: 0.0241 - val_accuracy: 0.9722 - val_loss: 0.1785\n",
      "Epoch 29/30\n",
      "\u001B[1m311/311\u001B[0m \u001B[32m━━━━━━━━━━━━━━━━━━━━\u001B[0m\u001B[37m\u001B[0m \u001B[1m18s\u001B[0m 59ms/step - accuracy: 0.9988 - loss: 0.0061 - val_accuracy: 0.9744 - val_loss: 0.1862\n",
      "Epoch 30/30\n",
      "\u001B[1m311/311\u001B[0m \u001B[32m━━━━━━━━━━━━━━━━━━━━\u001B[0m\u001B[37m\u001B[0m \u001B[1m18s\u001B[0m 59ms/step - accuracy: 0.9939 - loss: 0.0233 - val_accuracy: 0.9645 - val_loss: 0.1966\n",
      "Test Accuracy: 0.964546799659729\n",
      "Test Loss: 0.19657456874847412\n",
      "\u001B[1m86/86\u001B[0m \u001B[32m━━━━━━━━━━━━━━━━━━━━\u001B[0m\u001B[37m\u001B[0m \u001B[1m2s\u001B[0m 21ms/step\n",
      "Results saved in data/results/classifiers-results.csv\n",
      "              precision    recall  f1-score   support\n",
      "\n",
      "           0       0.98      0.98      0.98        49\n",
      "           1       1.00      0.90      0.95        40\n",
      "           2       0.95      0.78      0.86        23\n",
      "           3       1.00      0.97      0.98        32\n",
      "           4       0.97      0.94      0.95        31\n",
      "           5       0.81      0.71      0.76        31\n",
      "           6       1.00      1.00      1.00        20\n",
      "           7       0.81      0.74      0.77        34\n",
      "           8       1.00      1.00      1.00        22\n",
      "           9       1.00      1.00      1.00        18\n",
      "          10       0.91      0.77      0.83        39\n",
      "          11       1.00      0.94      0.97        34\n",
      "          12       0.94      0.87      0.90        38\n",
      "          13       1.00      1.00      1.00        42\n",
      "          14       1.00      1.00      1.00        28\n",
      "          15       1.00      0.91      0.95        23\n",
      "          16       1.00      0.93      0.96        28\n",
      "          17       0.97      1.00      0.98        30\n",
      "          18       0.96      0.95      0.95        56\n",
      "          19       1.00      1.00      1.00        28\n",
      "          20       1.00      1.00      1.00        25\n",
      "          21       1.00      0.93      0.97        15\n",
      "          22       0.97      1.00      0.99        34\n",
      "          23       1.00      1.00      1.00        36\n",
      "          24       0.93      1.00      0.96        38\n",
      "          25       0.95      1.00      0.98        20\n",
      "          26       1.00      1.00      1.00        41\n",
      "          27       1.00      1.00      1.00        23\n",
      "          28       1.00      1.00      1.00        23\n",
      "          29       1.00      1.00      1.00        34\n",
      "          30       0.89      1.00      0.94        16\n",
      "          31       1.00      1.00      1.00        21\n",
      "          32       1.00      1.00      1.00        24\n",
      "          33       1.00      1.00      1.00        21\n",
      "          34       1.00      1.00      1.00        28\n",
      "          35       0.95      1.00      0.98        41\n",
      "          36       1.00      1.00      1.00        18\n",
      "          37       0.75      0.78      0.76        27\n",
      "          38       1.00      1.00      1.00        16\n",
      "          39       1.00      1.00      1.00        31\n",
      "          40       1.00      1.00      1.00        30\n",
      "          41       0.91      0.94      0.93        33\n",
      "          42       1.00      1.00      1.00        29\n",
      "          43       0.85      1.00      0.92        17\n",
      "          44       1.00      1.00      1.00        28\n",
      "          45       0.97      1.00      0.98        32\n",
      "          46       0.96      1.00      0.98        26\n",
      "          47       0.72      0.72      0.72        32\n",
      "          48       1.00      1.00      1.00        25\n",
      "          49       1.00      1.00      1.00        24\n",
      "          50       1.00      1.00      1.00        32\n",
      "          51       1.00      1.00      1.00        23\n",
      "          52       0.95      1.00      0.97        19\n",
      "          53       0.79      0.74      0.77        42\n",
      "          54       0.96      1.00      0.98        27\n",
      "          55       1.00      1.00      1.00        30\n",
      "          56       0.72      0.91      0.80        43\n",
      "          57       1.00      1.00      1.00        23\n",
      "          58       1.00      1.00      1.00        22\n",
      "          59       1.00      1.00      1.00        32\n",
      "          60       1.00      1.00      1.00        35\n",
      "          61       0.94      0.98      0.96        51\n",
      "          62       1.00      0.94      0.97        31\n",
      "          63       1.00      1.00      1.00        33\n",
      "          64       1.00      1.00      1.00        28\n",
      "          65       1.00      1.00      1.00        23\n",
      "          66       1.00      1.00      1.00        26\n",
      "          67       1.00      1.00      1.00        27\n",
      "          68       1.00      1.00      1.00        32\n",
      "          69       1.00      1.00      1.00        26\n",
      "          70       1.00      1.00      1.00        31\n",
      "          71       1.00      1.00      1.00        37\n",
      "          72       1.00      1.00      1.00        22\n",
      "          73       1.00      1.00      1.00        34\n",
      "          74       1.00      1.00      1.00        27\n",
      "          75       0.88      0.77      0.82        30\n",
      "          76       1.00      1.00      1.00        23\n",
      "          77       1.00      1.00      1.00        19\n",
      "          78       1.00      1.00      1.00        34\n",
      "          79       0.89      1.00      0.94        31\n",
      "          80       1.00      1.00      1.00        25\n",
      "          81       1.00      1.00      1.00        16\n",
      "          82       0.97      1.00      0.98        30\n",
      "          83       1.00      1.00      1.00        29\n",
      "          84       1.00      1.00      1.00        31\n",
      "          85       0.85      1.00      0.92        17\n",
      "          86       1.00      1.00      1.00        25\n",
      "          87       1.00      1.00      1.00        31\n",
      "          88       0.93      1.00      0.97        42\n",
      "          89       1.00      1.00      1.00        25\n",
      "          90       1.00      1.00      1.00        29\n",
      "          91       1.00      1.00      1.00        17\n",
      "          92       1.00      1.00      1.00        21\n",
      "          93       1.00      1.00      1.00        26\n",
      "          94       1.00      1.00      1.00        25\n",
      "\n",
      "    accuracy                           0.96      2736\n",
      "   macro avg       0.97      0.97      0.97      2736\n",
      "weighted avg       0.97      0.96      0.96      2736\n",
      "\n"
     ]
    }
   ],
   "execution_count": 107
  },
  {
   "metadata": {
    "ExecuteTime": {
     "end_time": "2025-06-24T05:13:38.643851Z",
     "start_time": "2025-06-24T05:13:38.581263Z"
    }
   },
   "cell_type": "code",
   "source": "lstm_model_vec.save('models/LSTM_model.keras')",
   "outputs": [],
   "execution_count": 109
  },
  {
   "cell_type": "markdown",
   "source": [
    "### BERT Classification"
   ],
   "metadata": {
    "id": "RgFzeukzQYaB"
   }
  },
  {
   "metadata": {
    "ExecuteTime": {
     "end_time": "2025-06-25T06:54:53.117480Z",
     "start_time": "2025-06-25T06:54:53.115325Z"
    }
   },
   "cell_type": "code",
   "source": [
    "hub_preprocessor = \"https://tfhub.dev/google/universal-sentence-encoder-cmlm/multilingual-preprocess/2\"\n",
    "hub_encoder = \"https://tfhub.dev/google/universal-sentence-encoder-cmlm/multilingual-base/1\""
   ],
   "outputs": [],
   "execution_count": 8
  },
  {
   "metadata": {
    "ExecuteTime": {
     "end_time": "2025-06-25T06:57:37.514165Z",
     "start_time": "2025-06-25T06:57:37.510515Z"
    }
   },
   "cell_type": "code",
   "source": [
    "def build_classifier_model(X_train, X_test, y_train, y_test):\n",
    "    text_input = tf.keras.layers.Input(shape=(), dtype=tf.string, name='text')\n",
    "    preprocessing = hub.KerasLayer(hub_preprocessor, name='preprocessing')(text_input)\n",
    "    encoder = hub.KerasLayer(hub_encoder, name='BERT_encoder')(preprocessing)\n",
    "    x = tf.keras.layers.Dense(128, activation='relu')(encoder['pooled_output'])\n",
    "    x = tf.keras.layers.Dropout(0.2, name=\"dropout\")(x)\n",
    "    x = tf.keras.layers.Dense(num_categories, activation='softmax', name=\"output\")(x)\n",
    "\n",
    "    model = tf.keras.Model(text_input, x)\n",
    "    model.compile(optimizer=\"adam\", loss=\"categorical_crossentropy\", metrics=['accuracy'])\n",
    "    model.fit(X_train, y_train, epochs=50, batch_size=16, verbose=True, validation_data=(X_test, y_test))\n",
    "    loss, accuracy = model.evaluate(X_test, y_test, verbose=0)\n",
    "    print(f\"Test Accuracy: {accuracy}\")\n",
    "    print(f\"Test Loss: {loss}\")\n",
    "    prediction = model.predict(X_test)\n",
    "    y_pred = [int(np.argmax(y)) for y in prediction]\n",
    "    y_categorical = [int(np.argmax(y)) for y in y_test]\n",
    "    if accuracy > 0.9543128609657288: # loss: 0.1895463764667511 (sigmoid + adamw)\n",
    "        save_results(y_pred, 'BERT', False)\n",
    "    print(classification_report(y_categorical, y_pred))\n",
    "    return model, accuracy"
   ],
   "outputs": [],
   "execution_count": 13
  },
  {
   "metadata": {
    "ExecuteTime": {
     "end_time": "2025-06-25T06:54:57.276834Z",
     "start_time": "2025-06-25T06:54:56.186813Z"
    }
   },
   "cell_type": "code",
   "source": [
    "X_train = np.array(token.sequences_to_texts(np.concatenate((X_train_tkn, X_val_tkn))))\n",
    "X_test = np.array(token.sequences_to_texts(X_test_tkn))\n",
    "y_train = np.concatenate((y_train_tkn, y_val_tkn))\n",
    "y_train.shape, type(X_train), type(y_train)"
   ],
   "outputs": [
    {
     "data": {
      "text/plain": [
       "((15504, 95), numpy.ndarray, numpy.ndarray)"
      ]
     },
     "execution_count": 10,
     "metadata": {},
     "output_type": "execute_result"
    }
   ],
   "execution_count": 10
  },
  {
   "metadata": {
    "ExecuteTime": {
     "end_time": "2025-06-25T08:25:48.597808Z",
     "start_time": "2025-06-25T06:57:39.619472Z"
    }
   },
   "cell_type": "code",
   "source": "bert_model_vec, bert_acc_vec = build_classifier_model(X_train, X_test, y_train, y_test_tkn)",
   "outputs": [
    {
     "name": "stdout",
     "output_type": "stream",
     "text": [
      "Epoch 1/50\n",
      "969/969 [==============================] - 114s 110ms/step - loss: 3.0308 - accuracy: 0.3676 - val_loss: 1.6742 - val_accuracy: 0.7489\n",
      "Epoch 2/50\n",
      "969/969 [==============================] - 105s 108ms/step - loss: 1.1911 - accuracy: 0.7783 - val_loss: 0.8184 - val_accuracy: 0.8545\n",
      "Epoch 3/50\n",
      "969/969 [==============================] - 104s 108ms/step - loss: 0.7130 - accuracy: 0.8524 - val_loss: 0.5857 - val_accuracy: 0.8750\n",
      "Epoch 4/50\n",
      "969/969 [==============================] - 105s 108ms/step - loss: 0.5436 - accuracy: 0.8750 - val_loss: 0.4831 - val_accuracy: 0.8841\n",
      "Epoch 5/50\n",
      "969/969 [==============================] - 105s 108ms/step - loss: 0.4493 - accuracy: 0.8905 - val_loss: 0.4290 - val_accuracy: 0.8918\n",
      "Epoch 6/50\n",
      "969/969 [==============================] - 104s 108ms/step - loss: 0.3966 - accuracy: 0.9013 - val_loss: 0.4082 - val_accuracy: 0.8969\n",
      "Epoch 7/50\n",
      "969/969 [==============================] - 105s 108ms/step - loss: 0.3568 - accuracy: 0.9083 - val_loss: 0.3695 - val_accuracy: 0.9028\n",
      "Epoch 8/50\n",
      "969/969 [==============================] - 105s 108ms/step - loss: 0.3216 - accuracy: 0.9151 - val_loss: 0.3517 - val_accuracy: 0.9031\n",
      "Epoch 9/50\n",
      "969/969 [==============================] - 105s 108ms/step - loss: 0.2965 - accuracy: 0.9210 - val_loss: 0.3316 - val_accuracy: 0.9079\n",
      "Epoch 10/50\n",
      "969/969 [==============================] - 105s 108ms/step - loss: 0.2737 - accuracy: 0.9260 - val_loss: 0.3261 - val_accuracy: 0.9126\n",
      "Epoch 11/50\n",
      "969/969 [==============================] - 105s 108ms/step - loss: 0.2575 - accuracy: 0.9300 - val_loss: 0.3125 - val_accuracy: 0.9152\n",
      "Epoch 12/50\n",
      "969/969 [==============================] - 105s 108ms/step - loss: 0.2417 - accuracy: 0.9340 - val_loss: 0.3022 - val_accuracy: 0.9181\n",
      "Epoch 13/50\n",
      "969/969 [==============================] - 105s 108ms/step - loss: 0.2240 - accuracy: 0.9389 - val_loss: 0.3024 - val_accuracy: 0.9119\n",
      "Epoch 14/50\n",
      "969/969 [==============================] - 105s 108ms/step - loss: 0.2101 - accuracy: 0.9423 - val_loss: 0.2904 - val_accuracy: 0.9174\n",
      "Epoch 15/50\n",
      "969/969 [==============================] - 105s 108ms/step - loss: 0.1995 - accuracy: 0.9437 - val_loss: 0.2897 - val_accuracy: 0.9181\n",
      "Epoch 16/50\n",
      "969/969 [==============================] - 105s 108ms/step - loss: 0.1928 - accuracy: 0.9449 - val_loss: 0.2813 - val_accuracy: 0.9211\n",
      "Epoch 17/50\n",
      "969/969 [==============================] - 105s 108ms/step - loss: 0.1786 - accuracy: 0.9492 - val_loss: 0.2742 - val_accuracy: 0.9221\n",
      "Epoch 18/50\n",
      "969/969 [==============================] - 105s 108ms/step - loss: 0.1711 - accuracy: 0.9518 - val_loss: 0.2613 - val_accuracy: 0.9251\n",
      "Epoch 19/50\n",
      "969/969 [==============================] - 105s 108ms/step - loss: 0.1593 - accuracy: 0.9553 - val_loss: 0.2713 - val_accuracy: 0.9189\n",
      "Epoch 20/50\n",
      "969/969 [==============================] - 105s 108ms/step - loss: 0.1533 - accuracy: 0.9559 - val_loss: 0.2643 - val_accuracy: 0.9251\n",
      "Epoch 21/50\n",
      "969/969 [==============================] - 105s 108ms/step - loss: 0.1409 - accuracy: 0.9620 - val_loss: 0.2481 - val_accuracy: 0.9280\n",
      "Epoch 22/50\n",
      "969/969 [==============================] - 105s 108ms/step - loss: 0.1370 - accuracy: 0.9616 - val_loss: 0.2468 - val_accuracy: 0.9335\n",
      "Epoch 23/50\n",
      "969/969 [==============================] - 105s 108ms/step - loss: 0.1311 - accuracy: 0.9623 - val_loss: 0.2414 - val_accuracy: 0.9302\n",
      "Epoch 24/50\n",
      "969/969 [==============================] - 105s 108ms/step - loss: 0.1288 - accuracy: 0.9647 - val_loss: 0.2320 - val_accuracy: 0.9357\n",
      "Epoch 25/50\n",
      "969/969 [==============================] - 105s 108ms/step - loss: 0.1176 - accuracy: 0.9658 - val_loss: 0.2341 - val_accuracy: 0.9331\n",
      "Epoch 26/50\n",
      "969/969 [==============================] - 105s 108ms/step - loss: 0.1138 - accuracy: 0.9683 - val_loss: 0.2393 - val_accuracy: 0.9309\n",
      "Epoch 27/50\n",
      "969/969 [==============================] - 105s 108ms/step - loss: 0.1045 - accuracy: 0.9685 - val_loss: 0.2213 - val_accuracy: 0.9404\n",
      "Epoch 28/50\n",
      "969/969 [==============================] - 105s 108ms/step - loss: 0.1020 - accuracy: 0.9701 - val_loss: 0.2353 - val_accuracy: 0.9317\n",
      "Epoch 29/50\n",
      "969/969 [==============================] - 105s 108ms/step - loss: 0.0980 - accuracy: 0.9725 - val_loss: 0.2290 - val_accuracy: 0.9382\n",
      "Epoch 30/50\n",
      "969/969 [==============================] - 105s 108ms/step - loss: 0.0964 - accuracy: 0.9721 - val_loss: 0.2316 - val_accuracy: 0.9357\n",
      "Epoch 31/50\n",
      "969/969 [==============================] - 105s 108ms/step - loss: 0.0868 - accuracy: 0.9747 - val_loss: 0.2128 - val_accuracy: 0.9397\n",
      "Epoch 32/50\n",
      "969/969 [==============================] - 105s 108ms/step - loss: 0.0870 - accuracy: 0.9739 - val_loss: 0.2080 - val_accuracy: 0.9452\n",
      "Epoch 33/50\n",
      "969/969 [==============================] - 105s 108ms/step - loss: 0.0809 - accuracy: 0.9767 - val_loss: 0.2173 - val_accuracy: 0.9423\n",
      "Epoch 34/50\n",
      "969/969 [==============================] - 105s 108ms/step - loss: 0.0810 - accuracy: 0.9772 - val_loss: 0.2151 - val_accuracy: 0.9441\n",
      "Epoch 35/50\n",
      "969/969 [==============================] - 105s 108ms/step - loss: 0.0774 - accuracy: 0.9774 - val_loss: 0.2077 - val_accuracy: 0.9455\n",
      "Epoch 36/50\n",
      "969/969 [==============================] - 105s 108ms/step - loss: 0.0726 - accuracy: 0.9795 - val_loss: 0.2069 - val_accuracy: 0.9514\n",
      "Epoch 37/50\n",
      "969/969 [==============================] - 105s 108ms/step - loss: 0.0698 - accuracy: 0.9792 - val_loss: 0.2082 - val_accuracy: 0.9463\n",
      "Epoch 38/50\n",
      "969/969 [==============================] - 105s 108ms/step - loss: 0.0662 - accuracy: 0.9809 - val_loss: 0.2081 - val_accuracy: 0.9459\n",
      "Epoch 39/50\n",
      "969/969 [==============================] - 105s 108ms/step - loss: 0.0627 - accuracy: 0.9828 - val_loss: 0.1995 - val_accuracy: 0.9510\n",
      "Epoch 40/50\n",
      "969/969 [==============================] - 105s 109ms/step - loss: 0.0649 - accuracy: 0.9812 - val_loss: 0.1988 - val_accuracy: 0.9474\n",
      "Epoch 41/50\n",
      "969/969 [==============================] - 105s 109ms/step - loss: 0.0583 - accuracy: 0.9839 - val_loss: 0.2034 - val_accuracy: 0.9433\n",
      "Epoch 42/50\n",
      "969/969 [==============================] - 105s 108ms/step - loss: 0.0554 - accuracy: 0.9854 - val_loss: 0.2025 - val_accuracy: 0.9514\n",
      "Epoch 43/50\n",
      "969/969 [==============================] - 105s 109ms/step - loss: 0.0545 - accuracy: 0.9857 - val_loss: 0.1985 - val_accuracy: 0.9477\n",
      "Epoch 44/50\n",
      "969/969 [==============================] - 105s 109ms/step - loss: 0.0557 - accuracy: 0.9852 - val_loss: 0.1905 - val_accuracy: 0.9547\n",
      "Epoch 45/50\n",
      "969/969 [==============================] - 105s 109ms/step - loss: 0.0513 - accuracy: 0.9853 - val_loss: 0.1998 - val_accuracy: 0.9496\n",
      "Epoch 46/50\n",
      "969/969 [==============================] - 105s 109ms/step - loss: 0.0494 - accuracy: 0.9857 - val_loss: 0.2020 - val_accuracy: 0.9503\n",
      "Epoch 47/50\n",
      "969/969 [==============================] - 105s 109ms/step - loss: 0.0490 - accuracy: 0.9868 - val_loss: 0.1923 - val_accuracy: 0.9529\n",
      "Epoch 48/50\n",
      "969/969 [==============================] - 105s 109ms/step - loss: 0.0506 - accuracy: 0.9859 - val_loss: 0.1918 - val_accuracy: 0.9561\n",
      "Epoch 49/50\n",
      "969/969 [==============================] - 105s 109ms/step - loss: 0.0439 - accuracy: 0.9880 - val_loss: 0.1845 - val_accuracy: 0.9550\n",
      "Epoch 50/50\n",
      "969/969 [==============================] - 105s 109ms/step - loss: 0.0431 - accuracy: 0.9879 - val_loss: 0.1895 - val_accuracy: 0.9543\n",
      "Test Accuracy: 0.9543128609657288\n",
      "Test Loss: 0.1895463764667511\n",
      "86/86 [==============================] - 16s 177ms/step\n",
      "Results saved in data/results/classifiers-results.csv\n",
      "              precision    recall  f1-score   support\n",
      "\n",
      "           0       0.90      0.92      0.91        49\n",
      "           1       0.86      0.80      0.83        40\n",
      "           2       0.95      0.78      0.86        23\n",
      "           3       1.00      1.00      1.00        32\n",
      "           4       0.96      0.87      0.92        31\n",
      "           5       0.66      0.68      0.67        31\n",
      "           6       1.00      1.00      1.00        20\n",
      "           7       0.79      0.56      0.66        34\n",
      "           8       1.00      1.00      1.00        22\n",
      "           9       0.81      0.94      0.87        18\n",
      "          10       0.96      0.69      0.81        39\n",
      "          11       1.00      1.00      1.00        34\n",
      "          12       0.79      1.00      0.88        38\n",
      "          13       1.00      1.00      1.00        42\n",
      "          14       1.00      1.00      1.00        28\n",
      "          15       0.88      1.00      0.94        23\n",
      "          16       1.00      0.93      0.96        28\n",
      "          17       0.93      0.90      0.92        30\n",
      "          18       0.95      0.93      0.94        56\n",
      "          19       1.00      1.00      1.00        28\n",
      "          20       1.00      1.00      1.00        25\n",
      "          21       1.00      1.00      1.00        15\n",
      "          22       0.97      0.94      0.96        34\n",
      "          23       1.00      0.97      0.99        36\n",
      "          24       0.88      0.79      0.83        38\n",
      "          25       1.00      1.00      1.00        20\n",
      "          26       1.00      1.00      1.00        41\n",
      "          27       1.00      1.00      1.00        23\n",
      "          28       1.00      1.00      1.00        23\n",
      "          29       1.00      1.00      1.00        34\n",
      "          30       1.00      1.00      1.00        16\n",
      "          31       0.91      1.00      0.95        21\n",
      "          32       1.00      1.00      1.00        24\n",
      "          33       1.00      1.00      1.00        21\n",
      "          34       1.00      1.00      1.00        28\n",
      "          35       0.89      0.98      0.93        41\n",
      "          36       1.00      1.00      1.00        18\n",
      "          37       1.00      0.89      0.94        27\n",
      "          38       1.00      1.00      1.00        16\n",
      "          39       1.00      1.00      1.00        31\n",
      "          40       1.00      1.00      1.00        30\n",
      "          41       0.86      0.91      0.88        33\n",
      "          42       1.00      1.00      1.00        29\n",
      "          43       1.00      1.00      1.00        17\n",
      "          44       1.00      1.00      1.00        28\n",
      "          45       0.81      0.94      0.87        32\n",
      "          46       0.96      1.00      0.98        26\n",
      "          47       0.88      0.72      0.79        32\n",
      "          48       1.00      1.00      1.00        25\n",
      "          49       1.00      1.00      1.00        24\n",
      "          50       1.00      1.00      1.00        32\n",
      "          51       1.00      1.00      1.00        23\n",
      "          52       0.95      1.00      0.97        19\n",
      "          53       0.71      0.83      0.77        42\n",
      "          54       0.87      0.96      0.91        27\n",
      "          55       1.00      1.00      1.00        30\n",
      "          56       0.88      0.84      0.86        43\n",
      "          57       1.00      1.00      1.00        23\n",
      "          58       1.00      1.00      1.00        22\n",
      "          59       1.00      1.00      1.00        32\n",
      "          60       1.00      1.00      1.00        35\n",
      "          61       0.92      0.94      0.93        51\n",
      "          62       1.00      1.00      1.00        31\n",
      "          63       0.97      1.00      0.99        33\n",
      "          64       1.00      1.00      1.00        28\n",
      "          65       0.88      1.00      0.94        23\n",
      "          66       1.00      1.00      1.00        26\n",
      "          67       0.96      1.00      0.98        27\n",
      "          68       1.00      1.00      1.00        32\n",
      "          69       1.00      1.00      1.00        26\n",
      "          70       1.00      1.00      1.00        31\n",
      "          71       1.00      1.00      1.00        37\n",
      "          72       1.00      1.00      1.00        22\n",
      "          73       1.00      1.00      1.00        34\n",
      "          74       1.00      1.00      1.00        27\n",
      "          75       0.89      0.80      0.84        30\n",
      "          76       1.00      1.00      1.00        23\n",
      "          77       1.00      1.00      1.00        19\n",
      "          78       1.00      1.00      1.00        34\n",
      "          79       0.97      0.90      0.93        31\n",
      "          80       1.00      1.00      1.00        25\n",
      "          81       1.00      1.00      1.00        16\n",
      "          82       1.00      1.00      1.00        30\n",
      "          83       1.00      1.00      1.00        29\n",
      "          84       1.00      1.00      1.00        31\n",
      "          85       1.00      1.00      1.00        17\n",
      "          86       1.00      1.00      1.00        25\n",
      "          87       1.00      1.00      1.00        31\n",
      "          88       0.85      0.98      0.91        42\n",
      "          89       1.00      1.00      1.00        25\n",
      "          90       1.00      1.00      1.00        29\n",
      "          91       1.00      1.00      1.00        17\n",
      "          92       1.00      1.00      1.00        21\n",
      "          93       0.93      1.00      0.96        26\n",
      "          94       1.00      1.00      1.00        25\n",
      "\n",
      "    accuracy                           0.95      2736\n",
      "   macro avg       0.96      0.96      0.96      2736\n",
      "weighted avg       0.96      0.95      0.95      2736\n",
      "\n"
     ]
    }
   ],
   "execution_count": 14
  },
  {
   "metadata": {
    "ExecuteTime": {
     "end_time": "2025-06-25T13:11:58.699362Z",
     "start_time": "2025-06-25T13:11:51.250382Z"
    }
   },
   "cell_type": "code",
   "source": "bert_model_vec.save('models/BERT_model.keras')",
   "outputs": [],
   "execution_count": 15
  },
  {
   "metadata": {},
   "cell_type": "markdown",
   "source": "### Word Embedding"
  },
  {
   "metadata": {
    "ExecuteTime": {
     "end_time": "2025-06-24T03:54:47.733227Z",
     "start_time": "2025-06-24T03:54:47.697511Z"
    }
   },
   "cell_type": "code",
   "source": [
    "embedding_dim=100\n",
    "tensorboard_callback = tf.keras.callbacks.TensorBoard(log_dir=\"logs\")\n",
    "model = Sequential([\n",
    "    Embedding(num_words, embedding_dim, input_length=max_length, name=\"embedding\"),\n",
    "    Bidirectional(LSTM(256, return_sequences=True, activation='tanh', recurrent_activation='sigmoid')),\n",
    "    Bidirectional(LSTM(128)),\n",
    "    Dense(64, activation='relu'),\n",
    "    Dropout(0.2),\n",
    "    Dense(num_categories, activation='softmax')\n",
    "])"
   ],
   "outputs": [],
   "execution_count": 72
  },
  {
   "metadata": {
    "ExecuteTime": {
     "end_time": "2025-06-24T03:54:49.665042Z",
     "start_time": "2025-06-24T03:54:49.661251Z"
    }
   },
   "cell_type": "code",
   "source": [
    "model.compile(optimizer='adam',\n",
    "              loss=tf.keras.losses.BinaryCrossentropy(from_logits=True),\n",
    "              metrics=['accuracy'])"
   ],
   "outputs": [],
   "execution_count": 73
  },
  {
   "metadata": {
    "ExecuteTime": {
     "end_time": "2025-06-24T03:56:47.451049Z",
     "start_time": "2025-06-24T03:54:53.579680Z"
    }
   },
   "cell_type": "code",
   "source": "model.fit(X_val_tkn, y_val_tkn, epochs=10, batch_size=30, verbose=True, validation_data=(X_test_tkn, y_test_tkn))",
   "outputs": [
    {
     "name": "stdout",
     "output_type": "stream",
     "text": [
      "Epoch 1/10\n",
      "\u001B[1m92/92\u001B[0m \u001B[32m━━━━━━━━━━━━━━━━━━━━\u001B[0m\u001B[37m\u001B[0m \u001B[1m11s\u001B[0m 100ms/step - accuracy: 0.0074 - loss: 0.2956 - val_accuracy: 0.0069 - val_loss: 0.0597\n",
      "Epoch 2/10\n",
      "\u001B[1m92/92\u001B[0m \u001B[32m━━━━━━━━━━━━━━━━━━━━\u001B[0m\u001B[37m\u001B[0m \u001B[1m10s\u001B[0m 107ms/step - accuracy: 0.0132 - loss: 0.0678 - val_accuracy: 0.0069 - val_loss: 0.0590\n",
      "Epoch 3/10\n",
      "\u001B[1m92/92\u001B[0m \u001B[32m━━━━━━━━━━━━━━━━━━━━\u001B[0m\u001B[37m\u001B[0m \u001B[1m11s\u001B[0m 115ms/step - accuracy: 0.0132 - loss: 0.0646 - val_accuracy: 0.0216 - val_loss: 0.0587\n",
      "Epoch 4/10\n",
      "\u001B[1m92/92\u001B[0m \u001B[32m━━━━━━━━━━━━━━━━━━━━\u001B[0m\u001B[37m\u001B[0m \u001B[1m11s\u001B[0m 123ms/step - accuracy: 0.0061 - loss: 0.0632 - val_accuracy: 0.0077 - val_loss: 0.0586\n",
      "Epoch 5/10\n",
      "\u001B[1m92/92\u001B[0m \u001B[32m━━━━━━━━━━━━━━━━━━━━\u001B[0m\u001B[37m\u001B[0m \u001B[1m12s\u001B[0m 130ms/step - accuracy: 0.0092 - loss: 0.0627 - val_accuracy: 0.0128 - val_loss: 0.0583\n",
      "Epoch 6/10\n",
      "\u001B[1m92/92\u001B[0m \u001B[32m━━━━━━━━━━━━━━━━━━━━\u001B[0m\u001B[37m\u001B[0m \u001B[1m12s\u001B[0m 133ms/step - accuracy: 0.0165 - loss: 0.0611 - val_accuracy: 0.0249 - val_loss: 0.0567\n",
      "Epoch 7/10\n",
      "\u001B[1m92/92\u001B[0m \u001B[32m━━━━━━━━━━━━━━━━━━━━\u001B[0m\u001B[37m\u001B[0m \u001B[1m12s\u001B[0m 134ms/step - accuracy: 0.0220 - loss: 0.0599 - val_accuracy: 0.0300 - val_loss: 0.0547\n",
      "Epoch 8/10\n",
      "\u001B[1m92/92\u001B[0m \u001B[32m━━━━━━━━━━━━━━━━━━━━\u001B[0m\u001B[37m\u001B[0m \u001B[1m12s\u001B[0m 129ms/step - accuracy: 0.0221 - loss: 0.0575 - val_accuracy: 0.0307 - val_loss: 0.0535\n",
      "Epoch 9/10\n",
      "\u001B[1m92/92\u001B[0m \u001B[32m━━━━━━━━━━━━━━━━━━━━\u001B[0m\u001B[37m\u001B[0m \u001B[1m11s\u001B[0m 123ms/step - accuracy: 0.0293 - loss: 0.0558 - val_accuracy: 0.0461 - val_loss: 0.0525\n",
      "Epoch 10/10\n",
      "\u001B[1m92/92\u001B[0m \u001B[32m━━━━━━━━━━━━━━━━━━━━\u001B[0m\u001B[37m\u001B[0m \u001B[1m11s\u001B[0m 120ms/step - accuracy: 0.0355 - loss: 0.0549 - val_accuracy: 0.0519 - val_loss: 0.0519\n"
     ]
    },
    {
     "data": {
      "text/plain": [
       "<keras.src.callbacks.history.History at 0x792a783a65a0>"
      ]
     },
     "execution_count": 74,
     "metadata": {},
     "output_type": "execute_result"
    }
   ],
   "execution_count": 74
  },
  {
   "metadata": {
    "ExecuteTime": {
     "end_time": "2025-06-24T03:56:55.474251Z",
     "start_time": "2025-06-24T03:56:52.935059Z"
    }
   },
   "cell_type": "code",
   "source": [
    "loss, accuracy = model.evaluate(X_test_tkn, y_test_tkn)\n",
    "print(\"Loss: \", loss, \"Accuracy: \", accuracy)"
   ],
   "outputs": [
    {
     "name": "stdout",
     "output_type": "stream",
     "text": [
      "\u001B[1m86/86\u001B[0m \u001B[32m━━━━━━━━━━━━━━━━━━━━\u001B[0m\u001B[37m\u001B[0m \u001B[1m3s\u001B[0m 29ms/step - accuracy: 0.0455 - loss: 0.0521\n",
      "Loss:  0.0518878735601902 Accuracy:  0.05190058425068855\n"
     ]
    }
   ],
   "execution_count": 75
  }
 ]
}
