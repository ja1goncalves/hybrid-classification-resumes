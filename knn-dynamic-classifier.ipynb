{
 "cells": [
  {
   "metadata": {},
   "cell_type": "markdown",
   "source": "### Import dependencies",
   "id": "3043f8bd571e8c"
  },
  {
   "cell_type": "code",
   "id": "initial_id",
   "metadata": {
    "collapsed": true,
    "ExecuteTime": {
     "end_time": "2025-06-25T17:30:44.722482Z",
     "start_time": "2025-06-25T17:30:44.454879Z"
    }
   },
   "source": [
    "import pandas as pd\n",
    "import numpy as np"
   ],
   "outputs": [],
   "execution_count": 1
  },
  {
   "metadata": {},
   "cell_type": "markdown",
   "source": "### Tokenizing results",
   "id": "33892d73e33ad5d5"
  },
  {
   "metadata": {
    "ExecuteTime": {
     "end_time": "2025-06-25T20:58:12.921854Z",
     "start_time": "2025-06-25T20:58:12.912063Z"
    }
   },
   "cell_type": "code",
   "source": [
    "classifier_results = pd.read_csv(\"data/results/classifiers-results.csv\")\n",
    "classifier_results.head()"
   ],
   "id": "de33df5a9c949b24",
   "outputs": [
    {
     "data": {
      "text/plain": [
       "                   target                     RFC                     MLP  \\\n",
       "0                advocate                advocate                advocate   \n",
       "1                   pilot                   pilot                   pilot   \n",
       "2  machine learn engineer  machine learn engineer  machine learn engineer   \n",
       "3          data scientist          data scientist          data scientist   \n",
       "4    construction manager    construction manager    construction manager   \n",
       "\n",
       "                      SVC               LinearSVC                   NuSVC  \\\n",
       "0                advocate                advocate                advocate   \n",
       "1                   pilot                   pilot                   pilot   \n",
       "2  machine learn engineer  machine learn engineer  machine learn engineer   \n",
       "3          data scientist          data scientist          data scientist   \n",
       "4    construction manager    construction manager    construction manager   \n",
       "\n",
       "                      SGD                      LR                     KNC  \\\n",
       "0                advocate                advocate                advocate   \n",
       "1                   pilot                   pilot                   pilot   \n",
       "2  machine learn engineer  machine learn engineer  machine learn engineer   \n",
       "3          data scientist          data scientist          data scientist   \n",
       "4    construction manager    construction manager    construction manager   \n",
       "\n",
       "                     LSTM                    BERT  \n",
       "0                advocate                advocate  \n",
       "1                   pilot                   pilot  \n",
       "2  machine learn engineer  machine learn engineer  \n",
       "3          data scientist          data scientist  \n",
       "4    construction manager    construction manager  "
      ],
      "text/html": [
       "<div>\n",
       "<style scoped>\n",
       "    .dataframe tbody tr th:only-of-type {\n",
       "        vertical-align: middle;\n",
       "    }\n",
       "\n",
       "    .dataframe tbody tr th {\n",
       "        vertical-align: top;\n",
       "    }\n",
       "\n",
       "    .dataframe thead th {\n",
       "        text-align: right;\n",
       "    }\n",
       "</style>\n",
       "<table border=\"1\" class=\"dataframe\">\n",
       "  <thead>\n",
       "    <tr style=\"text-align: right;\">\n",
       "      <th></th>\n",
       "      <th>target</th>\n",
       "      <th>RFC</th>\n",
       "      <th>MLP</th>\n",
       "      <th>SVC</th>\n",
       "      <th>LinearSVC</th>\n",
       "      <th>NuSVC</th>\n",
       "      <th>SGD</th>\n",
       "      <th>LR</th>\n",
       "      <th>KNC</th>\n",
       "      <th>LSTM</th>\n",
       "      <th>BERT</th>\n",
       "    </tr>\n",
       "  </thead>\n",
       "  <tbody>\n",
       "    <tr>\n",
       "      <th>0</th>\n",
       "      <td>advocate</td>\n",
       "      <td>advocate</td>\n",
       "      <td>advocate</td>\n",
       "      <td>advocate</td>\n",
       "      <td>advocate</td>\n",
       "      <td>advocate</td>\n",
       "      <td>advocate</td>\n",
       "      <td>advocate</td>\n",
       "      <td>advocate</td>\n",
       "      <td>advocate</td>\n",
       "      <td>advocate</td>\n",
       "    </tr>\n",
       "    <tr>\n",
       "      <th>1</th>\n",
       "      <td>pilot</td>\n",
       "      <td>pilot</td>\n",
       "      <td>pilot</td>\n",
       "      <td>pilot</td>\n",
       "      <td>pilot</td>\n",
       "      <td>pilot</td>\n",
       "      <td>pilot</td>\n",
       "      <td>pilot</td>\n",
       "      <td>pilot</td>\n",
       "      <td>pilot</td>\n",
       "      <td>pilot</td>\n",
       "    </tr>\n",
       "    <tr>\n",
       "      <th>2</th>\n",
       "      <td>machine learn engineer</td>\n",
       "      <td>machine learn engineer</td>\n",
       "      <td>machine learn engineer</td>\n",
       "      <td>machine learn engineer</td>\n",
       "      <td>machine learn engineer</td>\n",
       "      <td>machine learn engineer</td>\n",
       "      <td>machine learn engineer</td>\n",
       "      <td>machine learn engineer</td>\n",
       "      <td>machine learn engineer</td>\n",
       "      <td>machine learn engineer</td>\n",
       "      <td>machine learn engineer</td>\n",
       "    </tr>\n",
       "    <tr>\n",
       "      <th>3</th>\n",
       "      <td>data scientist</td>\n",
       "      <td>data scientist</td>\n",
       "      <td>data scientist</td>\n",
       "      <td>data scientist</td>\n",
       "      <td>data scientist</td>\n",
       "      <td>data scientist</td>\n",
       "      <td>data scientist</td>\n",
       "      <td>data scientist</td>\n",
       "      <td>data scientist</td>\n",
       "      <td>data scientist</td>\n",
       "      <td>data scientist</td>\n",
       "    </tr>\n",
       "    <tr>\n",
       "      <th>4</th>\n",
       "      <td>construction manager</td>\n",
       "      <td>construction manager</td>\n",
       "      <td>construction manager</td>\n",
       "      <td>construction manager</td>\n",
       "      <td>construction manager</td>\n",
       "      <td>construction manager</td>\n",
       "      <td>construction manager</td>\n",
       "      <td>construction manager</td>\n",
       "      <td>construction manager</td>\n",
       "      <td>construction manager</td>\n",
       "      <td>construction manager</td>\n",
       "    </tr>\n",
       "  </tbody>\n",
       "</table>\n",
       "</div>"
      ]
     },
     "execution_count": 49,
     "metadata": {},
     "output_type": "execute_result"
    }
   ],
   "execution_count": 49
  },
  {
   "metadata": {
    "ExecuteTime": {
     "end_time": "2025-06-25T20:58:20.042671Z",
     "start_time": "2025-06-25T20:58:20.040191Z"
    }
   },
   "cell_type": "code",
   "source": [
    "from sklearn.preprocessing import LabelEncoder\n",
    "\n",
    "def encode_labels(data):\n",
    "    label_encoder = LabelEncoder()\n",
    "    label_encoder.fit(data)\n",
    "    return label_encoder\n",
    "\n",
    "def decoded_label(label_encoder, y_encoded, categorical=True):\n",
    "    label = [int(np.argmax(y)) for y in y_encoded] if categorical else y_encoded\n",
    "    return label_encoder.inverse_transform(label)"
   ],
   "id": "d76af0df3ac1d069",
   "outputs": [],
   "execution_count": 50
  },
  {
   "metadata": {
    "ExecuteTime": {
     "end_time": "2025-06-25T20:58:21.509145Z",
     "start_time": "2025-06-25T20:58:21.494854Z"
    }
   },
   "cell_type": "code",
   "source": [
    "all_values = []\n",
    "for col in classifier_results.columns:\n",
    "    for v in classifier_results[col].values:\n",
    "        all_values.append(v)\n",
    "\n",
    "all_values = pd.DataFrame(all_values, columns=['values'])\n",
    "label_encoder = encode_labels(all_values['values'])\n",
    "\n",
    "for col in classifier_results.columns:\n",
    "    classifier_results[col] = label_encoder.transform(classifier_results[col])\n",
    "\n",
    "classifier_results.head()"
   ],
   "id": "85651db6cdb521e6",
   "outputs": [
    {
     "data": {
      "text/plain": [
       "   target  RFC  MLP  SVC  LinearSVC  NuSVC  SGD  LR  KNC  LSTM  BERT\n",
       "0       1    1    1    1          1      1    1   1    1     1     1\n",
       "1      71   71   71   71         71     71   71  71   71    71    71\n",
       "2      61   61   61   61         61     61   61  61   61    61    61\n",
       "3      31   31   31   31         31     31   31  31   31    31    31\n",
       "4      23   23   23   23         23     23   23  23   23    23    23"
      ],
      "text/html": [
       "<div>\n",
       "<style scoped>\n",
       "    .dataframe tbody tr th:only-of-type {\n",
       "        vertical-align: middle;\n",
       "    }\n",
       "\n",
       "    .dataframe tbody tr th {\n",
       "        vertical-align: top;\n",
       "    }\n",
       "\n",
       "    .dataframe thead th {\n",
       "        text-align: right;\n",
       "    }\n",
       "</style>\n",
       "<table border=\"1\" class=\"dataframe\">\n",
       "  <thead>\n",
       "    <tr style=\"text-align: right;\">\n",
       "      <th></th>\n",
       "      <th>target</th>\n",
       "      <th>RFC</th>\n",
       "      <th>MLP</th>\n",
       "      <th>SVC</th>\n",
       "      <th>LinearSVC</th>\n",
       "      <th>NuSVC</th>\n",
       "      <th>SGD</th>\n",
       "      <th>LR</th>\n",
       "      <th>KNC</th>\n",
       "      <th>LSTM</th>\n",
       "      <th>BERT</th>\n",
       "    </tr>\n",
       "  </thead>\n",
       "  <tbody>\n",
       "    <tr>\n",
       "      <th>0</th>\n",
       "      <td>1</td>\n",
       "      <td>1</td>\n",
       "      <td>1</td>\n",
       "      <td>1</td>\n",
       "      <td>1</td>\n",
       "      <td>1</td>\n",
       "      <td>1</td>\n",
       "      <td>1</td>\n",
       "      <td>1</td>\n",
       "      <td>1</td>\n",
       "      <td>1</td>\n",
       "    </tr>\n",
       "    <tr>\n",
       "      <th>1</th>\n",
       "      <td>71</td>\n",
       "      <td>71</td>\n",
       "      <td>71</td>\n",
       "      <td>71</td>\n",
       "      <td>71</td>\n",
       "      <td>71</td>\n",
       "      <td>71</td>\n",
       "      <td>71</td>\n",
       "      <td>71</td>\n",
       "      <td>71</td>\n",
       "      <td>71</td>\n",
       "    </tr>\n",
       "    <tr>\n",
       "      <th>2</th>\n",
       "      <td>61</td>\n",
       "      <td>61</td>\n",
       "      <td>61</td>\n",
       "      <td>61</td>\n",
       "      <td>61</td>\n",
       "      <td>61</td>\n",
       "      <td>61</td>\n",
       "      <td>61</td>\n",
       "      <td>61</td>\n",
       "      <td>61</td>\n",
       "      <td>61</td>\n",
       "    </tr>\n",
       "    <tr>\n",
       "      <th>3</th>\n",
       "      <td>31</td>\n",
       "      <td>31</td>\n",
       "      <td>31</td>\n",
       "      <td>31</td>\n",
       "      <td>31</td>\n",
       "      <td>31</td>\n",
       "      <td>31</td>\n",
       "      <td>31</td>\n",
       "      <td>31</td>\n",
       "      <td>31</td>\n",
       "      <td>31</td>\n",
       "    </tr>\n",
       "    <tr>\n",
       "      <th>4</th>\n",
       "      <td>23</td>\n",
       "      <td>23</td>\n",
       "      <td>23</td>\n",
       "      <td>23</td>\n",
       "      <td>23</td>\n",
       "      <td>23</td>\n",
       "      <td>23</td>\n",
       "      <td>23</td>\n",
       "      <td>23</td>\n",
       "      <td>23</td>\n",
       "      <td>23</td>\n",
       "    </tr>\n",
       "  </tbody>\n",
       "</table>\n",
       "</div>"
      ]
     },
     "execution_count": 51,
     "metadata": {},
     "output_type": "execute_result"
    }
   ],
   "execution_count": 51
  },
  {
   "metadata": {
    "ExecuteTime": {
     "end_time": "2025-06-25T21:12:52.579959Z",
     "start_time": "2025-06-25T21:12:52.574968Z"
    }
   },
   "cell_type": "code",
   "source": [
    "from sklearn.model_selection import train_test_split\n",
    "\n",
    "X = classifier_results.drop('target', axis=1)\n",
    "y = classifier_results['target']\n",
    "X_train, X_test, y_train, y_test = train_test_split(np.array(X), np.array(y), test_size=0.3, random_state=42)\n",
    "X_train.shape, X_test.shape, y_train.shape, y_test.shape"
   ],
   "id": "b01cdb916dbf4071",
   "outputs": [
    {
     "data": {
      "text/plain": [
       "((1915, 10), (821, 10), (1915,), (821,))"
      ]
     },
     "execution_count": 77,
     "metadata": {},
     "output_type": "execute_result"
    }
   ],
   "execution_count": 77
  },
  {
   "metadata": {},
   "cell_type": "markdown",
   "source": "### Dynamic choise",
   "id": "ceb0c379218aa3f5"
  },
  {
   "metadata": {
    "ExecuteTime": {
     "end_time": "2025-06-25T21:17:28.121661Z",
     "start_time": "2025-06-25T21:17:27.580821Z"
    }
   },
   "cell_type": "code",
   "source": [
    "from sklearn.neighbors import NearestNeighbors\n",
    "from sklearn.metrics import mean_squared_error as mse\n",
    "\n",
    "knn = NearestNeighbors(n_neighbors=5, metric='euclidean')\n",
    "knn.fit(X_train)\n",
    "dynamic_predictions = []\n",
    "for t in X_test:\n",
    "    distances, indices = knn.kneighbors(t.reshape(1, -1))\n",
    "    y_kn = y[np.ravel(indices)]\n",
    "    x_kn = X.iloc[np.ravel(indices)]\n",
    "\n",
    "    weight = np.linalg.pinv(x_kn).dot(y_kn)\n",
    "    dynamic_predictions.append(t.dot(weight))\n",
    "\n",
    "dynamic_error = mse(y_test, dynamic_predictions)\n",
    "dynamic_error"
   ],
   "id": "900785a77447eec0",
   "outputs": [
    {
     "data": {
      "text/plain": [
       "43.2322260743865"
      ]
     },
     "execution_count": 85,
     "metadata": {},
     "output_type": "execute_result"
    }
   ],
   "execution_count": 85
  }
 ],
 "metadata": {
  "kernelspec": {
   "display_name": "Python 3",
   "language": "python",
   "name": "python3"
  },
  "language_info": {
   "codemirror_mode": {
    "name": "ipython",
    "version": 2
   },
   "file_extension": ".py",
   "mimetype": "text/x-python",
   "name": "python",
   "nbconvert_exporter": "python",
   "pygments_lexer": "ipython2",
   "version": "2.7.6"
  }
 },
 "nbformat": 4,
 "nbformat_minor": 5
}
