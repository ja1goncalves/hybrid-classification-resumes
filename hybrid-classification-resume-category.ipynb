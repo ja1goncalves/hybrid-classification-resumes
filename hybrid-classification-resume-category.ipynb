{
 "nbformat": 4,
 "nbformat_minor": 0,
 "metadata": {
  "colab": {
   "provenance": [],
   "collapsed_sections": [
    "fvzb4uT51yVn",
    "n6L7kABUMhbr",
    "3GmUOob4o5yC",
    "eJxMwuE6YifW"
   ],
   "gpuType": "T4",
   "mount_file_id": "1ovNbxtKXRbQbyG7bfi_tl2gh9-nc8k6H",
   "authorship_tag": "ABX9TyPOG1wf6RFGeukmtcOoDjIC"
  },
  "kernelspec": {
   "name": "python3",
   "display_name": "Python 3"
  },
  "language_info": {
   "name": "python"
  },
  "accelerator": "GPU"
 },
 "cells": [
  {
   "cell_type": "markdown",
   "source": [
    "### Preparing the env dependencies"
   ],
   "metadata": {
    "id": "EU7agKrS1FOe"
   }
  },
  {
   "cell_type": "code",
   "source": [
    "import warnings\n",
    "import joblib\n",
    "import numpy as np\n",
    "import pandas as pd\n",
    "import tensorflow as tf\n",
    "from sklearn import metrics\n",
    "from sklearn.experimental import enable_halving_search_cv\n",
    "from sklearn.model_selection import HalvingGridSearchCV\n",
    "from sklearn.metrics import confusion_matrix, accuracy_score\n",
    "from sklearn.ensemble import RandomForestClassifier\n",
    "from sklearn.neural_network import MLPClassifier\n",
    "from sklearn.svm import SVC, LinearSVC, NuSVC\n",
    "from sklearn.model_selection import train_test_split\n",
    "from sklearn.preprocessing import LabelEncoder\n",
    "from tensorflow.keras.preprocessing.text import Tokenizer\n",
    "from tensorflow.keras.preprocessing.sequence import pad_sequences\n",
    "from tensorflow.keras.utils import to_categorical\n",
    "from sklearn.feature_extraction.text import TfidfVectorizer\n",
    "from tensorflow.keras.models import Sequential\n",
    "from tensorflow.keras.layers import Dense, Embedding, LSTM, SpatialDropout1D, Dropout, GlobalAveragePooling1D\n",
    "from tensorflow.keras.layers import TextVectorization\n",
    "warnings.simplefilter(\"ignore\")"
   ],
   "metadata": {
    "id": "2HOZV4PF1DE_",
    "executionInfo": {
     "status": "ok",
     "timestamp": 1750420259432,
     "user_tz": 180,
     "elapsed": 15146,
     "user": {
      "displayName": "Joao Paulo Felix",
      "userId": "12626999418256548582"
     }
    },
    "ExecuteTime": {
     "end_time": "2025-06-23T15:19:06.390916Z",
     "start_time": "2025-06-23T15:19:04.331799Z"
    }
   },
   "outputs": [
    {
     "name": "stderr",
     "output_type": "stream",
     "text": [
      "2025-06-23 12:19:04.716888: E external/local_xla/xla/stream_executor/cuda/cuda_fft.cc:467] Unable to register cuFFT factory: Attempting to register factory for plugin cuFFT when one has already been registered\n",
      "WARNING: All log messages before absl::InitializeLog() is called are written to STDERR\n",
      "E0000 00:00:1750691944.728905    8422 cuda_dnn.cc:8579] Unable to register cuDNN factory: Attempting to register factory for plugin cuDNN when one has already been registered\n",
      "E0000 00:00:1750691944.732849    8422 cuda_blas.cc:1407] Unable to register cuBLAS factory: Attempting to register factory for plugin cuBLAS when one has already been registered\n",
      "W0000 00:00:1750691944.743195    8422 computation_placer.cc:177] computation placer already registered. Please check linkage and avoid linking the same target more than once.\n",
      "W0000 00:00:1750691944.743210    8422 computation_placer.cc:177] computation placer already registered. Please check linkage and avoid linking the same target more than once.\n",
      "W0000 00:00:1750691944.743211    8422 computation_placer.cc:177] computation placer already registered. Please check linkage and avoid linking the same target more than once.\n",
      "W0000 00:00:1750691944.743212    8422 computation_placer.cc:177] computation placer already registered. Please check linkage and avoid linking the same target more than once.\n",
      "2025-06-23 12:19:04.746680: I tensorflow/core/platform/cpu_feature_guard.cc:210] This TensorFlow binary is optimized to use available CPU instructions in performance-critical operations.\n",
      "To enable the following instructions: AVX2 FMA, in other operations, rebuild TensorFlow with the appropriate compiler flags.\n"
     ]
    }
   ],
   "execution_count": 1
  },
  {
   "cell_type": "markdown",
   "source": "### Catching off-line data",
   "metadata": {
    "id": "-5xbcvmLgqQh"
   }
  },
  {
   "cell_type": "code",
   "source": [
    "# after that I ask to gemini to generate new data for categories with less count\n",
    "all_data = pd.read_csv(\"data/filtered/normalized.csv\")\n",
    "all_data = all_data.dropna()\n",
    "all_data = all_data.drop_duplicates()\n",
    "all_data.shape"
   ],
   "metadata": {
    "colab": {
     "base_uri": "https://localhost:8080/"
    },
    "id": "5rKnY-YjgpfU",
    "executionInfo": {
     "status": "ok",
     "timestamp": 1750420458526,
     "user_tz": 180,
     "elapsed": 313,
     "user": {
      "displayName": "Joao Paulo Felix",
      "userId": "12626999418256548582"
     }
    },
    "outputId": "98562453-36c0-4c9b-9590-aa12f0b0962d",
    "ExecuteTime": {
     "end_time": "2025-06-23T15:19:09.515084Z",
     "start_time": "2025-06-23T15:19:09.310847Z"
    }
   },
   "outputs": [
    {
     "data": {
      "text/plain": [
       "(18240, 2)"
      ]
     },
     "execution_count": 2,
     "metadata": {},
     "output_type": "execute_result"
    }
   ],
   "execution_count": 2
  },
  {
   "cell_type": "markdown",
   "source": [
    "### Vectorizer"
   ],
   "metadata": {
    "id": "fLhjsaoXGU-I"
   }
  },
  {
   "cell_type": "markdown",
   "source": "#### Label Encoder",
   "metadata": {
    "id": "6zyeowvGIAEd"
   }
  },
  {
   "metadata": {
    "ExecuteTime": {
     "end_time": "2025-06-23T15:19:13.496140Z",
     "start_time": "2025-06-23T15:19:13.493794Z"
    }
   },
   "cell_type": "code",
   "source": [
    "def encode_labels(categories):\n",
    "    label_encoder = LabelEncoder()\n",
    "    category_encoded = label_encoder.fit_transform(categories)\n",
    "    print(category_encoded)\n",
    "    num_categories = len(label_encoder.classes_)\n",
    "    y = to_categorical(category_encoded)\n",
    "    return label_encoder, y, num_categories\n",
    "\n",
    "def decoded_label(label_encoder, y_encoded, categorical=True):\n",
    "    label = [int(np.argmax(y)) for y in y_encoded] if categorical else y_encoded\n",
    "    return label_encoder.inverse_transform(label)"
   ],
   "outputs": [],
   "execution_count": 3
  },
  {
   "cell_type": "code",
   "source": [
    "categories = all_data['category']\n",
    "label_encoder, y, num_categories = encode_labels(categories)\n",
    "print(num_categories, y)"
   ],
   "metadata": {
    "colab": {
     "base_uri": "https://localhost:8080/"
    },
    "id": "4fOWd9YHIKXm",
    "executionInfo": {
     "status": "ok",
     "timestamp": 1750416211303,
     "user_tz": 180,
     "elapsed": 40,
     "user": {
      "displayName": "Joao Paulo Felix",
      "userId": "12626999418256548582"
     }
    },
    "outputId": "b9bf06da-0529-414b-fbda-68eb124cd162",
    "ExecuteTime": {
     "end_time": "2025-06-23T15:19:15.499905Z",
     "start_time": "2025-06-23T15:19:15.490344Z"
    }
   },
   "outputs": [
    {
     "name": "stdout",
     "output_type": "stream",
     "text": [
      "[48 70 46 ... 72 72 72]\n",
      "95 [[0. 0. 0. ... 0. 0. 0.]\n",
      " [0. 0. 0. ... 0. 0. 0.]\n",
      " [0. 0. 0. ... 0. 0. 0.]\n",
      " ...\n",
      " [0. 0. 0. ... 0. 0. 0.]\n",
      " [0. 0. 0. ... 0. 0. 0.]\n",
      " [0. 0. 0. ... 0. 0. 0.]]\n"
     ]
    }
   ],
   "execution_count": 4
  },
  {
   "cell_type": "markdown",
   "source": "#### TF-IDF",
   "metadata": {
    "id": "68JaMuIOInXP"
   }
  },
  {
   "cell_type": "code",
   "source": [
    "tfidf_vec = TfidfVectorizer()\n",
    "resumes_vec = tfidf_vec.fit_transform(all_data['resume'])\n",
    "inputs = len(tfidf_vec.get_feature_names_out())\n",
    "print(\"Tamanho:\", len(tfidf_vec.get_feature_names_out()), \"Vocabulário:\", tfidf_vec.get_feature_names_out(), )\n",
    "resumes_vec"
   ],
   "metadata": {
    "colab": {
     "base_uri": "https://localhost:8080/"
    },
    "id": "Py2DrD1eIpde",
    "executionInfo": {
     "status": "ok",
     "timestamp": 1750416213817,
     "user_tz": 180,
     "elapsed": 1098,
     "user": {
      "displayName": "Joao Paulo Felix",
      "userId": "12626999418256548582"
     }
    },
    "outputId": "9f92622c-cf19-476e-d878-ab86a9900943",
    "ExecuteTime": {
     "end_time": "2025-06-23T15:19:20.285577Z",
     "start_time": "2025-06-23T15:19:19.107534Z"
    }
   },
   "outputs": [
    {
     "name": "stdout",
     "output_type": "stream",
     "text": [
      "Tamanho: 48295 Vocabulário: ['aa' 'aaa' 'aaacom' ... 'zyvox' 'zz' 'zzxzx']\n"
     ]
    },
    {
     "data": {
      "text/plain": [
       "<Compressed Sparse Row sparse matrix of dtype 'float64'\n",
       "\twith 2122670 stored elements and shape (18240, 48295)>"
      ]
     },
     "execution_count": 5,
     "metadata": {},
     "output_type": "execute_result"
    }
   ],
   "execution_count": 5
  },
  {
   "metadata": {
    "ExecuteTime": {
     "end_time": "2025-06-23T15:19:20.313735Z",
     "start_time": "2025-06-23T15:19:20.296271Z"
    }
   },
   "cell_type": "code",
   "source": [
    "X_train_vec, X_temp_vec, y_train_vec, y_temp_vec = train_test_split(resumes_vec, y, test_size=0.3, random_state=42)\n",
    "X_val_vec, X_test_vec, y_val_vec, y_test_vec = train_test_split(X_temp_vec, y_temp_vec, test_size=0.5, random_state=42)\n",
    "X_train_vec.shape, X_temp_vec.shape, X_val_vec.shape, X_test_vec.shape"
   ],
   "outputs": [
    {
     "data": {
      "text/plain": [
       "((12768, 48295), (5472, 48295), (2736, 48295), (2736, 48295))"
      ]
     },
     "execution_count": 6,
     "metadata": {},
     "output_type": "execute_result"
    }
   ],
   "execution_count": 6
  },
  {
   "cell_type": "markdown",
   "source": "#### Tokens",
   "metadata": {
    "id": "QeWKmUClKvxR"
   }
  },
  {
   "cell_type": "code",
   "source": [
    "num_words = 20000\n",
    "max_length = 1000\n",
    "token = Tokenizer(num_words=num_words, oov_token=\"<OOV>\")\n",
    "token.fit_on_texts(all_data['resume'])\n",
    "inputs = len(token.word_index)\n",
    "resumes_token = token.texts_to_sequences(all_data['resume'])\n",
    "resumes_token = pad_sequences(resumes_token, padding=\"post\", truncating=\"post\", maxlen=max_length)\n",
    "inputs, resumes_token"
   ],
   "metadata": {
    "colab": {
     "base_uri": "https://localhost:8080/"
    },
    "collapsed": true,
    "id": "mqrjDPy3KxC9",
    "executionInfo": {
     "status": "ok",
     "timestamp": 1750417516389,
     "user_tz": 180,
     "elapsed": 2193,
     "user": {
      "displayName": "Joao Paulo Felix",
      "userId": "12626999418256548582"
     }
    },
    "outputId": "72b6e187-d3c5-47a0-c06b-1a4d6c4275ce",
    "ExecuteTime": {
     "end_time": "2025-06-23T14:36:07.273295Z",
     "start_time": "2025-06-23T14:36:05.457385Z"
    }
   },
   "outputs": [
    {
     "data": {
      "text/plain": [
       "(48319,\n",
       " array([[  34, 1307, 1032, ...,    0,    0,    0],\n",
       "        [  34,  350, 2123, ...,    0,    0,    0],\n",
       "        [  34,  769,   59, ...,    0,    0,    0],\n",
       "        ...,\n",
       "        [   9,  621,   61, ...,    0,    0,    0],\n",
       "        [ 154,  307,  602, ...,    0,    0,    0],\n",
       "        [ 154,  307,  602, ...,    0,    0,    0]], dtype=int32))"
      ]
     },
     "execution_count": 7,
     "metadata": {},
     "output_type": "execute_result"
    }
   ],
   "execution_count": 7
  },
  {
   "metadata": {
    "ExecuteTime": {
     "end_time": "2025-06-23T14:36:07.307809Z",
     "start_time": "2025-06-23T14:36:07.283460Z"
    }
   },
   "cell_type": "code",
   "source": [
    "X_train_tkn, X_temp_tkn, y_train_tkn, y_temp_tkn = train_test_split(resumes_token, y, test_size=0.3, random_state=42)\n",
    "X_val_tkn, X_test_tkn, y_val_tkn, y_test_tkn = train_test_split(X_temp_tkn, y_temp_tkn, test_size=0.5, random_state=42)\n",
    "X_train_tkn.shape, X_temp_tkn.shape, X_val_tkn.shape, X_test_tkn.shape"
   ],
   "outputs": [
    {
     "data": {
      "text/plain": [
       "((12768, 1000), (5472, 1000), (2736, 1000), (2736, 1000))"
      ]
     },
     "execution_count": 8,
     "metadata": {},
     "output_type": "execute_result"
    }
   ],
   "execution_count": 8
  },
  {
   "metadata": {},
   "cell_type": "markdown",
   "source": "## Training"
  },
  {
   "metadata": {
    "ExecuteTime": {
     "end_time": "2025-06-22T19:37:37.821704Z",
     "start_time": "2025-06-22T19:37:37.819815Z"
    }
   },
   "cell_type": "code",
   "source": [
    "# Play this only in the first execution\n",
    "# result_vec_decoded = decoded_label(label_encoder, y_test_vec)\n",
    "# result_vec_df = pd.DataFrame(result_vec_decoded, columns=['target'])\n",
    "# result_vec_df.to_csv('data/results/tf-idf/results.csv', encoding='utf-8', index=False)\n",
    "#\n",
    "# result_tkn_decoded = decoded_label(label_encoder, y_test_tkn)\n",
    "# result_tkn_df = pd.DataFrame(result_tkn_decoded, columns=['target'])\n",
    "# result_tkn_df.to_csv('data/results/token/results.csv', encoding='utf-8', index=False)"
   ],
   "outputs": [],
   "execution_count": 17
  },
  {
   "metadata": {
    "ExecuteTime": {
     "end_time": "2025-06-23T15:21:44.836130Z",
     "start_time": "2025-06-23T15:21:44.833938Z"
    }
   },
   "cell_type": "code",
   "source": [
    "def save_results(prediction, model_name, vec='tf-idf', categorical=True):\n",
    "    filename = f'data/results/{vec}/results.csv'\n",
    "    result_decoded = decoded_label(label_encoder, prediction, categorical)\n",
    "    result = pd.read_csv(filename)\n",
    "    result[model_name] = result_decoded\n",
    "    result.to_csv(filename, encoding='utf-8', index=False)\n",
    "    print('Results saved in {}'.format(filename))"
   ],
   "outputs": [],
   "execution_count": 10
  },
  {
   "cell_type": "markdown",
   "source": [
    "### Random Forests"
   ],
   "metadata": {
    "id": "s0pG-UFlBbJ6"
   }
  },
  {
   "cell_type": "code",
   "source": [
    "def random_forest_model(X_train, X_test, X_val, y_train, y_test, y_val, vec='tf-idf'):\n",
    "    y_train_categorical = [int(np.argmax(y)) for y in y_train]\n",
    "    y_test_categorical = [int(np.argmax(y)) for y in y_test]\n",
    "    y_val_categorical = [int(np.argmax(y)) for y in y_val]\n",
    "    rng = np.random.RandomState(0)\n",
    "    param_grid = {\n",
    "        'n_estimators': [100, 200, 300, 400, 500, 600, 700, 800, 900, 1000],\n",
    "        'criterion': [\"gini\", \"entropy\"]\n",
    "    }\n",
    "    forest = RandomForestClassifier(n_estimators=700, criterion='gini', bootstrap=False)\n",
    "    rsh = HalvingGridSearchCV(estimator=forest, param_grid=param_grid, random_state=rng, factor=5, n_jobs=-1)\n",
    "    rsh.fit(X_val, y_val_categorical)\n",
    "    score = rsh.score(X_test, y_test_categorical)\n",
    "    print(\"Score: \", score, \"Params:\", rsh.best_params_)\n",
    "\n",
    "    model = RandomForestClassifier(\n",
    "        n_estimators=rsh.best_params_['n_estimators'],\n",
    "        criterion=rsh.best_params_['criterion'],\n",
    "        bootstrap=False\n",
    "    )\n",
    "\n",
    "    model.fit(X_val, y_val_categorical)\n",
    "    model.fit(X_train, y_train_categorical)\n",
    "    prediction = model.predict(X_test)\n",
    "    accuracy = accuracy_score(y_test_categorical, prediction)\n",
    "    save_results(prediction, 'RFC', vec, False)\n",
    "    print(accuracy)\n",
    "    print(metrics.classification_report(y_test_categorical, prediction))\n",
    "    return model, accuracy"
   ],
   "metadata": {
    "colab": {
     "base_uri": "https://localhost:8080/"
    },
    "id": "8hYUEs63Bfp9",
    "executionInfo": {
     "status": "ok",
     "timestamp": 1750419193544,
     "user_tz": 180,
     "elapsed": 726860,
     "user": {
      "displayName": "Joao Paulo Felix",
      "userId": "12626999418256548582"
     }
    },
    "outputId": "c5d0df0d-2ed1-4d33-e98c-b482d90ee3bc",
    "ExecuteTime": {
     "end_time": "2025-06-21T21:33:42.783476Z",
     "start_time": "2025-06-21T21:33:42.780053Z"
    }
   },
   "outputs": [],
   "execution_count": 25
  },
  {
   "metadata": {
    "colab": {
     "base_uri": "https://localhost:8080/"
    },
    "id": "J-w5T_RzWfcQ",
    "executionInfo": {
     "status": "ok",
     "timestamp": 1750418393105,
     "user_tz": 180,
     "elapsed": 27,
     "user": {
      "displayName": "Joao Paulo Felix",
      "userId": "12626999418256548582"
     }
    },
    "outputId": "38ffaa00-68f1-4e3f-cff4-5693d64afab8",
    "ExecuteTime": {
     "end_time": "2025-06-21T21:19:19.077130Z",
     "start_time": "2025-06-21T21:10:13.804569Z"
    }
   },
   "cell_type": "code",
   "source": "model_vec, acc_vec = random_forest_model(X_train_vec, X_test_vec, X_val_vec, y_train_vec, y_test_vec, y_val_vec)",
   "outputs": [
    {
     "name": "stderr",
     "output_type": "stream",
     "text": [
      "/usr/lib/python3.12/multiprocessing/queues.py:122: UserWarning: pkg_resources is deprecated as an API. See https://setuptools.pypa.io/en/latest/pkg_resources.html. The pkg_resources package is slated for removal as early as 2025-11-30. Refrain from using this package or pin to Setuptools<81.\n",
      "  return _ForkingPickler.loads(res)\n",
      "/usr/lib/python3.12/multiprocessing/queues.py:122: UserWarning: pkg_resources is deprecated as an API. See https://setuptools.pypa.io/en/latest/pkg_resources.html. The pkg_resources package is slated for removal as early as 2025-11-30. Refrain from using this package or pin to Setuptools<81.\n",
      "  return _ForkingPickler.loads(res)\n",
      "/usr/lib/python3.12/multiprocessing/queues.py:122: UserWarning: pkg_resources is deprecated as an API. See https://setuptools.pypa.io/en/latest/pkg_resources.html. The pkg_resources package is slated for removal as early as 2025-11-30. Refrain from using this package or pin to Setuptools<81.\n",
      "  return _ForkingPickler.loads(res)\n",
      "/usr/lib/python3.12/multiprocessing/queues.py:122: UserWarning: pkg_resources is deprecated as an API. See https://setuptools.pypa.io/en/latest/pkg_resources.html. The pkg_resources package is slated for removal as early as 2025-11-30. Refrain from using this package or pin to Setuptools<81.\n",
      "  return _ForkingPickler.loads(res)\n",
      "/usr/lib/python3.12/multiprocessing/queues.py:122: UserWarning: pkg_resources is deprecated as an API. See https://setuptools.pypa.io/en/latest/pkg_resources.html. The pkg_resources package is slated for removal as early as 2025-11-30. Refrain from using this package or pin to Setuptools<81.\n",
      "  return _ForkingPickler.loads(res)\n",
      "/usr/lib/python3.12/multiprocessing/queues.py:122: UserWarning: pkg_resources is deprecated as an API. See https://setuptools.pypa.io/en/latest/pkg_resources.html. The pkg_resources package is slated for removal as early as 2025-11-30. Refrain from using this package or pin to Setuptools<81.\n",
      "  return _ForkingPickler.loads(res)\n",
      "/usr/lib/python3.12/multiprocessing/queues.py:122: UserWarning: pkg_resources is deprecated as an API. See https://setuptools.pypa.io/en/latest/pkg_resources.html. The pkg_resources package is slated for removal as early as 2025-11-30. Refrain from using this package or pin to Setuptools<81.\n",
      "  return _ForkingPickler.loads(res)\n",
      "/usr/lib/python3.12/multiprocessing/queues.py:122: UserWarning: pkg_resources is deprecated as an API. See https://setuptools.pypa.io/en/latest/pkg_resources.html. The pkg_resources package is slated for removal as early as 2025-11-30. Refrain from using this package or pin to Setuptools<81.\n",
      "  return _ForkingPickler.loads(res)\n",
      "/usr/lib/python3.12/multiprocessing/queues.py:122: UserWarning: pkg_resources is deprecated as an API. See https://setuptools.pypa.io/en/latest/pkg_resources.html. The pkg_resources package is slated for removal as early as 2025-11-30. Refrain from using this package or pin to Setuptools<81.\n",
      "  return _ForkingPickler.loads(res)\n",
      "/usr/lib/python3.12/multiprocessing/queues.py:122: UserWarning: pkg_resources is deprecated as an API. See https://setuptools.pypa.io/en/latest/pkg_resources.html. The pkg_resources package is slated for removal as early as 2025-11-30. Refrain from using this package or pin to Setuptools<81.\n",
      "  return _ForkingPickler.loads(res)\n",
      "/usr/lib/python3.12/multiprocessing/queues.py:122: UserWarning: pkg_resources is deprecated as an API. See https://setuptools.pypa.io/en/latest/pkg_resources.html. The pkg_resources package is slated for removal as early as 2025-11-30. Refrain from using this package or pin to Setuptools<81.\n",
      "  return _ForkingPickler.loads(res)\n",
      "/usr/lib/python3.12/multiprocessing/queues.py:122: UserWarning: pkg_resources is deprecated as an API. See https://setuptools.pypa.io/en/latest/pkg_resources.html. The pkg_resources package is slated for removal as early as 2025-11-30. Refrain from using this package or pin to Setuptools<81.\n",
      "  return _ForkingPickler.loads(res)\n",
      "/usr/lib/python3.12/multiprocessing/queues.py:122: UserWarning: pkg_resources is deprecated as an API. See https://setuptools.pypa.io/en/latest/pkg_resources.html. The pkg_resources package is slated for removal as early as 2025-11-30. Refrain from using this package or pin to Setuptools<81.\n",
      "  return _ForkingPickler.loads(res)\n",
      "/usr/lib/python3.12/multiprocessing/queues.py:122: UserWarning: pkg_resources is deprecated as an API. See https://setuptools.pypa.io/en/latest/pkg_resources.html. The pkg_resources package is slated for removal as early as 2025-11-30. Refrain from using this package or pin to Setuptools<81.\n",
      "  return _ForkingPickler.loads(res)\n",
      "/usr/lib/python3.12/multiprocessing/queues.py:122: UserWarning: pkg_resources is deprecated as an API. See https://setuptools.pypa.io/en/latest/pkg_resources.html. The pkg_resources package is slated for removal as early as 2025-11-30. Refrain from using this package or pin to Setuptools<81.\n",
      "  return _ForkingPickler.loads(res)\n",
      "/usr/lib/python3.12/multiprocessing/queues.py:122: UserWarning: pkg_resources is deprecated as an API. See https://setuptools.pypa.io/en/latest/pkg_resources.html. The pkg_resources package is slated for removal as early as 2025-11-30. Refrain from using this package or pin to Setuptools<81.\n",
      "  return _ForkingPickler.loads(res)\n",
      "/usr/lib/python3.12/multiprocessing/queues.py:122: UserWarning: pkg_resources is deprecated as an API. See https://setuptools.pypa.io/en/latest/pkg_resources.html. The pkg_resources package is slated for removal as early as 2025-11-30. Refrain from using this package or pin to Setuptools<81.\n",
      "  return _ForkingPickler.loads(res)\n",
      "/usr/lib/python3.12/multiprocessing/queues.py:122: UserWarning: pkg_resources is deprecated as an API. See https://setuptools.pypa.io/en/latest/pkg_resources.html. The pkg_resources package is slated for removal as early as 2025-11-30. Refrain from using this package or pin to Setuptools<81.\n",
      "  return _ForkingPickler.loads(res)\n",
      "/usr/lib/python3.12/multiprocessing/queues.py:122: UserWarning: pkg_resources is deprecated as an API. See https://setuptools.pypa.io/en/latest/pkg_resources.html. The pkg_resources package is slated for removal as early as 2025-11-30. Refrain from using this package or pin to Setuptools<81.\n",
      "  return _ForkingPickler.loads(res)\n",
      "/usr/lib/python3.12/multiprocessing/queues.py:122: UserWarning: pkg_resources is deprecated as an API. See https://setuptools.pypa.io/en/latest/pkg_resources.html. The pkg_resources package is slated for removal as early as 2025-11-30. Refrain from using this package or pin to Setuptools<81.\n",
      "  return _ForkingPickler.loads(res)\n",
      "/usr/lib/python3.12/multiprocessing/queues.py:122: UserWarning: pkg_resources is deprecated as an API. See https://setuptools.pypa.io/en/latest/pkg_resources.html. The pkg_resources package is slated for removal as early as 2025-11-30. Refrain from using this package or pin to Setuptools<81.\n",
      "  return _ForkingPickler.loads(res)\n",
      "/usr/lib/python3.12/multiprocessing/queues.py:122: UserWarning: pkg_resources is deprecated as an API. See https://setuptools.pypa.io/en/latest/pkg_resources.html. The pkg_resources package is slated for removal as early as 2025-11-30. Refrain from using this package or pin to Setuptools<81.\n",
      "  return _ForkingPickler.loads(res)\n",
      "/usr/lib/python3.12/multiprocessing/queues.py:122: UserWarning: pkg_resources is deprecated as an API. See https://setuptools.pypa.io/en/latest/pkg_resources.html. The pkg_resources package is slated for removal as early as 2025-11-30. Refrain from using this package or pin to Setuptools<81.\n",
      "  return _ForkingPickler.loads(res)\n",
      "/usr/lib/python3.12/multiprocessing/queues.py:122: UserWarning: pkg_resources is deprecated as an API. See https://setuptools.pypa.io/en/latest/pkg_resources.html. The pkg_resources package is slated for removal as early as 2025-11-30. Refrain from using this package or pin to Setuptools<81.\n",
      "  return _ForkingPickler.loads(res)\n",
      "/usr/lib/python3.12/multiprocessing/queues.py:122: UserWarning: pkg_resources is deprecated as an API. See https://setuptools.pypa.io/en/latest/pkg_resources.html. The pkg_resources package is slated for removal as early as 2025-11-30. Refrain from using this package or pin to Setuptools<81.\n",
      "  return _ForkingPickler.loads(res)\n",
      "/usr/lib/python3.12/multiprocessing/queues.py:122: UserWarning: pkg_resources is deprecated as an API. See https://setuptools.pypa.io/en/latest/pkg_resources.html. The pkg_resources package is slated for removal as early as 2025-11-30. Refrain from using this package or pin to Setuptools<81.\n",
      "  return _ForkingPickler.loads(res)\n",
      "/usr/lib/python3.12/multiprocessing/queues.py:122: UserWarning: pkg_resources is deprecated as an API. See https://setuptools.pypa.io/en/latest/pkg_resources.html. The pkg_resources package is slated for removal as early as 2025-11-30. Refrain from using this package or pin to Setuptools<81.\n",
      "  return _ForkingPickler.loads(res)\n",
      "/usr/lib/python3.12/multiprocessing/queues.py:122: UserWarning: pkg_resources is deprecated as an API. See https://setuptools.pypa.io/en/latest/pkg_resources.html. The pkg_resources package is slated for removal as early as 2025-11-30. Refrain from using this package or pin to Setuptools<81.\n",
      "  return _ForkingPickler.loads(res)\n",
      "/usr/lib/python3.12/multiprocessing/queues.py:122: UserWarning: pkg_resources is deprecated as an API. See https://setuptools.pypa.io/en/latest/pkg_resources.html. The pkg_resources package is slated for removal as early as 2025-11-30. Refrain from using this package or pin to Setuptools<81.\n",
      "  return _ForkingPickler.loads(res)\n",
      "/usr/lib/python3.12/multiprocessing/queues.py:122: UserWarning: pkg_resources is deprecated as an API. See https://setuptools.pypa.io/en/latest/pkg_resources.html. The pkg_resources package is slated for removal as early as 2025-11-30. Refrain from using this package or pin to Setuptools<81.\n",
      "  return _ForkingPickler.loads(res)\n",
      "/usr/lib/python3.12/multiprocessing/queues.py:122: UserWarning: pkg_resources is deprecated as an API. See https://setuptools.pypa.io/en/latest/pkg_resources.html. The pkg_resources package is slated for removal as early as 2025-11-30. Refrain from using this package or pin to Setuptools<81.\n",
      "  return _ForkingPickler.loads(res)\n",
      "/usr/lib/python3.12/multiprocessing/queues.py:122: UserWarning: pkg_resources is deprecated as an API. See https://setuptools.pypa.io/en/latest/pkg_resources.html. The pkg_resources package is slated for removal as early as 2025-11-30. Refrain from using this package or pin to Setuptools<81.\n",
      "  return _ForkingPickler.loads(res)\n"
     ]
    },
    {
     "name": "stdout",
     "output_type": "stream",
     "text": [
      "Score:  0.9057017543859649 Params: {'criterion': 'gini', 'n_estimators': 800}\n",
      "Results saved in data/results/tf-idf/results.csv\n",
      "0.966374269005848\n",
      "              precision    recall  f1-score   support\n",
      "\n",
      "           0       0.89      1.00      0.94        49\n",
      "           1       0.95      0.88      0.91        40\n",
      "           2       1.00      0.91      0.95        23\n",
      "           3       1.00      1.00      1.00        32\n",
      "           4       1.00      0.84      0.91        31\n",
      "           5       0.96      0.77      0.86        31\n",
      "           6       1.00      1.00      1.00        20\n",
      "           7       0.91      0.59      0.71        34\n",
      "           8       0.96      1.00      0.98        22\n",
      "           9       1.00      1.00      1.00        18\n",
      "          10       0.97      1.00      0.99        39\n",
      "          11       1.00      1.00      1.00        34\n",
      "          12       0.92      0.87      0.89        38\n",
      "          13       1.00      1.00      1.00        42\n",
      "          14       1.00      1.00      1.00        28\n",
      "          15       1.00      0.91      0.95        23\n",
      "          16       1.00      0.93      0.96        28\n",
      "          17       0.83      0.97      0.89        30\n",
      "          18       0.96      0.96      0.96        56\n",
      "          19       1.00      1.00      1.00        28\n",
      "          20       1.00      1.00      1.00        25\n",
      "          21       1.00      1.00      1.00        15\n",
      "          22       0.97      0.88      0.92        34\n",
      "          23       1.00      1.00      1.00        36\n",
      "          24       0.92      0.63      0.75        38\n",
      "          25       1.00      1.00      1.00        20\n",
      "          26       1.00      1.00      1.00        41\n",
      "          27       1.00      1.00      1.00        23\n",
      "          28       1.00      1.00      1.00        23\n",
      "          29       1.00      1.00      1.00        34\n",
      "          30       1.00      1.00      1.00        16\n",
      "          31       0.95      1.00      0.98        21\n",
      "          32       1.00      1.00      1.00        24\n",
      "          33       1.00      1.00      1.00        21\n",
      "          34       1.00      1.00      1.00        28\n",
      "          35       0.91      0.95      0.93        41\n",
      "          36       1.00      1.00      1.00        18\n",
      "          37       0.93      0.93      0.93        27\n",
      "          38       1.00      1.00      1.00        16\n",
      "          39       1.00      1.00      1.00        31\n",
      "          40       1.00      1.00      1.00        30\n",
      "          41       0.86      0.97      0.91        33\n",
      "          42       1.00      1.00      1.00        29\n",
      "          43       1.00      1.00      1.00        17\n",
      "          44       1.00      1.00      1.00        28\n",
      "          45       0.88      0.91      0.89        32\n",
      "          46       1.00      1.00      1.00        26\n",
      "          47       0.88      0.91      0.89        32\n",
      "          48       1.00      1.00      1.00        25\n",
      "          49       1.00      1.00      1.00        24\n",
      "          50       1.00      1.00      1.00        32\n",
      "          51       1.00      1.00      1.00        23\n",
      "          52       1.00      1.00      1.00        19\n",
      "          53       0.94      0.74      0.83        42\n",
      "          54       0.82      1.00      0.90        27\n",
      "          55       1.00      1.00      1.00        30\n",
      "          56       0.81      0.98      0.88        43\n",
      "          57       1.00      1.00      1.00        23\n",
      "          58       1.00      1.00      1.00        22\n",
      "          59       1.00      1.00      1.00        32\n",
      "          60       1.00      1.00      1.00        35\n",
      "          61       0.91      0.98      0.94        51\n",
      "          62       1.00      1.00      1.00        31\n",
      "          63       1.00      0.97      0.98        33\n",
      "          64       1.00      1.00      1.00        28\n",
      "          65       1.00      1.00      1.00        23\n",
      "          66       1.00      1.00      1.00        26\n",
      "          67       1.00      1.00      1.00        27\n",
      "          68       1.00      1.00      1.00        32\n",
      "          69       1.00      1.00      1.00        26\n",
      "          70       1.00      1.00      1.00        31\n",
      "          71       1.00      1.00      1.00        37\n",
      "          72       1.00      1.00      1.00        22\n",
      "          73       1.00      1.00      1.00        34\n",
      "          74       1.00      1.00      1.00        27\n",
      "          75       0.94      0.97      0.95        30\n",
      "          76       1.00      1.00      1.00        23\n",
      "          77       1.00      1.00      1.00        19\n",
      "          78       1.00      1.00      1.00        34\n",
      "          79       0.67      0.90      0.77        31\n",
      "          80       1.00      1.00      1.00        25\n",
      "          81       1.00      1.00      1.00        16\n",
      "          82       1.00      1.00      1.00        30\n",
      "          83       1.00      1.00      1.00        29\n",
      "          84       1.00      1.00      1.00        31\n",
      "          85       1.00      1.00      1.00        17\n",
      "          86       1.00      1.00      1.00        25\n",
      "          87       1.00      1.00      1.00        31\n",
      "          88       0.88      1.00      0.93        42\n",
      "          89       1.00      1.00      1.00        25\n",
      "          90       1.00      1.00      1.00        29\n",
      "          91       1.00      1.00      1.00        17\n",
      "          92       1.00      1.00      1.00        21\n",
      "          93       1.00      1.00      1.00        26\n",
      "          94       1.00      1.00      1.00        25\n",
      "\n",
      "    accuracy                           0.97      2736\n",
      "   macro avg       0.97      0.97      0.97      2736\n",
      "weighted avg       0.97      0.97      0.97      2736\n",
      "\n"
     ]
    }
   ],
   "execution_count": 19
  },
  {
   "metadata": {
    "ExecuteTime": {
     "end_time": "2025-06-21T21:39:53.915698Z",
     "start_time": "2025-06-21T21:35:09.705990Z"
    }
   },
   "cell_type": "code",
   "source": "model_tkn, acc_tkn = random_forest_model(X_train_tkn, X_test_tkn, X_val_tkn, y_train_tkn, y_test_tkn, y_val_tkn, 'token')",
   "outputs": [
    {
     "name": "stderr",
     "output_type": "stream",
     "text": [
      "/usr/lib/python3.12/multiprocessing/queues.py:122: UserWarning: pkg_resources is deprecated as an API. See https://setuptools.pypa.io/en/latest/pkg_resources.html. The pkg_resources package is slated for removal as early as 2025-11-30. Refrain from using this package or pin to Setuptools<81.\n",
      "  return _ForkingPickler.loads(res)\n",
      "/usr/lib/python3.12/multiprocessing/queues.py:122: UserWarning: pkg_resources is deprecated as an API. See https://setuptools.pypa.io/en/latest/pkg_resources.html. The pkg_resources package is slated for removal as early as 2025-11-30. Refrain from using this package or pin to Setuptools<81.\n",
      "  return _ForkingPickler.loads(res)\n",
      "/usr/lib/python3.12/multiprocessing/queues.py:122: UserWarning: pkg_resources is deprecated as an API. See https://setuptools.pypa.io/en/latest/pkg_resources.html. The pkg_resources package is slated for removal as early as 2025-11-30. Refrain from using this package or pin to Setuptools<81.\n",
      "  return _ForkingPickler.loads(res)\n",
      "/usr/lib/python3.12/multiprocessing/queues.py:122: UserWarning: pkg_resources is deprecated as an API. See https://setuptools.pypa.io/en/latest/pkg_resources.html. The pkg_resources package is slated for removal as early as 2025-11-30. Refrain from using this package or pin to Setuptools<81.\n",
      "  return _ForkingPickler.loads(res)\n",
      "/usr/lib/python3.12/multiprocessing/queues.py:122: UserWarning: pkg_resources is deprecated as an API. See https://setuptools.pypa.io/en/latest/pkg_resources.html. The pkg_resources package is slated for removal as early as 2025-11-30. Refrain from using this package or pin to Setuptools<81.\n",
      "  return _ForkingPickler.loads(res)\n",
      "/usr/lib/python3.12/multiprocessing/queues.py:122: UserWarning: pkg_resources is deprecated as an API. See https://setuptools.pypa.io/en/latest/pkg_resources.html. The pkg_resources package is slated for removal as early as 2025-11-30. Refrain from using this package or pin to Setuptools<81.\n",
      "  return _ForkingPickler.loads(res)\n",
      "/usr/lib/python3.12/multiprocessing/queues.py:122: UserWarning: pkg_resources is deprecated as an API. See https://setuptools.pypa.io/en/latest/pkg_resources.html. The pkg_resources package is slated for removal as early as 2025-11-30. Refrain from using this package or pin to Setuptools<81.\n",
      "  return _ForkingPickler.loads(res)\n",
      "/usr/lib/python3.12/multiprocessing/queues.py:122: UserWarning: pkg_resources is deprecated as an API. See https://setuptools.pypa.io/en/latest/pkg_resources.html. The pkg_resources package is slated for removal as early as 2025-11-30. Refrain from using this package or pin to Setuptools<81.\n",
      "  return _ForkingPickler.loads(res)\n",
      "/usr/lib/python3.12/multiprocessing/queues.py:122: UserWarning: pkg_resources is deprecated as an API. See https://setuptools.pypa.io/en/latest/pkg_resources.html. The pkg_resources package is slated for removal as early as 2025-11-30. Refrain from using this package or pin to Setuptools<81.\n",
      "  return _ForkingPickler.loads(res)\n",
      "/usr/lib/python3.12/multiprocessing/queues.py:122: UserWarning: pkg_resources is deprecated as an API. See https://setuptools.pypa.io/en/latest/pkg_resources.html. The pkg_resources package is slated for removal as early as 2025-11-30. Refrain from using this package or pin to Setuptools<81.\n",
      "  return _ForkingPickler.loads(res)\n",
      "/usr/lib/python3.12/multiprocessing/queues.py:122: UserWarning: pkg_resources is deprecated as an API. See https://setuptools.pypa.io/en/latest/pkg_resources.html. The pkg_resources package is slated for removal as early as 2025-11-30. Refrain from using this package or pin to Setuptools<81.\n",
      "  return _ForkingPickler.loads(res)\n",
      "/usr/lib/python3.12/multiprocessing/queues.py:122: UserWarning: pkg_resources is deprecated as an API. See https://setuptools.pypa.io/en/latest/pkg_resources.html. The pkg_resources package is slated for removal as early as 2025-11-30. Refrain from using this package or pin to Setuptools<81.\n",
      "  return _ForkingPickler.loads(res)\n",
      "/usr/lib/python3.12/multiprocessing/queues.py:122: UserWarning: pkg_resources is deprecated as an API. See https://setuptools.pypa.io/en/latest/pkg_resources.html. The pkg_resources package is slated for removal as early as 2025-11-30. Refrain from using this package or pin to Setuptools<81.\n",
      "  return _ForkingPickler.loads(res)\n",
      "/usr/lib/python3.12/multiprocessing/queues.py:122: UserWarning: pkg_resources is deprecated as an API. See https://setuptools.pypa.io/en/latest/pkg_resources.html. The pkg_resources package is slated for removal as early as 2025-11-30. Refrain from using this package or pin to Setuptools<81.\n",
      "  return _ForkingPickler.loads(res)\n",
      "/usr/lib/python3.12/multiprocessing/queues.py:122: UserWarning: pkg_resources is deprecated as an API. See https://setuptools.pypa.io/en/latest/pkg_resources.html. The pkg_resources package is slated for removal as early as 2025-11-30. Refrain from using this package or pin to Setuptools<81.\n",
      "  return _ForkingPickler.loads(res)\n",
      "/usr/lib/python3.12/multiprocessing/queues.py:122: UserWarning: pkg_resources is deprecated as an API. See https://setuptools.pypa.io/en/latest/pkg_resources.html. The pkg_resources package is slated for removal as early as 2025-11-30. Refrain from using this package or pin to Setuptools<81.\n",
      "  return _ForkingPickler.loads(res)\n",
      "/usr/lib/python3.12/multiprocessing/queues.py:122: UserWarning: pkg_resources is deprecated as an API. See https://setuptools.pypa.io/en/latest/pkg_resources.html. The pkg_resources package is slated for removal as early as 2025-11-30. Refrain from using this package or pin to Setuptools<81.\n",
      "  return _ForkingPickler.loads(res)\n",
      "/usr/lib/python3.12/multiprocessing/queues.py:122: UserWarning: pkg_resources is deprecated as an API. See https://setuptools.pypa.io/en/latest/pkg_resources.html. The pkg_resources package is slated for removal as early as 2025-11-30. Refrain from using this package or pin to Setuptools<81.\n",
      "  return _ForkingPickler.loads(res)\n",
      "/usr/lib/python3.12/multiprocessing/queues.py:122: UserWarning: pkg_resources is deprecated as an API. See https://setuptools.pypa.io/en/latest/pkg_resources.html. The pkg_resources package is slated for removal as early as 2025-11-30. Refrain from using this package or pin to Setuptools<81.\n",
      "  return _ForkingPickler.loads(res)\n",
      "/usr/lib/python3.12/multiprocessing/queues.py:122: UserWarning: pkg_resources is deprecated as an API. See https://setuptools.pypa.io/en/latest/pkg_resources.html. The pkg_resources package is slated for removal as early as 2025-11-30. Refrain from using this package or pin to Setuptools<81.\n",
      "  return _ForkingPickler.loads(res)\n",
      "/usr/lib/python3.12/multiprocessing/queues.py:122: UserWarning: pkg_resources is deprecated as an API. See https://setuptools.pypa.io/en/latest/pkg_resources.html. The pkg_resources package is slated for removal as early as 2025-11-30. Refrain from using this package or pin to Setuptools<81.\n",
      "  return _ForkingPickler.loads(res)\n",
      "/usr/lib/python3.12/multiprocessing/queues.py:122: UserWarning: pkg_resources is deprecated as an API. See https://setuptools.pypa.io/en/latest/pkg_resources.html. The pkg_resources package is slated for removal as early as 2025-11-30. Refrain from using this package or pin to Setuptools<81.\n",
      "  return _ForkingPickler.loads(res)\n",
      "/usr/lib/python3.12/multiprocessing/queues.py:122: UserWarning: pkg_resources is deprecated as an API. See https://setuptools.pypa.io/en/latest/pkg_resources.html. The pkg_resources package is slated for removal as early as 2025-11-30. Refrain from using this package or pin to Setuptools<81.\n",
      "  return _ForkingPickler.loads(res)\n",
      "/usr/lib/python3.12/multiprocessing/queues.py:122: UserWarning: pkg_resources is deprecated as an API. See https://setuptools.pypa.io/en/latest/pkg_resources.html. The pkg_resources package is slated for removal as early as 2025-11-30. Refrain from using this package or pin to Setuptools<81.\n",
      "  return _ForkingPickler.loads(res)\n",
      "/usr/lib/python3.12/multiprocessing/queues.py:122: UserWarning: pkg_resources is deprecated as an API. See https://setuptools.pypa.io/en/latest/pkg_resources.html. The pkg_resources package is slated for removal as early as 2025-11-30. Refrain from using this package or pin to Setuptools<81.\n",
      "  return _ForkingPickler.loads(res)\n",
      "/usr/lib/python3.12/multiprocessing/queues.py:122: UserWarning: pkg_resources is deprecated as an API. See https://setuptools.pypa.io/en/latest/pkg_resources.html. The pkg_resources package is slated for removal as early as 2025-11-30. Refrain from using this package or pin to Setuptools<81.\n",
      "  return _ForkingPickler.loads(res)\n",
      "/usr/lib/python3.12/multiprocessing/queues.py:122: UserWarning: pkg_resources is deprecated as an API. See https://setuptools.pypa.io/en/latest/pkg_resources.html. The pkg_resources package is slated for removal as early as 2025-11-30. Refrain from using this package or pin to Setuptools<81.\n",
      "  return _ForkingPickler.loads(res)\n",
      "/usr/lib/python3.12/multiprocessing/queues.py:122: UserWarning: pkg_resources is deprecated as an API. See https://setuptools.pypa.io/en/latest/pkg_resources.html. The pkg_resources package is slated for removal as early as 2025-11-30. Refrain from using this package or pin to Setuptools<81.\n",
      "  return _ForkingPickler.loads(res)\n",
      "/usr/lib/python3.12/multiprocessing/queues.py:122: UserWarning: pkg_resources is deprecated as an API. See https://setuptools.pypa.io/en/latest/pkg_resources.html. The pkg_resources package is slated for removal as early as 2025-11-30. Refrain from using this package or pin to Setuptools<81.\n",
      "  return _ForkingPickler.loads(res)\n",
      "/usr/lib/python3.12/multiprocessing/queues.py:122: UserWarning: pkg_resources is deprecated as an API. See https://setuptools.pypa.io/en/latest/pkg_resources.html. The pkg_resources package is slated for removal as early as 2025-11-30. Refrain from using this package or pin to Setuptools<81.\n",
      "  return _ForkingPickler.loads(res)\n",
      "/usr/lib/python3.12/multiprocessing/queues.py:122: UserWarning: pkg_resources is deprecated as an API. See https://setuptools.pypa.io/en/latest/pkg_resources.html. The pkg_resources package is slated for removal as early as 2025-11-30. Refrain from using this package or pin to Setuptools<81.\n",
      "  return _ForkingPickler.loads(res)\n",
      "/usr/lib/python3.12/multiprocessing/queues.py:122: UserWarning: pkg_resources is deprecated as an API. See https://setuptools.pypa.io/en/latest/pkg_resources.html. The pkg_resources package is slated for removal as early as 2025-11-30. Refrain from using this package or pin to Setuptools<81.\n",
      "  return _ForkingPickler.loads(res)\n",
      "/usr/lib/python3.12/multiprocessing/queues.py:122: UserWarning: pkg_resources is deprecated as an API. See https://setuptools.pypa.io/en/latest/pkg_resources.html. The pkg_resources package is slated for removal as early as 2025-11-30. Refrain from using this package or pin to Setuptools<81.\n",
      "  return _ForkingPickler.loads(res)\n",
      "/usr/lib/python3.12/multiprocessing/queues.py:122: UserWarning: pkg_resources is deprecated as an API. See https://setuptools.pypa.io/en/latest/pkg_resources.html. The pkg_resources package is slated for removal as early as 2025-11-30. Refrain from using this package or pin to Setuptools<81.\n",
      "  return _ForkingPickler.loads(res)\n",
      "/usr/lib/python3.12/multiprocessing/queues.py:122: UserWarning: pkg_resources is deprecated as an API. See https://setuptools.pypa.io/en/latest/pkg_resources.html. The pkg_resources package is slated for removal as early as 2025-11-30. Refrain from using this package or pin to Setuptools<81.\n",
      "  return _ForkingPickler.loads(res)\n",
      "/usr/lib/python3.12/multiprocessing/queues.py:122: UserWarning: pkg_resources is deprecated as an API. See https://setuptools.pypa.io/en/latest/pkg_resources.html. The pkg_resources package is slated for removal as early as 2025-11-30. Refrain from using this package or pin to Setuptools<81.\n",
      "  return _ForkingPickler.loads(res)\n",
      "/usr/lib/python3.12/multiprocessing/queues.py:122: UserWarning: pkg_resources is deprecated as an API. See https://setuptools.pypa.io/en/latest/pkg_resources.html. The pkg_resources package is slated for removal as early as 2025-11-30. Refrain from using this package or pin to Setuptools<81.\n",
      "  return _ForkingPickler.loads(res)\n",
      "/usr/lib/python3.12/multiprocessing/queues.py:122: UserWarning: pkg_resources is deprecated as an API. See https://setuptools.pypa.io/en/latest/pkg_resources.html. The pkg_resources package is slated for removal as early as 2025-11-30. Refrain from using this package or pin to Setuptools<81.\n",
      "  return _ForkingPickler.loads(res)\n",
      "/usr/lib/python3.12/multiprocessing/queues.py:122: UserWarning: pkg_resources is deprecated as an API. See https://setuptools.pypa.io/en/latest/pkg_resources.html. The pkg_resources package is slated for removal as early as 2025-11-30. Refrain from using this package or pin to Setuptools<81.\n",
      "  return _ForkingPickler.loads(res)\n",
      "/usr/lib/python3.12/multiprocessing/queues.py:122: UserWarning: pkg_resources is deprecated as an API. See https://setuptools.pypa.io/en/latest/pkg_resources.html. The pkg_resources package is slated for removal as early as 2025-11-30. Refrain from using this package or pin to Setuptools<81.\n",
      "  return _ForkingPickler.loads(res)\n",
      "/usr/lib/python3.12/multiprocessing/queues.py:122: UserWarning: pkg_resources is deprecated as an API. See https://setuptools.pypa.io/en/latest/pkg_resources.html. The pkg_resources package is slated for removal as early as 2025-11-30. Refrain from using this package or pin to Setuptools<81.\n",
      "  return _ForkingPickler.loads(res)\n",
      "/usr/lib/python3.12/multiprocessing/queues.py:122: UserWarning: pkg_resources is deprecated as an API. See https://setuptools.pypa.io/en/latest/pkg_resources.html. The pkg_resources package is slated for removal as early as 2025-11-30. Refrain from using this package or pin to Setuptools<81.\n",
      "  return _ForkingPickler.loads(res)\n",
      "/usr/lib/python3.12/multiprocessing/queues.py:122: UserWarning: pkg_resources is deprecated as an API. See https://setuptools.pypa.io/en/latest/pkg_resources.html. The pkg_resources package is slated for removal as early as 2025-11-30. Refrain from using this package or pin to Setuptools<81.\n",
      "  return _ForkingPickler.loads(res)\n",
      "/usr/lib/python3.12/multiprocessing/queues.py:122: UserWarning: pkg_resources is deprecated as an API. See https://setuptools.pypa.io/en/latest/pkg_resources.html. The pkg_resources package is slated for removal as early as 2025-11-30. Refrain from using this package or pin to Setuptools<81.\n",
      "  return _ForkingPickler.loads(res)\n",
      "/usr/lib/python3.12/multiprocessing/queues.py:122: UserWarning: pkg_resources is deprecated as an API. See https://setuptools.pypa.io/en/latest/pkg_resources.html. The pkg_resources package is slated for removal as early as 2025-11-30. Refrain from using this package or pin to Setuptools<81.\n",
      "  return _ForkingPickler.loads(res)\n",
      "/usr/lib/python3.12/multiprocessing/queues.py:122: UserWarning: pkg_resources is deprecated as an API. See https://setuptools.pypa.io/en/latest/pkg_resources.html. The pkg_resources package is slated for removal as early as 2025-11-30. Refrain from using this package or pin to Setuptools<81.\n",
      "  return _ForkingPickler.loads(res)\n",
      "/usr/lib/python3.12/multiprocessing/queues.py:122: UserWarning: pkg_resources is deprecated as an API. See https://setuptools.pypa.io/en/latest/pkg_resources.html. The pkg_resources package is slated for removal as early as 2025-11-30. Refrain from using this package or pin to Setuptools<81.\n",
      "  return _ForkingPickler.loads(res)\n",
      "/usr/lib/python3.12/multiprocessing/queues.py:122: UserWarning: pkg_resources is deprecated as an API. See https://setuptools.pypa.io/en/latest/pkg_resources.html. The pkg_resources package is slated for removal as early as 2025-11-30. Refrain from using this package or pin to Setuptools<81.\n",
      "  return _ForkingPickler.loads(res)\n"
     ]
    },
    {
     "name": "stdout",
     "output_type": "stream",
     "text": [
      "Score:  0.5847953216374269 Params: {'criterion': 'gini', 'n_estimators': 600}\n",
      "Results saved in data/results/token/results.csv\n",
      "0.7726608187134503\n",
      "              precision    recall  f1-score   support\n",
      "\n",
      "           0       0.81      0.45      0.58        49\n",
      "           1       0.30      0.28      0.29        40\n",
      "           2       0.78      0.30      0.44        23\n",
      "           3       0.77      0.84      0.81        32\n",
      "           4       0.61      0.65      0.62        31\n",
      "           5       0.67      0.13      0.22        31\n",
      "           6       0.90      0.90      0.90        20\n",
      "           7       0.71      0.15      0.24        34\n",
      "           8       1.00      1.00      1.00        22\n",
      "           9       1.00      0.72      0.84        18\n",
      "          10       0.48      0.38      0.43        39\n",
      "          11       1.00      1.00      1.00        34\n",
      "          12       0.35      0.24      0.28        38\n",
      "          13       1.00      0.86      0.92        42\n",
      "          14       1.00      1.00      1.00        28\n",
      "          15       1.00      0.87      0.93        23\n",
      "          16       0.89      0.86      0.87        28\n",
      "          17       0.36      1.00      0.53        30\n",
      "          18       0.97      0.50      0.66        56\n",
      "          19       0.76      0.68      0.72        28\n",
      "          20       0.96      0.96      0.96        25\n",
      "          21       0.79      1.00      0.88        15\n",
      "          22       0.64      0.21      0.31        34\n",
      "          23       0.77      0.92      0.84        36\n",
      "          24       0.29      0.58      0.39        38\n",
      "          25       0.83      1.00      0.91        20\n",
      "          26       0.97      0.90      0.94        41\n",
      "          27       1.00      0.91      0.95        23\n",
      "          28       0.87      0.87      0.87        23\n",
      "          29       0.84      0.91      0.87        34\n",
      "          30       1.00      1.00      1.00        16\n",
      "          31       0.95      1.00      0.98        21\n",
      "          32       1.00      1.00      1.00        24\n",
      "          33       0.95      0.90      0.93        21\n",
      "          34       1.00      1.00      1.00        28\n",
      "          35       0.47      0.17      0.25        41\n",
      "          36       1.00      1.00      1.00        18\n",
      "          37       0.56      0.19      0.28        27\n",
      "          38       1.00      1.00      1.00        16\n",
      "          39       1.00      1.00      1.00        31\n",
      "          40       0.93      0.90      0.92        30\n",
      "          41       0.28      0.55      0.37        33\n",
      "          42       0.93      0.93      0.93        29\n",
      "          43       1.00      1.00      1.00        17\n",
      "          44       0.96      0.96      0.96        28\n",
      "          45       0.32      0.59      0.41        32\n",
      "          46       0.79      1.00      0.88        26\n",
      "          47       0.29      0.31      0.30        32\n",
      "          48       0.85      0.88      0.86        25\n",
      "          49       1.00      1.00      1.00        24\n",
      "          50       0.88      0.88      0.88        32\n",
      "          51       1.00      1.00      1.00        23\n",
      "          52       1.00      1.00      1.00        19\n",
      "          53       0.50      0.36      0.42        42\n",
      "          54       0.28      0.81      0.42        27\n",
      "          55       0.93      0.93      0.93        30\n",
      "          56       0.47      0.56      0.51        43\n",
      "          57       0.96      1.00      0.98        23\n",
      "          58       0.88      1.00      0.94        22\n",
      "          59       0.96      0.81      0.88        32\n",
      "          60       1.00      1.00      1.00        35\n",
      "          61       0.81      0.75      0.78        51\n",
      "          62       0.91      0.97      0.94        31\n",
      "          63       0.67      0.67      0.67        33\n",
      "          64       0.97      1.00      0.98        28\n",
      "          65       1.00      1.00      1.00        23\n",
      "          66       0.84      0.81      0.82        26\n",
      "          67       0.81      0.81      0.81        27\n",
      "          68       0.90      0.88      0.89        32\n",
      "          69       0.92      0.85      0.88        26\n",
      "          70       0.78      0.81      0.79        31\n",
      "          71       0.91      0.84      0.87        37\n",
      "          72       1.00      1.00      1.00        22\n",
      "          73       0.94      1.00      0.97        34\n",
      "          74       0.86      0.93      0.89        27\n",
      "          75       0.35      0.23      0.28        30\n",
      "          76       0.92      1.00      0.96        23\n",
      "          77       1.00      0.84      0.91        19\n",
      "          78       0.86      0.94      0.90        34\n",
      "          79       0.42      0.74      0.53        31\n",
      "          80       0.96      1.00      0.98        25\n",
      "          81       0.94      1.00      0.97        16\n",
      "          82       0.91      1.00      0.95        30\n",
      "          83       1.00      0.86      0.93        29\n",
      "          84       0.94      0.94      0.94        31\n",
      "          85       0.94      1.00      0.97        17\n",
      "          86       0.89      0.96      0.92        25\n",
      "          87       1.00      1.00      1.00        31\n",
      "          88       1.00      0.50      0.67        42\n",
      "          89       1.00      1.00      1.00        25\n",
      "          90       0.81      0.90      0.85        29\n",
      "          91       0.88      0.88      0.88        17\n",
      "          92       1.00      1.00      1.00        21\n",
      "          93       1.00      1.00      1.00        26\n",
      "          94       0.85      0.88      0.86        25\n",
      "\n",
      "    accuracy                           0.77      2736\n",
      "   macro avg       0.83      0.81      0.80      2736\n",
      "weighted avg       0.80      0.77      0.77      2736\n",
      "\n"
     ]
    }
   ],
   "execution_count": 26
  },
  {
   "metadata": {
    "ExecuteTime": {
     "end_time": "2025-06-21T21:27:18.475189Z",
     "start_time": "2025-06-21T21:26:56.444353Z"
    }
   },
   "cell_type": "code",
   "source": [
    "best_model = model_tkn if acc_tkn > acc_vec else model_vec\n",
    "filename = 'models/RFC_model.pkl'\n",
    "joblib.dump(model_vec, filename)\n",
    "print('Model RF saved in {}'.format(filename))"
   ],
   "outputs": [
    {
     "name": "stdout",
     "output_type": "stream",
     "text": [
      "Model RF saved in models/RFC_model.pkl\n"
     ]
    }
   ],
   "execution_count": 20
  },
  {
   "cell_type": "markdown",
   "source": [
    "### MLP"
   ],
   "metadata": {
    "id": "eJxMwuE6YifW"
   }
  },
  {
   "cell_type": "code",
   "source": [
    "def mlp_model(X_train, X_test, X_val, y_train, y_test, y_val, vec='tf-idf'):\n",
    "    y_train_categorical = [int(np.argmax(y)) for y in y_train]\n",
    "    y_test_categorical = [int(np.argmax(y)) for y in y_test]\n",
    "    y_val_categorical = [int(np.argmax(y)) for y in y_val]\n",
    "    rng = np.random.RandomState(0)\n",
    "    param_grid = {\n",
    "        'hidden_layer_sizes': [(8,32,16), (16,64,32), (32,128,64), (32,64,128,64,32)], # 56, 112, 224, 320, 640\n",
    "        'max_iter': [200, 400, 600, 800, 1000],\n",
    "        'activation': ['relu', 'tanh', 'identity'],\n",
    "        'solver': ['adam'],\n",
    "        'alpha': [0.0001, 0.001],\n",
    "        'learning_rate': ['adaptive', 'constant'],\n",
    "    }\n",
    "    model = MLPClassifier(hidden_layer_sizes=200, max_iter=400, learning_rate='adaptive')\n",
    "    rsh = HalvingGridSearchCV(estimator=model, param_grid=param_grid, random_state=rng, factor=3, n_jobs=-1)\n",
    "    rsh.fit(X_val, y_val_categorical)\n",
    "    score = rsh.score(X_test, y_test_categorical)\n",
    "    print(\"Score: \", score, \"Params:\", rsh.best_params_)\n",
    "\n",
    "    model = MLPClassifier(\n",
    "        hidden_layer_sizes=rsh.best_params_['hidden_layer_sizes'],\n",
    "        max_iter=rsh.best_params_['max_iter'],\n",
    "        activation=rsh.best_params_['activation'],\n",
    "        solver=rsh.best_params_['solver'],\n",
    "        alpha=rsh.best_params_['alpha'],\n",
    "        learning_rate=rsh.best_params_['learning_rate'],\n",
    "    )\n",
    "    model.fit(X_val, y_val_categorical)\n",
    "    model.fit(X_train, y_train_categorical)\n",
    "    prediction = model.predict(X_test)\n",
    "    accuracy = accuracy_score(y_test_categorical, prediction)\n",
    "    print('Accuracy: {} updated'.format(accuracy))\n",
    "    save_results(prediction, 'MLP', vec, False)\n",
    "    print(accuracy)\n",
    "    print(metrics.classification_report(y_test_categorical, prediction))\n",
    "    return model, accuracy"
   ],
   "metadata": {
    "colab": {
     "base_uri": "https://localhost:8080/",
     "height": 115
    },
    "id": "KOUJND5JYj2_",
    "executionInfo": {
     "status": "ok",
     "timestamp": 1750417569827,
     "user_tz": 180,
     "elapsed": 19010,
     "user": {
      "displayName": "Joao Paulo Felix",
      "userId": "12626999418256548582"
     }
    },
    "outputId": "01ed2c31-ca60-4ffa-cf71-d32e200e8e3a",
    "ExecuteTime": {
     "end_time": "2025-06-22T23:35:45.433642Z",
     "start_time": "2025-06-22T23:35:45.429717Z"
    }
   },
   "outputs": [],
   "execution_count": 23
  },
  {
   "cell_type": "code",
   "source": "mlp_model_vec, mlp_acc_vec = mlp_model(X_train_vec, X_test_vec, X_val_vec, y_train_vec, y_test_vec, y_val_vec, 'tf-idf')",
   "metadata": {
    "colab": {
     "base_uri": "https://localhost:8080/"
    },
    "id": "uuar8pNdZl4a",
    "executionInfo": {
     "status": "ok",
     "timestamp": 1750417572459,
     "user_tz": 180,
     "elapsed": 40,
     "user": {
      "displayName": "Joao Paulo Felix",
      "userId": "12626999418256548582"
     }
    },
    "outputId": "d6e657fb-db05-42ae-e297-41bbd286c756",
    "ExecuteTime": {
     "end_time": "2025-06-22T23:08:45.213103Z",
     "start_time": "2025-06-22T19:37:42.435858Z"
    }
   },
   "outputs": [
    {
     "name": "stderr",
     "output_type": "stream",
     "text": [
      "/usr/lib/python3.12/multiprocessing/queues.py:122: UserWarning: pkg_resources is deprecated as an API. See https://setuptools.pypa.io/en/latest/pkg_resources.html. The pkg_resources package is slated for removal as early as 2025-11-30. Refrain from using this package or pin to Setuptools<81.\n",
      "  return _ForkingPickler.loads(res)\n",
      "/usr/lib/python3.12/multiprocessing/queues.py:122: UserWarning: pkg_resources is deprecated as an API. See https://setuptools.pypa.io/en/latest/pkg_resources.html. The pkg_resources package is slated for removal as early as 2025-11-30. Refrain from using this package or pin to Setuptools<81.\n",
      "  return _ForkingPickler.loads(res)\n",
      "/usr/lib/python3.12/multiprocessing/queues.py:122: UserWarning: pkg_resources is deprecated as an API. See https://setuptools.pypa.io/en/latest/pkg_resources.html. The pkg_resources package is slated for removal as early as 2025-11-30. Refrain from using this package or pin to Setuptools<81.\n",
      "  return _ForkingPickler.loads(res)\n",
      "/usr/lib/python3.12/multiprocessing/queues.py:122: UserWarning: pkg_resources is deprecated as an API. See https://setuptools.pypa.io/en/latest/pkg_resources.html. The pkg_resources package is slated for removal as early as 2025-11-30. Refrain from using this package or pin to Setuptools<81.\n",
      "  return _ForkingPickler.loads(res)\n",
      "/usr/lib/python3.12/multiprocessing/queues.py:122: UserWarning: pkg_resources is deprecated as an API. See https://setuptools.pypa.io/en/latest/pkg_resources.html. The pkg_resources package is slated for removal as early as 2025-11-30. Refrain from using this package or pin to Setuptools<81.\n",
      "  return _ForkingPickler.loads(res)\n",
      "/usr/lib/python3.12/multiprocessing/queues.py:122: UserWarning: pkg_resources is deprecated as an API. See https://setuptools.pypa.io/en/latest/pkg_resources.html. The pkg_resources package is slated for removal as early as 2025-11-30. Refrain from using this package or pin to Setuptools<81.\n",
      "  return _ForkingPickler.loads(res)\n",
      "/usr/lib/python3.12/multiprocessing/queues.py:122: UserWarning: pkg_resources is deprecated as an API. See https://setuptools.pypa.io/en/latest/pkg_resources.html. The pkg_resources package is slated for removal as early as 2025-11-30. Refrain from using this package or pin to Setuptools<81.\n",
      "  return _ForkingPickler.loads(res)\n",
      "/usr/lib/python3.12/multiprocessing/queues.py:122: UserWarning: pkg_resources is deprecated as an API. See https://setuptools.pypa.io/en/latest/pkg_resources.html. The pkg_resources package is slated for removal as early as 2025-11-30. Refrain from using this package or pin to Setuptools<81.\n",
      "  return _ForkingPickler.loads(res)\n",
      "/usr/lib/python3.12/multiprocessing/queues.py:122: UserWarning: pkg_resources is deprecated as an API. See https://setuptools.pypa.io/en/latest/pkg_resources.html. The pkg_resources package is slated for removal as early as 2025-11-30. Refrain from using this package or pin to Setuptools<81.\n",
      "  return _ForkingPickler.loads(res)\n",
      "/usr/lib/python3.12/multiprocessing/queues.py:122: UserWarning: pkg_resources is deprecated as an API. See https://setuptools.pypa.io/en/latest/pkg_resources.html. The pkg_resources package is slated for removal as early as 2025-11-30. Refrain from using this package or pin to Setuptools<81.\n",
      "  return _ForkingPickler.loads(res)\n",
      "/usr/lib/python3.12/multiprocessing/queues.py:122: UserWarning: pkg_resources is deprecated as an API. See https://setuptools.pypa.io/en/latest/pkg_resources.html. The pkg_resources package is slated for removal as early as 2025-11-30. Refrain from using this package or pin to Setuptools<81.\n",
      "  return _ForkingPickler.loads(res)\n",
      "/usr/lib/python3.12/multiprocessing/queues.py:122: UserWarning: pkg_resources is deprecated as an API. See https://setuptools.pypa.io/en/latest/pkg_resources.html. The pkg_resources package is slated for removal as early as 2025-11-30. Refrain from using this package or pin to Setuptools<81.\n",
      "  return _ForkingPickler.loads(res)\n",
      "/usr/lib/python3.12/multiprocessing/queues.py:122: UserWarning: pkg_resources is deprecated as an API. See https://setuptools.pypa.io/en/latest/pkg_resources.html. The pkg_resources package is slated for removal as early as 2025-11-30. Refrain from using this package or pin to Setuptools<81.\n",
      "  return _ForkingPickler.loads(res)\n",
      "/usr/lib/python3.12/multiprocessing/queues.py:122: UserWarning: pkg_resources is deprecated as an API. See https://setuptools.pypa.io/en/latest/pkg_resources.html. The pkg_resources package is slated for removal as early as 2025-11-30. Refrain from using this package or pin to Setuptools<81.\n",
      "  return _ForkingPickler.loads(res)\n",
      "/usr/lib/python3.12/multiprocessing/queues.py:122: UserWarning: pkg_resources is deprecated as an API. See https://setuptools.pypa.io/en/latest/pkg_resources.html. The pkg_resources package is slated for removal as early as 2025-11-30. Refrain from using this package or pin to Setuptools<81.\n",
      "  return _ForkingPickler.loads(res)\n",
      "/usr/lib/python3.12/multiprocessing/queues.py:122: UserWarning: pkg_resources is deprecated as an API. See https://setuptools.pypa.io/en/latest/pkg_resources.html. The pkg_resources package is slated for removal as early as 2025-11-30. Refrain from using this package or pin to Setuptools<81.\n",
      "  return _ForkingPickler.loads(res)\n"
     ]
    },
    {
     "name": "stdout",
     "output_type": "stream",
     "text": [
      "Score:  0.8607456140350878 Params: {'activation': 'tanh', 'alpha': 0.001, 'hidden_layer_sizes': (32, 128, 64), 'learning_rate': 'constant', 'max_iter': 400, 'solver': 'adam'}\n",
      "0.9539473684210527\n",
      "              precision    recall  f1-score   support\n",
      "\n",
      "           0       0.92      0.96      0.94        49\n",
      "           1       0.94      0.82      0.88        40\n",
      "           2       0.81      0.91      0.86        23\n",
      "           3       1.00      1.00      1.00        32\n",
      "           4       0.97      0.90      0.93        31\n",
      "           5       0.71      0.77      0.74        31\n",
      "           6       1.00      1.00      1.00        20\n",
      "           7       0.75      0.62      0.68        34\n",
      "           8       1.00      1.00      1.00        22\n",
      "           9       1.00      1.00      1.00        18\n",
      "          10       0.97      0.82      0.89        39\n",
      "          11       1.00      1.00      1.00        34\n",
      "          12       0.89      0.87      0.88        38\n",
      "          13       1.00      1.00      1.00        42\n",
      "          14       1.00      1.00      1.00        28\n",
      "          15       0.95      0.91      0.93        23\n",
      "          16       1.00      0.93      0.96        28\n",
      "          17       0.67      0.97      0.79        30\n",
      "          18       0.95      0.95      0.95        56\n",
      "          19       1.00      1.00      1.00        28\n",
      "          20       1.00      1.00      1.00        25\n",
      "          21       1.00      1.00      1.00        15\n",
      "          22       0.97      0.82      0.89        34\n",
      "          23       1.00      1.00      1.00        36\n",
      "          24       0.80      0.63      0.71        38\n",
      "          25       1.00      1.00      1.00        20\n",
      "          26       1.00      1.00      1.00        41\n",
      "          27       1.00      1.00      1.00        23\n",
      "          28       1.00      1.00      1.00        23\n",
      "          29       1.00      1.00      1.00        34\n",
      "          30       0.94      1.00      0.97        16\n",
      "          31       0.95      1.00      0.98        21\n",
      "          32       1.00      1.00      1.00        24\n",
      "          33       1.00      1.00      1.00        21\n",
      "          34       1.00      1.00      1.00        28\n",
      "          35       0.88      0.85      0.86        41\n",
      "          36       1.00      1.00      1.00        18\n",
      "          37       0.86      0.89      0.87        27\n",
      "          38       0.94      1.00      0.97        16\n",
      "          39       1.00      1.00      1.00        31\n",
      "          40       1.00      1.00      1.00        30\n",
      "          41       0.87      0.82      0.84        33\n",
      "          42       1.00      1.00      1.00        29\n",
      "          43       1.00      1.00      1.00        17\n",
      "          44       1.00      1.00      1.00        28\n",
      "          45       0.93      0.88      0.90        32\n",
      "          46       1.00      1.00      1.00        26\n",
      "          47       0.90      0.88      0.89        32\n",
      "          48       1.00      1.00      1.00        25\n",
      "          49       1.00      1.00      1.00        24\n",
      "          50       1.00      1.00      1.00        32\n",
      "          51       1.00      1.00      1.00        23\n",
      "          52       1.00      1.00      1.00        19\n",
      "          53       0.91      0.76      0.83        42\n",
      "          54       0.89      0.93      0.91        27\n",
      "          55       1.00      1.00      1.00        30\n",
      "          56       0.82      0.84      0.83        43\n",
      "          57       0.96      1.00      0.98        23\n",
      "          58       1.00      1.00      1.00        22\n",
      "          59       1.00      1.00      1.00        32\n",
      "          60       1.00      1.00      1.00        35\n",
      "          61       0.94      0.96      0.95        51\n",
      "          62       1.00      1.00      1.00        31\n",
      "          63       1.00      0.97      0.98        33\n",
      "          64       1.00      1.00      1.00        28\n",
      "          65       0.85      1.00      0.92        23\n",
      "          66       1.00      1.00      1.00        26\n",
      "          67       1.00      1.00      1.00        27\n",
      "          68       1.00      1.00      1.00        32\n",
      "          69       1.00      1.00      1.00        26\n",
      "          70       1.00      1.00      1.00        31\n",
      "          71       0.95      1.00      0.97        37\n",
      "          72       0.96      1.00      0.98        22\n",
      "          73       1.00      1.00      1.00        34\n",
      "          74       1.00      1.00      1.00        27\n",
      "          75       0.91      0.97      0.94        30\n",
      "          76       1.00      1.00      1.00        23\n",
      "          77       1.00      1.00      1.00        19\n",
      "          78       1.00      1.00      1.00        34\n",
      "          79       0.75      0.87      0.81        31\n",
      "          80       1.00      1.00      1.00        25\n",
      "          81       0.94      1.00      0.97        16\n",
      "          82       1.00      1.00      1.00        30\n",
      "          83       1.00      1.00      1.00        29\n",
      "          84       1.00      1.00      1.00        31\n",
      "          85       1.00      1.00      1.00        17\n",
      "          86       1.00      1.00      1.00        25\n",
      "          87       1.00      1.00      1.00        31\n",
      "          88       0.83      0.95      0.89        42\n",
      "          89       1.00      1.00      1.00        25\n",
      "          90       1.00      1.00      1.00        29\n",
      "          91       1.00      1.00      1.00        17\n",
      "          92       1.00      1.00      1.00        21\n",
      "          93       1.00      1.00      1.00        26\n",
      "          94       1.00      1.00      1.00        25\n",
      "\n",
      "    accuracy                           0.95      2736\n",
      "   macro avg       0.96      0.96      0.96      2736\n",
      "weighted avg       0.96      0.95      0.95      2736\n",
      "\n"
     ]
    }
   ],
   "execution_count": 18
  },
  {
   "metadata": {
    "ExecuteTime": {
     "end_time": "2025-06-22T23:45:39.570931Z",
     "start_time": "2025-06-22T23:35:48.301232Z"
    }
   },
   "cell_type": "code",
   "source": "mlp_model_tkn, mlp_acc_tkn = mlp_model(X_train_tkn, X_test_tkn, X_val_tkn, y_train_tkn, y_test_tkn, y_val_tkn, 'token')",
   "outputs": [
    {
     "name": "stderr",
     "output_type": "stream",
     "text": [
      "/usr/lib/python3.12/multiprocessing/queues.py:122: UserWarning: pkg_resources is deprecated as an API. See https://setuptools.pypa.io/en/latest/pkg_resources.html. The pkg_resources package is slated for removal as early as 2025-11-30. Refrain from using this package or pin to Setuptools<81.\n",
      "  return _ForkingPickler.loads(res)\n",
      "/usr/lib/python3.12/multiprocessing/queues.py:122: UserWarning: pkg_resources is deprecated as an API. See https://setuptools.pypa.io/en/latest/pkg_resources.html. The pkg_resources package is slated for removal as early as 2025-11-30. Refrain from using this package or pin to Setuptools<81.\n",
      "  return _ForkingPickler.loads(res)\n",
      "/usr/lib/python3.12/multiprocessing/queues.py:122: UserWarning: pkg_resources is deprecated as an API. See https://setuptools.pypa.io/en/latest/pkg_resources.html. The pkg_resources package is slated for removal as early as 2025-11-30. Refrain from using this package or pin to Setuptools<81.\n",
      "  return _ForkingPickler.loads(res)\n",
      "/usr/lib/python3.12/multiprocessing/queues.py:122: UserWarning: pkg_resources is deprecated as an API. See https://setuptools.pypa.io/en/latest/pkg_resources.html. The pkg_resources package is slated for removal as early as 2025-11-30. Refrain from using this package or pin to Setuptools<81.\n",
      "  return _ForkingPickler.loads(res)\n",
      "/usr/lib/python3.12/multiprocessing/queues.py:122: UserWarning: pkg_resources is deprecated as an API. See https://setuptools.pypa.io/en/latest/pkg_resources.html. The pkg_resources package is slated for removal as early as 2025-11-30. Refrain from using this package or pin to Setuptools<81.\n",
      "  return _ForkingPickler.loads(res)\n",
      "/usr/lib/python3.12/multiprocessing/queues.py:122: UserWarning: pkg_resources is deprecated as an API. See https://setuptools.pypa.io/en/latest/pkg_resources.html. The pkg_resources package is slated for removal as early as 2025-11-30. Refrain from using this package or pin to Setuptools<81.\n",
      "  return _ForkingPickler.loads(res)\n",
      "/usr/lib/python3.12/multiprocessing/queues.py:122: UserWarning: pkg_resources is deprecated as an API. See https://setuptools.pypa.io/en/latest/pkg_resources.html. The pkg_resources package is slated for removal as early as 2025-11-30. Refrain from using this package or pin to Setuptools<81.\n",
      "  return _ForkingPickler.loads(res)\n",
      "/usr/lib/python3.12/multiprocessing/queues.py:122: UserWarning: pkg_resources is deprecated as an API. See https://setuptools.pypa.io/en/latest/pkg_resources.html. The pkg_resources package is slated for removal as early as 2025-11-30. Refrain from using this package or pin to Setuptools<81.\n",
      "  return _ForkingPickler.loads(res)\n",
      "/usr/lib/python3.12/multiprocessing/queues.py:122: UserWarning: pkg_resources is deprecated as an API. See https://setuptools.pypa.io/en/latest/pkg_resources.html. The pkg_resources package is slated for removal as early as 2025-11-30. Refrain from using this package or pin to Setuptools<81.\n",
      "  return _ForkingPickler.loads(res)\n",
      "/usr/lib/python3.12/multiprocessing/queues.py:122: UserWarning: pkg_resources is deprecated as an API. See https://setuptools.pypa.io/en/latest/pkg_resources.html. The pkg_resources package is slated for removal as early as 2025-11-30. Refrain from using this package or pin to Setuptools<81.\n",
      "  return _ForkingPickler.loads(res)\n",
      "/usr/lib/python3.12/multiprocessing/queues.py:122: UserWarning: pkg_resources is deprecated as an API. See https://setuptools.pypa.io/en/latest/pkg_resources.html. The pkg_resources package is slated for removal as early as 2025-11-30. Refrain from using this package or pin to Setuptools<81.\n",
      "  return _ForkingPickler.loads(res)\n",
      "/usr/lib/python3.12/multiprocessing/queues.py:122: UserWarning: pkg_resources is deprecated as an API. See https://setuptools.pypa.io/en/latest/pkg_resources.html. The pkg_resources package is slated for removal as early as 2025-11-30. Refrain from using this package or pin to Setuptools<81.\n",
      "  return _ForkingPickler.loads(res)\n",
      "/usr/lib/python3.12/multiprocessing/queues.py:122: UserWarning: pkg_resources is deprecated as an API. See https://setuptools.pypa.io/en/latest/pkg_resources.html. The pkg_resources package is slated for removal as early as 2025-11-30. Refrain from using this package or pin to Setuptools<81.\n",
      "  return _ForkingPickler.loads(res)\n",
      "/usr/lib/python3.12/multiprocessing/queues.py:122: UserWarning: pkg_resources is deprecated as an API. See https://setuptools.pypa.io/en/latest/pkg_resources.html. The pkg_resources package is slated for removal as early as 2025-11-30. Refrain from using this package or pin to Setuptools<81.\n",
      "  return _ForkingPickler.loads(res)\n",
      "/usr/lib/python3.12/multiprocessing/queues.py:122: UserWarning: pkg_resources is deprecated as an API. See https://setuptools.pypa.io/en/latest/pkg_resources.html. The pkg_resources package is slated for removal as early as 2025-11-30. Refrain from using this package or pin to Setuptools<81.\n",
      "  return _ForkingPickler.loads(res)\n",
      "/usr/lib/python3.12/multiprocessing/queues.py:122: UserWarning: pkg_resources is deprecated as an API. See https://setuptools.pypa.io/en/latest/pkg_resources.html. The pkg_resources package is slated for removal as early as 2025-11-30. Refrain from using this package or pin to Setuptools<81.\n",
      "  return _ForkingPickler.loads(res)\n"
     ]
    },
    {
     "name": "stdout",
     "output_type": "stream",
     "text": [
      "Score:  0.21089181286549707 Params: {'activation': 'identity', 'alpha': 0.0001, 'hidden_layer_sizes': (32, 128, 64), 'learning_rate': 'constant', 'max_iter': 600, 'solver': 'adam'}\n",
      "Accuracy: 0.27010233918128657 updated\n",
      "Results saved in data/results/token/results.csv\n",
      "0.27010233918128657\n",
      "              precision    recall  f1-score   support\n",
      "\n",
      "           0       0.00      0.00      0.00        49\n",
      "           1       0.08      0.10      0.09        40\n",
      "           2       0.19      0.22      0.20        23\n",
      "           3       0.00      0.00      0.00        32\n",
      "           4       0.00      0.00      0.00        31\n",
      "           5       0.11      0.06      0.08        31\n",
      "           6       0.11      0.20      0.14        20\n",
      "           7       0.07      0.09      0.08        34\n",
      "           8       1.00      1.00      1.00        22\n",
      "           9       0.32      0.67      0.44        18\n",
      "          10       0.13      0.05      0.07        39\n",
      "          11       0.82      0.79      0.81        34\n",
      "          12       0.18      0.11      0.13        38\n",
      "          13       0.24      0.40      0.30        42\n",
      "          14       0.90      1.00      0.95        28\n",
      "          15       0.77      0.87      0.82        23\n",
      "          16       0.17      0.18      0.18        28\n",
      "          17       0.03      0.03      0.03        30\n",
      "          18       0.07      0.04      0.05        56\n",
      "          19       0.16      0.18      0.17        28\n",
      "          20       0.15      0.40      0.22        25\n",
      "          21       0.75      0.60      0.67        15\n",
      "          22       0.00      0.00      0.00        34\n",
      "          23       0.05      0.08      0.07        36\n",
      "          24       0.00      0.00      0.00        38\n",
      "          25       0.05      0.10      0.06        20\n",
      "          26       0.15      0.07      0.10        41\n",
      "          27       0.07      0.17      0.10        23\n",
      "          28       0.17      0.09      0.11        23\n",
      "          29       0.38      0.09      0.14        34\n",
      "          30       0.76      1.00      0.86        16\n",
      "          31       0.92      0.57      0.71        21\n",
      "          32       0.73      1.00      0.84        24\n",
      "          33       0.20      0.38      0.26        21\n",
      "          34       0.12      0.18      0.14        28\n",
      "          35       0.06      0.02      0.04        41\n",
      "          36       0.94      0.94      0.94        18\n",
      "          37       0.00      0.00      0.00        27\n",
      "          38       0.94      1.00      0.97        16\n",
      "          39       0.97      0.97      0.97        31\n",
      "          40       0.11      0.27      0.16        30\n",
      "          41       0.02      0.03      0.02        33\n",
      "          42       0.15      0.14      0.14        29\n",
      "          43       0.85      1.00      0.92        17\n",
      "          44       0.16      0.46      0.24        28\n",
      "          45       0.05      0.06      0.06        32\n",
      "          46       0.21      0.42      0.28        26\n",
      "          47       0.00      0.00      0.00        32\n",
      "          48       0.00      0.00      0.00        25\n",
      "          49       0.73      0.79      0.76        24\n",
      "          50       0.15      0.06      0.09        32\n",
      "          51       0.85      1.00      0.92        23\n",
      "          52       1.00      0.89      0.94        19\n",
      "          53       0.08      0.07      0.07        42\n",
      "          54       0.06      0.11      0.08        27\n",
      "          55       0.50      0.07      0.12        30\n",
      "          56       0.12      0.12      0.12        43\n",
      "          57       0.61      0.96      0.75        23\n",
      "          58       0.14      0.18      0.16        22\n",
      "          59       0.10      0.19      0.13        32\n",
      "          60       0.12      0.03      0.05        35\n",
      "          61       0.00      0.00      0.00        51\n",
      "          62       0.30      0.10      0.15        31\n",
      "          63       0.04      0.03      0.04        33\n",
      "          64       0.71      0.96      0.82        28\n",
      "          65       0.96      1.00      0.98        23\n",
      "          66       0.00      0.00      0.00        26\n",
      "          67       0.00      0.00      0.00        27\n",
      "          68       0.08      0.16      0.10        32\n",
      "          69       0.05      0.12      0.07        26\n",
      "          70       1.00      0.03      0.06        31\n",
      "          71       0.00      0.00      0.00        37\n",
      "          72       1.00      1.00      1.00        22\n",
      "          73       0.12      0.12      0.12        34\n",
      "          74       0.09      0.07      0.08        27\n",
      "          75       0.04      0.03      0.04        30\n",
      "          76       0.50      0.96      0.66        23\n",
      "          77       0.00      0.00      0.00        19\n",
      "          78       0.00      0.00      0.00        34\n",
      "          79       0.03      0.03      0.03        31\n",
      "          80       0.14      0.08      0.10        25\n",
      "          81       0.89      1.00      0.94        16\n",
      "          82       0.15      0.43      0.23        30\n",
      "          83       0.17      0.07      0.10        29\n",
      "          84       0.22      0.42      0.29        31\n",
      "          85       0.75      0.53      0.62        17\n",
      "          86       0.00      0.00      0.00        25\n",
      "          87       0.33      0.58      0.42        31\n",
      "          88       0.12      0.07      0.09        42\n",
      "          89       0.86      1.00      0.93        25\n",
      "          90       0.18      0.10      0.13        29\n",
      "          91       0.00      0.00      0.00        17\n",
      "          92       0.15      0.19      0.17        21\n",
      "          93       1.00      0.92      0.96        26\n",
      "          94       0.03      0.04      0.04        25\n",
      "\n",
      "    accuracy                           0.27      2736\n",
      "   macro avg       0.30      0.32      0.29      2736\n",
      "weighted avg       0.26      0.27      0.25      2736\n",
      "\n"
     ]
    }
   ],
   "execution_count": 24
  },
  {
   "metadata": {
    "ExecuteTime": {
     "end_time": "2025-06-22T15:33:50.511914Z",
     "start_time": "2025-06-22T15:33:50.499128Z"
    }
   },
   "cell_type": "code",
   "source": [
    "best_mlp_model = mlp_model_tkn if mlp_acc_tkn > mlp_acc_vec else mlp_model_vec\n",
    "filename = 'models/MLP_model.pkl'\n",
    "joblib.dump(best_mlp_model, filename)\n",
    "print('Model MLP saved in {}'.format(filename))"
   ],
   "outputs": [
    {
     "name": "stdout",
     "output_type": "stream",
     "text": [
      "Model MLP saved in models/MLP_model.pkl\n"
     ]
    }
   ],
   "execution_count": 13
  },
  {
   "metadata": {},
   "cell_type": "markdown",
   "source": "### SVC"
  },
  {
   "metadata": {
    "ExecuteTime": {
     "end_time": "2025-06-23T04:58:36.859611Z",
     "start_time": "2025-06-23T04:58:36.856592Z"
    }
   },
   "cell_type": "code",
   "source": [
    "def svc_model(X_train, X_test, X_val, y_train, y_test, y_val, vec='tf-idf'):\n",
    "    y_train_categorical = [int(np.argmax(y)) for y in y_train]\n",
    "    y_test_categorical = [int(np.argmax(y)) for y in y_test]\n",
    "    y_val_categorical = [int(np.argmax(y)) for y in y_val]\n",
    "    rng = np.random.RandomState(0)\n",
    "    param_grid = {\n",
    "        'C': [0.1, 1, 10, 100, 1000],\n",
    "        'kernel': ['linear', 'rbf', 'poly', 'sigmoid'],\n",
    "        'gamma': [0.1, 1, 10, 100],\n",
    "        'degree': [0, 1, 2, 3, 4, 5, 6]\n",
    "    }\n",
    "    svc = SVC(C=0.1, kernel='poly')\n",
    "    rsh = HalvingGridSearchCV(estimator=svc, param_grid=param_grid, random_state=rng, factor=3, n_jobs=-1)\n",
    "    rsh.fit(X_val, y_val_categorical)\n",
    "    score = rsh.score(X_test, y_test_categorical)\n",
    "    print(\"Score: \", score, \"Params:\", rsh.best_params_)\n",
    "\n",
    "    model = SVC(\n",
    "        C=rsh.best_params_['C'],\n",
    "        kernel=rsh.best_params_['kernel'],\n",
    "        gamma=rsh.best_params_['gamma'],\n",
    "        degree=rsh.best_params_['degree'],\n",
    "    )\n",
    "\n",
    "    model.fit(X_val, y_val_categorical)\n",
    "    model.fit(X_train, y_train_categorical)\n",
    "    prediction = model.predict(X_test)\n",
    "    accuracy = accuracy_score(y_test_categorical, prediction)\n",
    "    save_results(prediction, 'SVC', vec, False)\n",
    "    print(accuracy)\n",
    "    print(metrics.classification_report(y_test_categorical, prediction))\n",
    "    return model, accuracy"
   ],
   "outputs": [],
   "execution_count": 34
  },
  {
   "metadata": {
    "ExecuteTime": {
     "end_time": "2025-06-23T03:17:18.125611Z",
     "start_time": "2025-06-23T03:12:22.507495Z"
    }
   },
   "cell_type": "code",
   "source": "svc_model_vec, svc_acc_vec = svc_model(X_train_vec, X_test_vec, X_val_vec, y_train_vec, y_test_vec, y_val_vec, 'tf-idf')",
   "outputs": [
    {
     "name": "stderr",
     "output_type": "stream",
     "text": [
      "/usr/lib/python3.12/multiprocessing/queues.py:122: UserWarning: pkg_resources is deprecated as an API. See https://setuptools.pypa.io/en/latest/pkg_resources.html. The pkg_resources package is slated for removal as early as 2025-11-30. Refrain from using this package or pin to Setuptools<81.\n",
      "  return _ForkingPickler.loads(res)\n",
      "/usr/lib/python3.12/multiprocessing/queues.py:122: UserWarning: pkg_resources is deprecated as an API. See https://setuptools.pypa.io/en/latest/pkg_resources.html. The pkg_resources package is slated for removal as early as 2025-11-30. Refrain from using this package or pin to Setuptools<81.\n",
      "  return _ForkingPickler.loads(res)\n",
      "/usr/lib/python3.12/multiprocessing/queues.py:122: UserWarning: pkg_resources is deprecated as an API. See https://setuptools.pypa.io/en/latest/pkg_resources.html. The pkg_resources package is slated for removal as early as 2025-11-30. Refrain from using this package or pin to Setuptools<81.\n",
      "  return _ForkingPickler.loads(res)\n",
      "/usr/lib/python3.12/multiprocessing/queues.py:122: UserWarning: pkg_resources is deprecated as an API. See https://setuptools.pypa.io/en/latest/pkg_resources.html. The pkg_resources package is slated for removal as early as 2025-11-30. Refrain from using this package or pin to Setuptools<81.\n",
      "  return _ForkingPickler.loads(res)\n",
      "/usr/lib/python3.12/multiprocessing/queues.py:122: UserWarning: pkg_resources is deprecated as an API. See https://setuptools.pypa.io/en/latest/pkg_resources.html. The pkg_resources package is slated for removal as early as 2025-11-30. Refrain from using this package or pin to Setuptools<81.\n",
      "  return _ForkingPickler.loads(res)\n",
      "/usr/lib/python3.12/multiprocessing/queues.py:122: UserWarning: pkg_resources is deprecated as an API. See https://setuptools.pypa.io/en/latest/pkg_resources.html. The pkg_resources package is slated for removal as early as 2025-11-30. Refrain from using this package or pin to Setuptools<81.\n",
      "  return _ForkingPickler.loads(res)\n",
      "/usr/lib/python3.12/multiprocessing/queues.py:122: UserWarning: pkg_resources is deprecated as an API. See https://setuptools.pypa.io/en/latest/pkg_resources.html. The pkg_resources package is slated for removal as early as 2025-11-30. Refrain from using this package or pin to Setuptools<81.\n",
      "  return _ForkingPickler.loads(res)\n",
      "/usr/lib/python3.12/multiprocessing/queues.py:122: UserWarning: pkg_resources is deprecated as an API. See https://setuptools.pypa.io/en/latest/pkg_resources.html. The pkg_resources package is slated for removal as early as 2025-11-30. Refrain from using this package or pin to Setuptools<81.\n",
      "  return _ForkingPickler.loads(res)\n",
      "/usr/lib/python3.12/multiprocessing/queues.py:122: UserWarning: pkg_resources is deprecated as an API. See https://setuptools.pypa.io/en/latest/pkg_resources.html. The pkg_resources package is slated for removal as early as 2025-11-30. Refrain from using this package or pin to Setuptools<81.\n",
      "  return _ForkingPickler.loads(res)\n",
      "/usr/lib/python3.12/multiprocessing/queues.py:122: UserWarning: pkg_resources is deprecated as an API. See https://setuptools.pypa.io/en/latest/pkg_resources.html. The pkg_resources package is slated for removal as early as 2025-11-30. Refrain from using this package or pin to Setuptools<81.\n",
      "  return _ForkingPickler.loads(res)\n",
      "/usr/lib/python3.12/multiprocessing/queues.py:122: UserWarning: pkg_resources is deprecated as an API. See https://setuptools.pypa.io/en/latest/pkg_resources.html. The pkg_resources package is slated for removal as early as 2025-11-30. Refrain from using this package or pin to Setuptools<81.\n",
      "  return _ForkingPickler.loads(res)\n",
      "/usr/lib/python3.12/multiprocessing/queues.py:122: UserWarning: pkg_resources is deprecated as an API. See https://setuptools.pypa.io/en/latest/pkg_resources.html. The pkg_resources package is slated for removal as early as 2025-11-30. Refrain from using this package or pin to Setuptools<81.\n",
      "  return _ForkingPickler.loads(res)\n",
      "/usr/lib/python3.12/multiprocessing/queues.py:122: UserWarning: pkg_resources is deprecated as an API. See https://setuptools.pypa.io/en/latest/pkg_resources.html. The pkg_resources package is slated for removal as early as 2025-11-30. Refrain from using this package or pin to Setuptools<81.\n",
      "  return _ForkingPickler.loads(res)\n",
      "/usr/lib/python3.12/multiprocessing/queues.py:122: UserWarning: pkg_resources is deprecated as an API. See https://setuptools.pypa.io/en/latest/pkg_resources.html. The pkg_resources package is slated for removal as early as 2025-11-30. Refrain from using this package or pin to Setuptools<81.\n",
      "  return _ForkingPickler.loads(res)\n",
      "/usr/lib/python3.12/multiprocessing/queues.py:122: UserWarning: pkg_resources is deprecated as an API. See https://setuptools.pypa.io/en/latest/pkg_resources.html. The pkg_resources package is slated for removal as early as 2025-11-30. Refrain from using this package or pin to Setuptools<81.\n",
      "  return _ForkingPickler.loads(res)\n",
      "/usr/lib/python3.12/multiprocessing/queues.py:122: UserWarning: pkg_resources is deprecated as an API. See https://setuptools.pypa.io/en/latest/pkg_resources.html. The pkg_resources package is slated for removal as early as 2025-11-30. Refrain from using this package or pin to Setuptools<81.\n",
      "  return _ForkingPickler.loads(res)\n"
     ]
    },
    {
     "name": "stdout",
     "output_type": "stream",
     "text": [
      "Score:  0.8951023391812866 Params: {'C': 10, 'degree': 0, 'gamma': 1, 'kernel': 'sigmoid'}\n",
      "Accuracy: 0.9638157894736842 updated\n",
      "Results saved in data/results/tf-idf/results.csv\n",
      "0.9638157894736842\n",
      "              precision    recall  f1-score   support\n",
      "\n",
      "           0       0.92      0.98      0.95        49\n",
      "           1       0.79      0.85      0.82        40\n",
      "           2       0.78      0.91      0.84        23\n",
      "           3       0.97      1.00      0.98        32\n",
      "           4       0.93      0.81      0.86        31\n",
      "           5       0.76      0.84      0.80        31\n",
      "           6       1.00      1.00      1.00        20\n",
      "           7       0.85      0.65      0.73        34\n",
      "           8       1.00      1.00      1.00        22\n",
      "           9       0.95      1.00      0.97        18\n",
      "          10       0.91      1.00      0.95        39\n",
      "          11       1.00      1.00      1.00        34\n",
      "          12       0.92      0.89      0.91        38\n",
      "          13       1.00      1.00      1.00        42\n",
      "          14       1.00      1.00      1.00        28\n",
      "          15       1.00      0.91      0.95        23\n",
      "          16       1.00      0.93      0.96        28\n",
      "          17       0.83      0.97      0.89        30\n",
      "          18       0.96      0.96      0.96        56\n",
      "          19       1.00      1.00      1.00        28\n",
      "          20       1.00      1.00      1.00        25\n",
      "          21       1.00      1.00      1.00        15\n",
      "          22       1.00      0.88      0.94        34\n",
      "          23       1.00      1.00      1.00        36\n",
      "          24       0.80      0.74      0.77        38\n",
      "          25       1.00      1.00      1.00        20\n",
      "          26       1.00      1.00      1.00        41\n",
      "          27       1.00      1.00      1.00        23\n",
      "          28       1.00      1.00      1.00        23\n",
      "          29       1.00      1.00      1.00        34\n",
      "          30       1.00      1.00      1.00        16\n",
      "          31       1.00      1.00      1.00        21\n",
      "          32       1.00      1.00      1.00        24\n",
      "          33       1.00      1.00      1.00        21\n",
      "          34       1.00      1.00      1.00        28\n",
      "          35       0.93      0.95      0.94        41\n",
      "          36       1.00      1.00      1.00        18\n",
      "          37       0.96      0.93      0.94        27\n",
      "          38       1.00      1.00      1.00        16\n",
      "          39       1.00      1.00      1.00        31\n",
      "          40       1.00      1.00      1.00        30\n",
      "          41       0.88      0.88      0.88        33\n",
      "          42       1.00      1.00      1.00        29\n",
      "          43       1.00      1.00      1.00        17\n",
      "          44       1.00      1.00      1.00        28\n",
      "          45       0.97      0.88      0.92        32\n",
      "          46       1.00      1.00      1.00        26\n",
      "          47       0.90      0.81      0.85        32\n",
      "          48       1.00      1.00      1.00        25\n",
      "          49       1.00      1.00      1.00        24\n",
      "          50       1.00      1.00      1.00        32\n",
      "          51       1.00      1.00      1.00        23\n",
      "          52       1.00      1.00      1.00        19\n",
      "          53       0.91      0.76      0.83        42\n",
      "          54       0.84      0.96      0.90        27\n",
      "          55       1.00      1.00      1.00        30\n",
      "          56       0.91      0.91      0.91        43\n",
      "          57       1.00      1.00      1.00        23\n",
      "          58       1.00      1.00      1.00        22\n",
      "          59       1.00      1.00      1.00        32\n",
      "          60       1.00      1.00      1.00        35\n",
      "          61       0.91      0.96      0.93        51\n",
      "          62       1.00      1.00      1.00        31\n",
      "          63       1.00      0.97      0.98        33\n",
      "          64       1.00      1.00      1.00        28\n",
      "          65       0.92      1.00      0.96        23\n",
      "          66       1.00      1.00      1.00        26\n",
      "          67       1.00      1.00      1.00        27\n",
      "          68       1.00      1.00      1.00        32\n",
      "          69       1.00      1.00      1.00        26\n",
      "          70       1.00      1.00      1.00        31\n",
      "          71       1.00      1.00      1.00        37\n",
      "          72       1.00      1.00      1.00        22\n",
      "          73       1.00      1.00      1.00        34\n",
      "          74       1.00      1.00      1.00        27\n",
      "          75       0.97      0.97      0.97        30\n",
      "          76       1.00      1.00      1.00        23\n",
      "          77       1.00      1.00      1.00        19\n",
      "          78       1.00      1.00      1.00        34\n",
      "          79       0.87      0.87      0.87        31\n",
      "          80       1.00      1.00      1.00        25\n",
      "          81       1.00      1.00      1.00        16\n",
      "          82       1.00      1.00      1.00        30\n",
      "          83       1.00      1.00      1.00        29\n",
      "          84       1.00      1.00      1.00        31\n",
      "          85       1.00      1.00      1.00        17\n",
      "          86       1.00      1.00      1.00        25\n",
      "          87       1.00      1.00      1.00        31\n",
      "          88       0.87      0.98      0.92        42\n",
      "          89       1.00      1.00      1.00        25\n",
      "          90       1.00      1.00      1.00        29\n",
      "          91       1.00      1.00      1.00        17\n",
      "          92       1.00      1.00      1.00        21\n",
      "          93       1.00      1.00      1.00        26\n",
      "          94       1.00      1.00      1.00        25\n",
      "\n",
      "    accuracy                           0.96      2736\n",
      "   macro avg       0.97      0.97      0.97      2736\n",
      "weighted avg       0.96      0.96      0.96      2736\n",
      "\n"
     ]
    }
   ],
   "execution_count": 30
  },
  {
   "metadata": {
    "ExecuteTime": {
     "end_time": "2025-06-23T04:59:41.550982Z",
     "start_time": "2025-06-23T04:58:40.992191Z"
    }
   },
   "cell_type": "code",
   "source": "svc_model_tkn, svc_acc_tkn = svc_model(X_train_tkn, X_test_tkn, X_val_tkn, y_train_tkn, y_test_tkn, y_val_tkn, 'token')",
   "outputs": [
    {
     "name": "stdout",
     "output_type": "stream",
     "text": [
      "Results saved in data/results/token/results.csv\n",
      "0.015350877192982455\n",
      "              precision    recall  f1-score   support\n",
      "\n",
      "           0       0.00      0.00      0.00        49\n",
      "           1       0.00      0.00      0.00        40\n",
      "           2       0.00      0.00      0.00        23\n",
      "           3       0.00      0.00      0.00        32\n",
      "           4       0.00      0.00      0.00        31\n",
      "           5       0.00      0.00      0.00        31\n",
      "           6       0.00      0.00      0.00        20\n",
      "           7       0.00      0.00      0.00        34\n",
      "           8       0.00      0.00      0.00        22\n",
      "           9       0.00      0.00      0.00        18\n",
      "          10       0.00      0.00      0.00        39\n",
      "          11       0.00      0.00      0.00        34\n",
      "          12       0.00      0.00      0.00        38\n",
      "          13       0.00      0.00      0.00        42\n",
      "          14       0.00      0.00      0.00        28\n",
      "          15       0.00      0.00      0.00        23\n",
      "          16       0.00      0.00      0.00        28\n",
      "          17       0.00      0.00      0.00        30\n",
      "          18       0.00      0.00      0.00        56\n",
      "          19       0.00      0.00      0.00        28\n",
      "          20       0.00      0.00      0.00        25\n",
      "          21       0.00      0.00      0.00        15\n",
      "          22       0.00      0.00      0.00        34\n",
      "          23       0.00      0.00      0.00        36\n",
      "          24       0.00      0.00      0.00        38\n",
      "          25       0.00      0.00      0.00        20\n",
      "          26       0.00      0.00      0.00        41\n",
      "          27       0.00      0.00      0.00        23\n",
      "          28       0.00      0.00      0.00        23\n",
      "          29       0.00      0.00      0.00        34\n",
      "          30       0.00      0.00      0.00        16\n",
      "          31       0.00      0.00      0.00        21\n",
      "          32       0.00      0.00      0.00        24\n",
      "          33       0.00      0.00      0.00        21\n",
      "          34       0.00      0.00      0.00        28\n",
      "          35       0.00      0.00      0.00        41\n",
      "          36       0.00      0.00      0.00        18\n",
      "          37       0.00      0.00      0.00        27\n",
      "          38       0.00      0.00      0.00        16\n",
      "          39       0.00      0.00      0.00        31\n",
      "          40       0.00      0.00      0.00        30\n",
      "          41       0.00      0.00      0.00        33\n",
      "          42       0.00      0.00      0.00        29\n",
      "          43       0.00      0.00      0.00        17\n",
      "          44       0.00      0.00      0.00        28\n",
      "          45       0.00      0.00      0.00        32\n",
      "          46       0.00      0.00      0.00        26\n",
      "          47       0.00      0.00      0.00        32\n",
      "          48       0.00      0.00      0.00        25\n",
      "          49       0.00      0.00      0.00        24\n",
      "          50       0.00      0.00      0.00        32\n",
      "          51       0.00      0.00      0.00        23\n",
      "          52       0.00      0.00      0.00        19\n",
      "          53       0.00      0.00      0.00        42\n",
      "          54       0.00      0.00      0.00        27\n",
      "          55       0.00      0.00      0.00        30\n",
      "          56       0.00      0.00      0.00        43\n",
      "          57       0.00      0.00      0.00        23\n",
      "          58       0.00      0.00      0.00        22\n",
      "          59       0.00      0.00      0.00        32\n",
      "          60       0.00      0.00      0.00        35\n",
      "          61       0.00      0.00      0.00        51\n",
      "          62       0.00      0.00      0.00        31\n",
      "          63       0.00      0.00      0.00        33\n",
      "          64       0.00      0.00      0.00        28\n",
      "          65       0.00      0.00      0.00        23\n",
      "          66       0.00      0.00      0.00        26\n",
      "          67       0.00      0.00      0.00        27\n",
      "          68       0.00      0.00      0.00        32\n",
      "          69       0.00      0.00      0.00        26\n",
      "          70       0.00      0.00      0.00        31\n",
      "          71       0.00      0.00      0.00        37\n",
      "          72       0.00      0.00      0.00        22\n",
      "          73       0.00      0.00      0.00        34\n",
      "          74       0.00      0.00      0.00        27\n",
      "          75       0.00      0.00      0.00        30\n",
      "          76       0.00      0.00      0.00        23\n",
      "          77       0.00      0.00      0.00        19\n",
      "          78       0.00      0.00      0.00        34\n",
      "          79       0.00      0.00      0.00        31\n",
      "          80       0.00      0.00      0.00        25\n",
      "          81       0.00      0.00      0.00        16\n",
      "          82       0.00      0.00      0.00        30\n",
      "          83       0.00      0.00      0.00        29\n",
      "          84       0.00      0.00      0.00        31\n",
      "          85       0.00      0.00      0.00        17\n",
      "          86       0.00      0.00      0.00        25\n",
      "          87       0.00      0.00      0.00        31\n",
      "          88       0.02      1.00      0.03        42\n",
      "          89       0.00      0.00      0.00        25\n",
      "          90       0.00      0.00      0.00        29\n",
      "          91       0.00      0.00      0.00        17\n",
      "          92       0.00      0.00      0.00        21\n",
      "          93       0.00      0.00      0.00        26\n",
      "          94       0.00      0.00      0.00        25\n",
      "\n",
      "    accuracy                           0.02      2736\n",
      "   macro avg       0.00      0.01      0.00      2736\n",
      "weighted avg       0.00      0.02      0.00      2736\n",
      "\n"
     ]
    }
   ],
   "execution_count": 35
  },
  {
   "metadata": {
    "ExecuteTime": {
     "end_time": "2025-06-23T03:46:26.022703Z",
     "start_time": "2025-06-23T03:46:26.005473Z"
    }
   },
   "cell_type": "code",
   "source": [
    "best_svc_model = svc_model_tkn if svc_acc_tkn > svc_acc_vec else svc_model_vec\n",
    "filename = 'models/SVC_model.pkl'\n",
    "joblib.dump(best_svc_model, filename)\n",
    "print('Model SVC saved in {}'.format(filename))"
   ],
   "outputs": [
    {
     "name": "stdout",
     "output_type": "stream",
     "text": [
      "Model SVC saved in models/SVC_model.pkl\n"
     ]
    }
   ],
   "execution_count": 31
  },
  {
   "metadata": {},
   "cell_type": "markdown",
   "source": "### Linear SVC"
  },
  {
   "metadata": {
    "ExecuteTime": {
     "end_time": "2025-06-23T14:36:13.584979Z",
     "start_time": "2025-06-23T14:36:13.581874Z"
    }
   },
   "cell_type": "code",
   "source": [
    "def linear_svc_model(X_train, X_test, X_val, y_train, y_test, y_val, vec='tf-idf'):\n",
    "    y_train_categorical = [int(np.argmax(y)) for y in y_train]\n",
    "    y_test_categorical = [int(np.argmax(y)) for y in y_test]\n",
    "    y_val_categorical = [int(np.argmax(y)) for y in y_val]\n",
    "    param_grid = {\n",
    "        'C': [0.001, 0.01, 0.1, 1, 10, 100],\n",
    "        'penalty': ['l1', 'l2'],\n",
    "        'loss': ['hinge', 'squared_hinge'],\n",
    "        'tol': [0.0001, 0.001],\n",
    "        'multi_class': ['ovr', 'crammer_singer'],\n",
    "    }\n",
    "    svc = LinearSVC(C=10, loss='squared_hinge', max_iter=100000)\n",
    "    rsh = HalvingGridSearchCV(estimator=svc, param_grid=param_grid, random_state=42, factor=2, n_jobs=-1)\n",
    "    rsh.fit(X_val, y_val_categorical)\n",
    "    score = rsh.score(X_test, y_test_categorical)\n",
    "    print(\"Score: \", score, \"Params:\", rsh.best_params_)\n",
    "\n",
    "    model = LinearSVC(\n",
    "        C=rsh.best_params_['C'],\n",
    "        penalty=rsh.best_params_['penalty'],\n",
    "        loss=rsh.best_params_['loss'],\n",
    "        tol=rsh.best_params_['tol'],\n",
    "        multi_class=rsh.best_params_['multi_class'],\n",
    "        max_iter=100000,\n",
    "    )\n",
    "\n",
    "    model.fit(X_val, y_val_categorical)\n",
    "    model.fit(X_train, y_train_categorical)\n",
    "    prediction = model.predict(X_test)\n",
    "    accuracy = accuracy_score(y_test_categorical, prediction)\n",
    "    save_results(prediction, 'LinearSVC', vec, False)\n",
    "    print(accuracy)\n",
    "    print(metrics.classification_report(y_test_categorical, prediction))\n",
    "    return model, accuracy"
   ],
   "outputs": [],
   "execution_count": 10
  },
  {
   "metadata": {
    "ExecuteTime": {
     "end_time": "2025-06-23T05:16:41.598850Z",
     "start_time": "2025-06-23T05:11:52.339976Z"
    }
   },
   "cell_type": "code",
   "source": "linear_svc_model_vec, linear_svc_acc_vec = linear_svc_model(X_train_vec, X_test_vec, X_val_vec, y_train_vec, y_test_vec, y_val_vec, 'tf-idf')",
   "outputs": [
    {
     "name": "stderr",
     "output_type": "stream",
     "text": [
      "/usr/lib/python3.12/multiprocessing/queues.py:122: UserWarning: pkg_resources is deprecated as an API. See https://setuptools.pypa.io/en/latest/pkg_resources.html. The pkg_resources package is slated for removal as early as 2025-11-30. Refrain from using this package or pin to Setuptools<81.\n",
      "  return _ForkingPickler.loads(res)\n",
      "/usr/lib/python3.12/multiprocessing/queues.py:122: UserWarning: pkg_resources is deprecated as an API. See https://setuptools.pypa.io/en/latest/pkg_resources.html. The pkg_resources package is slated for removal as early as 2025-11-30. Refrain from using this package or pin to Setuptools<81.\n",
      "  return _ForkingPickler.loads(res)\n",
      "/usr/lib/python3.12/multiprocessing/queues.py:122: UserWarning: pkg_resources is deprecated as an API. See https://setuptools.pypa.io/en/latest/pkg_resources.html. The pkg_resources package is slated for removal as early as 2025-11-30. Refrain from using this package or pin to Setuptools<81.\n",
      "  return _ForkingPickler.loads(res)\n",
      "/usr/lib/python3.12/multiprocessing/queues.py:122: UserWarning: pkg_resources is deprecated as an API. See https://setuptools.pypa.io/en/latest/pkg_resources.html. The pkg_resources package is slated for removal as early as 2025-11-30. Refrain from using this package or pin to Setuptools<81.\n",
      "  return _ForkingPickler.loads(res)\n",
      "/usr/lib/python3.12/multiprocessing/queues.py:122: UserWarning: pkg_resources is deprecated as an API. See https://setuptools.pypa.io/en/latest/pkg_resources.html. The pkg_resources package is slated for removal as early as 2025-11-30. Refrain from using this package or pin to Setuptools<81.\n",
      "  return _ForkingPickler.loads(res)\n",
      "/usr/lib/python3.12/multiprocessing/queues.py:122: UserWarning: pkg_resources is deprecated as an API. See https://setuptools.pypa.io/en/latest/pkg_resources.html. The pkg_resources package is slated for removal as early as 2025-11-30. Refrain from using this package or pin to Setuptools<81.\n",
      "  return _ForkingPickler.loads(res)\n",
      "/usr/lib/python3.12/multiprocessing/queues.py:122: UserWarning: pkg_resources is deprecated as an API. See https://setuptools.pypa.io/en/latest/pkg_resources.html. The pkg_resources package is slated for removal as early as 2025-11-30. Refrain from using this package or pin to Setuptools<81.\n",
      "  return _ForkingPickler.loads(res)\n",
      "/usr/lib/python3.12/multiprocessing/queues.py:122: UserWarning: pkg_resources is deprecated as an API. See https://setuptools.pypa.io/en/latest/pkg_resources.html. The pkg_resources package is slated for removal as early as 2025-11-30. Refrain from using this package or pin to Setuptools<81.\n",
      "  return _ForkingPickler.loads(res)\n",
      "/usr/lib/python3.12/multiprocessing/queues.py:122: UserWarning: pkg_resources is deprecated as an API. See https://setuptools.pypa.io/en/latest/pkg_resources.html. The pkg_resources package is slated for removal as early as 2025-11-30. Refrain from using this package or pin to Setuptools<81.\n",
      "  return _ForkingPickler.loads(res)\n",
      "/usr/lib/python3.12/multiprocessing/queues.py:122: UserWarning: pkg_resources is deprecated as an API. See https://setuptools.pypa.io/en/latest/pkg_resources.html. The pkg_resources package is slated for removal as early as 2025-11-30. Refrain from using this package or pin to Setuptools<81.\n",
      "  return _ForkingPickler.loads(res)\n",
      "/usr/lib/python3.12/multiprocessing/queues.py:122: UserWarning: pkg_resources is deprecated as an API. See https://setuptools.pypa.io/en/latest/pkg_resources.html. The pkg_resources package is slated for removal as early as 2025-11-30. Refrain from using this package or pin to Setuptools<81.\n",
      "  return _ForkingPickler.loads(res)\n",
      "/usr/lib/python3.12/multiprocessing/queues.py:122: UserWarning: pkg_resources is deprecated as an API. See https://setuptools.pypa.io/en/latest/pkg_resources.html. The pkg_resources package is slated for removal as early as 2025-11-30. Refrain from using this package or pin to Setuptools<81.\n",
      "  return _ForkingPickler.loads(res)\n",
      "/usr/lib/python3.12/multiprocessing/queues.py:122: UserWarning: pkg_resources is deprecated as an API. See https://setuptools.pypa.io/en/latest/pkg_resources.html. The pkg_resources package is slated for removal as early as 2025-11-30. Refrain from using this package or pin to Setuptools<81.\n",
      "  return _ForkingPickler.loads(res)\n",
      "/usr/lib/python3.12/multiprocessing/queues.py:122: UserWarning: pkg_resources is deprecated as an API. See https://setuptools.pypa.io/en/latest/pkg_resources.html. The pkg_resources package is slated for removal as early as 2025-11-30. Refrain from using this package or pin to Setuptools<81.\n",
      "  return _ForkingPickler.loads(res)\n",
      "/usr/lib/python3.12/multiprocessing/queues.py:122: UserWarning: pkg_resources is deprecated as an API. See https://setuptools.pypa.io/en/latest/pkg_resources.html. The pkg_resources package is slated for removal as early as 2025-11-30. Refrain from using this package or pin to Setuptools<81.\n",
      "  return _ForkingPickler.loads(res)\n",
      "/usr/lib/python3.12/multiprocessing/queues.py:122: UserWarning: pkg_resources is deprecated as an API. See https://setuptools.pypa.io/en/latest/pkg_resources.html. The pkg_resources package is slated for removal as early as 2025-11-30. Refrain from using this package or pin to Setuptools<81.\n",
      "  return _ForkingPickler.loads(res)\n"
     ]
    },
    {
     "name": "stdout",
     "output_type": "stream",
     "text": [
      "Score:  0.9071637426900585 Params: {'C': 1, 'loss': 'squared_hinge', 'multi_class': 'crammer_singer', 'penalty': 'l2', 'tol': 0.001}\n",
      "Results saved in data/results/tf-idf/results.csv\n",
      "0.9641812865497076\n",
      "              precision    recall  f1-score   support\n",
      "\n",
      "           0       0.89      0.98      0.93        49\n",
      "           1       0.92      0.85      0.88        40\n",
      "           2       0.95      0.91      0.93        23\n",
      "           3       1.00      1.00      1.00        32\n",
      "           4       0.96      0.87      0.92        31\n",
      "           5       0.83      0.81      0.82        31\n",
      "           6       1.00      1.00      1.00        20\n",
      "           7       0.80      0.59      0.68        34\n",
      "           8       1.00      1.00      1.00        22\n",
      "           9       1.00      1.00      1.00        18\n",
      "          10       0.93      1.00      0.96        39\n",
      "          11       1.00      1.00      1.00        34\n",
      "          12       0.92      0.89      0.91        38\n",
      "          13       1.00      1.00      1.00        42\n",
      "          14       1.00      1.00      1.00        28\n",
      "          15       1.00      0.91      0.95        23\n",
      "          16       1.00      0.93      0.96        28\n",
      "          17       0.83      1.00      0.91        30\n",
      "          18       0.93      0.96      0.95        56\n",
      "          19       1.00      1.00      1.00        28\n",
      "          20       1.00      1.00      1.00        25\n",
      "          21       1.00      1.00      1.00        15\n",
      "          22       0.94      0.88      0.91        34\n",
      "          23       1.00      1.00      1.00        36\n",
      "          24       0.79      0.71      0.75        38\n",
      "          25       1.00      1.00      1.00        20\n",
      "          26       1.00      1.00      1.00        41\n",
      "          27       1.00      1.00      1.00        23\n",
      "          28       1.00      1.00      1.00        23\n",
      "          29       1.00      1.00      1.00        34\n",
      "          30       1.00      1.00      1.00        16\n",
      "          31       1.00      1.00      1.00        21\n",
      "          32       1.00      1.00      1.00        24\n",
      "          33       1.00      1.00      1.00        21\n",
      "          34       1.00      1.00      1.00        28\n",
      "          35       0.91      0.95      0.93        41\n",
      "          36       1.00      1.00      1.00        18\n",
      "          37       0.93      0.93      0.93        27\n",
      "          38       1.00      1.00      1.00        16\n",
      "          39       1.00      1.00      1.00        31\n",
      "          40       1.00      1.00      1.00        30\n",
      "          41       0.85      0.88      0.87        33\n",
      "          42       1.00      1.00      1.00        29\n",
      "          43       1.00      1.00      1.00        17\n",
      "          44       1.00      1.00      1.00        28\n",
      "          45       0.94      0.91      0.92        32\n",
      "          46       1.00      1.00      1.00        26\n",
      "          47       0.90      0.84      0.87        32\n",
      "          48       1.00      1.00      1.00        25\n",
      "          49       1.00      1.00      1.00        24\n",
      "          50       1.00      1.00      1.00        32\n",
      "          51       1.00      1.00      1.00        23\n",
      "          52       0.90      1.00      0.95        19\n",
      "          53       0.92      0.79      0.85        42\n",
      "          54       0.90      0.96      0.93        27\n",
      "          55       1.00      1.00      1.00        30\n",
      "          56       0.88      0.88      0.88        43\n",
      "          57       1.00      1.00      1.00        23\n",
      "          58       1.00      1.00      1.00        22\n",
      "          59       1.00      1.00      1.00        32\n",
      "          60       1.00      1.00      1.00        35\n",
      "          61       0.93      0.98      0.95        51\n",
      "          62       1.00      1.00      1.00        31\n",
      "          63       1.00      0.97      0.98        33\n",
      "          64       1.00      1.00      1.00        28\n",
      "          65       0.85      1.00      0.92        23\n",
      "          66       1.00      1.00      1.00        26\n",
      "          67       1.00      1.00      1.00        27\n",
      "          68       1.00      1.00      1.00        32\n",
      "          69       1.00      1.00      1.00        26\n",
      "          70       1.00      1.00      1.00        31\n",
      "          71       1.00      1.00      1.00        37\n",
      "          72       1.00      1.00      1.00        22\n",
      "          73       1.00      1.00      1.00        34\n",
      "          74       1.00      1.00      1.00        27\n",
      "          75       0.91      0.97      0.94        30\n",
      "          76       1.00      1.00      1.00        23\n",
      "          77       1.00      1.00      1.00        19\n",
      "          78       1.00      1.00      1.00        34\n",
      "          79       0.81      0.84      0.83        31\n",
      "          80       1.00      1.00      1.00        25\n",
      "          81       1.00      1.00      1.00        16\n",
      "          82       1.00      1.00      1.00        30\n",
      "          83       1.00      1.00      1.00        29\n",
      "          84       1.00      1.00      1.00        31\n",
      "          85       1.00      1.00      1.00        17\n",
      "          86       1.00      1.00      1.00        25\n",
      "          87       1.00      1.00      1.00        31\n",
      "          88       0.87      0.98      0.92        42\n",
      "          89       1.00      1.00      1.00        25\n",
      "          90       1.00      1.00      1.00        29\n",
      "          91       1.00      1.00      1.00        17\n",
      "          92       1.00      1.00      1.00        21\n",
      "          93       1.00      1.00      1.00        26\n",
      "          94       1.00      1.00      1.00        25\n",
      "\n",
      "    accuracy                           0.96      2736\n",
      "   macro avg       0.97      0.97      0.97      2736\n",
      "weighted avg       0.96      0.96      0.96      2736\n",
      "\n"
     ]
    }
   ],
   "execution_count": 13
  },
  {
   "metadata": {
    "jupyter": {
     "is_executing": true
    },
    "ExecuteTime": {
     "end_time": "2025-06-23T15:18:53.293717992Z",
     "start_time": "2025-06-23T14:36:21.150254Z"
    }
   },
   "cell_type": "code",
   "source": "linear_svc_model_tkn, linear_svc_acc_tkn = linear_svc_model(X_train_tkn, X_test_tkn, X_val_tkn, y_train_tkn, y_test_tkn, y_val_tkn, 'token')",
   "outputs": [],
   "execution_count": null
  },
  {
   "metadata": {
    "ExecuteTime": {
     "end_time": "2025-06-23T05:17:55.270066Z",
     "start_time": "2025-06-23T05:17:55.242746Z"
    }
   },
   "cell_type": "code",
   "source": [
    "best_linear_svc_model = linear_svc_model_tkn if linear_svc_acc_tkn > linear_svc_acc_vec else linear_svc_model_vec\n",
    "filename = 'models/LinearSVC_model.pkl'\n",
    "joblib.dump(best_linear_svc_model, filename)\n",
    "print('Model Linear SVC saved in {}'.format(filename))"
   ],
   "outputs": [
    {
     "name": "stdout",
     "output_type": "stream",
     "text": [
      "Model Linear SVC saved in models/LinearSVC_model.pkl\n"
     ]
    }
   ],
   "execution_count": 15
  },
  {
   "metadata": {},
   "cell_type": "markdown",
   "source": "### NuSVC"
  },
  {
   "metadata": {
    "ExecuteTime": {
     "end_time": "2025-06-23T15:21:43.870764Z",
     "start_time": "2025-06-23T15:21:43.867738Z"
    }
   },
   "cell_type": "code",
   "source": [
    "def nu_svc_model(X_train, X_test, X_val, y_train, y_test, y_val, vec='tf-idf'):\n",
    "    y_train_categorical = [int(np.argmax(y)) for y in y_train]\n",
    "    y_test_categorical = [int(np.argmax(y)) for y in y_test]\n",
    "    y_val_categorical = [int(np.argmax(y)) for y in y_val]\n",
    "    param_grid = {\n",
    "        'nu': [0.1, 0.3, 0.5, 0.7, 0.9],\n",
    "        'kernel': ['linear', 'poly', 'rbf', 'sigmoid', 'precomputed'],\n",
    "        'tol': [0.0001, 0.001],\n",
    "        'gamma': ['scale', 'auto'],\n",
    "    }\n",
    "    # svc = NuSVC(nu=0.01, kernel='poly', max_iter=100000)\n",
    "    # rsh = HalvingGridSearchCV(estimator=svc, param_grid=param_grid, random_state=42, factor=2, n_jobs=-1)\n",
    "    # rsh.fit(X_val, y_val_categorical)\n",
    "    # score = rsh.score(X_test, y_test_categorical)\n",
    "    # print(\"Score: \", score, \"Params:\", rsh.best_params_)\n",
    "\n",
    "    model = NuSVC(\n",
    "        nu=param_grid['nu'][1],\n",
    "        kernel=param_grid['kernel'][1],\n",
    "        tol=param_grid['tol'][0],\n",
    "        gamma=param_grid['gamma'][0],\n",
    "        max_iter=100000,\n",
    "    )\n",
    "\n",
    "    model.fit(X_val, y_val_categorical)\n",
    "    model.fit(X_train, y_train_categorical)\n",
    "    prediction = model.predict(X_test)\n",
    "    accuracy = accuracy_score(y_test_categorical, prediction)\n",
    "    if accuracy > 0.9539473684210527:\n",
    "        print('Accuracy: ', accuracy, 'updated')\n",
    "        save_results(prediction, 'NuSVC', vec, False)\n",
    "    print(accuracy)\n",
    "    print(metrics.classification_report(y_test_categorical, prediction))\n",
    "    return model, accuracy"
   ],
   "outputs": [],
   "execution_count": 9
  },
  {
   "metadata": {
    "ExecuteTime": {
     "end_time": "2025-06-23T15:24:11.487416Z",
     "start_time": "2025-06-23T15:21:48.430550Z"
    }
   },
   "cell_type": "code",
   "source": "nu_svc_model_vec, nu_svc_acc_vec = nu_svc_model(X_train_vec, X_test_vec, X_val_vec, y_train_vec, y_test_vec, y_val_vec, 'tf-idf')",
   "outputs": [
    {
     "name": "stdout",
     "output_type": "stream",
     "text": [
      "Results saved in data/results/tf-idf/results.csv\n",
      "0.9539473684210527\n",
      "              precision    recall  f1-score   support\n",
      "\n",
      "           0       0.92      0.94      0.93        49\n",
      "           1       0.67      0.90      0.77        40\n",
      "           2       1.00      0.91      0.95        23\n",
      "           3       1.00      1.00      1.00        32\n",
      "           4       0.96      0.87      0.92        31\n",
      "           5       0.86      0.77      0.81        31\n",
      "           6       1.00      1.00      1.00        20\n",
      "           7       0.83      0.59      0.69        34\n",
      "           8       1.00      1.00      1.00        22\n",
      "           9       1.00      1.00      1.00        18\n",
      "          10       0.90      0.90      0.90        39\n",
      "          11       1.00      1.00      1.00        34\n",
      "          12       0.92      0.89      0.91        38\n",
      "          13       1.00      1.00      1.00        42\n",
      "          14       1.00      1.00      1.00        28\n",
      "          15       1.00      0.91      0.95        23\n",
      "          16       1.00      0.93      0.96        28\n",
      "          17       0.78      0.97      0.87        30\n",
      "          18       0.96      0.95      0.95        56\n",
      "          19       1.00      1.00      1.00        28\n",
      "          20       1.00      1.00      1.00        25\n",
      "          21       1.00      1.00      1.00        15\n",
      "          22       1.00      0.85      0.92        34\n",
      "          23       1.00      1.00      1.00        36\n",
      "          24       0.50      0.68      0.58        38\n",
      "          25       1.00      1.00      1.00        20\n",
      "          26       1.00      1.00      1.00        41\n",
      "          27       1.00      1.00      1.00        23\n",
      "          28       1.00      1.00      1.00        23\n",
      "          29       1.00      1.00      1.00        34\n",
      "          30       1.00      1.00      1.00        16\n",
      "          31       1.00      1.00      1.00        21\n",
      "          32       1.00      1.00      1.00        24\n",
      "          33       1.00      1.00      1.00        21\n",
      "          34       1.00      1.00      1.00        28\n",
      "          35       0.90      0.90      0.90        41\n",
      "          36       1.00      1.00      1.00        18\n",
      "          37       0.96      0.85      0.90        27\n",
      "          38       1.00      1.00      1.00        16\n",
      "          39       1.00      1.00      1.00        31\n",
      "          40       1.00      1.00      1.00        30\n",
      "          41       0.79      0.91      0.85        33\n",
      "          42       1.00      1.00      1.00        29\n",
      "          43       1.00      1.00      1.00        17\n",
      "          44       1.00      1.00      1.00        28\n",
      "          45       0.88      0.88      0.88        32\n",
      "          46       1.00      1.00      1.00        26\n",
      "          47       0.92      0.69      0.79        32\n",
      "          48       1.00      1.00      1.00        25\n",
      "          49       1.00      1.00      1.00        24\n",
      "          50       1.00      1.00      1.00        32\n",
      "          51       1.00      1.00      1.00        23\n",
      "          52       1.00      1.00      1.00        19\n",
      "          53       1.00      0.69      0.82        42\n",
      "          54       0.89      0.93      0.91        27\n",
      "          55       1.00      1.00      1.00        30\n",
      "          56       0.80      0.86      0.83        43\n",
      "          57       1.00      1.00      1.00        23\n",
      "          58       1.00      1.00      1.00        22\n",
      "          59       1.00      1.00      1.00        32\n",
      "          60       1.00      1.00      1.00        35\n",
      "          61       0.92      0.88      0.90        51\n",
      "          62       1.00      1.00      1.00        31\n",
      "          63       1.00      0.97      0.98        33\n",
      "          64       1.00      1.00      1.00        28\n",
      "          65       1.00      1.00      1.00        23\n",
      "          66       1.00      1.00      1.00        26\n",
      "          67       1.00      1.00      1.00        27\n",
      "          68       1.00      1.00      1.00        32\n",
      "          69       1.00      1.00      1.00        26\n",
      "          70       1.00      1.00      1.00        31\n",
      "          71       1.00      1.00      1.00        37\n",
      "          72       1.00      1.00      1.00        22\n",
      "          73       1.00      1.00      1.00        34\n",
      "          74       1.00      1.00      1.00        27\n",
      "          75       0.97      0.97      0.97        30\n",
      "          76       1.00      1.00      1.00        23\n",
      "          77       1.00      1.00      1.00        19\n",
      "          78       1.00      1.00      1.00        34\n",
      "          79       0.74      0.90      0.81        31\n",
      "          80       1.00      1.00      1.00        25\n",
      "          81       1.00      1.00      1.00        16\n",
      "          82       1.00      1.00      1.00        30\n",
      "          83       1.00      1.00      1.00        29\n",
      "          84       1.00      1.00      1.00        31\n",
      "          85       1.00      1.00      1.00        17\n",
      "          86       1.00      1.00      1.00        25\n",
      "          87       1.00      1.00      1.00        31\n",
      "          88       0.87      0.95      0.91        42\n",
      "          89       1.00      1.00      1.00        25\n",
      "          90       1.00      1.00      1.00        29\n",
      "          91       1.00      1.00      1.00        17\n",
      "          92       1.00      1.00      1.00        21\n",
      "          93       1.00      1.00      1.00        26\n",
      "          94       1.00      1.00      1.00        25\n",
      "\n",
      "    accuracy                           0.95      2736\n",
      "   macro avg       0.97      0.96      0.96      2736\n",
      "weighted avg       0.96      0.95      0.95      2736\n",
      "\n"
     ]
    }
   ],
   "execution_count": 11
  },
  {
   "metadata": {},
   "cell_type": "code",
   "outputs": [],
   "execution_count": null,
   "source": "nu_svc_model_tkn, nu_svc_acc_tkn = nu_svc_model(X_train_tkn, X_test_tkn, X_val_tkn, y_train_tkn, y_test_tkn, y_val_tkn, 'token')"
  },
  {
   "metadata": {
    "ExecuteTime": {
     "end_time": "2025-06-23T15:26:31.304493Z",
     "start_time": "2025-06-23T15:26:31.277158Z"
    }
   },
   "cell_type": "code",
   "source": [
    "best_nu_svc_model = nu_svc_model_tkn if nu_svc_acc_tkn > nu_svc_acc_vec else nu_svc_model_vec\n",
    "filename = 'models/NuSVC_model.pkl'\n",
    "joblib.dump(best_nu_svc_model, filename)\n",
    "print('Model NuSVC saved in {}'.format(filename))"
   ],
   "outputs": [
    {
     "name": "stdout",
     "output_type": "stream",
     "text": [
      "Model NuSVC saved in models/NuSVC_model.pkl\n"
     ]
    }
   ],
   "execution_count": 12
  },
  {
   "cell_type": "markdown",
   "source": [
    "### BERT Classification"
   ],
   "metadata": {
    "id": "RgFzeukzQYaB"
   }
  },
  {
   "metadata": {},
   "cell_type": "code",
   "outputs": [],
   "execution_count": null,
   "source": ""
  },
  {
   "metadata": {},
   "cell_type": "markdown",
   "source": "### Word Embedding"
  },
  {
   "metadata": {
    "ExecuteTime": {
     "end_time": "2025-06-21T05:02:18.803109Z",
     "start_time": "2025-06-21T05:02:18.796010Z"
    }
   },
   "cell_type": "code",
   "source": [
    "embedding_dim=144\n",
    "tensorboard_callback = tf.keras.callbacks.TensorBoard(log_dir=\"logs\")\n",
    "model = Sequential([\n",
    "    Embedding(num_words, embedding_dim, input_length=max_length, name=\"embedding\"),\n",
    "    GlobalAveragePooling1D(),\n",
    "    Dense(72, activation='relu'),\n",
    "    Dropout(0.2),\n",
    "    Dense(num_categories, activation='softmax')\n",
    "])"
   ],
   "outputs": [
    {
     "name": "stderr",
     "output_type": "stream",
     "text": [
      "/home/ja1/Faculdade/recpad/hybrid-classification-resumes/.venv/lib/python3.12/site-packages/keras/src/layers/core/embedding.py:97: UserWarning: Argument `input_length` is deprecated. Just remove it.\n",
      "  warnings.warn(\n"
     ]
    }
   ],
   "execution_count": 20
  },
  {
   "metadata": {
    "ExecuteTime": {
     "end_time": "2025-06-21T05:02:20.542974Z",
     "start_time": "2025-06-21T05:02:20.537824Z"
    }
   },
   "cell_type": "code",
   "source": [
    "model.compile(optimizer='adam',\n",
    "              loss=tf.keras.losses.BinaryCrossentropy(from_logits=True),\n",
    "              metrics=['accuracy'])"
   ],
   "outputs": [],
   "execution_count": 21
  },
  {
   "metadata": {
    "ExecuteTime": {
     "end_time": "2025-06-21T05:02:43.278310Z",
     "start_time": "2025-06-21T05:02:22.449286Z"
    }
   },
   "cell_type": "code",
   "source": "model.fit(X_train_tkn, y_train_tkn, epochs=10, batch_size=30, verbose=True, validation_data=(X_test_tkn, y_test_tkn))",
   "outputs": [
    {
     "name": "stdout",
     "output_type": "stream",
     "text": [
      "Epoch 1/10\n"
     ]
    },
    {
     "name": "stderr",
     "output_type": "stream",
     "text": [
      "/home/ja1/Faculdade/recpad/hybrid-classification-resumes/.venv/lib/python3.12/site-packages/keras/src/backend/tensorflow/nn.py:789: UserWarning: \"`binary_crossentropy` received `from_logits=True`, but the `output` argument was produced by a Sigmoid activation and thus does not represent logits. Was this intended?\n",
      "  output, from_logits = _get_logits(\n",
      "2025-06-21 02:02:24.092383: I external/local_xla/xla/stream_executor/cuda/subprocess_compilation.cc:346] ptxas warning : Registers are spilled to local memory in function 'gemm_fusion_dot_477', 384 bytes spill stores, 384 bytes spill loads\n",
      "\n",
      "2025-06-21 02:02:24.366730: I external/local_xla/xla/stream_executor/cuda/subprocess_compilation.cc:346] ptxas warning : Registers are spilled to local memory in function 'gemm_fusion_dot_477', 72 bytes spill stores, 72 bytes spill loads\n",
      "\n",
      "2025-06-21 02:02:24.392954: I external/local_xla/xla/stream_executor/cuda/subprocess_compilation.cc:346] ptxas warning : Registers are spilled to local memory in function 'gemm_fusion_dot_477', 1032 bytes spill stores, 1032 bytes spill loads\n",
      "\n",
      "2025-06-21 02:02:24.569401: I external/local_xla/xla/stream_executor/cuda/subprocess_compilation.cc:346] ptxas warning : Registers are spilled to local memory in function 'gemm_fusion_dot_477', 276 bytes spill stores, 276 bytes spill loads\n",
      "\n",
      "2025-06-21 02:02:24.629969: I external/local_xla/xla/stream_executor/cuda/subprocess_compilation.cc:346] ptxas warning : Registers are spilled to local memory in function 'gemm_fusion_dot_778', 4 bytes spill stores, 4 bytes spill loads\n",
      "\n",
      "2025-06-21 02:02:24.656873: I external/local_xla/xla/stream_executor/cuda/subprocess_compilation.cc:346] ptxas warning : Registers are spilled to local memory in function 'gemm_fusion_dot_778', 8 bytes spill stores, 8 bytes spill loads\n",
      "\n",
      "2025-06-21 02:02:24.889132: I external/local_xla/xla/stream_executor/cuda/subprocess_compilation.cc:346] ptxas warning : Registers are spilled to local memory in function 'gemm_fusion_dot_778', 4 bytes spill stores, 4 bytes spill loads\n",
      "\n"
     ]
    },
    {
     "name": "stdout",
     "output_type": "stream",
     "text": [
      "\u001B[1m415/426\u001B[0m \u001B[32m━━━━━━━━━━━━━━━━━━━\u001B[0m\u001B[37m━\u001B[0m \u001B[1m0s\u001B[0m 2ms/step - accuracy: 0.0139 - loss: 0.2035"
     ]
    },
    {
     "name": "stderr",
     "output_type": "stream",
     "text": [
      "2025-06-21 02:02:27.791461: I external/local_xla/xla/stream_executor/cuda/subprocess_compilation.cc:346] ptxas warning : Registers are spilled to local memory in function 'gemm_fusion_dot_477', 1032 bytes spill stores, 1032 bytes spill loads\n",
      "\n",
      "2025-06-21 02:02:27.798550: I external/local_xla/xla/stream_executor/cuda/subprocess_compilation.cc:346] ptxas warning : Registers are spilled to local memory in function 'gemm_fusion_dot_477', 384 bytes spill stores, 384 bytes spill loads\n",
      "\n",
      "2025-06-21 02:02:27.841163: I external/local_xla/xla/stream_executor/cuda/subprocess_compilation.cc:346] ptxas warning : Registers are spilled to local memory in function 'gemm_fusion_dot_778', 8 bytes spill stores, 8 bytes spill loads\n",
      "\n",
      "2025-06-21 02:02:27.852295: I external/local_xla/xla/stream_executor/cuda/subprocess_compilation.cc:346] ptxas warning : Registers are spilled to local memory in function 'gemm_fusion_dot_477', 276 bytes spill stores, 276 bytes spill loads\n",
      "\n",
      "2025-06-21 02:02:28.208806: I external/local_xla/xla/stream_executor/cuda/subprocess_compilation.cc:346] ptxas warning : Registers are spilled to local memory in function 'gemm_fusion_dot_477', 72 bytes spill stores, 72 bytes spill loads\n",
      "\n",
      "2025-06-21 02:02:28.211524: I external/local_xla/xla/stream_executor/cuda/subprocess_compilation.cc:346] ptxas warning : Registers are spilled to local memory in function 'gemm_fusion_dot_778', 4 bytes spill stores, 4 bytes spill loads\n",
      "\n",
      "2025-06-21 02:02:28.248052: I external/local_xla/xla/stream_executor/cuda/subprocess_compilation.cc:346] ptxas warning : Registers are spilled to local memory in function 'gemm_fusion_dot_778', 4 bytes spill stores, 4 bytes spill loads\n",
      "\n"
     ]
    },
    {
     "name": "stdout",
     "output_type": "stream",
     "text": [
      "\u001B[1m426/426\u001B[0m \u001B[32m━━━━━━━━━━━━━━━━━━━━\u001B[0m\u001B[37m\u001B[0m \u001B[1m0s\u001B[0m 8ms/step - accuracy: 0.0140 - loss: 0.2009"
     ]
    },
    {
     "name": "stderr",
     "output_type": "stream",
     "text": [
      "2025-06-21 02:02:31.620508: I external/local_xla/xla/stream_executor/cuda/subprocess_compilation.cc:346] ptxas warning : Registers are spilled to local memory in function 'gemm_fusion_dot_75', 764 bytes spill stores, 764 bytes spill loads\n",
      "\n"
     ]
    },
    {
     "name": "stdout",
     "output_type": "stream",
     "text": [
      "\u001B[1m426/426\u001B[0m \u001B[32m━━━━━━━━━━━━━━━━━━━━\u001B[0m\u001B[37m\u001B[0m \u001B[1m10s\u001B[0m 15ms/step - accuracy: 0.0140 - loss: 0.2006 - val_accuracy: 0.0267 - val_loss: 0.0544\n",
      "Epoch 2/10\n",
      "\u001B[1m426/426\u001B[0m \u001B[32m━━━━━━━━━━━━━━━━━━━━\u001B[0m\u001B[37m\u001B[0m \u001B[1m1s\u001B[0m 3ms/step - accuracy: 0.0226 - loss: 0.0563 - val_accuracy: 0.0424 - val_loss: 0.0532\n",
      "Epoch 3/10\n",
      "\u001B[1m426/426\u001B[0m \u001B[32m━━━━━━━━━━━━━━━━━━━━\u001B[0m\u001B[37m\u001B[0m \u001B[1m1s\u001B[0m 2ms/step - accuracy: 0.0249 - loss: 0.0547 - val_accuracy: 0.0435 - val_loss: 0.0521\n",
      "Epoch 4/10\n",
      "\u001B[1m426/426\u001B[0m \u001B[32m━━━━━━━━━━━━━━━━━━━━\u001B[0m\u001B[37m\u001B[0m \u001B[1m1s\u001B[0m 3ms/step - accuracy: 0.0362 - loss: 0.0533 - val_accuracy: 0.0680 - val_loss: 0.0502\n",
      "Epoch 5/10\n",
      "\u001B[1m426/426\u001B[0m \u001B[32m━━━━━━━━━━━━━━━━━━━━\u001B[0m\u001B[37m\u001B[0m \u001B[1m1s\u001B[0m 3ms/step - accuracy: 0.0582 - loss: 0.0513 - val_accuracy: 0.1663 - val_loss: 0.0481\n",
      "Epoch 6/10\n",
      "\u001B[1m426/426\u001B[0m \u001B[32m━━━━━━━━━━━━━━━━━━━━\u001B[0m\u001B[37m\u001B[0m \u001B[1m1s\u001B[0m 3ms/step - accuracy: 0.1152 - loss: 0.0489 - val_accuracy: 0.1912 - val_loss: 0.0460\n",
      "Epoch 7/10\n",
      "\u001B[1m426/426\u001B[0m \u001B[32m━━━━━━━━━━━━━━━━━━━━\u001B[0m\u001B[37m\u001B[0m \u001B[1m1s\u001B[0m 3ms/step - accuracy: 0.1689 - loss: 0.0462 - val_accuracy: 0.2409 - val_loss: 0.0426\n",
      "Epoch 8/10\n",
      "\u001B[1m426/426\u001B[0m \u001B[32m━━━━━━━━━━━━━━━━━━━━\u001B[0m\u001B[37m\u001B[0m \u001B[1m1s\u001B[0m 3ms/step - accuracy: 0.2210 - loss: 0.0434 - val_accuracy: 0.2792 - val_loss: 0.0406\n",
      "Epoch 9/10\n",
      "\u001B[1m426/426\u001B[0m \u001B[32m━━━━━━━━━━━━━━━━━━━━\u001B[0m\u001B[37m\u001B[0m \u001B[1m1s\u001B[0m 3ms/step - accuracy: 0.2684 - loss: 0.0410 - val_accuracy: 0.3516 - val_loss: 0.0389\n",
      "Epoch 10/10\n",
      "\u001B[1m426/426\u001B[0m \u001B[32m━━━━━━━━━━━━━━━━━━━━\u001B[0m\u001B[37m\u001B[0m \u001B[1m1s\u001B[0m 3ms/step - accuracy: 0.3101 - loss: 0.0389 - val_accuracy: 0.3260 - val_loss: 0.0370\n"
     ]
    },
    {
     "data": {
      "text/plain": [
       "<keras.src.callbacks.history.History at 0x7eaa3f7e0410>"
      ]
     },
     "execution_count": 22,
     "metadata": {},
     "output_type": "execute_result"
    }
   ],
   "execution_count": 22
  },
  {
   "metadata": {
    "ExecuteTime": {
     "end_time": "2025-06-21T05:02:52.690084Z",
     "start_time": "2025-06-21T05:02:49.119690Z"
    }
   },
   "cell_type": "code",
   "source": [
    "loss, accuracy = model.evaluate(X_test_tkn, y_test_tkn)\n",
    "print(\"Loss: \", loss, \"Accuracy: \", accuracy)"
   ],
   "outputs": [
    {
     "name": "stderr",
     "output_type": "stream",
     "text": [
      "2025-06-21 02:02:49.914889: I external/local_xla/xla/stream_executor/cuda/subprocess_compilation.cc:346] ptxas warning : Registers are spilled to local memory in function 'gemm_fusion_dot_75', 76 bytes spill stores, 76 bytes spill loads\n",
      "\n",
      "2025-06-21 02:02:49.980938: I external/local_xla/xla/stream_executor/cuda/subprocess_compilation.cc:346] ptxas warning : Registers are spilled to local memory in function 'gemm_fusion_dot_75', 268 bytes spill stores, 268 bytes spill loads\n",
      "\n",
      "2025-06-21 02:02:50.056769: I external/local_xla/xla/stream_executor/cuda/subprocess_compilation.cc:346] ptxas warning : Registers are spilled to local memory in function 'gemm_fusion_dot_82', 52 bytes spill stores, 52 bytes spill loads\n",
      "\n",
      "2025-06-21 02:02:50.307152: I external/local_xla/xla/stream_executor/cuda/subprocess_compilation.cc:346] ptxas warning : Registers are spilled to local memory in function 'gemm_fusion_dot_75', 1028 bytes spill stores, 1028 bytes spill loads\n",
      "\n",
      "2025-06-21 02:02:50.422721: I external/local_xla/xla/stream_executor/cuda/subprocess_compilation.cc:346] ptxas warning : Registers are spilled to local memory in function 'gemm_fusion_dot_75', 388 bytes spill stores, 388 bytes spill loads\n",
      "\n"
     ]
    },
    {
     "name": "stdout",
     "output_type": "stream",
     "text": [
      "\u001B[1m66/86\u001B[0m \u001B[32m━━━━━━━━━━━━━━━\u001B[0m\u001B[37m━━━━━\u001B[0m \u001B[1m0s\u001B[0m 2ms/step - accuracy: 0.3336 - loss: 0.0371"
     ]
    },
    {
     "name": "stderr",
     "output_type": "stream",
     "text": [
      "2025-06-21 02:02:52.242820: I external/local_xla/xla/stream_executor/cuda/subprocess_compilation.cc:346] ptxas warning : Registers are spilled to local memory in function 'gemm_fusion_dot_75', 760 bytes spill stores, 760 bytes spill loads\n",
      "\n"
     ]
    },
    {
     "name": "stdout",
     "output_type": "stream",
     "text": [
      "\u001B[1m86/86\u001B[0m \u001B[32m━━━━━━━━━━━━━━━━━━━━\u001B[0m\u001B[37m\u001B[0m \u001B[1m4s\u001B[0m 21ms/step - accuracy: 0.3318 - loss: 0.0371\n",
      "Loss:  0.03700545057654381 Accuracy:  0.3260233998298645\n"
     ]
    }
   ],
   "execution_count": 23
  }
 ]
}
