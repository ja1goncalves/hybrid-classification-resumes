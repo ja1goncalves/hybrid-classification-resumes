{
 "cells": [
  {
   "cell_type": "code",
   "id": "initial_id",
   "metadata": {
    "collapsed": true,
    "ExecuteTime": {
     "end_time": "2025-06-29T01:35:01.710609Z",
     "start_time": "2025-06-29T01:35:01.636198Z"
    }
   },
   "source": [
    "import numpy as np\n",
    "import pandas as pd\n",
    "from sklearn.model_selection import train_test_split"
   ],
   "outputs": [],
   "execution_count": 1
  },
  {
   "metadata": {},
   "cell_type": "markdown",
   "source": "### Catching off-line data",
   "id": "da339557a9b257db"
  },
  {
   "metadata": {
    "ExecuteTime": {
     "end_time": "2025-06-29T01:35:04.320473Z",
     "start_time": "2025-06-29T01:35:04.311835Z"
    }
   },
   "cell_type": "code",
   "source": [
    "trust_models = pd.read_csv(\"data/results/trust_model.csv\").drop(columns=['BERT'], axis=1)\n",
    "trust_models.head()"
   ],
   "id": "246fe1d262c9acce",
   "outputs": [
    {
     "data": {
      "text/plain": [
       "        RFC       MLP       SVC  LinearSVC     NuSVC       SGD       LR  \\\n",
       "0  0.966374  0.953947  0.963816   0.964181  0.954313  0.898757  0.96674   \n",
       "\n",
       "        KNC      LSTM  \n",
       "0  0.950658  0.964547  "
      ],
      "text/html": [
       "<div>\n",
       "<style scoped>\n",
       "    .dataframe tbody tr th:only-of-type {\n",
       "        vertical-align: middle;\n",
       "    }\n",
       "\n",
       "    .dataframe tbody tr th {\n",
       "        vertical-align: top;\n",
       "    }\n",
       "\n",
       "    .dataframe thead th {\n",
       "        text-align: right;\n",
       "    }\n",
       "</style>\n",
       "<table border=\"1\" class=\"dataframe\">\n",
       "  <thead>\n",
       "    <tr style=\"text-align: right;\">\n",
       "      <th></th>\n",
       "      <th>RFC</th>\n",
       "      <th>MLP</th>\n",
       "      <th>SVC</th>\n",
       "      <th>LinearSVC</th>\n",
       "      <th>NuSVC</th>\n",
       "      <th>SGD</th>\n",
       "      <th>LR</th>\n",
       "      <th>KNC</th>\n",
       "      <th>LSTM</th>\n",
       "    </tr>\n",
       "  </thead>\n",
       "  <tbody>\n",
       "    <tr>\n",
       "      <th>0</th>\n",
       "      <td>0.966374</td>\n",
       "      <td>0.953947</td>\n",
       "      <td>0.963816</td>\n",
       "      <td>0.964181</td>\n",
       "      <td>0.954313</td>\n",
       "      <td>0.898757</td>\n",
       "      <td>0.96674</td>\n",
       "      <td>0.950658</td>\n",
       "      <td>0.964547</td>\n",
       "    </tr>\n",
       "  </tbody>\n",
       "</table>\n",
       "</div>"
      ]
     },
     "execution_count": 2,
     "metadata": {},
     "output_type": "execute_result"
    }
   ],
   "execution_count": 2
  },
  {
   "metadata": {
    "ExecuteTime": {
     "end_time": "2025-06-29T01:35:04.532029Z",
     "start_time": "2025-06-29T01:35:04.324066Z"
    }
   },
   "cell_type": "code",
   "source": [
    "# after that I ask to gemini to generate new data for categories with less count\n",
    "all_data = pd.read_csv(\"data/filtered/normalized.csv\")\n",
    "all_data = all_data.dropna()\n",
    "all_data = all_data.drop_duplicates()\n",
    "all_data.shape"
   ],
   "id": "b0f7b4fd240d329",
   "outputs": [
    {
     "data": {
      "text/plain": [
       "(18240, 2)"
      ]
     },
     "execution_count": 3,
     "metadata": {},
     "output_type": "execute_result"
    }
   ],
   "execution_count": 3
  },
  {
   "metadata": {},
   "cell_type": "markdown",
   "source": "### Text pre process",
   "id": "b64fab5ae802b5b"
  },
  {
   "metadata": {
    "ExecuteTime": {
     "end_time": "2025-06-29T01:39:46.016031Z",
     "start_time": "2025-06-29T01:39:46.013511Z"
    }
   },
   "cell_type": "code",
   "source": [
    "from sklearn.preprocessing import LabelEncoder\n",
    "from tensorflow.keras.utils import to_categorical\n",
    "\n",
    "def encode_labels(categories):\n",
    "    label_encoder = LabelEncoder()\n",
    "    category_encoded = label_encoder.fit_transform(categories)\n",
    "    print(category_encoded)\n",
    "    num_categories = len(label_encoder.classes_)\n",
    "    y = to_categorical(category_encoded)\n",
    "    return label_encoder, y, num_categories\n",
    "\n",
    "def decoded_label(label_encoder, y_encoded, categorical=True):\n",
    "    label = [int(np.argmax(y)) for y in y_encoded] if categorical else y_encoded\n",
    "    return label_encoder.inverse_transform(label)"
   ],
   "id": "6d9a6f223eb0eebc",
   "outputs": [],
   "execution_count": 28
  },
  {
   "metadata": {
    "ExecuteTime": {
     "end_time": "2025-06-29T01:35:09.741832Z",
     "start_time": "2025-06-29T01:35:09.733142Z"
    }
   },
   "cell_type": "code",
   "source": [
    "categories = all_data['category']\n",
    "label_encoder, y, num_categories = encode_labels(categories)\n",
    "print(num_categories, y)"
   ],
   "id": "51cd0e1c9405f5ce",
   "outputs": [
    {
     "name": "stdout",
     "output_type": "stream",
     "text": [
      "[48 70 46 ... 72 72 72]\n",
      "95 [[0. 0. 0. ... 0. 0. 0.]\n",
      " [0. 0. 0. ... 0. 0. 0.]\n",
      " [0. 0. 0. ... 0. 0. 0.]\n",
      " ...\n",
      " [0. 0. 0. ... 0. 0. 0.]\n",
      " [0. 0. 0. ... 0. 0. 0.]\n",
      " [0. 0. 0. ... 0. 0. 0.]]\n"
     ]
    }
   ],
   "execution_count": 5
  },
  {
   "metadata": {
    "ExecuteTime": {
     "end_time": "2025-06-29T01:45:46.608282Z",
     "start_time": "2025-06-29T01:45:45.327239Z"
    }
   },
   "cell_type": "code",
   "source": [
    "from sklearn.feature_extraction.text import TfidfVectorizer\n",
    "\n",
    "tfidf_vec = TfidfVectorizer()\n",
    "resumes_vec = tfidf_vec.fit_transform(all_data['resume'])\n",
    "inputs = len(tfidf_vec.get_feature_names_out())\n",
    "print(\"Tamanho:\", len(tfidf_vec.get_feature_names_out()), \"Vocabulário:\", tfidf_vec.get_feature_names_out(), )\n",
    "resumes_vec"
   ],
   "id": "c4b150be2d34b18",
   "outputs": [
    {
     "name": "stdout",
     "output_type": "stream",
     "text": [
      "Tamanho: 48295 Vocabulário: ['aa' 'aaa' 'aaacom' ... 'zyvox' 'zz' 'zzxzx']\n"
     ]
    },
    {
     "data": {
      "text/plain": [
       "<Compressed Sparse Row sparse matrix of dtype 'float64'\n",
       "\twith 2122670 stored elements and shape (18240, 48295)>"
      ]
     },
     "execution_count": 36,
     "metadata": {},
     "output_type": "execute_result"
    }
   ],
   "execution_count": 36
  },
  {
   "metadata": {
    "ExecuteTime": {
     "end_time": "2025-06-29T01:45:47.776534Z",
     "start_time": "2025-06-29T01:45:47.765951Z"
    }
   },
   "cell_type": "code",
   "source": [
    "X_train_vec, X_test_vec, y_train_vec, y_test_vec = train_test_split(resumes_vec, y, test_size=0.4, random_state=42)\n",
    "X_train_vec.shape, X_test_vec.shape, y_train_vec.shape, y_test_vec.shape"
   ],
   "id": "8d82d4fa23ff6470",
   "outputs": [
    {
     "data": {
      "text/plain": [
       "((10944, 48295), (7296, 48295), (10944, 95), (7296, 95))"
      ]
     },
     "execution_count": 37,
     "metadata": {},
     "output_type": "execute_result"
    }
   ],
   "execution_count": 37
  },
  {
   "metadata": {
    "ExecuteTime": {
     "end_time": "2025-06-29T01:45:51.318085Z",
     "start_time": "2025-06-29T01:45:49.443331Z"
    }
   },
   "cell_type": "code",
   "source": [
    "from tensorflow.keras.preprocessing.text import Tokenizer\n",
    "from tensorflow.keras.preprocessing.sequence import pad_sequences\n",
    "\n",
    "num_words = 20000\n",
    "max_length = 500\n",
    "oov_tok = \"<OOV>\"\n",
    "token = Tokenizer(num_words=num_words, oov_token=oov_tok)\n",
    "token.fit_on_texts(all_data['resume'])\n",
    "inputs = len(token.word_index)\n",
    "resumes_token = token.texts_to_sequences(all_data['resume'])\n",
    "resumes_token = pad_sequences(resumes_token, padding=\"post\", truncating=\"post\", maxlen=max_length)\n",
    "inputs, resumes_token"
   ],
   "id": "964330b5c5d2d418",
   "outputs": [
    {
     "data": {
      "text/plain": [
       "(48319,\n",
       " array([[  34, 1307, 1032, ...,    0,    0,    0],\n",
       "        [  34,  350, 2123, ...,    0,    0,    0],\n",
       "        [  34,  769,   59, ...,    0,    0,    0],\n",
       "        ...,\n",
       "        [   9,  621,   61, ...,    0,    0,    0],\n",
       "        [ 154,  307,  602, ...,   23, 2651,   23],\n",
       "        [ 154,  307,  602, ...,   23, 2651,   23]], dtype=int32))"
      ]
     },
     "execution_count": 38,
     "metadata": {},
     "output_type": "execute_result"
    }
   ],
   "execution_count": 38
  },
  {
   "metadata": {
    "ExecuteTime": {
     "end_time": "2025-06-29T01:45:52.588949Z",
     "start_time": "2025-06-29T01:45:52.577514Z"
    }
   },
   "cell_type": "code",
   "source": [
    "X_train_tkn, X_test_tkn, y_train_tkn, y_test_tkn = train_test_split(resumes_token, y, test_size=0.4, random_state=42)\n",
    "X_train_tkn.shape, X_test_tkn.shape, y_train_tkn.shape, y_test_tkn.shape"
   ],
   "id": "b3ce4066c93584e3",
   "outputs": [
    {
     "data": {
      "text/plain": [
       "((10944, 500), (7296, 500), (10944, 95), (7296, 95))"
      ]
     },
     "execution_count": 39,
     "metadata": {},
     "output_type": "execute_result"
    }
   ],
   "execution_count": 39
  },
  {
   "metadata": {},
   "cell_type": "markdown",
   "source": "### Load models",
   "id": "d45ce2e274e8516a"
  },
  {
   "metadata": {
    "ExecuteTime": {
     "end_time": "2025-06-29T01:35:19.599537Z",
     "start_time": "2025-06-29T01:35:15.171515Z"
    }
   },
   "cell_type": "code",
   "source": [
    "import joblib\n",
    "import tensorflow as tf\n",
    "import tensorflow_text as text\n",
    "import tensorflow_hub as hub\n",
    "\n",
    "rfc = joblib.load('models/RFC_model.pkl')\n",
    "svc = joblib.load('models/SVC_model.pkl')\n",
    "sgd = joblib.load('models/SGD_model.pkl')\n",
    "nu_svc = joblib.load('models/NuSVC_model.pkl')\n",
    "mpl = joblib.load('models/MLP_model.pkl')\n",
    "lr = joblib.load('models/LR_model.pkl')\n",
    "linear_svc = joblib.load('models/LinearSVC_model.pkl')\n",
    "knc = joblib.load('models/KNC_model.pkl')\n",
    "lstm = tf.keras.models.load_model('models/LSTM_model.keras')\n",
    "# bert = tf.keras.models.load_model('models/BERT_model.keras')"
   ],
   "id": "677d8f36ffe3e857",
   "outputs": [
    {
     "name": "stderr",
     "output_type": "stream",
     "text": [
      "I0000 00:00:1751160918.842222   37362 gpu_device.cc:2019] Created device /job:localhost/replica:0/task:0/device:GPU:0 with 9695 MB memory:  -> device: 0, name: NVIDIA GeForce RTX 3060, pci bus id: 0000:01:00.0, compute capability: 8.6\n",
      "/home/ja1/Faculdade/recpad/hybrid-classification-resumes/.venv/lib/python3.12/site-packages/keras/src/saving/saving_lib.py:802: UserWarning: Skipping variable loading for optimizer 'rmsprop', because it has 18 variables whereas the saved optimizer has 34 variables. \n",
      "  saveable.load_own_variables(weights_store.get(inner_path))\n"
     ]
    }
   ],
   "execution_count": 10
  },
  {
   "metadata": {
    "ExecuteTime": {
     "end_time": "2025-06-29T01:36:27.143309Z",
     "start_time": "2025-06-29T01:35:19.613069Z"
    }
   },
   "cell_type": "code",
   "source": [
    "pred = {\n",
    "    # 'target': decoded_label(label_encoder, y_test_vec),\n",
    "    'rfc': rfc.predict(X_test_vec),\n",
    "    'svc': svc.predict(X_test_vec),\n",
    "    'sgd': sgd.predict(X_test_vec),\n",
    "    'nu_svc': nu_svc.predict(X_test_vec),\n",
    "    'mpl': mpl.predict(X_test_vec),\n",
    "    'lr': lr.predict(X_test_vec),\n",
    "    'linear_svc': linear_svc.predict(X_test_vec),\n",
    "    'knc': knc.predict(X_test_vec),\n",
    "    'lstm': [int(np.argmax(y)) for y in lstm.predict(X_test_tkn)],\n",
    "    # 'bert': bert_pred\n",
    "}"
   ],
   "id": "ed194b7344c23ae0",
   "outputs": [
    {
     "name": "stdout",
     "output_type": "stream",
     "text": [
      "\u001B[1m  1/228\u001B[0m \u001B[37m━━━━━━━━━━━━━━━━━━━━\u001B[0m \u001B[1m2:48\u001B[0m 743ms/step"
     ]
    },
    {
     "name": "stderr",
     "output_type": "stream",
     "text": [
      "I0000 00:00:1751160981.778646   37457 cuda_dnn.cc:529] Loaded cuDNN version 91002\n"
     ]
    },
    {
     "name": "stdout",
     "output_type": "stream",
     "text": [
      "\u001B[1m228/228\u001B[0m \u001B[32m━━━━━━━━━━━━━━━━━━━━\u001B[0m\u001B[37m\u001B[0m \u001B[1m6s\u001B[0m 23ms/step\n"
     ]
    }
   ],
   "execution_count": 11
  },
  {
   "metadata": {
    "ExecuteTime": {
     "end_time": "2025-06-29T01:56:18.361108Z",
     "start_time": "2025-06-29T01:56:18.353149Z"
    }
   },
   "cell_type": "code",
   "source": [
    "results = pd.DataFrame(pred)\n",
    "results"
   ],
   "id": "d20993b56bc892d6",
   "outputs": [
    {
     "data": {
      "text/plain": [
       "      rfc  svc  sgd  nu_svc  mpl  lr  linear_svc  knc  lstm\n",
       "0      73   73   73      73   73  73          73   73    73\n",
       "1      92   92   92      92   92  92          92   92    92\n",
       "2      52   52   52      52   52  52          52   52    52\n",
       "3      81   81   81      81   81  81          81   81    81\n",
       "4      78   78   78      78   78  78          78   78    78\n",
       "...   ...  ...  ...     ...  ...  ..         ...  ...   ...\n",
       "7291   24   24   24      24   24  24          24   24    24\n",
       "7292   49   49   49      49   49  49          49   49    49\n",
       "7293   16   16   16      16   16  16          16   16    16\n",
       "7294   23   23   23      23   23  23          23   23    23\n",
       "7295   22   22   22      22   22  22          22   22    22\n",
       "\n",
       "[7296 rows x 9 columns]"
      ],
      "text/html": [
       "<div>\n",
       "<style scoped>\n",
       "    .dataframe tbody tr th:only-of-type {\n",
       "        vertical-align: middle;\n",
       "    }\n",
       "\n",
       "    .dataframe tbody tr th {\n",
       "        vertical-align: top;\n",
       "    }\n",
       "\n",
       "    .dataframe thead th {\n",
       "        text-align: right;\n",
       "    }\n",
       "</style>\n",
       "<table border=\"1\" class=\"dataframe\">\n",
       "  <thead>\n",
       "    <tr style=\"text-align: right;\">\n",
       "      <th></th>\n",
       "      <th>rfc</th>\n",
       "      <th>svc</th>\n",
       "      <th>sgd</th>\n",
       "      <th>nu_svc</th>\n",
       "      <th>mpl</th>\n",
       "      <th>lr</th>\n",
       "      <th>linear_svc</th>\n",
       "      <th>knc</th>\n",
       "      <th>lstm</th>\n",
       "    </tr>\n",
       "  </thead>\n",
       "  <tbody>\n",
       "    <tr>\n",
       "      <th>0</th>\n",
       "      <td>73</td>\n",
       "      <td>73</td>\n",
       "      <td>73</td>\n",
       "      <td>73</td>\n",
       "      <td>73</td>\n",
       "      <td>73</td>\n",
       "      <td>73</td>\n",
       "      <td>73</td>\n",
       "      <td>73</td>\n",
       "    </tr>\n",
       "    <tr>\n",
       "      <th>1</th>\n",
       "      <td>92</td>\n",
       "      <td>92</td>\n",
       "      <td>92</td>\n",
       "      <td>92</td>\n",
       "      <td>92</td>\n",
       "      <td>92</td>\n",
       "      <td>92</td>\n",
       "      <td>92</td>\n",
       "      <td>92</td>\n",
       "    </tr>\n",
       "    <tr>\n",
       "      <th>2</th>\n",
       "      <td>52</td>\n",
       "      <td>52</td>\n",
       "      <td>52</td>\n",
       "      <td>52</td>\n",
       "      <td>52</td>\n",
       "      <td>52</td>\n",
       "      <td>52</td>\n",
       "      <td>52</td>\n",
       "      <td>52</td>\n",
       "    </tr>\n",
       "    <tr>\n",
       "      <th>3</th>\n",
       "      <td>81</td>\n",
       "      <td>81</td>\n",
       "      <td>81</td>\n",
       "      <td>81</td>\n",
       "      <td>81</td>\n",
       "      <td>81</td>\n",
       "      <td>81</td>\n",
       "      <td>81</td>\n",
       "      <td>81</td>\n",
       "    </tr>\n",
       "    <tr>\n",
       "      <th>4</th>\n",
       "      <td>78</td>\n",
       "      <td>78</td>\n",
       "      <td>78</td>\n",
       "      <td>78</td>\n",
       "      <td>78</td>\n",
       "      <td>78</td>\n",
       "      <td>78</td>\n",
       "      <td>78</td>\n",
       "      <td>78</td>\n",
       "    </tr>\n",
       "    <tr>\n",
       "      <th>...</th>\n",
       "      <td>...</td>\n",
       "      <td>...</td>\n",
       "      <td>...</td>\n",
       "      <td>...</td>\n",
       "      <td>...</td>\n",
       "      <td>...</td>\n",
       "      <td>...</td>\n",
       "      <td>...</td>\n",
       "      <td>...</td>\n",
       "    </tr>\n",
       "    <tr>\n",
       "      <th>7291</th>\n",
       "      <td>24</td>\n",
       "      <td>24</td>\n",
       "      <td>24</td>\n",
       "      <td>24</td>\n",
       "      <td>24</td>\n",
       "      <td>24</td>\n",
       "      <td>24</td>\n",
       "      <td>24</td>\n",
       "      <td>24</td>\n",
       "    </tr>\n",
       "    <tr>\n",
       "      <th>7292</th>\n",
       "      <td>49</td>\n",
       "      <td>49</td>\n",
       "      <td>49</td>\n",
       "      <td>49</td>\n",
       "      <td>49</td>\n",
       "      <td>49</td>\n",
       "      <td>49</td>\n",
       "      <td>49</td>\n",
       "      <td>49</td>\n",
       "    </tr>\n",
       "    <tr>\n",
       "      <th>7293</th>\n",
       "      <td>16</td>\n",
       "      <td>16</td>\n",
       "      <td>16</td>\n",
       "      <td>16</td>\n",
       "      <td>16</td>\n",
       "      <td>16</td>\n",
       "      <td>16</td>\n",
       "      <td>16</td>\n",
       "      <td>16</td>\n",
       "    </tr>\n",
       "    <tr>\n",
       "      <th>7294</th>\n",
       "      <td>23</td>\n",
       "      <td>23</td>\n",
       "      <td>23</td>\n",
       "      <td>23</td>\n",
       "      <td>23</td>\n",
       "      <td>23</td>\n",
       "      <td>23</td>\n",
       "      <td>23</td>\n",
       "      <td>23</td>\n",
       "    </tr>\n",
       "    <tr>\n",
       "      <th>7295</th>\n",
       "      <td>22</td>\n",
       "      <td>22</td>\n",
       "      <td>22</td>\n",
       "      <td>22</td>\n",
       "      <td>22</td>\n",
       "      <td>22</td>\n",
       "      <td>22</td>\n",
       "      <td>22</td>\n",
       "      <td>22</td>\n",
       "    </tr>\n",
       "  </tbody>\n",
       "</table>\n",
       "<p>7296 rows × 9 columns</p>\n",
       "</div>"
      ]
     },
     "execution_count": 52,
     "metadata": {},
     "output_type": "execute_result"
    }
   ],
   "execution_count": 52
  },
  {
   "metadata": {},
   "cell_type": "markdown",
   "source": "### Test decision",
   "id": "8a624d9fd10a4575"
  },
  {
   "metadata": {
    "ExecuteTime": {
     "end_time": "2025-06-29T01:52:30.898929Z",
     "start_time": "2025-06-29T01:52:30.896598Z"
    }
   },
   "cell_type": "code",
   "source": [
    "def pred_ensemble(x):\n",
    "    if np.std(x) == 0:\n",
    "        return x[0]\n",
    "    else:\n",
    "        mode = stats.mode(x)\n",
    "        if mode.count > 5:\n",
    "            return int(mode.mode)\n",
    "        else:\n",
    "            mean = np.average(x, weights=trust_models)\n",
    "            # mean = np.mean(x)\n",
    "            nearest = len(label_encoder.classes_)\n",
    "            for v in x:\n",
    "                diff = abs(v - mean)\n",
    "                nearest = nearest if nearest < diff else v\n",
    "            return int(nearest)"
   ],
   "id": "84effdb0b815f4e8",
   "outputs": [],
   "execution_count": 48
  },
  {
   "metadata": {
    "ExecuteTime": {
     "end_time": "2025-06-29T01:52:40.686170Z",
     "start_time": "2025-06-29T01:52:40.464986Z"
    }
   },
   "cell_type": "code",
   "source": [
    "from scipy import stats\n",
    "from sklearn.metrics import classification_report\n",
    "\n",
    "trust_models = np.ravel(np.array(trust_models))\n",
    "y_test = [int(np.argmax(y)) for y in y_test_vec]\n",
    "statistic_predictions = []\n",
    "for x in np.array(results):\n",
    "    statistic_predictions.append(pred_ensemble(x))\n",
    "\n",
    "report = classification_report(y_test, statistic_predictions, output_dict=True)\n",
    "{\n",
    "    'accuracy': report['accuracy'],\n",
    "    'macro avg': report['macro avg'],\n",
    "    'weighted avg': report['weighted avg'],\n",
    "}"
   ],
   "id": "4171ec25af581a7c",
   "outputs": [
    {
     "data": {
      "text/plain": [
       "{'accuracy': 0.9801260964912281,\n",
       " 'macro avg': {'precision': 0.9833448650633813,\n",
       "  'recall': 0.982827632000708,\n",
       "  'f1-score': 0.9827130000470556,\n",
       "  'support': 7296.0},\n",
       " 'weighted avg': {'precision': 0.9809227207390692,\n",
       "  'recall': 0.9801260964912281,\n",
       "  'f1-score': 0.9800934609348122,\n",
       "  'support': 7296.0}}"
      ]
     },
     "execution_count": 49,
     "metadata": {},
     "output_type": "execute_result"
    }
   ],
   "execution_count": 49
  },
  {
   "metadata": {
    "ExecuteTime": {
     "end_time": "2025-06-29T02:17:37.673615Z",
     "start_time": "2025-06-29T02:17:37.670754Z"
    }
   },
   "cell_type": "code",
   "source": [
    "resume_text = \"\"\"\n",
    "lead accountant highlights quickbooks peachtree house accounting systems financial reporting mas far wawf great plains integration manager frx reporting hyperion workspace planning enterprise essbase schedules reports crystal reports ms office strong excel skill financial accounting database management budget administration performance reporting tax preparation compliance forecasting trend analysis strategic planning cash flow analysis variance analysis sarbanes research compliance experience lead accountant november current company name city state experience various areas including limited operating budgets financial analysis planning financial statements reporting accounting policies procedure cash flow taxes auditing business process improvements manage various areas financial accounting budgeting financial analysis execute qualitative quantitative analysis techniques minimize risks liabilities develop implement system processes achieve financial discipline improve overall efficiency organization provide strong analytical skills good relationship management negotiation skills liaising various large corporate entities financial institutions various regulatory authorities monitor manage daily processes multiple complex revenues streams review contracts new pricing schedules researching implementing new accounts accounting systems provide subject matter expertise analyzing revenue trends apply corrective measures risk findings maintain ongoing communication key stakeholders include accounts operations managers new markets support teams emerging accounting issues recommend corrective actions test internal controls compliance preventing fraud improving accounting processes meeting full compliance gaap federal state law stay abreast relevant new market events new product pipeline track daily activity firm new contracts provide recommendations financial related issues maintain accuracy completeness deferred revenues enforce timely revenue recognition lead develop methods implement revenue test models complex billing structures perform trends analysis revenues using quantitative methodology forecast future contingencies maintain new revenue backlog inventories periodically testing appropriateness new pricing conditions well accounting policy determinations identify risky accounts default communicate account managers corrective actions prepare various ad hoc reports request senior management requiring knowledge general ledger supporting sub ledger details lead support assist external financial audit process prepare maintain various incentive payment schedules prescriber program lead support billing automation effort streamlining monthly billing process prompt accurate timely billing customers improve cash flows meeting targeted projections senior accountant september october company name city state compiled analyzed financial data used preparation corporate financial statements provided support business operations analysis key performance indicators trends maintained supervised various systems internal controls financial reporting assessing remediating deficiencies discovered periodic testing making easier reconcile accounts collaborated compiled prepared budgets forecast operational activities maintained general ledger sub ledger accounts posting documenting financial journal entries managed maintained corporate closing schedules periodic financial reporting monitored maintained fixed assets depreciation schedules ongoing basis filed property taxes county ensured compliance corporate sales taxes federal state lead team preparation coordination financial audit process reconciled bank statements procured recommendations bank irregularities issues key stake holders staff accountant march august company name city state performed monthly closing cycle responsible preparing analyzing reconciling correcting financial statements management reports homebuilding divisions acted primary contact operations personnel accounting related matters maintained company systems internal controls financial reporting posted financial statement entries including reconciling documented p l classification entries verified preliminary sales report composed final corporate reporting reviewed reconciled inventory status posted reconciling entries prepared corrected preliminary escrow analysis including extensive analysis escrow account allocation entries performed analysis direct profits reviewed created roll forward reports builder reserve runs summary reconciled builder proceeds mortgage proceeds researched accounting procedures policy statures including sarbanes oxley sec compliance irs state local tax laws education accounting business administration university maryland university college city state accounting business administration cpa candidate skills accounting accounting systems ad analytical skills auditing automation billing budgeting budgets budget business operations business process cash flow cash flow closing contracts cpa crystal reports database management essbase senior management financial financial accounting financial analysis financial analysis planning financial reporting financial statements fixed assets forecasting general ledger great plains hyperion inventory ledger law market mas excel ms office negotiation enterprise peachtree personnel policies pricing processes quantitative analysis quickbooks reconciling relationship management reporting researching research sales sarbanes oxley strategic planning tax preparation tax taxes trend\n",
    "\"\"\""
   ],
   "id": "92c56fa42cb73e17",
   "outputs": [],
   "execution_count": 81
  },
  {
   "metadata": {
    "ExecuteTime": {
     "end_time": "2025-06-29T02:17:40.503534Z",
     "start_time": "2025-06-29T02:17:40.068194Z"
    }
   },
   "cell_type": "code",
   "source": [
    "import re\n",
    "import string\n",
    "import spacy\n",
    "\n",
    "nlp = spacy.load('en_core_web_sm')\n",
    "\n",
    "resume_text = str(resume_text).lower()  # Convert to lowercase\n",
    "resume_text = re.sub(r'\\n', ' ', resume_text)  # Remove newlines\n",
    "resume_text = re.sub(r'\\[.*?\\]', '', resume_text)  # Remove text in brackets\n",
    "resume_text = re.sub(r'[%s]' % re.escape(string.punctuation), '', resume_text)  # Remove punctuation\n",
    "resume_text = re.sub(r'\\w*\\d\\w*', '', resume_text)  # Remove words with numbers\n",
    "resume_text = re.sub(r'https?://\\S+|www\\.\\S+|ftp\\.\\S+', '', resume_text) # remove ulrs\n",
    "resume_text = re.sub(r'\\S+@\\S+', '', resume_text) # remove emails\n",
    "resume_text = re.sub('[^A-Za-z0-9 ]+', '', resume_text) # no special character but space\n",
    "resume_text = re.sub(r'\\s+', ' ', resume_text)  # Remove extra spaces\n",
    "resume_text = resume_text.strip()\n",
    "doc = nlp(resume_text)\n",
    "tokens = [token.text for token in doc if not token.is_stop]\n",
    "resume_text = ' '.join(tokens)\n",
    "doc = nlp(resume_text)\n",
    "lemmatized_tokens = [token.lemma_ for token in doc]\n",
    "resume_text = ' '.join(lemmatized_tokens)\n",
    "resume_text"
   ],
   "id": "89981fcff06d54a1",
   "outputs": [
    {
     "data": {
      "text/plain": [
       "'lead accountant highlight quickbook peachtree house accounting system financial reporting mas far wawf great plain integration manager frx reporting hyperion workspace planning enterprise essbase schedule report crystal report ms office strong excel skill financial accounting database management budget administration performance report tax preparation compliance forecasting trend analysis strategic planning cash flow analysis variance analysis sarbane research compliance experience lead accountant november current company city state experience area include limited operating budget financial analysis plan financial statement report accounting policy procedure cash flow taxis audit business process improvement manage area financial accounting budget financial analysis execute qualitative quantitative analysis technique minimize risk liability develop implement system process achieve financial discipline improve overall efficiency organization provide strong analytical skill good relationship management negotiation skill liaise large corporate entity financial institution regulatory authority monitor manage daily process multiple complex revenue stream review contract new pricing schedule research implement new account accounting system provide subject matter expertise analyze revenue trend apply corrective measure risk finding maintain ongoing communication key stakeholder include account operation manager new market support team emerge accounting issue recommend corrective action test internal control compliance prevent fraud improve accounting process meet compliance gaap federal state law stay abreast relevant new market event new product pipeline track daily activity firm new contract provide recommendation financial relate issue maintain accuracy completeness defer revenue enforce timely revenue recognition lead develop method implement revenue test model complex billing structure perform trend analysis revenue quantitative methodology forecast future contingency maintain new revenue backlog inventory periodically test appropriateness new pricing condition accounting policy determination identify risky account default communicate account manager corrective action prepare ad hoc report request senior management require knowledge general ledger support sub ledger detail lead support assist external financial audit process prepare maintain incentive payment schedule prescriber program lead support billing automation effort streamline monthly billing process prompt accurate timely billing customer improve cash flow meet target projection senior accountant september october company city state compile analyze financial datum preparation corporate financial statement provide support business operation analysis key performance indicator trend maintain supervised system internal control financial reporting assess remediate deficiency discover periodic testing make easy reconcile account collaborate compile prepare budget forecast operational activity maintain general ledger sub ledger account post document financial journal entry manage maintain corporate closing schedule periodic financial reporting monitor maintain fix asset depreciation schedule ongoing basis file property taxis county ensure compliance corporate sale taxis federal state lead team preparation coordination financial audit process reconcile bank statement procure recommendation bank irregularity issue key stake holder staff accountant march august company city state perform monthly closing cycle responsible preparing analyze reconcile correct financial statement management report homebuilde division act primary contact operation personnel accounting relate matter maintain company system internal control financial reporting post financial statement entry include reconcile document p l classification entry verify preliminary sale report compose final corporate reporting review reconcile inventory status post reconcile entry prepare correct preliminary escrow analysis include extensive analysis escrow account allocation entry perform analysis direct profit review create roll forward report builder reserve run summary reconcile builder proceed mortgage proceed research accounting procedure policy stature include sarbane oxley sec compliance irs state local tax law education accounting business administration university maryland university college city state accounting business administration cpa candidate skill accounting accounting system ad analytical skill audit automation bill budgeting budget budget business operation business process cash flow cash flow closing contract cpa crystal report database management essbase senior management financial financial accounting financial analysis financial analysis plan financial report financial statement fix asset forecast general ledger great plain hyperion inventory ledger law market mas excel ms office negotiation enterprise peachtree personnel policy pricing process quantitative analysis quickbook reconcile relationship management reporting research research sale sarbane oxley strategic planning tax preparation tax taxis trend'"
      ]
     },
     "execution_count": 82,
     "metadata": {},
     "output_type": "execute_result"
    }
   ],
   "execution_count": 82
  },
  {
   "metadata": {
    "ExecuteTime": {
     "end_time": "2025-06-29T02:17:42.387013Z",
     "start_time": "2025-06-29T02:17:42.383993Z"
    }
   },
   "cell_type": "code",
   "source": [
    "resume_vec = tfidf_vec.transform([resume_text])\n",
    "resume_vec.shape"
   ],
   "id": "7f25a7a3c3fa58e8",
   "outputs": [
    {
     "data": {
      "text/plain": [
       "(1, 48295)"
      ]
     },
     "execution_count": 83,
     "metadata": {},
     "output_type": "execute_result"
    }
   ],
   "execution_count": 83
  },
  {
   "metadata": {
    "ExecuteTime": {
     "end_time": "2025-06-29T02:17:43.819270Z",
     "start_time": "2025-06-29T02:17:43.816624Z"
    }
   },
   "cell_type": "code",
   "source": [
    "resume_token = token.texts_to_sequences([resume_text])\n",
    "resume_token = pad_sequences(resume_token, padding=\"post\", truncating=\"post\", maxlen=max_length)\n",
    "resume_token.shape"
   ],
   "id": "a52376c71a3f80bb",
   "outputs": [
    {
     "data": {
      "text/plain": [
       "(1, 500)"
      ]
     },
     "execution_count": 84,
     "metadata": {},
     "output_type": "execute_result"
    }
   ],
   "execution_count": 84
  },
  {
   "metadata": {
    "ExecuteTime": {
     "end_time": "2025-06-29T02:17:45.341974Z",
     "start_time": "2025-06-29T02:17:45.200932Z"
    }
   },
   "cell_type": "code",
   "source": [
    "pred_resume = {\n",
    "    # 'target': decoded_label(label_encoder, y_test_vec),\n",
    "    'rfc': rfc.predict(resume_vec),\n",
    "    'svc': svc.predict(resume_vec),\n",
    "    'sgd': sgd.predict(resume_vec),\n",
    "    'nu_svc': nu_svc.predict(resume_vec),\n",
    "    'mpl': mpl.predict(resume_vec),\n",
    "    'lr': lr.predict(resume_vec),\n",
    "    'linear_svc': linear_svc.predict(resume_vec),\n",
    "    'knc': knc.predict(resume_vec),\n",
    "    'lstm': [int(np.argmax(y)) for y in lstm.predict(resume_token)],\n",
    "    # 'bert': bert_pred\n",
    "}"
   ],
   "id": "41f59021587aab3a",
   "outputs": [
    {
     "name": "stdout",
     "output_type": "stream",
     "text": [
      "\u001B[1m1/1\u001B[0m \u001B[32m━━━━━━━━━━━━━━━━━━━━\u001B[0m\u001B[37m\u001B[0m \u001B[1m0s\u001B[0m 46ms/step\n"
     ]
    }
   ],
   "execution_count": 85
  },
  {
   "metadata": {
    "ExecuteTime": {
     "end_time": "2025-06-29T02:17:47.164159Z",
     "start_time": "2025-06-29T02:17:47.160896Z"
    }
   },
   "cell_type": "code",
   "source": [
    "result_resume = pd.DataFrame(pred_resume)\n",
    "encode_category_pred = pred_ensemble(result_resume.iloc[0])\n",
    "encode_category_pred"
   ],
   "id": "8d4cc6c7d8998754",
   "outputs": [
    {
     "data": {
      "text/plain": [
       "0"
      ]
     },
     "execution_count": 86,
     "metadata": {},
     "output_type": "execute_result"
    }
   ],
   "execution_count": 86
  },
  {
   "metadata": {
    "ExecuteTime": {
     "end_time": "2025-06-29T02:17:48.759242Z",
     "start_time": "2025-06-29T02:17:48.756579Z"
    }
   },
   "cell_type": "code",
   "source": [
    "category = decoded_label(label_encoder, [encode_category_pred], False)\n",
    "category[0]"
   ],
   "id": "fdd7dbfa20fa4753",
   "outputs": [
    {
     "data": {
      "text/plain": [
       "'accountant'"
      ]
     },
     "execution_count": 87,
     "metadata": {},
     "output_type": "execute_result"
    }
   ],
   "execution_count": 87
  }
 ],
 "metadata": {
  "kernelspec": {
   "display_name": "Python 3",
   "language": "python",
   "name": "python3"
  },
  "language_info": {
   "codemirror_mode": {
    "name": "ipython",
    "version": 2
   },
   "file_extension": ".py",
   "mimetype": "text/x-python",
   "name": "python",
   "nbconvert_exporter": "python",
   "pygments_lexer": "ipython2",
   "version": "2.7.6"
  }
 },
 "nbformat": 4,
 "nbformat_minor": 5
}
