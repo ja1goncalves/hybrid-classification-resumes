{
 "cells": [
  {
   "cell_type": "code",
   "id": "initial_id",
   "metadata": {
    "collapsed": true,
    "ExecuteTime": {
     "end_time": "2025-06-28T06:04:43.937089Z",
     "start_time": "2025-06-28T06:04:43.324501Z"
    }
   },
   "source": [
    "import numpy as np\n",
    "import pandas as pd\n",
    "from sklearn.model_selection import train_test_split"
   ],
   "outputs": [],
   "execution_count": 1
  },
  {
   "metadata": {},
   "cell_type": "markdown",
   "source": "### Catching off-line data",
   "id": "da339557a9b257db"
  },
  {
   "metadata": {
    "ExecuteTime": {
     "end_time": "2025-06-28T06:09:26.681939Z",
     "start_time": "2025-06-28T06:09:26.675135Z"
    }
   },
   "cell_type": "code",
   "source": [
    "trust_models = pd.read_csv(\"data/results/trust_model.csv\").drop(columns=['BERT'], axis=1)\n",
    "trust_models.head()"
   ],
   "id": "246fe1d262c9acce",
   "outputs": [
    {
     "data": {
      "text/plain": [
       "        RFC       MLP       SVC  LinearSVC     NuSVC       SGD       LR  \\\n",
       "0  0.966374  0.953947  0.963816   0.964181  0.954313  0.898757  0.96674   \n",
       "\n",
       "        KNC      LSTM  \n",
       "0  0.950658  0.964547  "
      ],
      "text/html": [
       "<div>\n",
       "<style scoped>\n",
       "    .dataframe tbody tr th:only-of-type {\n",
       "        vertical-align: middle;\n",
       "    }\n",
       "\n",
       "    .dataframe tbody tr th {\n",
       "        vertical-align: top;\n",
       "    }\n",
       "\n",
       "    .dataframe thead th {\n",
       "        text-align: right;\n",
       "    }\n",
       "</style>\n",
       "<table border=\"1\" class=\"dataframe\">\n",
       "  <thead>\n",
       "    <tr style=\"text-align: right;\">\n",
       "      <th></th>\n",
       "      <th>RFC</th>\n",
       "      <th>MLP</th>\n",
       "      <th>SVC</th>\n",
       "      <th>LinearSVC</th>\n",
       "      <th>NuSVC</th>\n",
       "      <th>SGD</th>\n",
       "      <th>LR</th>\n",
       "      <th>KNC</th>\n",
       "      <th>LSTM</th>\n",
       "    </tr>\n",
       "  </thead>\n",
       "  <tbody>\n",
       "    <tr>\n",
       "      <th>0</th>\n",
       "      <td>0.966374</td>\n",
       "      <td>0.953947</td>\n",
       "      <td>0.963816</td>\n",
       "      <td>0.964181</td>\n",
       "      <td>0.954313</td>\n",
       "      <td>0.898757</td>\n",
       "      <td>0.96674</td>\n",
       "      <td>0.950658</td>\n",
       "      <td>0.964547</td>\n",
       "    </tr>\n",
       "  </tbody>\n",
       "</table>\n",
       "</div>"
      ]
     },
     "execution_count": 15,
     "metadata": {},
     "output_type": "execute_result"
    }
   ],
   "execution_count": 15
  },
  {
   "metadata": {
    "ExecuteTime": {
     "end_time": "2025-06-28T06:04:46.627835Z",
     "start_time": "2025-06-28T06:04:46.410914Z"
    }
   },
   "cell_type": "code",
   "source": [
    "# after that I ask to gemini to generate new data for categories with less count\n",
    "all_data = pd.read_csv(\"data/filtered/normalized.csv\")\n",
    "all_data = all_data.dropna()\n",
    "all_data = all_data.drop_duplicates()\n",
    "all_data.shape"
   ],
   "id": "b0f7b4fd240d329",
   "outputs": [
    {
     "data": {
      "text/plain": [
       "(18240, 2)"
      ]
     },
     "execution_count": 3,
     "metadata": {},
     "output_type": "execute_result"
    }
   ],
   "execution_count": 3
  },
  {
   "metadata": {},
   "cell_type": "markdown",
   "source": "### Text pre process",
   "id": "b64fab5ae802b5b"
  },
  {
   "metadata": {
    "ExecuteTime": {
     "end_time": "2025-06-28T06:04:54.121148Z",
     "start_time": "2025-06-28T06:04:50.319160Z"
    }
   },
   "cell_type": "code",
   "source": [
    "from sklearn.preprocessing import LabelEncoder\n",
    "from tensorflow.keras.utils import to_categorical\n",
    "\n",
    "def encode_labels(categories):\n",
    "    label_encoder = LabelEncoder()\n",
    "    category_encoded = label_encoder.fit_transform(categories)\n",
    "    print(category_encoded)\n",
    "    num_categories = len(label_encoder.classes_)\n",
    "    y = to_categorical(category_encoded)\n",
    "    return label_encoder, y, num_categories\n",
    "\n",
    "def decoded_label(label_encoder, y_encoded, categorical=True):\n",
    "    label = [int(np.argmax(y)) for y in y_encoded] if categorical else y_encoded\n",
    "    return label_encoder.inverse_transform(label)"
   ],
   "id": "6d9a6f223eb0eebc",
   "outputs": [
    {
     "name": "stderr",
     "output_type": "stream",
     "text": [
      "2025-06-28 03:04:51.363397: E external/local_xla/xla/stream_executor/cuda/cuda_fft.cc:467] Unable to register cuFFT factory: Attempting to register factory for plugin cuFFT when one has already been registered\n",
      "WARNING: All log messages before absl::InitializeLog() is called are written to STDERR\n",
      "E0000 00:00:1751090691.476971  131153 cuda_dnn.cc:8579] Unable to register cuDNN factory: Attempting to register factory for plugin cuDNN when one has already been registered\n",
      "E0000 00:00:1751090691.507257  131153 cuda_blas.cc:1407] Unable to register cuBLAS factory: Attempting to register factory for plugin cuBLAS when one has already been registered\n",
      "W0000 00:00:1751090691.759273  131153 computation_placer.cc:177] computation placer already registered. Please check linkage and avoid linking the same target more than once.\n",
      "W0000 00:00:1751090691.759294  131153 computation_placer.cc:177] computation placer already registered. Please check linkage and avoid linking the same target more than once.\n",
      "W0000 00:00:1751090691.759296  131153 computation_placer.cc:177] computation placer already registered. Please check linkage and avoid linking the same target more than once.\n",
      "W0000 00:00:1751090691.759298  131153 computation_placer.cc:177] computation placer already registered. Please check linkage and avoid linking the same target more than once.\n",
      "2025-06-28 03:04:51.783715: I tensorflow/core/platform/cpu_feature_guard.cc:210] This TensorFlow binary is optimized to use available CPU instructions in performance-critical operations.\n",
      "To enable the following instructions: AVX2 FMA, in other operations, rebuild TensorFlow with the appropriate compiler flags.\n"
     ]
    }
   ],
   "execution_count": 4
  },
  {
   "metadata": {
    "ExecuteTime": {
     "end_time": "2025-06-28T06:04:54.139002Z",
     "start_time": "2025-06-28T06:04:54.129631Z"
    }
   },
   "cell_type": "code",
   "source": [
    "categories = all_data['category']\n",
    "label_encoder, y, num_categories = encode_labels(categories)\n",
    "print(num_categories, y)"
   ],
   "id": "51cd0e1c9405f5ce",
   "outputs": [
    {
     "name": "stdout",
     "output_type": "stream",
     "text": [
      "[48 70 46 ... 72 72 72]\n",
      "95 [[0. 0. 0. ... 0. 0. 0.]\n",
      " [0. 0. 0. ... 0. 0. 0.]\n",
      " [0. 0. 0. ... 0. 0. 0.]\n",
      " ...\n",
      " [0. 0. 0. ... 0. 0. 0.]\n",
      " [0. 0. 0. ... 0. 0. 0.]\n",
      " [0. 0. 0. ... 0. 0. 0.]]\n"
     ]
    }
   ],
   "execution_count": 5
  },
  {
   "metadata": {
    "ExecuteTime": {
     "end_time": "2025-06-28T06:04:55.449176Z",
     "start_time": "2025-06-28T06:04:54.178505Z"
    }
   },
   "cell_type": "code",
   "source": [
    "from sklearn.feature_extraction.text import TfidfVectorizer\n",
    "\n",
    "tfidf_vec = TfidfVectorizer()\n",
    "resumes_vec = tfidf_vec.fit_transform(all_data['resume'])\n",
    "inputs = len(tfidf_vec.get_feature_names_out())\n",
    "print(\"Tamanho:\", len(tfidf_vec.get_feature_names_out()), \"Vocabulário:\", tfidf_vec.get_feature_names_out(), )\n",
    "resumes_vec"
   ],
   "id": "c4b150be2d34b18",
   "outputs": [
    {
     "name": "stdout",
     "output_type": "stream",
     "text": [
      "Tamanho: 48295 Vocabulário: ['aa' 'aaa' 'aaacom' ... 'zyvox' 'zz' 'zzxzx']\n"
     ]
    },
    {
     "data": {
      "text/plain": [
       "<Compressed Sparse Row sparse matrix of dtype 'float64'\n",
       "\twith 2122670 stored elements and shape (18240, 48295)>"
      ]
     },
     "execution_count": 6,
     "metadata": {},
     "output_type": "execute_result"
    }
   ],
   "execution_count": 6
  },
  {
   "metadata": {
    "ExecuteTime": {
     "end_time": "2025-06-28T06:04:55.471271Z",
     "start_time": "2025-06-28T06:04:55.458628Z"
    }
   },
   "cell_type": "code",
   "source": [
    "X_train_vec, X_test_vec, y_train_vec, y_test_vec = train_test_split(resumes_vec, y, test_size=0.4, random_state=42)\n",
    "X_train_vec.shape, X_test_vec.shape, y_train_vec.shape, y_test_vec.shape"
   ],
   "id": "8d82d4fa23ff6470",
   "outputs": [
    {
     "data": {
      "text/plain": [
       "((10944, 48295), (7296, 48295), (10944, 95), (7296, 95))"
      ]
     },
     "execution_count": 7,
     "metadata": {},
     "output_type": "execute_result"
    }
   ],
   "execution_count": 7
  },
  {
   "metadata": {
    "ExecuteTime": {
     "end_time": "2025-06-28T06:04:57.403382Z",
     "start_time": "2025-06-28T06:04:55.508276Z"
    }
   },
   "cell_type": "code",
   "source": [
    "from tensorflow.keras.preprocessing.text import Tokenizer\n",
    "from tensorflow.keras.preprocessing.sequence import pad_sequences\n",
    "\n",
    "num_words = 20000\n",
    "max_length = 500\n",
    "oov_tok = \"<OOV>\"\n",
    "token = Tokenizer(num_words=num_words, oov_token=oov_tok)\n",
    "token.fit_on_texts(all_data['resume'])\n",
    "inputs = len(token.word_index)\n",
    "resumes_token = token.texts_to_sequences(all_data['resume'])\n",
    "resumes_token = pad_sequences(resumes_token, padding=\"post\", truncating=\"post\", maxlen=max_length)\n",
    "inputs, resumes_token"
   ],
   "id": "964330b5c5d2d418",
   "outputs": [
    {
     "data": {
      "text/plain": [
       "(48319,\n",
       " array([[  34, 1307, 1032, ...,    0,    0,    0],\n",
       "        [  34,  350, 2123, ...,    0,    0,    0],\n",
       "        [  34,  769,   59, ...,    0,    0,    0],\n",
       "        ...,\n",
       "        [   9,  621,   61, ...,    0,    0,    0],\n",
       "        [ 154,  307,  602, ...,   23, 2651,   23],\n",
       "        [ 154,  307,  602, ...,   23, 2651,   23]], dtype=int32))"
      ]
     },
     "execution_count": 8,
     "metadata": {},
     "output_type": "execute_result"
    }
   ],
   "execution_count": 8
  },
  {
   "metadata": {
    "ExecuteTime": {
     "end_time": "2025-06-28T06:04:57.427238Z",
     "start_time": "2025-06-28T06:04:57.413425Z"
    }
   },
   "cell_type": "code",
   "source": [
    "X_train_tkn, X_test_tkn, y_train_tkn, y_test_tkn = train_test_split(resumes_token, y, test_size=0.4, random_state=42)\n",
    "X_train_tkn.shape, X_test_tkn.shape, y_train_tkn.shape, y_test_tkn.shape"
   ],
   "id": "b3ce4066c93584e3",
   "outputs": [
    {
     "data": {
      "text/plain": [
       "((10944, 500), (7296, 500), (10944, 95), (7296, 95))"
      ]
     },
     "execution_count": 9,
     "metadata": {},
     "output_type": "execute_result"
    }
   ],
   "execution_count": 9
  },
  {
   "metadata": {},
   "cell_type": "markdown",
   "source": "### Load models",
   "id": "d45ce2e274e8516a"
  },
  {
   "metadata": {
    "ExecuteTime": {
     "end_time": "2025-06-28T06:05:18.708639Z",
     "start_time": "2025-06-28T06:05:01.028525Z"
    }
   },
   "cell_type": "code",
   "source": [
    "import joblib\n",
    "import tensorflow as tf\n",
    "import tensorflow_text as text\n",
    "import tensorflow_hub as hub\n",
    "\n",
    "rfc = joblib.load('models/RFC_model.pkl')\n",
    "svc = joblib.load('models/SVC_model.pkl')\n",
    "sgd = joblib.load('models/SGD_model.pkl')\n",
    "nu_svc = joblib.load('models/NuSVC_model.pkl')\n",
    "mpl = joblib.load('models/MLP_model.pkl')\n",
    "lr = joblib.load('models/LR_model.pkl')\n",
    "linear_svc = joblib.load('models/LinearSVC_model.pkl')\n",
    "knc = joblib.load('models/KNC_model.pkl')\n",
    "lstm = tf.keras.models.load_model('models/LSTM_model.keras')\n",
    "# bert = tf.keras.models.load_model('models/BERT_model.keras')"
   ],
   "id": "677d8f36ffe3e857",
   "outputs": [
    {
     "name": "stderr",
     "output_type": "stream",
     "text": [
      "2025-06-28 03:05:18.538798: E external/local_xla/xla/stream_executor/cuda/cuda_platform.cc:51] failed call to cuInit: INTERNAL: CUDA error: Failed call to cuInit: CUDA_ERROR_COMPAT_NOT_SUPPORTED_ON_DEVICE: forward compatibility was attempted on non supported HW\n",
      "2025-06-28 03:05:18.538820: I external/local_xla/xla/stream_executor/cuda/cuda_diagnostics.cc:178] verbose logging is disabled. Rerun with verbose logging (usually --v=1 or --vmodule=cuda_diagnostics=1) to get more diagnostic output from this module\n",
      "2025-06-28 03:05:18.538824: I external/local_xla/xla/stream_executor/cuda/cuda_diagnostics.cc:183] retrieving CUDA diagnostic information for host: ja1-SSD\n",
      "2025-06-28 03:05:18.538827: I external/local_xla/xla/stream_executor/cuda/cuda_diagnostics.cc:190] hostname: ja1-SSD\n",
      "2025-06-28 03:05:18.539004: I external/local_xla/xla/stream_executor/cuda/cuda_diagnostics.cc:197] libcuda reported version is: 570.158.1\n",
      "2025-06-28 03:05:18.539021: I external/local_xla/xla/stream_executor/cuda/cuda_diagnostics.cc:201] kernel reported version is: 570.153.2\n",
      "2025-06-28 03:05:18.539023: E external/local_xla/xla/stream_executor/cuda/cuda_diagnostics.cc:294] kernel version 570.153.2 does not match DSO version 570.158.1 -- cannot find working devices in this configuration\n",
      "/home/ja1/Faculdade/recpad/hybrid-classification-resumes/.venv/lib/python3.12/site-packages/keras/src/saving/saving_lib.py:802: UserWarning: Skipping variable loading for optimizer 'rmsprop', because it has 18 variables whereas the saved optimizer has 34 variables. \n",
      "  saveable.load_own_variables(weights_store.get(inner_path))\n"
     ]
    }
   ],
   "execution_count": 10
  },
  {
   "metadata": {
    "ExecuteTime": {
     "end_time": "2025-06-28T06:07:22.071958Z",
     "start_time": "2025-06-28T06:05:54.680762Z"
    }
   },
   "cell_type": "code",
   "source": [
    "pred = {\n",
    "    # 'target': decoded_label(label_encoder, y_test_vec),\n",
    "    'rfc': rfc.predict(X_test_vec),\n",
    "    'svc': svc.predict(X_test_vec),\n",
    "    'sgd': sgd.predict(X_test_vec),\n",
    "    'nu_svc': nu_svc.predict(X_test_vec),\n",
    "    'mpl': mpl.predict(X_test_vec),\n",
    "    'lr': lr.predict(X_test_vec),\n",
    "    'linear_svc': linear_svc.predict(X_test_vec),\n",
    "    'knc': knc.predict(X_test_vec),\n",
    "    'lstm': [int(np.argmax(y)) for y in lstm.predict(X_test_tkn)],\n",
    "    # 'bert': bert_pred\n",
    "}"
   ],
   "id": "ed194b7344c23ae0",
   "outputs": [
    {
     "name": "stdout",
     "output_type": "stream",
     "text": [
      "\u001B[1m228/228\u001B[0m \u001B[32m━━━━━━━━━━━━━━━━━━━━\u001B[0m\u001B[37m\u001B[0m \u001B[1m24s\u001B[0m 105ms/step\n"
     ]
    }
   ],
   "execution_count": 11
  },
  {
   "metadata": {
    "ExecuteTime": {
     "end_time": "2025-06-28T06:08:19.194514Z",
     "start_time": "2025-06-28T06:08:19.191011Z"
    }
   },
   "cell_type": "code",
   "source": "results = pd.DataFrame(pred)",
   "id": "d20993b56bc892d6",
   "outputs": [],
   "execution_count": 12
  },
  {
   "metadata": {},
   "cell_type": "markdown",
   "source": "### Test decision",
   "id": "8a624d9fd10a4575"
  },
  {
   "metadata": {
    "ExecuteTime": {
     "end_time": "2025-06-28T06:15:10.003855Z",
     "start_time": "2025-06-28T06:15:09.777962Z"
    }
   },
   "cell_type": "code",
   "source": [
    "from scipy import stats\n",
    "from sklearn.metrics import classification_report\n",
    "\n",
    "trust_models = np.ravel(np.array(trust_models))\n",
    "y_test = [int(np.argmax(y)) for y in y_test_vec]\n",
    "statistic_predictions = []\n",
    "for x in np.array(results):\n",
    "    if np.std(x) == 0:\n",
    "        statistic_predictions.append(x[0])\n",
    "    else:\n",
    "        mode = stats.mode(x)\n",
    "        if mode.count > 5:\n",
    "            statistic_predictions.append(int(mode.mode))\n",
    "        else:\n",
    "            mean = np.average(x, weights=trust_models)\n",
    "            # mean = np.mean(x)\n",
    "            nearest = len(label_encoder.classes_)\n",
    "            for v in x:\n",
    "                diff = abs(v - mean)\n",
    "                nearest = nearest if nearest < diff else v\n",
    "            statistic_predictions.append(int(nearest))\n",
    "\n",
    "report = classification_report(y_test, statistic_predictions, output_dict=True)\n",
    "{\n",
    "    'accuracy': report['accuracy'],\n",
    "    'macro avg': report['macro avg'],\n",
    "    'weighted avg': report['weighted avg'],\n",
    "}"
   ],
   "id": "4171ec25af581a7c",
   "outputs": [
    {
     "data": {
      "text/plain": [
       "{'accuracy': 0.9801260964912281,\n",
       " 'macro avg': {'precision': 0.9833448650633813,\n",
       "  'recall': 0.982827632000708,\n",
       "  'f1-score': 0.9827130000470556,\n",
       "  'support': 7296.0},\n",
       " 'weighted avg': {'precision': 0.9809227207390692,\n",
       "  'recall': 0.9801260964912281,\n",
       "  'f1-score': 0.9800934609348122,\n",
       "  'support': 7296.0}}"
      ]
     },
     "execution_count": 34,
     "metadata": {},
     "output_type": "execute_result"
    }
   ],
   "execution_count": 34
  },
  {
   "metadata": {
    "ExecuteTime": {
     "end_time": "2025-06-28T06:16:40.226788Z",
     "start_time": "2025-06-28T06:16:38.018001Z"
    }
   },
   "cell_type": "code",
   "source": [
    "knn = joblib.load('models/KNN_hybrid.pkl')\n",
    "dynamic_predictions = []\n",
    "for t in np.array(results):\n",
    "    distances, indexes = knn.kneighbors(t.reshape(1, -1))\n",
    "    distances = np.ravel(distances)\n",
    "    indexes = np.ravel(indexes)\n",
    "    x_nn = np.array(results.iloc[indexes])\n",
    "\n",
    "    options = list(set(np.concatenate((np.ravel(x_nn), t)).tolist()))\n",
    "    best_option = options[0]\n",
    "    options_weight = {o: 0 for o in options}\n",
    "    for o in options_weight.keys():\n",
    "        options_weight[o] += float(np.count_nonzero(t == o))\n",
    "        for i, x in enumerate(x_nn):\n",
    "            d = distances[i] if distances[i] != 0 else 1\n",
    "            options_weight[o] += float(np.count_nonzero(x == o) * trust_models[i]/d)\n",
    "\n",
    "        best_option = options_weight[o] if options_weight[o] > best_option else best_option\n",
    "\n",
    "    dynamic_predictions.append(int(best_option))\n",
    "#\n",
    "accuracy = classification_report(y_test, dynamic_predictions)\n",
    "print(accuracy)"
   ],
   "id": "97ac7f8ab936dacd",
   "outputs": [
    {
     "name": "stdout",
     "output_type": "stream",
     "text": [
      "              precision    recall  f1-score   support\n",
      "\n",
      "           0       0.00      0.00      0.00       107\n",
      "           1       0.00      0.00      0.00        95\n",
      "           2       0.00      0.00      0.00        63\n",
      "           3       0.00      0.00      0.00        76\n",
      "           4       0.00      0.00      0.00        72\n",
      "           5       0.09      0.04      0.05        79\n",
      "           6       0.00      0.00      0.00        64\n",
      "           7       0.12      0.03      0.05        93\n",
      "           8       0.00      0.00      0.00        53\n",
      "           9       0.07      1.00      0.13        57\n",
      "          10       0.39      0.82      0.53        98\n",
      "          11       0.37      0.83      0.51        70\n",
      "          12       0.97      0.76      0.85        95\n",
      "          13       0.00      0.00      0.00        99\n",
      "          14       0.00      0.00      0.00        56\n",
      "          15       0.00      0.00      0.00        58\n",
      "          16       0.26      0.95      0.41        75\n",
      "          17       0.24      0.91      0.37        87\n",
      "          18       0.62      0.92      0.74       110\n",
      "          19       0.93      0.99      0.96        85\n",
      "          20       0.99      1.00      0.99        73\n",
      "          21       0.50      0.02      0.03        57\n",
      "          22       0.00      0.00      0.00        87\n",
      "          23       0.00      0.00      0.00        82\n",
      "          24       0.26      0.81      0.40        96\n",
      "          25       0.97      1.00      0.98        65\n",
      "          26       0.62      1.00      0.76        89\n",
      "          27       0.00      0.00      0.00        69\n",
      "          28       0.00      0.00      0.00        74\n",
      "          29       0.00      0.00      0.00        82\n",
      "          30       0.00      0.00      0.00        61\n",
      "          31       1.00      1.00      1.00        60\n",
      "          32       0.86      1.00      0.92        60\n",
      "          33       0.97      1.00      0.99        71\n",
      "          34       0.01      0.02      0.01        66\n",
      "          35       0.20      0.03      0.05        99\n",
      "          36       0.98      1.00      0.99        57\n",
      "          37       0.38      0.80      0.52        74\n",
      "          38       0.00      0.00      0.00        54\n",
      "          39       0.00      0.00      0.00        65\n",
      "          40       0.42      1.00      0.60        68\n",
      "          41       0.33      0.06      0.10        82\n",
      "          42       0.33      1.00      0.49        78\n",
      "          43       0.00      0.00      0.00        58\n",
      "          44       0.00      0.00      0.00        74\n",
      "          45       0.67      0.02      0.04        87\n",
      "          46       0.00      0.00      0.00        77\n",
      "          47       0.00      0.00      0.00        91\n",
      "          48       0.33      1.00      0.50        80\n",
      "          49       1.00      1.00      1.00        57\n",
      "          50       0.00      0.00      0.00        77\n",
      "          51       0.00      0.00      0.00        58\n",
      "          52       1.00      1.00      1.00        65\n",
      "          53       0.00      0.00      0.00        99\n",
      "          54       0.00      0.00      0.00        92\n",
      "          55       0.00      0.00      0.00        83\n",
      "          56       0.17      0.20      0.19       108\n",
      "          57       0.93      1.00      0.96        64\n",
      "          58       0.26      1.00      0.41        75\n",
      "          59       1.00      0.01      0.02        81\n",
      "          60       0.00      0.00      0.00        83\n",
      "          61       0.33      0.87      0.48       114\n",
      "          62       0.00      0.00      0.00        87\n",
      "          63       0.00      0.00      0.00        86\n",
      "          64       0.91      1.00      0.95        74\n",
      "          65       0.00      0.00      0.00        67\n",
      "          66       0.00      0.00      0.00        71\n",
      "          67       1.00      0.01      0.02        82\n",
      "          68       0.00      0.00      0.00        82\n",
      "          69       1.00      1.00      1.00        77\n",
      "          70       0.99      1.00      0.99        88\n",
      "          71       0.00      0.00      0.00       104\n",
      "          72       0.95      1.00      0.97        57\n",
      "          73       0.60      1.00      0.75        75\n",
      "          74       0.51      1.00      0.68        85\n",
      "          75       0.85      0.87      0.86        79\n",
      "          76       0.97      1.00      0.98        59\n",
      "          77       0.00      0.00      0.00        67\n",
      "          78       1.00      1.00      1.00        90\n",
      "          79       0.00      0.00      0.00        86\n",
      "          80       0.35      1.00      0.51        80\n",
      "          81       0.93      1.00      0.96        51\n",
      "          82       0.00      0.00      0.00        79\n",
      "          83       0.00      0.00      0.00        73\n",
      "          84       0.00      0.00      0.00        77\n",
      "          85       1.00      1.00      1.00        58\n",
      "          86       0.00      0.00      0.00        72\n",
      "          87       0.00      0.00      0.00        87\n",
      "          88       0.26      0.97      0.41       115\n",
      "          89       0.98      1.00      0.99        56\n",
      "          90       1.00      1.00      1.00        75\n",
      "          91       1.00      1.00      1.00        65\n",
      "          92       0.00      0.00      0.00        73\n",
      "          93       0.00      0.00      0.00        62\n",
      "          94       0.00      0.00      0.00        73\n",
      "\n",
      "    accuracy                           0.41      7296\n",
      "   macro avg       0.35      0.42      0.34      7296\n",
      "weighted avg       0.33      0.41      0.33      7296\n",
      "\n"
     ]
    },
    {
     "name": "stderr",
     "output_type": "stream",
     "text": [
      "/home/ja1/Faculdade/recpad/hybrid-classification-resumes/.venv/lib/python3.12/site-packages/sklearn/metrics/_classification.py:1706: UndefinedMetricWarning: Precision is ill-defined and being set to 0.0 in labels with no predicted samples. Use `zero_division` parameter to control this behavior.\n",
      "  _warn_prf(average, modifier, f\"{metric.capitalize()} is\", result.shape[0])\n",
      "/home/ja1/Faculdade/recpad/hybrid-classification-resumes/.venv/lib/python3.12/site-packages/sklearn/metrics/_classification.py:1706: UndefinedMetricWarning: Precision is ill-defined and being set to 0.0 in labels with no predicted samples. Use `zero_division` parameter to control this behavior.\n",
      "  _warn_prf(average, modifier, f\"{metric.capitalize()} is\", result.shape[0])\n",
      "/home/ja1/Faculdade/recpad/hybrid-classification-resumes/.venv/lib/python3.12/site-packages/sklearn/metrics/_classification.py:1706: UndefinedMetricWarning: Precision is ill-defined and being set to 0.0 in labels with no predicted samples. Use `zero_division` parameter to control this behavior.\n",
      "  _warn_prf(average, modifier, f\"{metric.capitalize()} is\", result.shape[0])\n"
     ]
    }
   ],
   "execution_count": 38
  }
 ],
 "metadata": {
  "kernelspec": {
   "display_name": "Python 3",
   "language": "python",
   "name": "python3"
  },
  "language_info": {
   "codemirror_mode": {
    "name": "ipython",
    "version": 2
   },
   "file_extension": ".py",
   "mimetype": "text/x-python",
   "name": "python",
   "nbconvert_exporter": "python",
   "pygments_lexer": "ipython2",
   "version": "2.7.6"
  }
 },
 "nbformat": 4,
 "nbformat_minor": 5
}
