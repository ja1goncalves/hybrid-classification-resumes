{
 "cells": [
  {
   "cell_type": "code",
   "id": "initial_id",
   "metadata": {
    "collapsed": true,
    "ExecuteTime": {
     "end_time": "2025-06-26T19:23:43.751799Z",
     "start_time": "2025-06-26T19:23:42.435878Z"
    }
   },
   "source": [
    "import numpy as np\n",
    "import pandas as pd\n",
    "from sklearn.model_selection import train_test_split"
   ],
   "outputs": [],
   "execution_count": 1
  },
  {
   "metadata": {},
   "cell_type": "markdown",
   "source": "### Catching off-line data",
   "id": "da339557a9b257db"
  },
  {
   "metadata": {
    "ExecuteTime": {
     "end_time": "2025-06-26T19:23:46.515694Z",
     "start_time": "2025-06-26T19:23:46.295606Z"
    }
   },
   "cell_type": "code",
   "source": [
    "# after that I ask to gemini to generate new data for categories with less count\n",
    "all_data = pd.read_csv(\"data/filtered/normalized.csv\")\n",
    "all_data = all_data.dropna()\n",
    "all_data = all_data.drop_duplicates()\n",
    "all_data.shape"
   ],
   "id": "b0f7b4fd240d329",
   "outputs": [
    {
     "data": {
      "text/plain": [
       "(18240, 2)"
      ]
     },
     "execution_count": 2,
     "metadata": {},
     "output_type": "execute_result"
    }
   ],
   "execution_count": 2
  },
  {
   "metadata": {},
   "cell_type": "markdown",
   "source": "### Text pre process",
   "id": "b64fab5ae802b5b"
  },
  {
   "metadata": {
    "ExecuteTime": {
     "end_time": "2025-06-26T19:23:56.515854Z",
     "start_time": "2025-06-26T19:23:49.080506Z"
    }
   },
   "cell_type": "code",
   "source": [
    "from sklearn.preprocessing import LabelEncoder\n",
    "from tensorflow.keras.utils import to_categorical\n",
    "\n",
    "def encode_labels(categories):\n",
    "    label_encoder = LabelEncoder()\n",
    "    category_encoded = label_encoder.fit_transform(categories)\n",
    "    print(category_encoded)\n",
    "    num_categories = len(label_encoder.classes_)\n",
    "    y = to_categorical(category_encoded)\n",
    "    return label_encoder, y, num_categories\n",
    "\n",
    "def decoded_label(label_encoder, y_encoded, categorical=True):\n",
    "    label = [int(np.argmax(y)) for y in y_encoded] if categorical else y_encoded\n",
    "    return label_encoder.inverse_transform(label)"
   ],
   "id": "6d9a6f223eb0eebc",
   "outputs": [
    {
     "name": "stderr",
     "output_type": "stream",
     "text": [
      "2025-06-26 16:23:50.115416: E external/local_xla/xla/stream_executor/cuda/cuda_fft.cc:467] Unable to register cuFFT factory: Attempting to register factory for plugin cuFFT when one has already been registered\n",
      "WARNING: All log messages before absl::InitializeLog() is called are written to STDERR\n",
      "E0000 00:00:1750965830.226662    6011 cuda_dnn.cc:8579] Unable to register cuDNN factory: Attempting to register factory for plugin cuDNN when one has already been registered\n",
      "E0000 00:00:1750965830.255898    6011 cuda_blas.cc:1407] Unable to register cuBLAS factory: Attempting to register factory for plugin cuBLAS when one has already been registered\n",
      "W0000 00:00:1750965830.507211    6011 computation_placer.cc:177] computation placer already registered. Please check linkage and avoid linking the same target more than once.\n",
      "W0000 00:00:1750965830.507233    6011 computation_placer.cc:177] computation placer already registered. Please check linkage and avoid linking the same target more than once.\n",
      "W0000 00:00:1750965830.507237    6011 computation_placer.cc:177] computation placer already registered. Please check linkage and avoid linking the same target more than once.\n",
      "W0000 00:00:1750965830.507240    6011 computation_placer.cc:177] computation placer already registered. Please check linkage and avoid linking the same target more than once.\n",
      "2025-06-26 16:23:50.531477: I tensorflow/core/platform/cpu_feature_guard.cc:210] This TensorFlow binary is optimized to use available CPU instructions in performance-critical operations.\n",
      "To enable the following instructions: AVX2 FMA, in other operations, rebuild TensorFlow with the appropriate compiler flags.\n"
     ]
    }
   ],
   "execution_count": 3
  },
  {
   "metadata": {
    "ExecuteTime": {
     "end_time": "2025-06-26T19:23:56.532655Z",
     "start_time": "2025-06-26T19:23:56.524121Z"
    }
   },
   "cell_type": "code",
   "source": [
    "categories = all_data['category']\n",
    "label_encoder, y, num_categories = encode_labels(categories)\n",
    "print(num_categories, y)"
   ],
   "id": "51cd0e1c9405f5ce",
   "outputs": [
    {
     "name": "stdout",
     "output_type": "stream",
     "text": [
      "[48 70 46 ... 72 72 72]\n",
      "95 [[0. 0. 0. ... 0. 0. 0.]\n",
      " [0. 0. 0. ... 0. 0. 0.]\n",
      " [0. 0. 0. ... 0. 0. 0.]\n",
      " ...\n",
      " [0. 0. 0. ... 0. 0. 0.]\n",
      " [0. 0. 0. ... 0. 0. 0.]\n",
      " [0. 0. 0. ... 0. 0. 0.]]\n"
     ]
    }
   ],
   "execution_count": 4
  },
  {
   "metadata": {
    "ExecuteTime": {
     "end_time": "2025-06-26T19:23:57.788457Z",
     "start_time": "2025-06-26T19:23:56.573319Z"
    }
   },
   "cell_type": "code",
   "source": [
    "from sklearn.feature_extraction.text import TfidfVectorizer\n",
    "\n",
    "tfidf_vec = TfidfVectorizer()\n",
    "resumes_vec = tfidf_vec.fit_transform(all_data['resume'])\n",
    "inputs = len(tfidf_vec.get_feature_names_out())\n",
    "print(\"Tamanho:\", len(tfidf_vec.get_feature_names_out()), \"Vocabulário:\", tfidf_vec.get_feature_names_out(), )\n",
    "resumes_vec"
   ],
   "id": "c4b150be2d34b18",
   "outputs": [
    {
     "name": "stdout",
     "output_type": "stream",
     "text": [
      "Tamanho: 48295 Vocabulário: ['aa' 'aaa' 'aaacom' ... 'zyvox' 'zz' 'zzxzx']\n"
     ]
    },
    {
     "data": {
      "text/plain": [
       "<Compressed Sparse Row sparse matrix of dtype 'float64'\n",
       "\twith 2122670 stored elements and shape (18240, 48295)>"
      ]
     },
     "execution_count": 5,
     "metadata": {},
     "output_type": "execute_result"
    }
   ],
   "execution_count": 5
  },
  {
   "metadata": {
    "ExecuteTime": {
     "end_time": "2025-06-26T19:23:57.807873Z",
     "start_time": "2025-06-26T19:23:57.796985Z"
    }
   },
   "cell_type": "code",
   "source": [
    "X_train_vec, X_test_vec, y_train_vec, y_test_vec = train_test_split(resumes_vec, y, test_size=0.4, random_state=42)\n",
    "X_train_vec.shape, X_test_vec.shape, y_train_vec.shape, y_test_vec.shape"
   ],
   "id": "8d82d4fa23ff6470",
   "outputs": [
    {
     "data": {
      "text/plain": [
       "((10944, 48295), (7296, 48295), (10944, 95), (7296, 95))"
      ]
     },
     "execution_count": 6,
     "metadata": {},
     "output_type": "execute_result"
    }
   ],
   "execution_count": 6
  },
  {
   "metadata": {
    "ExecuteTime": {
     "end_time": "2025-06-26T19:23:59.634654Z",
     "start_time": "2025-06-26T19:23:57.846770Z"
    }
   },
   "cell_type": "code",
   "source": [
    "from tensorflow.keras.preprocessing.text import Tokenizer\n",
    "from tensorflow.keras.preprocessing.sequence import pad_sequences\n",
    "\n",
    "num_words = 20000\n",
    "max_length = 500\n",
    "oov_tok = \"<OOV>\"\n",
    "token = Tokenizer(num_words=num_words, oov_token=oov_tok)\n",
    "token.fit_on_texts(all_data['resume'])\n",
    "inputs = len(token.word_index)\n",
    "resumes_token = token.texts_to_sequences(all_data['resume'])\n",
    "resumes_token = pad_sequences(resumes_token, padding=\"post\", truncating=\"post\", maxlen=max_length)\n",
    "inputs, resumes_token"
   ],
   "id": "964330b5c5d2d418",
   "outputs": [
    {
     "data": {
      "text/plain": [
       "(48319,\n",
       " array([[  34, 1307, 1032, ...,    0,    0,    0],\n",
       "        [  34,  350, 2123, ...,    0,    0,    0],\n",
       "        [  34,  769,   59, ...,    0,    0,    0],\n",
       "        ...,\n",
       "        [   9,  621,   61, ...,    0,    0,    0],\n",
       "        [ 154,  307,  602, ...,   23, 2651,   23],\n",
       "        [ 154,  307,  602, ...,   23, 2651,   23]], dtype=int32))"
      ]
     },
     "execution_count": 7,
     "metadata": {},
     "output_type": "execute_result"
    }
   ],
   "execution_count": 7
  },
  {
   "metadata": {
    "ExecuteTime": {
     "end_time": "2025-06-26T19:23:59.653038Z",
     "start_time": "2025-06-26T19:23:59.639006Z"
    }
   },
   "cell_type": "code",
   "source": [
    "X_train_tkn, X_test_tkn, y_train_tkn, y_test_tkn = train_test_split(resumes_token, y, test_size=0.4, random_state=42)\n",
    "X_train_tkn.shape, X_test_tkn.shape, y_train_tkn.shape, y_test_tkn.shape"
   ],
   "id": "b3ce4066c93584e3",
   "outputs": [
    {
     "data": {
      "text/plain": [
       "((10944, 500), (7296, 500), (10944, 95), (7296, 95))"
      ]
     },
     "execution_count": 8,
     "metadata": {},
     "output_type": "execute_result"
    }
   ],
   "execution_count": 8
  },
  {
   "metadata": {},
   "cell_type": "markdown",
   "source": "### Load models",
   "id": "d45ce2e274e8516a"
  },
  {
   "metadata": {
    "ExecuteTime": {
     "end_time": "2025-06-26T19:24:27.965685Z",
     "start_time": "2025-06-26T19:24:05.404647Z"
    }
   },
   "cell_type": "code",
   "source": [
    "import joblib\n",
    "import tensorflow as tf\n",
    "import tensorflow_text as text\n",
    "import tensorflow_hub as hub\n",
    "\n",
    "rfc = joblib.load('models/RFC_model.pkl')\n",
    "svc = joblib.load('models/SVC_model.pkl')\n",
    "sgd = joblib.load('models/SGD_model.pkl')\n",
    "nu_svc = joblib.load('models/NuSVC_model.pkl')\n",
    "mpl = joblib.load('models/MLP_model.pkl')\n",
    "lr = joblib.load('models/LR_model.pkl')\n",
    "linear_svc = joblib.load('models/LinearSVC_model.pkl')\n",
    "knc = joblib.load('models/KNC_model.pkl')\n",
    "lstm = tf.keras.models.load_model('models/LSTM_model.keras')"
   ],
   "id": "677d8f36ffe3e857",
   "outputs": [
    {
     "name": "stderr",
     "output_type": "stream",
     "text": [
      "I0000 00:00:1750965866.919532    6011 gpu_device.cc:2019] Created device /job:localhost/replica:0/task:0/device:GPU:0 with 9977 MB memory:  -> device: 0, name: NVIDIA GeForce RTX 3060, pci bus id: 0000:01:00.0, compute capability: 8.6\n",
      "/home/ja1/Faculdade/recpad/hybrid-classification-resumes/.venv/lib/python3.12/site-packages/keras/src/saving/saving_lib.py:802: UserWarning: Skipping variable loading for optimizer 'rmsprop', because it has 18 variables whereas the saved optimizer has 34 variables. \n",
      "  saveable.load_own_variables(weights_store.get(inner_path))\n"
     ]
    }
   ],
   "execution_count": 9
  },
  {
   "metadata": {
    "ExecuteTime": {
     "end_time": "2025-06-26T17:10:35.622853Z",
     "start_time": "2025-06-26T17:10:29.294588Z"
    }
   },
   "cell_type": "code",
   "source": [
    "import keras\n",
    "bert = keras.Sequential([\n",
    "    keras.layers.Input(shape=(), dtype=tf.string),\n",
    "    keras.layers.TFSMLayer('models/BERT_model.tf', call_endpoint='serving_default')\n",
    "])"
   ],
   "id": "c348ae6504ec403d",
   "outputs": [
    {
     "name": "stderr",
     "output_type": "stream",
     "text": [
      "2025-06-26 14:10:31.030057: W tensorflow/core/common_runtime/graph_constructor.cc:846] Node 'add/PartitionedCall' has 1 outputs but the _output_shapes attribute specifies shapes for 5 outputs. Output shapes may be inaccurate.\n",
      "2025-06-26 14:10:31.030280: W tensorflow/core/common_runtime/graph_constructor.cc:846] Node 'lambda/PartitionedCall' has 1 outputs but the _output_shapes attribute specifies shapes for 3 outputs. Output shapes may be inaccurate.\n",
      "2025-06-26 14:10:31.254292: W tensorflow/core/common_runtime/graph_constructor.cc:846] Node 'lambda_8/PartitionedCall' has 1 outputs but the _output_shapes attribute specifies shapes for 7 outputs. Output shapes may be inaccurate.\n"
     ]
    }
   ],
   "execution_count": 51
  },
  {
   "metadata": {
    "ExecuteTime": {
     "end_time": "2025-06-26T17:05:18.014970Z",
     "start_time": "2025-06-26T17:05:11.840676Z"
    }
   },
   "cell_type": "code",
   "source": [
    "try:\n",
    "    # An empty list makes all GPUs invisible.\n",
    "    tf.config.set_visible_devices([], 'GPU')\n",
    "    print(\"GPU has been hidden from TensorFlow. All operations will use the CPU.\")\n",
    "except (ValueError, RuntimeError) as e:\n",
    "    # This can fail if devices are already initialized. Best to run in a fresh script.\n",
    "    print(f\"Could not hide GPU, might be already initialized: {e}\")\n",
    "# --- END OF FIX ---\n",
    "bert = keras.Sequential([\n",
    "    keras.layers.Input(shape=(), dtype=tf.string),\n",
    "    keras.layers.TFSMLayer('models/BERT_model.tf', call_endpoint='serving_default')\n",
    "])"
   ],
   "id": "8326dedd34a65468",
   "outputs": [
    {
     "name": "stdout",
     "output_type": "stream",
     "text": [
      "Could not hide GPU, might be already initialized: Visible devices cannot be modified after being initialized\n"
     ]
    },
    {
     "name": "stderr",
     "output_type": "stream",
     "text": [
      "2025-06-26 14:05:13.575562: W tensorflow/core/common_runtime/graph_constructor.cc:846] Node 'add/PartitionedCall' has 1 outputs but the _output_shapes attribute specifies shapes for 5 outputs. Output shapes may be inaccurate.\n",
      "2025-06-26 14:05:13.575785: W tensorflow/core/common_runtime/graph_constructor.cc:846] Node 'lambda/PartitionedCall' has 1 outputs but the _output_shapes attribute specifies shapes for 3 outputs. Output shapes may be inaccurate.\n",
      "2025-06-26 14:05:13.799175: W tensorflow/core/common_runtime/graph_constructor.cc:846] Node 'lambda_8/PartitionedCall' has 1 outputs but the _output_shapes attribute specifies shapes for 7 outputs. Output shapes may be inaccurate.\n"
     ]
    }
   ],
   "execution_count": 48
  },
  {
   "metadata": {
    "ExecuteTime": {
     "end_time": "2025-06-26T17:05:35.802865Z",
     "start_time": "2025-06-26T17:05:35.794774Z"
    }
   },
   "cell_type": "code",
   "source": "bert.summary()",
   "id": "acaeee462a3890be",
   "outputs": [
    {
     "data": {
      "text/plain": [
       "\u001B[1mModel: \"sequential_6\"\u001B[0m\n"
      ],
      "text/html": [
       "<pre style=\"white-space:pre;overflow-x:auto;line-height:normal;font-family:Menlo,'DejaVu Sans Mono',consolas,'Courier New',monospace\"><span style=\"font-weight: bold\">Model: \"sequential_6\"</span>\n",
       "</pre>\n"
      ]
     },
     "metadata": {},
     "output_type": "display_data"
    },
    {
     "data": {
      "text/plain": [
       "┏━━━━━━━━━━━━━━━━━━━━━━━━━━━━━━━━━┳━━━━━━━━━━━━━━━━━━━━━━━━┳━━━━━━━━━━━━━━━┓\n",
       "┃\u001B[1m \u001B[0m\u001B[1mLayer (type)                   \u001B[0m\u001B[1m \u001B[0m┃\u001B[1m \u001B[0m\u001B[1mOutput Shape          \u001B[0m\u001B[1m \u001B[0m┃\u001B[1m \u001B[0m\u001B[1m      Param #\u001B[0m\u001B[1m \u001B[0m┃\n",
       "┡━━━━━━━━━━━━━━━━━━━━━━━━━━━━━━━━━╇━━━━━━━━━━━━━━━━━━━━━━━━╇━━━━━━━━━━━━━━━┩\n",
       "│ tfsm_layer_12 (\u001B[38;5;33mTFSMLayer\u001B[0m)       │ (\u001B[38;5;45mNone\u001B[0m, \u001B[38;5;34m95\u001B[0m)             │   \u001B[38;5;34m471,037,535\u001B[0m │\n",
       "└─────────────────────────────────┴────────────────────────┴───────────────┘\n"
      ],
      "text/html": [
       "<pre style=\"white-space:pre;overflow-x:auto;line-height:normal;font-family:Menlo,'DejaVu Sans Mono',consolas,'Courier New',monospace\">┏━━━━━━━━━━━━━━━━━━━━━━━━━━━━━━━━━┳━━━━━━━━━━━━━━━━━━━━━━━━┳━━━━━━━━━━━━━━━┓\n",
       "┃<span style=\"font-weight: bold\"> Layer (type)                    </span>┃<span style=\"font-weight: bold\"> Output Shape           </span>┃<span style=\"font-weight: bold\">       Param # </span>┃\n",
       "┡━━━━━━━━━━━━━━━━━━━━━━━━━━━━━━━━━╇━━━━━━━━━━━━━━━━━━━━━━━━╇━━━━━━━━━━━━━━━┩\n",
       "│ tfsm_layer_12 (<span style=\"color: #0087ff; text-decoration-color: #0087ff\">TFSMLayer</span>)       │ (<span style=\"color: #00d7ff; text-decoration-color: #00d7ff\">None</span>, <span style=\"color: #00af00; text-decoration-color: #00af00\">95</span>)             │   <span style=\"color: #00af00; text-decoration-color: #00af00\">471,037,535</span> │\n",
       "└─────────────────────────────────┴────────────────────────┴───────────────┘\n",
       "</pre>\n"
      ]
     },
     "metadata": {},
     "output_type": "display_data"
    },
    {
     "data": {
      "text/plain": [
       "\u001B[1m Total params: \u001B[0m\u001B[38;5;34m471,037,535\u001B[0m (1.75 GB)\n"
      ],
      "text/html": [
       "<pre style=\"white-space:pre;overflow-x:auto;line-height:normal;font-family:Menlo,'DejaVu Sans Mono',consolas,'Courier New',monospace\"><span style=\"font-weight: bold\"> Total params: </span><span style=\"color: #00af00; text-decoration-color: #00af00\">471,037,535</span> (1.75 GB)\n",
       "</pre>\n"
      ]
     },
     "metadata": {},
     "output_type": "display_data"
    },
    {
     "data": {
      "text/plain": [
       "\u001B[1m Trainable params: \u001B[0m\u001B[38;5;34m471,037,535\u001B[0m (1.75 GB)\n"
      ],
      "text/html": [
       "<pre style=\"white-space:pre;overflow-x:auto;line-height:normal;font-family:Menlo,'DejaVu Sans Mono',consolas,'Courier New',monospace\"><span style=\"font-weight: bold\"> Trainable params: </span><span style=\"color: #00af00; text-decoration-color: #00af00\">471,037,535</span> (1.75 GB)\n",
       "</pre>\n"
      ]
     },
     "metadata": {},
     "output_type": "display_data"
    },
    {
     "data": {
      "text/plain": [
       "\u001B[1m Non-trainable params: \u001B[0m\u001B[38;5;34m0\u001B[0m (0.00 B)\n"
      ],
      "text/html": [
       "<pre style=\"white-space:pre;overflow-x:auto;line-height:normal;font-family:Menlo,'DejaVu Sans Mono',consolas,'Courier New',monospace\"><span style=\"font-weight: bold\"> Non-trainable params: </span><span style=\"color: #00af00; text-decoration-color: #00af00\">0</span> (0.00 B)\n",
       "</pre>\n"
      ]
     },
     "metadata": {},
     "output_type": "display_data"
    }
   ],
   "execution_count": 49
  },
  {
   "metadata": {},
   "cell_type": "code",
   "source": [
    "input_data = ['this is a test sentence', 'and here is another one']\n",
    "tensor_input = tf.constant(input_data, dtype=tf.string)\n",
    "with tf.device('/CPU:0'):\n",
    "    bert_pred = bert.predict(tensor_input)"
   ],
   "id": "127610510f6bf866",
   "outputs": [],
   "execution_count": null
  },
  {
   "metadata": {
    "ExecuteTime": {
     "end_time": "2025-06-26T19:25:55.766632Z",
     "start_time": "2025-06-26T19:24:47.540508Z"
    }
   },
   "cell_type": "code",
   "source": [
    "pred = {\n",
    "    # 'target': decoded_label(label_encoder, y_test_vec),\n",
    "    'rfc': rfc.predict(X_test_vec),\n",
    "    'svc': svc.predict(X_test_vec),\n",
    "    'sgd': sgd.predict(X_test_vec),\n",
    "    'nu_svc': nu_svc.predict(X_test_vec),\n",
    "    'mpl': mpl.predict(X_test_vec),\n",
    "    'lr': lr.predict(X_test_vec),\n",
    "    'linear_svc': linear_svc.predict(X_test_vec),\n",
    "    'knc': knc.predict(X_test_vec),\n",
    "    'lstm': [int(np.argmax(y)) for y in lstm.predict(X_test_tkn)],\n",
    "    # 'bert': bert_pred\n",
    "}"
   ],
   "id": "ed194b7344c23ae0",
   "outputs": [
    {
     "name": "stderr",
     "output_type": "stream",
     "text": [
      "I0000 00:00:1750965950.086600    6118 cuda_dnn.cc:529] Loaded cuDNN version 91002\n"
     ]
    },
    {
     "name": "stdout",
     "output_type": "stream",
     "text": [
      "\u001B[1m228/228\u001B[0m \u001B[32m━━━━━━━━━━━━━━━━━━━━\u001B[0m\u001B[37m\u001B[0m \u001B[1m6s\u001B[0m 24ms/step\n"
     ]
    }
   ],
   "execution_count": 10
  },
  {
   "metadata": {
    "ExecuteTime": {
     "end_time": "2025-06-26T19:25:59.245014Z",
     "start_time": "2025-06-26T19:25:59.240421Z"
    }
   },
   "cell_type": "code",
   "source": "results = pd.DataFrame(pred)",
   "id": "d20993b56bc892d6",
   "outputs": [],
   "execution_count": 11
  },
  {
   "metadata": {},
   "cell_type": "markdown",
   "source": "### Test decision",
   "id": "8a624d9fd10a4575"
  },
  {
   "metadata": {
    "ExecuteTime": {
     "end_time": "2025-06-26T19:26:05.108761Z",
     "start_time": "2025-06-26T19:26:04.878024Z"
    }
   },
   "cell_type": "code",
   "source": [
    "from scipy import stats\n",
    "from sklearn.metrics import accuracy_score\n",
    "\n",
    "y_test = [int(np.argmax(y)) for y in y_test_vec]\n",
    "statistic_predictions = []\n",
    "for x in np.array(results):\n",
    "    if np.std(x) == 0:\n",
    "        statistic_predictions.append(x[0])\n",
    "    else:\n",
    "        mode = stats.mode(x)\n",
    "        if mode.count > 5:\n",
    "            statistic_predictions.append(mode.mode)\n",
    "        else:\n",
    "            mean = np.mean(x)\n",
    "            nearest = len(label_encoder.classes_)\n",
    "            for v in x:\n",
    "                diff = abs(v - mean)\n",
    "                nearest = nearest if nearest < diff else v\n",
    "            statistic_predictions.append(nearest)\n",
    "\n",
    "accuracy = accuracy_score(y_test, statistic_predictions)\n",
    "accuracy"
   ],
   "id": "4171ec25af581a7c",
   "outputs": [
    {
     "data": {
      "text/plain": [
       "0.9801260964912281"
      ]
     },
     "execution_count": 12,
     "metadata": {},
     "output_type": "execute_result"
    }
   ],
   "execution_count": 12
  },
  {
   "metadata": {
    "ExecuteTime": {
     "end_time": "2025-06-26T19:38:46.135219Z",
     "start_time": "2025-06-26T19:38:43.919966Z"
    }
   },
   "cell_type": "code",
   "source": [
    "knn = joblib.load('models/KNN_hybrid.pkl')\n",
    "dynamic_predictions = []\n",
    "for t in np.array(results):\n",
    "    distances, indexes = knn.kneighbors(t.reshape(1, -1))\n",
    "    distances = np.ravel(distances)\n",
    "    indexes = np.ravel(indexes)\n",
    "    x_nn = np.array(results.iloc[indexes])\n",
    "\n",
    "    options = list(set(np.concatenate((np.ravel(x_nn), t)).tolist()))\n",
    "    best_option = options[0]\n",
    "    options_weight = {o: 0 for o in options}\n",
    "    for o in options_weight.keys():\n",
    "        options_weight[o] += float(np.count_nonzero(t == o))\n",
    "        for i, x in enumerate(x_nn):\n",
    "            d = distances[i] if distances[i] != 0 else 1\n",
    "            options_weight[o] += float(np.count_nonzero(x == o) * 1/d)\n",
    "\n",
    "        max_option = options_weight[o] if options_weight[o] > best_option else best_option\n",
    "\n",
    "    dynamic_predictions.append(best_option)\n",
    "#\n",
    "accuracy = accuracy_score(y_test, dynamic_predictions)\n",
    "accuracy"
   ],
   "id": "97ac7f8ab936dacd",
   "outputs": [
    {
     "data": {
      "text/plain": [
       "0.4702576754385965"
      ]
     },
     "execution_count": 19,
     "metadata": {},
     "output_type": "execute_result"
    }
   ],
   "execution_count": 19
  }
 ],
 "metadata": {
  "kernelspec": {
   "display_name": "Python 3",
   "language": "python",
   "name": "python3"
  },
  "language_info": {
   "codemirror_mode": {
    "name": "ipython",
    "version": 2
   },
   "file_extension": ".py",
   "mimetype": "text/x-python",
   "name": "python",
   "nbconvert_exporter": "python",
   "pygments_lexer": "ipython2",
   "version": "2.7.6"
  }
 },
 "nbformat": 4,
 "nbformat_minor": 5
}
