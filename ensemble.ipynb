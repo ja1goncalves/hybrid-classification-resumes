{
 "cells": [
  {
   "cell_type": "code",
   "id": "initial_id",
   "metadata": {
    "collapsed": true,
    "ExecuteTime": {
     "end_time": "2025-06-29T03:57:20.865543Z",
     "start_time": "2025-06-29T03:57:20.863786Z"
    }
   },
   "source": [
    "import numpy as np\n",
    "import pandas as pd\n",
    "from sklearn.model_selection import train_test_split\n",
    "from sklearn.preprocessing import normalize"
   ],
   "outputs": [],
   "execution_count": 120
  },
  {
   "metadata": {},
   "cell_type": "markdown",
   "source": "### Catching off-line data",
   "id": "da339557a9b257db"
  },
  {
   "metadata": {
    "ExecuteTime": {
     "end_time": "2025-06-29T04:02:27.848724Z",
     "start_time": "2025-06-29T04:02:27.842452Z"
    }
   },
   "cell_type": "code",
   "source": [
    "trust_models = pd.read_csv(\"data/results/trust_model.csv\").drop(columns=['BERT'], axis=1)\n",
    "np_trust_model = np.array(trust_models)\n",
    "min_val = np_trust_model.min()\n",
    "max_val = np_trust_model.max()\n",
    "normalized_trust_models = (np_trust_model - min_val) / (max_val - min_val)\n",
    "trust_models.head()"
   ],
   "id": "246fe1d262c9acce",
   "outputs": [
    {
     "data": {
      "text/plain": [
       "        RFC       MLP       SVC  LinearSVC     NuSVC       SGD       LR  \\\n",
       "0  0.966374  0.953947  0.963816   0.964181  0.954313  0.898757  0.96674   \n",
       "\n",
       "        KNC      LSTM  \n",
       "0  0.950658  0.964547  "
      ],
      "text/html": [
       "<div>\n",
       "<style scoped>\n",
       "    .dataframe tbody tr th:only-of-type {\n",
       "        vertical-align: middle;\n",
       "    }\n",
       "\n",
       "    .dataframe tbody tr th {\n",
       "        vertical-align: top;\n",
       "    }\n",
       "\n",
       "    .dataframe thead th {\n",
       "        text-align: right;\n",
       "    }\n",
       "</style>\n",
       "<table border=\"1\" class=\"dataframe\">\n",
       "  <thead>\n",
       "    <tr style=\"text-align: right;\">\n",
       "      <th></th>\n",
       "      <th>RFC</th>\n",
       "      <th>MLP</th>\n",
       "      <th>SVC</th>\n",
       "      <th>LinearSVC</th>\n",
       "      <th>NuSVC</th>\n",
       "      <th>SGD</th>\n",
       "      <th>LR</th>\n",
       "      <th>KNC</th>\n",
       "      <th>LSTM</th>\n",
       "    </tr>\n",
       "  </thead>\n",
       "  <tbody>\n",
       "    <tr>\n",
       "      <th>0</th>\n",
       "      <td>0.966374</td>\n",
       "      <td>0.953947</td>\n",
       "      <td>0.963816</td>\n",
       "      <td>0.964181</td>\n",
       "      <td>0.954313</td>\n",
       "      <td>0.898757</td>\n",
       "      <td>0.96674</td>\n",
       "      <td>0.950658</td>\n",
       "      <td>0.964547</td>\n",
       "    </tr>\n",
       "  </tbody>\n",
       "</table>\n",
       "</div>"
      ]
     },
     "execution_count": 125,
     "metadata": {},
     "output_type": "execute_result"
    }
   ],
   "execution_count": 125
  },
  {
   "metadata": {
    "ExecuteTime": {
     "end_time": "2025-06-29T03:02:18.531986Z",
     "start_time": "2025-06-29T03:02:18.324684Z"
    }
   },
   "cell_type": "code",
   "source": [
    "# after that I ask to gemini to generate new data for categories with less count\n",
    "all_data = pd.read_csv(\"data/filtered/normalized.csv\")\n",
    "all_data = all_data.dropna()\n",
    "all_data = all_data.drop_duplicates()\n",
    "all_data.shape"
   ],
   "id": "b0f7b4fd240d329",
   "outputs": [
    {
     "data": {
      "text/plain": [
       "(18240, 2)"
      ]
     },
     "execution_count": 3,
     "metadata": {},
     "output_type": "execute_result"
    }
   ],
   "execution_count": 3
  },
  {
   "metadata": {},
   "cell_type": "markdown",
   "source": "### Text pre process",
   "id": "b64fab5ae802b5b"
  },
  {
   "metadata": {
    "ExecuteTime": {
     "end_time": "2025-06-29T03:02:23.921209Z",
     "start_time": "2025-06-29T03:02:21.802455Z"
    }
   },
   "cell_type": "code",
   "source": [
    "from sklearn.preprocessing import LabelEncoder\n",
    "from tensorflow.keras.utils import to_categorical\n",
    "\n",
    "def encode_labels(categories):\n",
    "    label_encoder = LabelEncoder()\n",
    "    category_encoded = label_encoder.fit_transform(categories)\n",
    "    print(category_encoded)\n",
    "    num_categories = len(label_encoder.classes_)\n",
    "    y = to_categorical(category_encoded)\n",
    "    return label_encoder, y, num_categories\n",
    "\n",
    "def decoded_label(label_encoder, y_encoded, categorical=True):\n",
    "    label = [int(np.argmax(y)) for y in y_encoded] if categorical else y_encoded\n",
    "    return label_encoder.inverse_transform(label)"
   ],
   "id": "6d9a6f223eb0eebc",
   "outputs": [
    {
     "name": "stderr",
     "output_type": "stream",
     "text": [
      "2025-06-29 00:02:21.977080: E external/local_xla/xla/stream_executor/cuda/cuda_fft.cc:467] Unable to register cuFFT factory: Attempting to register factory for plugin cuFFT when one has already been registered\n",
      "WARNING: All log messages before absl::InitializeLog() is called are written to STDERR\n",
      "E0000 00:00:1751166141.989376   43752 cuda_dnn.cc:8579] Unable to register cuDNN factory: Attempting to register factory for plugin cuDNN when one has already been registered\n",
      "E0000 00:00:1751166141.993314   43752 cuda_blas.cc:1407] Unable to register cuBLAS factory: Attempting to register factory for plugin cuBLAS when one has already been registered\n",
      "W0000 00:00:1751166142.004194   43752 computation_placer.cc:177] computation placer already registered. Please check linkage and avoid linking the same target more than once.\n",
      "W0000 00:00:1751166142.004210   43752 computation_placer.cc:177] computation placer already registered. Please check linkage and avoid linking the same target more than once.\n",
      "W0000 00:00:1751166142.004211   43752 computation_placer.cc:177] computation placer already registered. Please check linkage and avoid linking the same target more than once.\n",
      "W0000 00:00:1751166142.004212   43752 computation_placer.cc:177] computation placer already registered. Please check linkage and avoid linking the same target more than once.\n",
      "2025-06-29 00:02:22.007349: I tensorflow/core/platform/cpu_feature_guard.cc:210] This TensorFlow binary is optimized to use available CPU instructions in performance-critical operations.\n",
      "To enable the following instructions: AVX2 FMA, in other operations, rebuild TensorFlow with the appropriate compiler flags.\n"
     ]
    }
   ],
   "execution_count": 4
  },
  {
   "metadata": {
    "ExecuteTime": {
     "end_time": "2025-06-29T03:02:23.938999Z",
     "start_time": "2025-06-29T03:02:23.929459Z"
    }
   },
   "cell_type": "code",
   "source": [
    "categories = all_data['category']\n",
    "label_encoder, y, num_categories = encode_labels(categories)\n",
    "print(num_categories, y)"
   ],
   "id": "51cd0e1c9405f5ce",
   "outputs": [
    {
     "name": "stdout",
     "output_type": "stream",
     "text": [
      "[48 70 46 ... 72 72 72]\n",
      "95 [[0. 0. 0. ... 0. 0. 0.]\n",
      " [0. 0. 0. ... 0. 0. 0.]\n",
      " [0. 0. 0. ... 0. 0. 0.]\n",
      " ...\n",
      " [0. 0. 0. ... 0. 0. 0.]\n",
      " [0. 0. 0. ... 0. 0. 0.]\n",
      " [0. 0. 0. ... 0. 0. 0.]]\n"
     ]
    }
   ],
   "execution_count": 5
  },
  {
   "metadata": {
    "ExecuteTime": {
     "end_time": "2025-06-29T03:02:25.230706Z",
     "start_time": "2025-06-29T03:02:23.978837Z"
    }
   },
   "cell_type": "code",
   "source": [
    "from sklearn.feature_extraction.text import TfidfVectorizer\n",
    "\n",
    "tfidf_vec = TfidfVectorizer()\n",
    "resumes_vec = tfidf_vec.fit_transform(all_data['resume'])\n",
    "inputs = len(tfidf_vec.get_feature_names_out())\n",
    "print(\"Tamanho:\", len(tfidf_vec.get_feature_names_out()), \"Vocabulário:\", tfidf_vec.get_feature_names_out(), )\n",
    "resumes_vec"
   ],
   "id": "c4b150be2d34b18",
   "outputs": [
    {
     "name": "stdout",
     "output_type": "stream",
     "text": [
      "Tamanho: 48295 Vocabulário: ['aa' 'aaa' 'aaacom' ... 'zyvox' 'zz' 'zzxzx']\n"
     ]
    },
    {
     "data": {
      "text/plain": [
       "<Compressed Sparse Row sparse matrix of dtype 'float64'\n",
       "\twith 2122670 stored elements and shape (18240, 48295)>"
      ]
     },
     "execution_count": 6,
     "metadata": {},
     "output_type": "execute_result"
    }
   ],
   "execution_count": 6
  },
  {
   "metadata": {
    "ExecuteTime": {
     "end_time": "2025-06-29T03:02:25.250470Z",
     "start_time": "2025-06-29T03:02:25.239382Z"
    }
   },
   "cell_type": "code",
   "source": [
    "X_train_vec, X_test_vec, y_train_vec, y_test_vec = train_test_split(resumes_vec, y, test_size=0.4, random_state=42)\n",
    "X_train_vec.shape, X_test_vec.shape, y_train_vec.shape, y_test_vec.shape"
   ],
   "id": "8d82d4fa23ff6470",
   "outputs": [
    {
     "data": {
      "text/plain": [
       "((10944, 48295), (7296, 48295), (10944, 95), (7296, 95))"
      ]
     },
     "execution_count": 7,
     "metadata": {},
     "output_type": "execute_result"
    }
   ],
   "execution_count": 7
  },
  {
   "metadata": {
    "ExecuteTime": {
     "end_time": "2025-06-29T03:02:27.142072Z",
     "start_time": "2025-06-29T03:02:25.288292Z"
    }
   },
   "cell_type": "code",
   "source": [
    "from tensorflow.keras.preprocessing.text import Tokenizer\n",
    "from tensorflow.keras.preprocessing.sequence import pad_sequences\n",
    "\n",
    "num_words = 20000\n",
    "max_length = 500\n",
    "oov_tok = \"<OOV>\"\n",
    "token = Tokenizer(num_words=num_words, oov_token=oov_tok)\n",
    "token.fit_on_texts(all_data['resume'])\n",
    "inputs = len(token.word_index)\n",
    "resumes_token = token.texts_to_sequences(all_data['resume'])\n",
    "resumes_token = pad_sequences(resumes_token, padding=\"post\", truncating=\"post\", maxlen=max_length)\n",
    "inputs, resumes_token"
   ],
   "id": "964330b5c5d2d418",
   "outputs": [
    {
     "data": {
      "text/plain": [
       "(48319,\n",
       " array([[  34, 1307, 1032, ...,    0,    0,    0],\n",
       "        [  34,  350, 2123, ...,    0,    0,    0],\n",
       "        [  34,  769,   59, ...,    0,    0,    0],\n",
       "        ...,\n",
       "        [   9,  621,   61, ...,    0,    0,    0],\n",
       "        [ 154,  307,  602, ...,   23, 2651,   23],\n",
       "        [ 154,  307,  602, ...,   23, 2651,   23]], dtype=int32))"
      ]
     },
     "execution_count": 8,
     "metadata": {},
     "output_type": "execute_result"
    }
   ],
   "execution_count": 8
  },
  {
   "metadata": {
    "ExecuteTime": {
     "end_time": "2025-06-29T03:02:27.163554Z",
     "start_time": "2025-06-29T03:02:27.150946Z"
    }
   },
   "cell_type": "code",
   "source": [
    "X_train_tkn, X_test_tkn, y_train_tkn, y_test_tkn = train_test_split(resumes_token, y, test_size=0.4, random_state=42)\n",
    "X_train_tkn.shape, X_test_tkn.shape, y_train_tkn.shape, y_test_tkn.shape"
   ],
   "id": "b3ce4066c93584e3",
   "outputs": [
    {
     "data": {
      "text/plain": [
       "((10944, 500), (7296, 500), (10944, 95), (7296, 95))"
      ]
     },
     "execution_count": 9,
     "metadata": {},
     "output_type": "execute_result"
    }
   ],
   "execution_count": 9
  },
  {
   "metadata": {},
   "cell_type": "markdown",
   "source": "### Load models",
   "id": "d45ce2e274e8516a"
  },
  {
   "metadata": {
    "ExecuteTime": {
     "end_time": "2025-06-29T03:02:40.107987Z",
     "start_time": "2025-06-29T03:02:30.484514Z"
    }
   },
   "cell_type": "code",
   "source": [
    "import joblib\n",
    "import tensorflow as tf\n",
    "import tensorflow_text as text\n",
    "import tensorflow_hub as hub\n",
    "\n",
    "rfc = joblib.load('models/RFC_model.pkl')\n",
    "svc = joblib.load('models/SVC_model.pkl')\n",
    "sgd = joblib.load('models/SGD_model.pkl')\n",
    "nu_svc = joblib.load('models/NuSVC_model.pkl')\n",
    "mpl = joblib.load('models/MLP_model.pkl')\n",
    "lr = joblib.load('models/LR_model.pkl')\n",
    "linear_svc = joblib.load('models/LinearSVC_model.pkl')\n",
    "knc = joblib.load('models/KNC_model.pkl')\n",
    "lstm = tf.keras.models.load_model('models/LSTM_model.keras')\n",
    "# bert = tf.keras.models.load_model('models/BERT_model.keras')"
   ],
   "id": "677d8f36ffe3e857",
   "outputs": [
    {
     "name": "stderr",
     "output_type": "stream",
     "text": [
      "I0000 00:00:1751166159.356693   43752 gpu_device.cc:2019] Created device /job:localhost/replica:0/task:0/device:GPU:0 with 9712 MB memory:  -> device: 0, name: NVIDIA GeForce RTX 3060, pci bus id: 0000:01:00.0, compute capability: 8.6\n",
      "/home/ja1/Faculdade/recpad/hybrid-classification-resumes/.venv/lib/python3.12/site-packages/keras/src/saving/saving_lib.py:802: UserWarning: Skipping variable loading for optimizer 'rmsprop', because it has 18 variables whereas the saved optimizer has 34 variables. \n",
      "  saveable.load_own_variables(weights_store.get(inner_path))\n"
     ]
    }
   ],
   "execution_count": 10
  },
  {
   "metadata": {
    "ExecuteTime": {
     "end_time": "2025-06-29T03:03:48.924551Z",
     "start_time": "2025-06-29T03:02:40.119201Z"
    }
   },
   "cell_type": "code",
   "source": [
    "pred = {\n",
    "    # 'target': decoded_label(label_encoder, y_test_vec),\n",
    "    'rfc': rfc.predict(X_test_vec),\n",
    "    'svc': svc.predict(X_test_vec),\n",
    "    'sgd': sgd.predict(X_test_vec),\n",
    "    'nu_svc': nu_svc.predict(X_test_vec),\n",
    "    'mpl': mpl.predict(X_test_vec),\n",
    "    'lr': lr.predict(X_test_vec),\n",
    "    'linear_svc': linear_svc.predict(X_test_vec),\n",
    "    'knc': knc.predict(X_test_vec),\n",
    "    'lstm': [int(np.argmax(y)) for y in lstm.predict(X_test_tkn)],\n",
    "    # 'bert': bert_pred\n",
    "}"
   ],
   "id": "ed194b7344c23ae0",
   "outputs": [
    {
     "name": "stdout",
     "output_type": "stream",
     "text": [
      "\u001B[1m  1/228\u001B[0m \u001B[37m━━━━━━━━━━━━━━━━━━━━\u001B[0m \u001B[1m2:51\u001B[0m 755ms/step"
     ]
    },
    {
     "name": "stderr",
     "output_type": "stream",
     "text": [
      "I0000 00:00:1751166223.532613   43863 cuda_dnn.cc:529] Loaded cuDNN version 91002\n"
     ]
    },
    {
     "name": "stdout",
     "output_type": "stream",
     "text": [
      "\u001B[1m228/228\u001B[0m \u001B[32m━━━━━━━━━━━━━━━━━━━━\u001B[0m\u001B[37m\u001B[0m \u001B[1m6s\u001B[0m 23ms/step\n"
     ]
    }
   ],
   "execution_count": 11
  },
  {
   "metadata": {
    "ExecuteTime": {
     "end_time": "2025-06-29T03:03:48.945838Z",
     "start_time": "2025-06-29T03:03:48.938278Z"
    }
   },
   "cell_type": "code",
   "source": [
    "results = pd.DataFrame(pred)\n",
    "results"
   ],
   "id": "d20993b56bc892d6",
   "outputs": [
    {
     "data": {
      "text/plain": [
       "      rfc  svc  sgd  nu_svc  mpl  lr  linear_svc  knc  lstm\n",
       "0      73   73   73      73   73  73          73   73    73\n",
       "1      92   92   92      92   92  92          92   92    92\n",
       "2      52   52   52      52   52  52          52   52    52\n",
       "3      81   81   81      81   81  81          81   81    81\n",
       "4      78   78   78      78   78  78          78   78    78\n",
       "...   ...  ...  ...     ...  ...  ..         ...  ...   ...\n",
       "7291   24   24   24      24   24  24          24   24    24\n",
       "7292   49   49   49      49   49  49          49   49    49\n",
       "7293   16   16   16      16   16  16          16   16    16\n",
       "7294   23   23   23      23   23  23          23   23    23\n",
       "7295   22   22   22      22   22  22          22   22    22\n",
       "\n",
       "[7296 rows x 9 columns]"
      ],
      "text/html": [
       "<div>\n",
       "<style scoped>\n",
       "    .dataframe tbody tr th:only-of-type {\n",
       "        vertical-align: middle;\n",
       "    }\n",
       "\n",
       "    .dataframe tbody tr th {\n",
       "        vertical-align: top;\n",
       "    }\n",
       "\n",
       "    .dataframe thead th {\n",
       "        text-align: right;\n",
       "    }\n",
       "</style>\n",
       "<table border=\"1\" class=\"dataframe\">\n",
       "  <thead>\n",
       "    <tr style=\"text-align: right;\">\n",
       "      <th></th>\n",
       "      <th>rfc</th>\n",
       "      <th>svc</th>\n",
       "      <th>sgd</th>\n",
       "      <th>nu_svc</th>\n",
       "      <th>mpl</th>\n",
       "      <th>lr</th>\n",
       "      <th>linear_svc</th>\n",
       "      <th>knc</th>\n",
       "      <th>lstm</th>\n",
       "    </tr>\n",
       "  </thead>\n",
       "  <tbody>\n",
       "    <tr>\n",
       "      <th>0</th>\n",
       "      <td>73</td>\n",
       "      <td>73</td>\n",
       "      <td>73</td>\n",
       "      <td>73</td>\n",
       "      <td>73</td>\n",
       "      <td>73</td>\n",
       "      <td>73</td>\n",
       "      <td>73</td>\n",
       "      <td>73</td>\n",
       "    </tr>\n",
       "    <tr>\n",
       "      <th>1</th>\n",
       "      <td>92</td>\n",
       "      <td>92</td>\n",
       "      <td>92</td>\n",
       "      <td>92</td>\n",
       "      <td>92</td>\n",
       "      <td>92</td>\n",
       "      <td>92</td>\n",
       "      <td>92</td>\n",
       "      <td>92</td>\n",
       "    </tr>\n",
       "    <tr>\n",
       "      <th>2</th>\n",
       "      <td>52</td>\n",
       "      <td>52</td>\n",
       "      <td>52</td>\n",
       "      <td>52</td>\n",
       "      <td>52</td>\n",
       "      <td>52</td>\n",
       "      <td>52</td>\n",
       "      <td>52</td>\n",
       "      <td>52</td>\n",
       "    </tr>\n",
       "    <tr>\n",
       "      <th>3</th>\n",
       "      <td>81</td>\n",
       "      <td>81</td>\n",
       "      <td>81</td>\n",
       "      <td>81</td>\n",
       "      <td>81</td>\n",
       "      <td>81</td>\n",
       "      <td>81</td>\n",
       "      <td>81</td>\n",
       "      <td>81</td>\n",
       "    </tr>\n",
       "    <tr>\n",
       "      <th>4</th>\n",
       "      <td>78</td>\n",
       "      <td>78</td>\n",
       "      <td>78</td>\n",
       "      <td>78</td>\n",
       "      <td>78</td>\n",
       "      <td>78</td>\n",
       "      <td>78</td>\n",
       "      <td>78</td>\n",
       "      <td>78</td>\n",
       "    </tr>\n",
       "    <tr>\n",
       "      <th>...</th>\n",
       "      <td>...</td>\n",
       "      <td>...</td>\n",
       "      <td>...</td>\n",
       "      <td>...</td>\n",
       "      <td>...</td>\n",
       "      <td>...</td>\n",
       "      <td>...</td>\n",
       "      <td>...</td>\n",
       "      <td>...</td>\n",
       "    </tr>\n",
       "    <tr>\n",
       "      <th>7291</th>\n",
       "      <td>24</td>\n",
       "      <td>24</td>\n",
       "      <td>24</td>\n",
       "      <td>24</td>\n",
       "      <td>24</td>\n",
       "      <td>24</td>\n",
       "      <td>24</td>\n",
       "      <td>24</td>\n",
       "      <td>24</td>\n",
       "    </tr>\n",
       "    <tr>\n",
       "      <th>7292</th>\n",
       "      <td>49</td>\n",
       "      <td>49</td>\n",
       "      <td>49</td>\n",
       "      <td>49</td>\n",
       "      <td>49</td>\n",
       "      <td>49</td>\n",
       "      <td>49</td>\n",
       "      <td>49</td>\n",
       "      <td>49</td>\n",
       "    </tr>\n",
       "    <tr>\n",
       "      <th>7293</th>\n",
       "      <td>16</td>\n",
       "      <td>16</td>\n",
       "      <td>16</td>\n",
       "      <td>16</td>\n",
       "      <td>16</td>\n",
       "      <td>16</td>\n",
       "      <td>16</td>\n",
       "      <td>16</td>\n",
       "      <td>16</td>\n",
       "    </tr>\n",
       "    <tr>\n",
       "      <th>7294</th>\n",
       "      <td>23</td>\n",
       "      <td>23</td>\n",
       "      <td>23</td>\n",
       "      <td>23</td>\n",
       "      <td>23</td>\n",
       "      <td>23</td>\n",
       "      <td>23</td>\n",
       "      <td>23</td>\n",
       "      <td>23</td>\n",
       "    </tr>\n",
       "    <tr>\n",
       "      <th>7295</th>\n",
       "      <td>22</td>\n",
       "      <td>22</td>\n",
       "      <td>22</td>\n",
       "      <td>22</td>\n",
       "      <td>22</td>\n",
       "      <td>22</td>\n",
       "      <td>22</td>\n",
       "      <td>22</td>\n",
       "      <td>22</td>\n",
       "    </tr>\n",
       "  </tbody>\n",
       "</table>\n",
       "<p>7296 rows × 9 columns</p>\n",
       "</div>"
      ]
     },
     "execution_count": 12,
     "metadata": {},
     "output_type": "execute_result"
    }
   ],
   "execution_count": 12
  },
  {
   "metadata": {},
   "cell_type": "markdown",
   "source": "### Test decision",
   "id": "8a624d9fd10a4575"
  },
  {
   "metadata": {
    "ExecuteTime": {
     "end_time": "2025-06-29T04:53:30.889772Z",
     "start_time": "2025-06-29T04:53:30.887708Z"
    }
   },
   "cell_type": "code",
   "source": [
    "def get_nearest(point):\n",
    "    central_point = point\n",
    "    nearest = float('inf')\n",
    "    for v in x:\n",
    "        diff = abs(v - central_point)\n",
    "        central_point = central_point if nearest < diff else v\n",
    "\n",
    "    return central_point"
   ],
   "id": "a0c17379b548c979",
   "outputs": [],
   "execution_count": 173
  },
  {
   "metadata": {
    "ExecuteTime": {
     "end_time": "2025-06-29T05:02:08.006691Z",
     "start_time": "2025-06-29T05:02:08.004171Z"
    }
   },
   "cell_type": "code",
   "source": [
    "def pred_ensemble(x, weights):\n",
    "    if np.std(x) == 0:\n",
    "        return x[0]\n",
    "    else:\n",
    "        mode = stats.mode(x)\n",
    "        if mode.count == 8:\n",
    "            return round(mode.mode)\n",
    "        else:\n",
    "            average = round(np.average(x, weights=weights))\n",
    "            median = round(np.median(x))\n",
    "            if average == median:\n",
    "                return int(average)\n",
    "            central_point_average = get_nearest(average)\n",
    "            count_central_point_average = np.count_nonzero(x == central_point_average)\n",
    "            central_point_median = get_nearest(median)\n",
    "            count_central_point_median = np.count_nonzero(x == central_point_median)\n",
    "            central_point = central_point_average if count_central_point_average > count_central_point_median else central_point_median\n",
    "            return int(central_point)"
   ],
   "id": "84effdb0b815f4e8",
   "outputs": [],
   "execution_count": 184
  },
  {
   "metadata": {
    "ExecuteTime": {
     "end_time": "2025-06-29T05:02:14.718813Z",
     "start_time": "2025-06-29T05:02:14.483545Z"
    }
   },
   "cell_type": "code",
   "source": [
    "from scipy import stats\n",
    "from sklearn.metrics import classification_report\n",
    "\n",
    "trust_models = np.ravel(np.array(trust_models))\n",
    "y_test = [int(np.argmax(y)) for y in y_test_vec]\n",
    "statistic_predictions = []\n",
    "for x in np.array(results):\n",
    "    statistic_predictions.append(pred_ensemble(x, trust_models))\n",
    "\n",
    "report = classification_report(y_test, statistic_predictions, output_dict=True)\n",
    "{\n",
    "    'accuracy': report['accuracy'],\n",
    "    'macro avg': report['macro avg'],\n",
    "    'weighted avg': report['weighted avg'],\n",
    "}"
   ],
   "id": "4171ec25af581a7c",
   "outputs": [
    {
     "data": {
      "text/plain": [
       "{'accuracy': 0.9897203947368421,\n",
       " 'macro avg': {'precision': 0.9913524351525886,\n",
       "  'recall': 0.9909332967596383,\n",
       "  'f1-score': 0.9910352308390453,\n",
       "  'support': 7296.0},\n",
       " 'weighted avg': {'precision': 0.9899479593291411,\n",
       "  'recall': 0.9897203947368421,\n",
       "  'f1-score': 0.9897115242629699,\n",
       "  'support': 7296.0}}"
      ]
     },
     "execution_count": 185,
     "metadata": {},
     "output_type": "execute_result"
    }
   ],
   "execution_count": 185
  },
  {
   "metadata": {},
   "cell_type": "markdown",
   "source": "### Real test",
   "id": "4aa1d4c011c22bf4"
  },
  {
   "metadata": {
    "ExecuteTime": {
     "end_time": "2025-06-29T05:11:56.015986Z",
     "start_time": "2025-06-29T05:11:56.013137Z"
    }
   },
   "cell_type": "code",
   "source": [
    "resume_text = \"\"\"\n",
    "Detail-oriented and proactive Marketing Assistant with a strong foundation in digital marketing, content creation, and market research. Eager to contribute to a dynamic marketing team, bringing a solid work ethic and a passion for developing and executing innovative marketing campaigns that drive brand awareness and engagement. Proficient in a variety of marketing software and social media platforms, with a proven ability to manage multiple projects and deadlines effectively.\n",
    "\n",
    "---\n",
    "\n",
    "Education\n",
    "\n",
    "Bachelor of Science in Marketing\n",
    "[University Name], [City, State]\n",
    "[Month, Year] of Graduation\n",
    "\n",
    "---\n",
    "\n",
    "Experience\n",
    "\n",
    "Marketing Intern | [Previous Company Name] | [City, State]\n",
    "[Month, Year] – [Month, Year]\n",
    "\n",
    "* Assisted in the development and implementation of a comprehensive social media strategy across Instagram, Facebook, and Twitter, resulting in a 15% increase in follower engagement over three months.\n",
    "* Conducted market research and competitive analysis to identify emerging trends and inform campaign planning.\n",
    "* Created and scheduled engaging content for various social media platforms, including graphics, videos, and blog posts.\n",
    "* Monitored and reported on key performance indicators (KPIs) for social media campaigns, providing insights and recommendations for optimization.\n",
    "* Supported the marketing team in organizing and promoting a major virtual event, which attracted over 500 attendees.\n",
    "* Assisted with email marketing campaigns by helping to create newsletters and promotional emails using Mailchimp.\n",
    "\n",
    "Sales Associate | [Retail Company Name] | [City, State]\n",
    "[Month, Year] – [Month, Year]\n",
    "\n",
    "* Provided excellent customer service, resulting in a high rate of customer satisfaction and repeat business.\n",
    "* Assisted with in-store promotional events and product demonstrations.\n",
    "* Gained valuable insights into consumer behavior and sales techniques.\n",
    "\n",
    "---\n",
    "\n",
    "Skills\n",
    "\n",
    "Marketing Skills:\n",
    "* Social Media Management (Instagram, Facebook, Twitter, LinkedIn)\n",
    "* Content Creation (Canva, Adobe Spark)\n",
    "* Email Marketing (Mailchimp)\n",
    "* Market Research\n",
    "* Search Engine Optimization (SEO) Basics\n",
    "* Data Analysis & Reporting\n",
    "\n",
    "Technical Skills:\n",
    "* Microsoft Office Suite (Word, Excel, PowerPoint)\n",
    "* Google Analytics (Basic)\n",
    "* Hootsuite\n",
    "\n",
    "Soft Skills:\n",
    "* Strong written and verbal communication\n",
    "* Excellent organizational and time management skills\n",
    "* Detail-oriented\n",
    "* Creative and analytical thinker\n",
    "* Team collaboration\n",
    "* Adaptability\n",
    "\"\"\""
   ],
   "id": "92c56fa42cb73e17",
   "outputs": [],
   "execution_count": 186
  },
  {
   "metadata": {
    "ExecuteTime": {
     "end_time": "2025-06-29T05:11:58.251679Z",
     "start_time": "2025-06-29T05:11:57.618799Z"
    }
   },
   "cell_type": "code",
   "source": [
    "import re\n",
    "import string\n",
    "import spacy\n",
    "\n",
    "nlp = spacy.load('en_core_web_sm')\n",
    "\n",
    "resume_text = str(resume_text).lower()  # Convert to lowercase\n",
    "resume_text = re.sub(r'\\n', ' ', resume_text)  # Remove newlines\n",
    "resume_text = re.sub(r'\\[.*?\\]', '', resume_text)  # Remove text in brackets\n",
    "resume_text = re.sub(r'[%s]' % re.escape(string.punctuation), '', resume_text)  # Remove punctuation\n",
    "resume_text = re.sub(r'\\w*\\d\\w*', '', resume_text)  # Remove words with numbers\n",
    "resume_text = re.sub(r'https?://\\S+|www\\.\\S+|ftp\\.\\S+', '', resume_text) # remove ulrs\n",
    "resume_text = re.sub(r'\\S+@\\S+', '', resume_text) # remove emails\n",
    "resume_text = re.sub('[^A-Za-z0-9 ]+', '', resume_text) # no special character but space\n",
    "resume_text = re.sub(r'\\s+', ' ', resume_text)  # Remove extra spaces\n",
    "resume_text = resume_text.strip()\n",
    "doc = nlp(resume_text)\n",
    "tokens = [token.text for token in doc if not token.is_stop]\n",
    "resume_text = ' '.join(tokens)\n",
    "doc = nlp(resume_text)\n",
    "lemmatized_tokens = [token.lemma_ for token in doc]\n",
    "resume_text = ' '.join(lemmatized_tokens)\n",
    "resume_text"
   ],
   "id": "89981fcff06d54a1",
   "outputs": [
    {
     "data": {
      "text/plain": [
       "'detailoriente proactive marketing assistant strong foundation digital marketing content creation market research eager contribute dynamic marketing team bring solid work ethic passion develop execute innovative marketing campaign drive brand awareness engagement proficient variety marketing software social medium platform prove ability manage multiple project deadline effectively education bachelor science marketing graduation experience marketing intern assist development implementation comprehensive social medium strategy instagram facebook twitter result increase follower engagement month conduct market research competitive analysis identify emerge trend inform campaign planning create schedule engage content social medium platform include graphic video blog post monitor report key performance indicator kpi social medium campaign provide insight recommendation optimization support marketing team organize promote major virtual event attract attendee assist email marketing campaign helping create newsletter promotional email mailchimp sale associate provide excellent customer service result high rate customer satisfaction repeat business assist instore promotional event product demonstration gain valuable insight consumer behavior sale technique skill marketing skill social medium management instagram facebook twitter linkedin content creation canva adobe spark email marketing mailchimp market research search engine optimization seo basic datum analysis report technical skill microsoft office suite word excel powerpoint google analytics basic hootsuite soft skill strong write verbal communication excellent organizational time management skill detailoriente creative analytical thinker team collaboration adaptability'"
      ]
     },
     "execution_count": 187,
     "metadata": {},
     "output_type": "execute_result"
    }
   ],
   "execution_count": 187
  },
  {
   "metadata": {
    "ExecuteTime": {
     "end_time": "2025-06-29T05:12:01.205088Z",
     "start_time": "2025-06-29T05:12:01.202203Z"
    }
   },
   "cell_type": "code",
   "source": [
    "resume_vec = tfidf_vec.transform([resume_text])\n",
    "resume_vec.shape"
   ],
   "id": "7f25a7a3c3fa58e8",
   "outputs": [
    {
     "data": {
      "text/plain": [
       "(1, 48295)"
      ]
     },
     "execution_count": 188,
     "metadata": {},
     "output_type": "execute_result"
    }
   ],
   "execution_count": 188
  },
  {
   "metadata": {
    "ExecuteTime": {
     "end_time": "2025-06-29T05:12:02.637525Z",
     "start_time": "2025-06-29T05:12:02.634700Z"
    }
   },
   "cell_type": "code",
   "source": [
    "resume_token = token.texts_to_sequences([resume_text])\n",
    "resume_token = pad_sequences(resume_token, padding=\"post\", truncating=\"post\", maxlen=max_length)\n",
    "resume_token.shape"
   ],
   "id": "a52376c71a3f80bb",
   "outputs": [
    {
     "data": {
      "text/plain": [
       "(1, 500)"
      ]
     },
     "execution_count": 189,
     "metadata": {},
     "output_type": "execute_result"
    }
   ],
   "execution_count": 189
  },
  {
   "metadata": {
    "ExecuteTime": {
     "end_time": "2025-06-29T05:12:04.388365Z",
     "start_time": "2025-06-29T05:12:04.086705Z"
    }
   },
   "cell_type": "code",
   "source": [
    "pred_resume = {\n",
    "    # 'target': decoded_label(label_encoder, y_test_vec),\n",
    "    'rfc': rfc.predict(resume_vec),\n",
    "    'svc': svc.predict(resume_vec),\n",
    "    'sgd': sgd.predict(resume_vec),\n",
    "    'nu_svc': nu_svc.predict(resume_vec),\n",
    "    'mpl': mpl.predict(resume_vec),\n",
    "    'lr': lr.predict(resume_vec),\n",
    "    'linear_svc': linear_svc.predict(resume_vec),\n",
    "    'knc': knc.predict(resume_vec),\n",
    "    'lstm': [int(np.argmax(y)) for y in lstm.predict(resume_token)],\n",
    "    # 'bert': bert_pred\n",
    "}"
   ],
   "id": "41f59021587aab3a",
   "outputs": [
    {
     "name": "stdout",
     "output_type": "stream",
     "text": [
      "\u001B[1m1/1\u001B[0m \u001B[32m━━━━━━━━━━━━━━━━━━━━\u001B[0m\u001B[37m\u001B[0m \u001B[1m0s\u001B[0m 207ms/step\n"
     ]
    }
   ],
   "execution_count": 190
  },
  {
   "metadata": {
    "ExecuteTime": {
     "end_time": "2025-06-29T05:12:36.477097Z",
     "start_time": "2025-06-29T05:12:36.472673Z"
    }
   },
   "cell_type": "code",
   "source": [
    "result_resume = pd.DataFrame(pred_resume)\n",
    "encode_category_pred = pred_ensemble(result_resume.iloc[0], trust_models)\n",
    "encode_category_pred"
   ],
   "id": "8d4cc6c7d8998754",
   "outputs": [
    {
     "data": {
      "text/plain": [
       "37"
      ]
     },
     "execution_count": 192,
     "metadata": {},
     "output_type": "execute_result"
    }
   ],
   "execution_count": 192
  },
  {
   "metadata": {
    "ExecuteTime": {
     "end_time": "2025-06-29T05:12:37.969508Z",
     "start_time": "2025-06-29T05:12:37.966783Z"
    }
   },
   "cell_type": "code",
   "source": [
    "category = decoded_label(label_encoder, [encode_category_pred], False)\n",
    "category[0]"
   ],
   "id": "fdd7dbfa20fa4753",
   "outputs": [
    {
     "data": {
      "text/plain": [
       "'digitalmedia'"
      ]
     },
     "execution_count": 193,
     "metadata": {},
     "output_type": "execute_result"
    }
   ],
   "execution_count": 193
  }
 ],
 "metadata": {
  "kernelspec": {
   "display_name": "Python 3",
   "language": "python",
   "name": "python3"
  },
  "language_info": {
   "codemirror_mode": {
    "name": "ipython",
    "version": 2
   },
   "file_extension": ".py",
   "mimetype": "text/x-python",
   "name": "python",
   "nbconvert_exporter": "python",
   "pygments_lexer": "ipython2",
   "version": "2.7.6"
  }
 },
 "nbformat": 4,
 "nbformat_minor": 5
}
