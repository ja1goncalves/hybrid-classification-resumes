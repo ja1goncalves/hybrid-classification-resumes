{
 "cells": [
  {
   "cell_type": "code",
   "id": "initial_id",
   "metadata": {
    "collapsed": true,
    "ExecuteTime": {
     "end_time": "2025-06-26T06:22:55.358442Z",
     "start_time": "2025-06-26T06:22:54.787313Z"
    }
   },
   "source": [
    "import numpy as np\n",
    "import pandas as pd\n",
    "from sklearn.model_selection import train_test_split"
   ],
   "outputs": [],
   "execution_count": 1
  },
  {
   "metadata": {},
   "cell_type": "markdown",
   "source": "### Catching off-line data",
   "id": "da339557a9b257db"
  },
  {
   "metadata": {
    "ExecuteTime": {
     "end_time": "2025-06-26T06:22:57.598197Z",
     "start_time": "2025-06-26T06:22:57.382826Z"
    }
   },
   "cell_type": "code",
   "source": [
    "# after that I ask to gemini to generate new data for categories with less count\n",
    "all_data = pd.read_csv(\"data/filtered/normalized.csv\")\n",
    "all_data = all_data.dropna()\n",
    "all_data = all_data.drop_duplicates()\n",
    "all_data.shape"
   ],
   "id": "b0f7b4fd240d329",
   "outputs": [
    {
     "data": {
      "text/plain": [
       "(18240, 2)"
      ]
     },
     "execution_count": 2,
     "metadata": {},
     "output_type": "execute_result"
    }
   ],
   "execution_count": 2
  },
  {
   "metadata": {},
   "cell_type": "markdown",
   "source": "### Embedding",
   "id": "b64fab5ae802b5b"
  },
  {
   "metadata": {},
   "cell_type": "code",
   "source": [
    "from sklearn.preprocessing import LabelEncoder\n",
    "from tensorflow.keras.utils import to_categorical\n",
    "\n",
    "def encode_labels(categories):\n",
    "    label_encoder = LabelEncoder()\n",
    "    category_encoded = label_encoder.fit_transform(categories)\n",
    "    print(category_encoded)\n",
    "    num_categories = len(label_encoder.classes_)\n",
    "    y = to_categorical(category_encoded)\n",
    "    return label_encoder, y, num_categories\n",
    "\n",
    "def decoded_label(label_encoder, y_encoded, categorical=True):\n",
    "    label = [int(np.argmax(y)) for y in y_encoded] if categorical else y_encoded\n",
    "    return label_encoder.inverse_transform(label)"
   ],
   "id": "6d9a6f223eb0eebc",
   "outputs": [],
   "execution_count": null
  },
  {
   "metadata": {
    "ExecuteTime": {
     "end_time": "2025-06-26T06:23:09.635562Z",
     "start_time": "2025-06-26T06:23:09.626156Z"
    }
   },
   "cell_type": "code",
   "source": [
    "categories = all_data['category']\n",
    "label_encoder, y, num_categories = encode_labels(categories)\n",
    "print(num_categories, y)"
   ],
   "id": "51cd0e1c9405f5ce",
   "outputs": [
    {
     "name": "stdout",
     "output_type": "stream",
     "text": [
      "[48 70 46 ... 72 72 72]\n",
      "95 [[0. 0. 0. ... 0. 0. 0.]\n",
      " [0. 0. 0. ... 0. 0. 0.]\n",
      " [0. 0. 0. ... 0. 0. 0.]\n",
      " ...\n",
      " [0. 0. 0. ... 0. 0. 0.]\n",
      " [0. 0. 0. ... 0. 0. 0.]\n",
      " [0. 0. 0. ... 0. 0. 0.]]\n"
     ]
    }
   ],
   "execution_count": 4
  },
  {
   "metadata": {
    "ExecuteTime": {
     "end_time": "2025-06-26T06:23:14.048990Z",
     "start_time": "2025-06-26T06:23:12.859607Z"
    }
   },
   "cell_type": "code",
   "source": [
    "from sklearn.feature_extraction.text import TfidfVectorizer\n",
    "\n",
    "tfidf_vec = TfidfVectorizer()\n",
    "resumes_vec = tfidf_vec.fit_transform(all_data['resume'])\n",
    "inputs = len(tfidf_vec.get_feature_names_out())\n",
    "print(\"Tamanho:\", len(tfidf_vec.get_feature_names_out()), \"Vocabulário:\", tfidf_vec.get_feature_names_out(), )\n",
    "resumes_vec"
   ],
   "id": "c4b150be2d34b18",
   "outputs": [
    {
     "name": "stdout",
     "output_type": "stream",
     "text": [
      "Tamanho: 48295 Vocabulário: ['aa' 'aaa' 'aaacom' ... 'zyvox' 'zz' 'zzxzx']\n"
     ]
    },
    {
     "data": {
      "text/plain": [
       "<Compressed Sparse Row sparse matrix of dtype 'float64'\n",
       "\twith 2122670 stored elements and shape (18240, 48295)>"
      ]
     },
     "execution_count": 5,
     "metadata": {},
     "output_type": "execute_result"
    }
   ],
   "execution_count": 5
  },
  {
   "metadata": {
    "ExecuteTime": {
     "end_time": "2025-06-26T06:23:17.055662Z",
     "start_time": "2025-06-26T06:23:17.043795Z"
    }
   },
   "cell_type": "code",
   "source": [
    "X_train_vec, X_test_vec, y_train_vec, y_test_vec = train_test_split(resumes_vec, y, test_size=0.4, random_state=42)\n",
    "X_train_vec.shape, X_test_vec.shape, y_train_vec.shape, y_test_vec.shape"
   ],
   "id": "8d82d4fa23ff6470",
   "outputs": [
    {
     "data": {
      "text/plain": [
       "((10944, 48295), (7296, 48295), (10944, 95), (7296, 95))"
      ]
     },
     "execution_count": 6,
     "metadata": {},
     "output_type": "execute_result"
    }
   ],
   "execution_count": 6
  },
  {
   "metadata": {
    "ExecuteTime": {
     "end_time": "2025-06-26T06:23:23.376656Z",
     "start_time": "2025-06-26T06:23:21.590937Z"
    }
   },
   "cell_type": "code",
   "source": [
    "from tensorflow.keras.preprocessing.text import Tokenizer\n",
    "from tensorflow.keras.preprocessing.sequence import pad_sequences\n",
    "\n",
    "num_words = 20000\n",
    "max_length = 500\n",
    "oov_tok = \"<OOV>\"\n",
    "token = Tokenizer(num_words=num_words, oov_token=oov_tok)\n",
    "token.fit_on_texts(all_data['resume'])\n",
    "inputs = len(token.word_index)\n",
    "resumes_token = token.texts_to_sequences(all_data['resume'])\n",
    "resumes_token = pad_sequences(resumes_token, padding=\"post\", truncating=\"post\", maxlen=max_length)\n",
    "inputs, resumes_token"
   ],
   "id": "964330b5c5d2d418",
   "outputs": [
    {
     "data": {
      "text/plain": [
       "(48319,\n",
       " array([[  34, 1307, 1032, ...,    0,    0,    0],\n",
       "        [  34,  350, 2123, ...,    0,    0,    0],\n",
       "        [  34,  769,   59, ...,    0,    0,    0],\n",
       "        ...,\n",
       "        [   9,  621,   61, ...,    0,    0,    0],\n",
       "        [ 154,  307,  602, ...,   23, 2651,   23],\n",
       "        [ 154,  307,  602, ...,   23, 2651,   23]], dtype=int32))"
      ]
     },
     "execution_count": 7,
     "metadata": {},
     "output_type": "execute_result"
    }
   ],
   "execution_count": 7
  },
  {
   "metadata": {
    "ExecuteTime": {
     "end_time": "2025-06-26T06:23:25.426570Z",
     "start_time": "2025-06-26T06:23:25.413815Z"
    }
   },
   "cell_type": "code",
   "source": [
    "X_train_tkn, X_test_tkn, y_train_tkn, y_test_tkn = train_test_split(resumes_token, y, test_size=0.4, random_state=42)\n",
    "X_train_tkn.shape, X_test_tkn.shape, y_train_tkn.shape, y_test_tkn.shape"
   ],
   "id": "b3ce4066c93584e3",
   "outputs": [
    {
     "data": {
      "text/plain": [
       "((10944, 500), (7296, 500), (10944, 95), (7296, 95))"
      ]
     },
     "execution_count": 8,
     "metadata": {},
     "output_type": "execute_result"
    }
   ],
   "execution_count": 8
  },
  {
   "metadata": {},
   "cell_type": "markdown",
   "source": "### Catching off-line data### Catching off-line data### Load models",
   "id": "d45ce2e274e8516a"
  },
  {
   "metadata": {
    "ExecuteTime": {
     "end_time": "2025-06-26T06:28:20.340745Z",
     "start_time": "2025-06-26T06:28:17.759012Z"
    }
   },
   "cell_type": "code",
   "source": [
    "import joblib\n",
    "from tensorflow.keras.models import load_model\n",
    "\n",
    "rfc = joblib.load('models/RFC_model.pkl')\n",
    "svc = joblib.load('models/SVC_model.pkl')\n",
    "sgd = joblib.load('models/SGD_model.pkl')\n",
    "nu_svc = joblib.load('models/NuSVC_model.pkl')\n",
    "mpl = joblib.load('models/MLP_model.pkl')\n",
    "lr = joblib.load('models/LR_model.pkl')\n",
    "linear_svc = joblib.load('models/LinearSVC_model.pkl')\n",
    "knc = joblib.load('models/KNC_model.pkl')\n",
    "lstm = load_model('models/LSTM_model.keras')\n",
    "# bert = load_model('models/BERT_model.keras')"
   ],
   "id": "677d8f36ffe3e857",
   "outputs": [
    {
     "name": "stderr",
     "output_type": "stream",
     "text": [
      "/home/ja1/Faculdade/recpad/hybrid-classification-resumes/.venv/lib/python3.12/site-packages/keras/src/saving/saving_lib.py:802: UserWarning: Skipping variable loading for optimizer 'rmsprop', because it has 18 variables whereas the saved optimizer has 34 variables. \n",
      "  saveable.load_own_variables(weights_store.get(inner_path))\n"
     ]
    }
   ],
   "execution_count": 10
  },
  {
   "metadata": {
    "ExecuteTime": {
     "end_time": "2025-06-26T06:29:32.386631Z",
     "start_time": "2025-06-26T06:28:24.355410Z"
    }
   },
   "cell_type": "code",
   "source": [
    "pred = {\n",
    "    # 'target': decoded_label(label_encoder, y_test_vec),\n",
    "    'rfc': rfc.predict(X_test_vec),\n",
    "    'svc': svc.predict(X_test_vec),\n",
    "    'sgd': sgd.predict(X_test_vec),\n",
    "    'nu_svc': nu_svc.predict(X_test_vec),\n",
    "    'mpl': mpl.predict(X_test_vec),\n",
    "    'lr': lr.predict(X_test_vec),\n",
    "    'linear_svc': linear_svc.predict(X_test_vec),\n",
    "    'knc': knc.predict(X_test_vec),\n",
    "    'lstm': [int(np.argmax(y)) for y in lstm.predict(X_test_tkn)],\n",
    "    # 'bert': bert.predict(np.array(token.sequences_to_texts(X_test_tkn)))\n",
    "}"
   ],
   "id": "ed194b7344c23ae0",
   "outputs": [
    {
     "name": "stderr",
     "output_type": "stream",
     "text": [
      "I0000 00:00:1750919366.588999   30455 cuda_dnn.cc:529] Loaded cuDNN version 91002\n"
     ]
    },
    {
     "name": "stdout",
     "output_type": "stream",
     "text": [
      "\u001B[1m228/228\u001B[0m \u001B[32m━━━━━━━━━━━━━━━━━━━━\u001B[0m\u001B[37m\u001B[0m \u001B[1m6s\u001B[0m 24ms/step\n"
     ]
    }
   ],
   "execution_count": 11
  },
  {
   "metadata": {
    "ExecuteTime": {
     "end_time": "2025-06-26T06:33:14.807762Z",
     "start_time": "2025-06-26T06:33:14.804222Z"
    }
   },
   "cell_type": "code",
   "source": "results = pd.DataFrame(pred)",
   "id": "d20993b56bc892d6",
   "outputs": [],
   "execution_count": 25
  },
  {
   "metadata": {},
   "cell_type": "markdown",
   "source": "### Test decision",
   "id": "8a624d9fd10a4575"
  },
  {
   "metadata": {
    "ExecuteTime": {
     "end_time": "2025-06-26T06:33:16.540319Z",
     "start_time": "2025-06-26T06:33:16.328828Z"
    }
   },
   "cell_type": "code",
   "source": [
    "from scipy import stats\n",
    "from sklearn.metrics import accuracy_score\n",
    "\n",
    "y_test = [int(np.argmax(y)) for y in y_test_vec]\n",
    "statistic_predictions = []\n",
    "for x in np.array(results):\n",
    "    if np.std(x) == 0:\n",
    "        statistic_predictions.append(x[0])\n",
    "    else:\n",
    "        mode = stats.mode(x)\n",
    "        if mode.count > 5:\n",
    "            statistic_predictions.append(mode.mode)\n",
    "        else:\n",
    "            mean = np.mean(x)\n",
    "            nearest = len(label_encoder.classes_)\n",
    "            for v in x:\n",
    "                diff = abs(v - mean)\n",
    "                nearest = nearest if nearest < diff else v\n",
    "            statistic_predictions.append(nearest)\n",
    "\n",
    "accuracy = accuracy_score(y_test, statistic_predictions)\n",
    "accuracy"
   ],
   "id": "4171ec25af581a7c",
   "outputs": [
    {
     "data": {
      "text/plain": [
       "0.9801260964912281"
      ]
     },
     "execution_count": 26,
     "metadata": {},
     "output_type": "execute_result"
    }
   ],
   "execution_count": 26
  },
  {
   "metadata": {},
   "cell_type": "code",
   "source": [
    "knn = joblib.load('models/KNN_hybrid.pkl')\n",
    "dynamic_predictions = []\n",
    "for t in np.array(results):\n",
    "    distances, indexes = knn.kneighbors(t.reshape(1, -1))\n",
    "    distances = np.ravel(distances)\n",
    "    indexes = np.ravel(indexes)\n",
    "    x_nn = results.iloc[indexes]\n",
    "\n",
    "    options = list(set(np.concatenate((np.ravel(x_nn), t)).tolist()))\n",
    "    best_option = options[0]\n",
    "    options_weight = {o: 0 for o in options}\n",
    "    for o in options_weight.keys():\n",
    "        options_weight[o] += float(np.count_nonzero(t == o))\n",
    "        for i, x in enumerate(x_nn):\n",
    "            d = distances[i] if distances[i] != 0 else 1\n",
    "            options_weight[o] += float(np.count_nonzero(x == o) * 1/d)\n",
    "\n",
    "        max_option = options_weight[o] if options_weight[o] > best_option else best_option\n",
    "\n",
    "    dynamic_predictions.append(best_option)\n",
    "#\n",
    "accuracy = accuracy_score(y_test, dynamic_predictions)\n",
    "accuracy"
   ],
   "id": "97ac7f8ab936dacd",
   "outputs": [],
   "execution_count": null
  }
 ],
 "metadata": {
  "kernelspec": {
   "display_name": "Python 3",
   "language": "python",
   "name": "python3"
  },
  "language_info": {
   "codemirror_mode": {
    "name": "ipython",
    "version": 2
   },
   "file_extension": ".py",
   "mimetype": "text/x-python",
   "name": "python",
   "nbconvert_exporter": "python",
   "pygments_lexer": "ipython2",
   "version": "2.7.6"
  }
 },
 "nbformat": 4,
 "nbformat_minor": 5
}
