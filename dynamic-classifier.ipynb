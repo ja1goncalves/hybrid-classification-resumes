{
 "cells": [
  {
   "metadata": {},
   "cell_type": "markdown",
   "source": "## Import dependencies",
   "id": "3043f8bd571e8c"
  },
  {
   "cell_type": "code",
   "id": "initial_id",
   "metadata": {
    "collapsed": true,
    "ExecuteTime": {
     "end_time": "2025-06-26T05:36:20.519367Z",
     "start_time": "2025-06-26T05:36:20.517425Z"
    }
   },
   "source": [
    "import pandas as pd\n",
    "import numpy as np\n",
    "from sklearn.metrics import accuracy_score\n",
    "from sklearn.neighbors import NearestNeighbors"
   ],
   "outputs": [],
   "execution_count": 185
  },
  {
   "metadata": {},
   "cell_type": "markdown",
   "source": "## Tokenizing results",
   "id": "33892d73e33ad5d5"
  },
  {
   "metadata": {
    "ExecuteTime": {
     "end_time": "2025-06-26T05:21:54.302512Z",
     "start_time": "2025-06-26T05:21:54.291776Z"
    }
   },
   "cell_type": "code",
   "source": [
    "classifier_results = pd.read_csv(\"data/results/classifiers-results.csv\")\n",
    "classifier_results.head()"
   ],
   "id": "de33df5a9c949b24",
   "outputs": [
    {
     "data": {
      "text/plain": [
       "                   target                     RFC                     MLP  \\\n",
       "0                advocate                advocate                advocate   \n",
       "1                   pilot                   pilot                   pilot   \n",
       "2  machine learn engineer  machine learn engineer  machine learn engineer   \n",
       "3          data scientist          data scientist          data scientist   \n",
       "4    construction manager    construction manager    construction manager   \n",
       "\n",
       "                      SVC               LinearSVC                   NuSVC  \\\n",
       "0                advocate                advocate                advocate   \n",
       "1                   pilot                   pilot                   pilot   \n",
       "2  machine learn engineer  machine learn engineer  machine learn engineer   \n",
       "3          data scientist          data scientist          data scientist   \n",
       "4    construction manager    construction manager    construction manager   \n",
       "\n",
       "                      SGD                      LR                     KNC  \\\n",
       "0                advocate                advocate                advocate   \n",
       "1                   pilot                   pilot                   pilot   \n",
       "2  machine learn engineer  machine learn engineer  machine learn engineer   \n",
       "3          data scientist          data scientist          data scientist   \n",
       "4    construction manager    construction manager    construction manager   \n",
       "\n",
       "                     LSTM                    BERT  \n",
       "0                advocate                advocate  \n",
       "1                   pilot                   pilot  \n",
       "2  machine learn engineer  machine learn engineer  \n",
       "3          data scientist          data scientist  \n",
       "4    construction manager    construction manager  "
      ],
      "text/html": [
       "<div>\n",
       "<style scoped>\n",
       "    .dataframe tbody tr th:only-of-type {\n",
       "        vertical-align: middle;\n",
       "    }\n",
       "\n",
       "    .dataframe tbody tr th {\n",
       "        vertical-align: top;\n",
       "    }\n",
       "\n",
       "    .dataframe thead th {\n",
       "        text-align: right;\n",
       "    }\n",
       "</style>\n",
       "<table border=\"1\" class=\"dataframe\">\n",
       "  <thead>\n",
       "    <tr style=\"text-align: right;\">\n",
       "      <th></th>\n",
       "      <th>target</th>\n",
       "      <th>RFC</th>\n",
       "      <th>MLP</th>\n",
       "      <th>SVC</th>\n",
       "      <th>LinearSVC</th>\n",
       "      <th>NuSVC</th>\n",
       "      <th>SGD</th>\n",
       "      <th>LR</th>\n",
       "      <th>KNC</th>\n",
       "      <th>LSTM</th>\n",
       "      <th>BERT</th>\n",
       "    </tr>\n",
       "  </thead>\n",
       "  <tbody>\n",
       "    <tr>\n",
       "      <th>0</th>\n",
       "      <td>advocate</td>\n",
       "      <td>advocate</td>\n",
       "      <td>advocate</td>\n",
       "      <td>advocate</td>\n",
       "      <td>advocate</td>\n",
       "      <td>advocate</td>\n",
       "      <td>advocate</td>\n",
       "      <td>advocate</td>\n",
       "      <td>advocate</td>\n",
       "      <td>advocate</td>\n",
       "      <td>advocate</td>\n",
       "    </tr>\n",
       "    <tr>\n",
       "      <th>1</th>\n",
       "      <td>pilot</td>\n",
       "      <td>pilot</td>\n",
       "      <td>pilot</td>\n",
       "      <td>pilot</td>\n",
       "      <td>pilot</td>\n",
       "      <td>pilot</td>\n",
       "      <td>pilot</td>\n",
       "      <td>pilot</td>\n",
       "      <td>pilot</td>\n",
       "      <td>pilot</td>\n",
       "      <td>pilot</td>\n",
       "    </tr>\n",
       "    <tr>\n",
       "      <th>2</th>\n",
       "      <td>machine learn engineer</td>\n",
       "      <td>machine learn engineer</td>\n",
       "      <td>machine learn engineer</td>\n",
       "      <td>machine learn engineer</td>\n",
       "      <td>machine learn engineer</td>\n",
       "      <td>machine learn engineer</td>\n",
       "      <td>machine learn engineer</td>\n",
       "      <td>machine learn engineer</td>\n",
       "      <td>machine learn engineer</td>\n",
       "      <td>machine learn engineer</td>\n",
       "      <td>machine learn engineer</td>\n",
       "    </tr>\n",
       "    <tr>\n",
       "      <th>3</th>\n",
       "      <td>data scientist</td>\n",
       "      <td>data scientist</td>\n",
       "      <td>data scientist</td>\n",
       "      <td>data scientist</td>\n",
       "      <td>data scientist</td>\n",
       "      <td>data scientist</td>\n",
       "      <td>data scientist</td>\n",
       "      <td>data scientist</td>\n",
       "      <td>data scientist</td>\n",
       "      <td>data scientist</td>\n",
       "      <td>data scientist</td>\n",
       "    </tr>\n",
       "    <tr>\n",
       "      <th>4</th>\n",
       "      <td>construction manager</td>\n",
       "      <td>construction manager</td>\n",
       "      <td>construction manager</td>\n",
       "      <td>construction manager</td>\n",
       "      <td>construction manager</td>\n",
       "      <td>construction manager</td>\n",
       "      <td>construction manager</td>\n",
       "      <td>construction manager</td>\n",
       "      <td>construction manager</td>\n",
       "      <td>construction manager</td>\n",
       "      <td>construction manager</td>\n",
       "    </tr>\n",
       "  </tbody>\n",
       "</table>\n",
       "</div>"
      ]
     },
     "execution_count": 158,
     "metadata": {},
     "output_type": "execute_result"
    }
   ],
   "execution_count": 158
  },
  {
   "metadata": {
    "ExecuteTime": {
     "end_time": "2025-06-26T05:21:58.060223Z",
     "start_time": "2025-06-26T05:21:58.057917Z"
    }
   },
   "cell_type": "code",
   "source": [
    "from sklearn.preprocessing import LabelEncoder\n",
    "\n",
    "def encode_labels(data):\n",
    "    label_encoder = LabelEncoder()\n",
    "    label_encoder.fit(data)\n",
    "    return label_encoder\n",
    "\n",
    "def decoded_label(label_encoder, y_encoded, categorical=True):\n",
    "    label = [int(np.argmax(y)) for y in y_encoded] if categorical else y_encoded\n",
    "    return label_encoder.inverse_transform(label)"
   ],
   "id": "d76af0df3ac1d069",
   "outputs": [],
   "execution_count": 159
  },
  {
   "metadata": {
    "ExecuteTime": {
     "end_time": "2025-06-26T05:22:01.035652Z",
     "start_time": "2025-06-26T05:22:01.017519Z"
    }
   },
   "cell_type": "code",
   "source": [
    "all_values = []\n",
    "for col in classifier_results.columns:\n",
    "    for v in classifier_results[col].values:\n",
    "        all_values.append(v)\n",
    "\n",
    "all_values = pd.DataFrame(all_values, columns=['values'])\n",
    "label_encoder = encode_labels(all_values['values'])\n",
    "\n",
    "for col in classifier_results.columns:\n",
    "    classifier_results[col] = label_encoder.transform(classifier_results[col])\n",
    "\n",
    "classifier_results.to_csv(f\"data/results/classifiers-results-coded.csv\", encoding='utf-8', index=False)\n",
    "classifier_results.head()"
   ],
   "id": "85651db6cdb521e6",
   "outputs": [
    {
     "data": {
      "text/plain": [
       "   target  RFC  MLP  SVC  LinearSVC  NuSVC  SGD  LR  KNC  LSTM  BERT\n",
       "0       1    1    1    1          1      1    1   1    1     1     1\n",
       "1      71   71   71   71         71     71   71  71   71    71    71\n",
       "2      61   61   61   61         61     61   61  61   61    61    61\n",
       "3      31   31   31   31         31     31   31  31   31    31    31\n",
       "4      23   23   23   23         23     23   23  23   23    23    23"
      ],
      "text/html": [
       "<div>\n",
       "<style scoped>\n",
       "    .dataframe tbody tr th:only-of-type {\n",
       "        vertical-align: middle;\n",
       "    }\n",
       "\n",
       "    .dataframe tbody tr th {\n",
       "        vertical-align: top;\n",
       "    }\n",
       "\n",
       "    .dataframe thead th {\n",
       "        text-align: right;\n",
       "    }\n",
       "</style>\n",
       "<table border=\"1\" class=\"dataframe\">\n",
       "  <thead>\n",
       "    <tr style=\"text-align: right;\">\n",
       "      <th></th>\n",
       "      <th>target</th>\n",
       "      <th>RFC</th>\n",
       "      <th>MLP</th>\n",
       "      <th>SVC</th>\n",
       "      <th>LinearSVC</th>\n",
       "      <th>NuSVC</th>\n",
       "      <th>SGD</th>\n",
       "      <th>LR</th>\n",
       "      <th>KNC</th>\n",
       "      <th>LSTM</th>\n",
       "      <th>BERT</th>\n",
       "    </tr>\n",
       "  </thead>\n",
       "  <tbody>\n",
       "    <tr>\n",
       "      <th>0</th>\n",
       "      <td>1</td>\n",
       "      <td>1</td>\n",
       "      <td>1</td>\n",
       "      <td>1</td>\n",
       "      <td>1</td>\n",
       "      <td>1</td>\n",
       "      <td>1</td>\n",
       "      <td>1</td>\n",
       "      <td>1</td>\n",
       "      <td>1</td>\n",
       "      <td>1</td>\n",
       "    </tr>\n",
       "    <tr>\n",
       "      <th>1</th>\n",
       "      <td>71</td>\n",
       "      <td>71</td>\n",
       "      <td>71</td>\n",
       "      <td>71</td>\n",
       "      <td>71</td>\n",
       "      <td>71</td>\n",
       "      <td>71</td>\n",
       "      <td>71</td>\n",
       "      <td>71</td>\n",
       "      <td>71</td>\n",
       "      <td>71</td>\n",
       "    </tr>\n",
       "    <tr>\n",
       "      <th>2</th>\n",
       "      <td>61</td>\n",
       "      <td>61</td>\n",
       "      <td>61</td>\n",
       "      <td>61</td>\n",
       "      <td>61</td>\n",
       "      <td>61</td>\n",
       "      <td>61</td>\n",
       "      <td>61</td>\n",
       "      <td>61</td>\n",
       "      <td>61</td>\n",
       "      <td>61</td>\n",
       "    </tr>\n",
       "    <tr>\n",
       "      <th>3</th>\n",
       "      <td>31</td>\n",
       "      <td>31</td>\n",
       "      <td>31</td>\n",
       "      <td>31</td>\n",
       "      <td>31</td>\n",
       "      <td>31</td>\n",
       "      <td>31</td>\n",
       "      <td>31</td>\n",
       "      <td>31</td>\n",
       "      <td>31</td>\n",
       "      <td>31</td>\n",
       "    </tr>\n",
       "    <tr>\n",
       "      <th>4</th>\n",
       "      <td>23</td>\n",
       "      <td>23</td>\n",
       "      <td>23</td>\n",
       "      <td>23</td>\n",
       "      <td>23</td>\n",
       "      <td>23</td>\n",
       "      <td>23</td>\n",
       "      <td>23</td>\n",
       "      <td>23</td>\n",
       "      <td>23</td>\n",
       "      <td>23</td>\n",
       "    </tr>\n",
       "  </tbody>\n",
       "</table>\n",
       "</div>"
      ]
     },
     "execution_count": 160,
     "metadata": {},
     "output_type": "execute_result"
    }
   ],
   "execution_count": 160
  },
  {
   "metadata": {
    "ExecuteTime": {
     "end_time": "2025-06-26T05:37:34.393358Z",
     "start_time": "2025-06-26T05:37:34.389328Z"
    }
   },
   "cell_type": "code",
   "source": [
    "from sklearn.model_selection import train_test_split\n",
    "\n",
    "X = classifier_results.drop('target', axis=1)\n",
    "y = classifier_results['target']\n",
    "X_train, X_test, y_train, y_test = train_test_split(np.array(X), np.array(y), test_size=0.3, random_state=42)\n",
    "X_train.shape, X_test.shape, y_train.shape, y_test.shape"
   ],
   "id": "b01cdb916dbf4071",
   "outputs": [
    {
     "data": {
      "text/plain": [
       "((1915, 10), (821, 10), (1915,), (821,))"
      ]
     },
     "execution_count": 191,
     "metadata": {},
     "output_type": "execute_result"
    }
   ],
   "execution_count": 191
  },
  {
   "metadata": {},
   "cell_type": "markdown",
   "source": "## Decision methods",
   "id": "67c1ff3fa6a11d6a"
  },
  {
   "metadata": {},
   "cell_type": "markdown",
   "source": "### Statistic decision",
   "id": "cb592c896d526267"
  },
  {
   "metadata": {
    "ExecuteTime": {
     "end_time": "2025-06-26T05:37:36.931669Z",
     "start_time": "2025-06-26T05:37:36.899155Z"
    }
   },
   "cell_type": "code",
   "source": [
    "from scipy import stats\n",
    "\n",
    "statistic_predictions = []\n",
    "for x in X_test:\n",
    "    if np.std(x) == 0:\n",
    "        statistic_predictions.append(x[0])\n",
    "    else:\n",
    "        mode = stats.mode(x)\n",
    "        if mode.count > 5:\n",
    "            statistic_predictions.append(mode.mode)\n",
    "        else:\n",
    "            mean = np.mean(x)\n",
    "            nearest = len(label_encoder.classes_)\n",
    "            for v in x:\n",
    "                diff = abs(v - mean)\n",
    "                nearest = nearest if nearest < diff else v\n",
    "            statistic_predictions.append(nearest)\n",
    "\n",
    "accuracy = accuracy_score(y_test, statistic_predictions)\n",
    "accuracy"
   ],
   "id": "c83eb94d0ac04090",
   "outputs": [
    {
     "data": {
      "text/plain": [
       "0.9732034104750305"
      ]
     },
     "execution_count": 192,
     "metadata": {},
     "output_type": "execute_result"
    }
   ],
   "execution_count": 192
  },
  {
   "metadata": {},
   "cell_type": "markdown",
   "source": "### Dynamic choise",
   "id": "ceb0c379218aa3f5"
  },
  {
   "metadata": {},
   "cell_type": "markdown",
   "source": "KNN with weighted combination",
   "id": "5c147d7c780124f2"
  },
  {
   "metadata": {
    "ExecuteTime": {
     "end_time": "2025-06-26T05:39:38.625305Z",
     "start_time": "2025-06-26T05:39:38.412096Z"
    }
   },
   "cell_type": "code",
   "source": [
    "knn = NearestNeighbors(n_neighbors=3, metric='euclidean')\n",
    "knn.fit(X_train)\n",
    "dynamic_predictions = []\n",
    "for t in X_test:\n",
    "    distances, indexes = knn.kneighbors(t.reshape(1, -1))\n",
    "    indexes = np.ravel(indexes)\n",
    "\n",
    "    x_nn = X_train[indexes]\n",
    "    y_nn = y_train[indexes]\n",
    "\n",
    "    weight = np.linalg.pinv(x_nn).dot(y_kn)\n",
    "    dynamic_predictions.append(int(t.dot(weight)))\n",
    "\n",
    "accuracy = accuracy_score(y_test, dynamic_predictions)\n",
    "accuracy"
   ],
   "id": "6432f9eb67ed3736",
   "outputs": [
    {
     "data": {
      "text/plain": [
       "0.03654080389768575"
      ]
     },
     "execution_count": 199,
     "metadata": {},
     "output_type": "execute_result"
    }
   ],
   "execution_count": 199
  },
  {
   "metadata": {},
   "cell_type": "markdown",
   "source": "KNN with distance weighted combination",
   "id": "e0e948479cfc2360"
  },
  {
   "metadata": {
    "ExecuteTime": {
     "end_time": "2025-06-26T06:37:21.632351Z",
     "start_time": "2025-06-26T06:37:21.453487Z"
    }
   },
   "cell_type": "code",
   "source": [
    "from sklearn.neighbors import NearestNeighbors\n",
    "import joblib\n",
    "\n",
    "knn = NearestNeighbors(n_neighbors=1, metric='euclidean')\n",
    "knn.fit(X_train)\n",
    "dynamic_predictions = []\n",
    "for t in X_test:\n",
    "    distances, indexes = knn.kneighbors(t.reshape(1, -1))\n",
    "    distances = np.ravel(distances)\n",
    "    indexes = np.ravel(indexes)\n",
    "    x_nn = X_train[indexes]\n",
    "\n",
    "    options = list(set(np.concatenate((np.ravel(x_nn), t)).tolist()))\n",
    "    best_option = options[0]\n",
    "    options_weight = {o: 0 for o in options}\n",
    "    for o in options_weight.keys():\n",
    "        options_weight[o] += float(np.count_nonzero(t == o))\n",
    "        for i, x in enumerate(x_nn):\n",
    "            d = distances[i] if distances[i] != 0 else 1\n",
    "            options_weight[o] += float(np.count_nonzero(x == o) * 1/d)\n",
    "\n",
    "        max_option = options_weight[o] if options_weight[o] > best_option else best_option\n",
    "\n",
    "    dynamic_predictions.append(best_option)\n",
    "\n",
    "joblib.dump(knn, 'models/KNN_hybrid.pkl')\n",
    "accuracy = accuracy_score(y_test, dynamic_predictions)\n",
    "accuracy"
   ],
   "id": "900785a77447eec0",
   "outputs": [
    {
     "data": {
      "text/plain": [
       "0.9317904993909866"
      ]
     },
     "execution_count": 232,
     "metadata": {},
     "output_type": "execute_result"
    }
   ],
   "execution_count": 232
  },
  {
   "metadata": {},
   "cell_type": "markdown",
   "source": "### Meta-learning",
   "id": "2e7797070d57eb38"
  },
  {
   "metadata": {
    "ExecuteTime": {
     "end_time": "2025-06-26T05:48:57.327483Z",
     "start_time": "2025-06-26T05:48:57.296054Z"
    }
   },
   "cell_type": "code",
   "source": [
    "from sklearn.neighbors import RadiusNeighborsClassifier\n",
    "\n",
    "rnc = RadiusNeighborsClassifier(weights='distance', radius=100,)\n",
    "rnc.fit(X_train, y_train)\n",
    "pred = rnc.predict(X_test)\n",
    "accuracy = accuracy_score(y_test, pred)\n",
    "accuracy"
   ],
   "id": "d5de9d261820fc61",
   "outputs": [
    {
     "data": {
      "text/plain": [
       "0.928136419001218"
      ]
     },
     "execution_count": 216,
     "metadata": {},
     "output_type": "execute_result"
    }
   ],
   "execution_count": 216
  },
  {
   "metadata": {
    "ExecuteTime": {
     "end_time": "2025-06-26T05:51:07.245501Z",
     "start_time": "2025-06-26T05:51:07.220533Z"
    }
   },
   "cell_type": "code",
   "source": [
    "from sklearn.neighbors import KNeighborsClassifier\n",
    "\n",
    "knn = KNeighborsClassifier(n_neighbors=2, metric='euclidean')\n",
    "knn.fit(X_train, y_train)\n",
    "pred = knn.predict(X_test)\n",
    "accuracy = accuracy_score(y_test, pred)\n",
    "accuracy"
   ],
   "id": "63922f0a6a8f16b6",
   "outputs": [
    {
     "data": {
      "text/plain": [
       "0.9305724725943971"
      ]
     },
     "execution_count": 219,
     "metadata": {},
     "output_type": "execute_result"
    }
   ],
   "execution_count": 219
  },
  {
   "metadata": {
    "ExecuteTime": {
     "end_time": "2025-06-26T05:54:19.204151Z",
     "start_time": "2025-06-26T05:54:17.230378Z"
    }
   },
   "cell_type": "code",
   "source": [
    "from sklearn.neural_network import MLPClassifier\n",
    "\n",
    "mlp = MLPClassifier(hidden_layer_sizes=(32,64,128,64,32), activation='relu', alpha=0.001, solver='adam', max_iter=10000)\n",
    "mlp.fit(X_train, y_train)\n",
    "pred = mlp.predict(X_test)\n",
    "accuracy = accuracy_score(y_test, pred)\n",
    "accuracy"
   ],
   "id": "90cb43b82678cc5a",
   "outputs": [
    {
     "data": {
      "text/plain": [
       "0.42630937880633374"
      ]
     },
     "execution_count": 229,
     "metadata": {},
     "output_type": "execute_result"
    }
   ],
   "execution_count": 229
  }
 ],
 "metadata": {
  "kernelspec": {
   "display_name": "Python 3",
   "language": "python",
   "name": "python3"
  },
  "language_info": {
   "codemirror_mode": {
    "name": "ipython",
    "version": 2
   },
   "file_extension": ".py",
   "mimetype": "text/x-python",
   "name": "python",
   "nbconvert_exporter": "python",
   "pygments_lexer": "ipython2",
   "version": "2.7.6"
  }
 },
 "nbformat": 4,
 "nbformat_minor": 5
}
