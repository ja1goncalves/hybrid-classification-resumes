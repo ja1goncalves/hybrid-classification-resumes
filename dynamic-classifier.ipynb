{
 "cells": [
  {
   "metadata": {},
   "cell_type": "markdown",
   "source": "## Import dependencies",
   "id": "3043f8bd571e8c"
  },
  {
   "cell_type": "code",
   "id": "initial_id",
   "metadata": {
    "collapsed": true,
    "ExecuteTime": {
     "end_time": "2025-06-28T05:31:43.577661Z",
     "start_time": "2025-06-28T05:31:43.575837Z"
    }
   },
   "source": [
    "import pandas as pd\n",
    "import numpy as np\n",
    "from sklearn.metrics import classification_report\n",
    "from sklearn.neighbors import NearestNeighbors\n",
    "from scipy import stats"
   ],
   "outputs": [],
   "execution_count": 64
  },
  {
   "metadata": {},
   "cell_type": "markdown",
   "source": "## Tokenizing results",
   "id": "33892d73e33ad5d5"
  },
  {
   "metadata": {
    "ExecuteTime": {
     "end_time": "2025-06-28T04:28:26.497298Z",
     "start_time": "2025-06-28T04:28:26.477708Z"
    }
   },
   "cell_type": "code",
   "source": [
    "classifier_results = pd.read_csv(\"data/results/classifiers-results.csv\")\n",
    "classifier_results.head()"
   ],
   "id": "de33df5a9c949b24",
   "outputs": [
    {
     "data": {
      "text/plain": [
       "                   target                     RFC                     MLP  \\\n",
       "0                advocate                advocate                advocate   \n",
       "1                   pilot                   pilot                   pilot   \n",
       "2  machine learn engineer  machine learn engineer  machine learn engineer   \n",
       "3          data scientist          data scientist          data scientist   \n",
       "4    construction manager    construction manager    construction manager   \n",
       "\n",
       "                      SVC               LinearSVC                   NuSVC  \\\n",
       "0                advocate                advocate                advocate   \n",
       "1                   pilot                   pilot                   pilot   \n",
       "2  machine learn engineer  machine learn engineer  machine learn engineer   \n",
       "3          data scientist          data scientist          data scientist   \n",
       "4    construction manager    construction manager    construction manager   \n",
       "\n",
       "                      SGD                      LR                     KNC  \\\n",
       "0                advocate                advocate                advocate   \n",
       "1                   pilot                   pilot                   pilot   \n",
       "2  machine learn engineer  machine learn engineer  machine learn engineer   \n",
       "3          data scientist          data scientist          data scientist   \n",
       "4    construction manager    construction manager    construction manager   \n",
       "\n",
       "                     LSTM                    BERT  \n",
       "0                advocate                 fitness  \n",
       "1                   pilot                   pilot  \n",
       "2  machine learn engineer  machine learn engineer  \n",
       "3          data scientist          data scientist  \n",
       "4    construction manager    construction manager  "
      ],
      "text/html": [
       "<div>\n",
       "<style scoped>\n",
       "    .dataframe tbody tr th:only-of-type {\n",
       "        vertical-align: middle;\n",
       "    }\n",
       "\n",
       "    .dataframe tbody tr th {\n",
       "        vertical-align: top;\n",
       "    }\n",
       "\n",
       "    .dataframe thead th {\n",
       "        text-align: right;\n",
       "    }\n",
       "</style>\n",
       "<table border=\"1\" class=\"dataframe\">\n",
       "  <thead>\n",
       "    <tr style=\"text-align: right;\">\n",
       "      <th></th>\n",
       "      <th>target</th>\n",
       "      <th>RFC</th>\n",
       "      <th>MLP</th>\n",
       "      <th>SVC</th>\n",
       "      <th>LinearSVC</th>\n",
       "      <th>NuSVC</th>\n",
       "      <th>SGD</th>\n",
       "      <th>LR</th>\n",
       "      <th>KNC</th>\n",
       "      <th>LSTM</th>\n",
       "      <th>BERT</th>\n",
       "    </tr>\n",
       "  </thead>\n",
       "  <tbody>\n",
       "    <tr>\n",
       "      <th>0</th>\n",
       "      <td>advocate</td>\n",
       "      <td>advocate</td>\n",
       "      <td>advocate</td>\n",
       "      <td>advocate</td>\n",
       "      <td>advocate</td>\n",
       "      <td>advocate</td>\n",
       "      <td>advocate</td>\n",
       "      <td>advocate</td>\n",
       "      <td>advocate</td>\n",
       "      <td>advocate</td>\n",
       "      <td>fitness</td>\n",
       "    </tr>\n",
       "    <tr>\n",
       "      <th>1</th>\n",
       "      <td>pilot</td>\n",
       "      <td>pilot</td>\n",
       "      <td>pilot</td>\n",
       "      <td>pilot</td>\n",
       "      <td>pilot</td>\n",
       "      <td>pilot</td>\n",
       "      <td>pilot</td>\n",
       "      <td>pilot</td>\n",
       "      <td>pilot</td>\n",
       "      <td>pilot</td>\n",
       "      <td>pilot</td>\n",
       "    </tr>\n",
       "    <tr>\n",
       "      <th>2</th>\n",
       "      <td>machine learn engineer</td>\n",
       "      <td>machine learn engineer</td>\n",
       "      <td>machine learn engineer</td>\n",
       "      <td>machine learn engineer</td>\n",
       "      <td>machine learn engineer</td>\n",
       "      <td>machine learn engineer</td>\n",
       "      <td>machine learn engineer</td>\n",
       "      <td>machine learn engineer</td>\n",
       "      <td>machine learn engineer</td>\n",
       "      <td>machine learn engineer</td>\n",
       "      <td>machine learn engineer</td>\n",
       "    </tr>\n",
       "    <tr>\n",
       "      <th>3</th>\n",
       "      <td>data scientist</td>\n",
       "      <td>data scientist</td>\n",
       "      <td>data scientist</td>\n",
       "      <td>data scientist</td>\n",
       "      <td>data scientist</td>\n",
       "      <td>data scientist</td>\n",
       "      <td>data scientist</td>\n",
       "      <td>data scientist</td>\n",
       "      <td>data scientist</td>\n",
       "      <td>data scientist</td>\n",
       "      <td>data scientist</td>\n",
       "    </tr>\n",
       "    <tr>\n",
       "      <th>4</th>\n",
       "      <td>construction manager</td>\n",
       "      <td>construction manager</td>\n",
       "      <td>construction manager</td>\n",
       "      <td>construction manager</td>\n",
       "      <td>construction manager</td>\n",
       "      <td>construction manager</td>\n",
       "      <td>construction manager</td>\n",
       "      <td>construction manager</td>\n",
       "      <td>construction manager</td>\n",
       "      <td>construction manager</td>\n",
       "      <td>construction manager</td>\n",
       "    </tr>\n",
       "  </tbody>\n",
       "</table>\n",
       "</div>"
      ]
     },
     "execution_count": 2,
     "metadata": {},
     "output_type": "execute_result"
    }
   ],
   "execution_count": 2
  },
  {
   "metadata": {
    "ExecuteTime": {
     "end_time": "2025-06-28T05:20:00.454720Z",
     "start_time": "2025-06-28T05:20:00.448441Z"
    }
   },
   "cell_type": "code",
   "source": [
    "trust_models = pd.read_csv(\"data/results/trust_model.csv\")\n",
    "trust_models.head()"
   ],
   "id": "cb16692632b4b86e",
   "outputs": [
    {
     "data": {
      "text/plain": [
       "        RFC       MLP       SVC  LinearSVC     NuSVC       SGD       LR  \\\n",
       "0  0.966374  0.953947  0.963816   0.964181  0.954313  0.898757  0.96674   \n",
       "\n",
       "        KNC      LSTM      BERT  \n",
       "0  0.950658  0.964547  0.959795  "
      ],
      "text/html": [
       "<div>\n",
       "<style scoped>\n",
       "    .dataframe tbody tr th:only-of-type {\n",
       "        vertical-align: middle;\n",
       "    }\n",
       "\n",
       "    .dataframe tbody tr th {\n",
       "        vertical-align: top;\n",
       "    }\n",
       "\n",
       "    .dataframe thead th {\n",
       "        text-align: right;\n",
       "    }\n",
       "</style>\n",
       "<table border=\"1\" class=\"dataframe\">\n",
       "  <thead>\n",
       "    <tr style=\"text-align: right;\">\n",
       "      <th></th>\n",
       "      <th>RFC</th>\n",
       "      <th>MLP</th>\n",
       "      <th>SVC</th>\n",
       "      <th>LinearSVC</th>\n",
       "      <th>NuSVC</th>\n",
       "      <th>SGD</th>\n",
       "      <th>LR</th>\n",
       "      <th>KNC</th>\n",
       "      <th>LSTM</th>\n",
       "      <th>BERT</th>\n",
       "    </tr>\n",
       "  </thead>\n",
       "  <tbody>\n",
       "    <tr>\n",
       "      <th>0</th>\n",
       "      <td>0.966374</td>\n",
       "      <td>0.953947</td>\n",
       "      <td>0.963816</td>\n",
       "      <td>0.964181</td>\n",
       "      <td>0.954313</td>\n",
       "      <td>0.898757</td>\n",
       "      <td>0.96674</td>\n",
       "      <td>0.950658</td>\n",
       "      <td>0.964547</td>\n",
       "      <td>0.959795</td>\n",
       "    </tr>\n",
       "  </tbody>\n",
       "</table>\n",
       "</div>"
      ]
     },
     "execution_count": 46,
     "metadata": {},
     "output_type": "execute_result"
    }
   ],
   "execution_count": 46
  },
  {
   "metadata": {
    "ExecuteTime": {
     "end_time": "2025-06-28T04:28:26.513849Z",
     "start_time": "2025-06-28T04:28:26.511459Z"
    }
   },
   "cell_type": "code",
   "source": [
    "from sklearn.preprocessing import LabelEncoder\n",
    "\n",
    "def encode_labels(data):\n",
    "    label_encoder = LabelEncoder()\n",
    "    label_encoder.fit(data)\n",
    "    return label_encoder\n",
    "\n",
    "def decoded_label(label_encoder, y_encoded, categorical=True):\n",
    "    label = [int(np.argmax(y)) for y in y_encoded] if categorical else y_encoded\n",
    "    return label_encoder.inverse_transform(label)"
   ],
   "id": "d76af0df3ac1d069",
   "outputs": [],
   "execution_count": 3
  },
  {
   "metadata": {
    "ExecuteTime": {
     "end_time": "2025-06-28T04:28:26.577386Z",
     "start_time": "2025-06-28T04:28:26.557877Z"
    }
   },
   "cell_type": "code",
   "source": [
    "all_values = []\n",
    "for col in classifier_results.columns:\n",
    "    for v in classifier_results[col].values:\n",
    "        all_values.append(v)\n",
    "\n",
    "all_values = pd.DataFrame(all_values, columns=['values'])\n",
    "label_encoder = encode_labels(all_values['values'])\n",
    "\n",
    "for col in classifier_results.columns:\n",
    "    classifier_results[col] = label_encoder.transform(classifier_results[col])\n",
    "\n",
    "classifier_results.to_csv(f\"data/results/classifiers-results-coded.csv\", encoding='utf-8', index=False)\n",
    "classifier_results.head()"
   ],
   "id": "85651db6cdb521e6",
   "outputs": [
    {
     "data": {
      "text/plain": [
       "   target  RFC  MLP  SVC  LinearSVC  NuSVC  SGD  LR  KNC  LSTM  BERT\n",
       "0       1    1    1    1          1      1    1   1    1     1    47\n",
       "1      71   71   71   71         71     71   71  71   71    71    71\n",
       "2      61   61   61   61         61     61   61  61   61    61    61\n",
       "3      31   31   31   31         31     31   31  31   31    31    31\n",
       "4      23   23   23   23         23     23   23  23   23    23    23"
      ],
      "text/html": [
       "<div>\n",
       "<style scoped>\n",
       "    .dataframe tbody tr th:only-of-type {\n",
       "        vertical-align: middle;\n",
       "    }\n",
       "\n",
       "    .dataframe tbody tr th {\n",
       "        vertical-align: top;\n",
       "    }\n",
       "\n",
       "    .dataframe thead th {\n",
       "        text-align: right;\n",
       "    }\n",
       "</style>\n",
       "<table border=\"1\" class=\"dataframe\">\n",
       "  <thead>\n",
       "    <tr style=\"text-align: right;\">\n",
       "      <th></th>\n",
       "      <th>target</th>\n",
       "      <th>RFC</th>\n",
       "      <th>MLP</th>\n",
       "      <th>SVC</th>\n",
       "      <th>LinearSVC</th>\n",
       "      <th>NuSVC</th>\n",
       "      <th>SGD</th>\n",
       "      <th>LR</th>\n",
       "      <th>KNC</th>\n",
       "      <th>LSTM</th>\n",
       "      <th>BERT</th>\n",
       "    </tr>\n",
       "  </thead>\n",
       "  <tbody>\n",
       "    <tr>\n",
       "      <th>0</th>\n",
       "      <td>1</td>\n",
       "      <td>1</td>\n",
       "      <td>1</td>\n",
       "      <td>1</td>\n",
       "      <td>1</td>\n",
       "      <td>1</td>\n",
       "      <td>1</td>\n",
       "      <td>1</td>\n",
       "      <td>1</td>\n",
       "      <td>1</td>\n",
       "      <td>47</td>\n",
       "    </tr>\n",
       "    <tr>\n",
       "      <th>1</th>\n",
       "      <td>71</td>\n",
       "      <td>71</td>\n",
       "      <td>71</td>\n",
       "      <td>71</td>\n",
       "      <td>71</td>\n",
       "      <td>71</td>\n",
       "      <td>71</td>\n",
       "      <td>71</td>\n",
       "      <td>71</td>\n",
       "      <td>71</td>\n",
       "      <td>71</td>\n",
       "    </tr>\n",
       "    <tr>\n",
       "      <th>2</th>\n",
       "      <td>61</td>\n",
       "      <td>61</td>\n",
       "      <td>61</td>\n",
       "      <td>61</td>\n",
       "      <td>61</td>\n",
       "      <td>61</td>\n",
       "      <td>61</td>\n",
       "      <td>61</td>\n",
       "      <td>61</td>\n",
       "      <td>61</td>\n",
       "      <td>61</td>\n",
       "    </tr>\n",
       "    <tr>\n",
       "      <th>3</th>\n",
       "      <td>31</td>\n",
       "      <td>31</td>\n",
       "      <td>31</td>\n",
       "      <td>31</td>\n",
       "      <td>31</td>\n",
       "      <td>31</td>\n",
       "      <td>31</td>\n",
       "      <td>31</td>\n",
       "      <td>31</td>\n",
       "      <td>31</td>\n",
       "      <td>31</td>\n",
       "    </tr>\n",
       "    <tr>\n",
       "      <th>4</th>\n",
       "      <td>23</td>\n",
       "      <td>23</td>\n",
       "      <td>23</td>\n",
       "      <td>23</td>\n",
       "      <td>23</td>\n",
       "      <td>23</td>\n",
       "      <td>23</td>\n",
       "      <td>23</td>\n",
       "      <td>23</td>\n",
       "      <td>23</td>\n",
       "      <td>23</td>\n",
       "    </tr>\n",
       "  </tbody>\n",
       "</table>\n",
       "</div>"
      ]
     },
     "execution_count": 4,
     "metadata": {},
     "output_type": "execute_result"
    }
   ],
   "execution_count": 4
  },
  {
   "metadata": {
    "ExecuteTime": {
     "end_time": "2025-06-28T05:20:04.010924Z",
     "start_time": "2025-06-28T05:20:04.006086Z"
    }
   },
   "cell_type": "code",
   "source": [
    "from sklearn.model_selection import train_test_split\n",
    "\n",
    "trust_models = np.ravel(np.array(trust_models.drop(columns=['BERT'], axis=1)))\n",
    "X = classifier_results.drop(['target', 'BERT'], axis=1)\n",
    "y = classifier_results['target']\n",
    "X_train, X_test, y_train, y_test = train_test_split(np.array(X), np.array(y), test_size=0.2, random_state=42)\n",
    "X_train.shape, X_test.shape, y_train.shape, y_test.shape"
   ],
   "id": "b01cdb916dbf4071",
   "outputs": [
    {
     "data": {
      "text/plain": [
       "((2188, 9), (548, 9), (2188,), (548,))"
      ]
     },
     "execution_count": 47,
     "metadata": {},
     "output_type": "execute_result"
    }
   ],
   "execution_count": 47
  },
  {
   "metadata": {},
   "cell_type": "markdown",
   "source": "## Decision methods",
   "id": "67c1ff3fa6a11d6a"
  },
  {
   "metadata": {},
   "cell_type": "markdown",
   "source": "### Statistic decision",
   "id": "cb592c896d526267"
  },
  {
   "metadata": {
    "ExecuteTime": {
     "end_time": "2025-06-28T05:58:42.061924Z",
     "start_time": "2025-06-28T05:58:42.059364Z"
    }
   },
   "cell_type": "code",
   "source": [
    "def statistic_decision():\n",
    "    statistic_predictions = []\n",
    "    for i, x in enumerate(X_test):\n",
    "        if np.std(x) == 0:\n",
    "            statistic_predictions.append(x[0])\n",
    "        else:\n",
    "            mode = stats.mode(x)\n",
    "            if mode.count > 7:\n",
    "                statistic_predictions.append(mode.mode)\n",
    "            else:\n",
    "                # mean = np.average(x, weights=trust_models) 0.9708029197080292\n",
    "                mean = np.mean(x) # 0.9726277372262774\n",
    "                nearest = len(label_encoder.classes_)\n",
    "                for v in x:\n",
    "                    diff = abs(v - mean)\n",
    "                    nearest = nearest if nearest < diff else v\n",
    "                statistic_predictions.append(nearest)\n",
    "\n",
    "    report = classification_report(y_test, statistic_predictions, output_dict=True)\n",
    "    return {\n",
    "        'accuracy': report['accuracy'],\n",
    "        'macro avg': report['macro avg'],\n",
    "        'weighted avg': report['weighted avg'],\n",
    "    }"
   ],
   "id": "c83eb94d0ac04090",
   "outputs": [],
   "execution_count": 112
  },
  {
   "metadata": {
    "ExecuteTime": {
     "end_time": "2025-06-28T05:58:42.128144Z",
     "start_time": "2025-06-28T05:58:42.104201Z"
    }
   },
   "cell_type": "code",
   "source": "statistic_decision()",
   "id": "d4b4a69cd08bddd3",
   "outputs": [
    {
     "data": {
      "text/plain": [
       "{'accuracy': 0.9726277372262774,\n",
       " 'macro avg': {'precision': 0.9765900327742432,\n",
       "  'recall': 0.9772886762360445,\n",
       "  'f1-score': 0.9752009095965537,\n",
       "  'support': 548.0},\n",
       " 'weighted avg': {'precision': 0.9755889715515629,\n",
       "  'recall': 0.9726277372262774,\n",
       "  'f1-score': 0.9725290581834755,\n",
       "  'support': 548.0}}"
      ]
     },
     "execution_count": 113,
     "metadata": {},
     "output_type": "execute_result"
    }
   ],
   "execution_count": 113
  },
  {
   "metadata": {},
   "cell_type": "markdown",
   "source": "### Dynamic choise",
   "id": "ceb0c379218aa3f5"
  },
  {
   "metadata": {},
   "cell_type": "markdown",
   "source": "#### KNN with weighted combination",
   "id": "5c147d7c780124f2"
  },
  {
   "metadata": {
    "ExecuteTime": {
     "end_time": "2025-06-28T05:58:43.457465Z",
     "start_time": "2025-06-28T05:58:43.454971Z"
    }
   },
   "cell_type": "code",
   "source": [
    "def weighted_combination():\n",
    "    knn = NearestNeighbors(n_neighbors=1, metric='euclidean')\n",
    "    knn.fit(X_train)\n",
    "    dynamic_predictions = []\n",
    "    for t in X_test:\n",
    "        distances, indexes = knn.kneighbors(t.reshape(1, -1))\n",
    "        indexes = np.ravel(indexes)\n",
    "\n",
    "        x_nn = X_train[indexes]\n",
    "        y_nn = y_train[indexes]\n",
    "\n",
    "        weight = np.linalg.pinv(x_nn).dot(y_nn)\n",
    "        dynamic_predictions.append(int(t.dot(weight)))\n",
    "\n",
    "    report = classification_report(y_test, dynamic_predictions, output_dict=True)\n",
    "    return {\n",
    "        'accuracy': report['accuracy'],\n",
    "        'macro avg': report['macro avg'],\n",
    "        'weighted avg': report['weighted avg'],\n",
    "    }"
   ],
   "id": "6432f9eb67ed3736",
   "outputs": [],
   "execution_count": 114
  },
  {
   "metadata": {},
   "cell_type": "markdown",
   "source": "#### Mix of statistic with weighted combination",
   "id": "5c6a993421723182"
  },
  {
   "metadata": {
    "ExecuteTime": {
     "end_time": "2025-06-28T05:58:43.475953Z",
     "start_time": "2025-06-28T05:58:43.473319Z"
    }
   },
   "cell_type": "code",
   "source": [
    "def statistic_decision_weighted_combination():\n",
    "    predictions = []\n",
    "    knn = NearestNeighbors(n_neighbors=1, metric='euclidean')\n",
    "    knn.fit(X_train)\n",
    "    for x in X_test:\n",
    "        if np.std(x) == 0:\n",
    "            predictions.append(x[0])\n",
    "        else:\n",
    "            mode = stats.mode(x)\n",
    "            if mode.count > 5:\n",
    "                predictions.append(mode.mode)\n",
    "            else:\n",
    "                distances, indexes = knn.kneighbors(x.reshape(1, -1))\n",
    "                indexes = np.ravel(indexes)\n",
    "\n",
    "                x_nn = X_train[indexes]\n",
    "                y_nn = y_train[indexes]\n",
    "\n",
    "                weight = np.linalg.pinv(x_nn).dot(y_nn)\n",
    "                predictions.append(int(x.dot(weight)))\n",
    "\n",
    "    report = classification_report(y_test, predictions, output_dict=True)\n",
    "    return {\n",
    "        'accuracy': report['accuracy'],\n",
    "        'macro avg': report['macro avg'],\n",
    "        'weighted avg': report['weighted avg'],\n",
    "    }"
   ],
   "id": "82c3136bb0651b96",
   "outputs": [],
   "execution_count": 115
  },
  {
   "metadata": {},
   "cell_type": "markdown",
   "source": "#### KNN with distance weighted combination",
   "id": "e0e948479cfc2360"
  },
  {
   "metadata": {
    "ExecuteTime": {
     "end_time": "2025-06-28T06:02:11.240862Z",
     "start_time": "2025-06-28T06:02:11.237334Z"
    }
   },
   "cell_type": "code",
   "source": [
    "def weighted_distance_decision():\n",
    "    knn = NearestNeighbors(n_neighbors=1, metric='euclidean')\n",
    "    knn.fit(X_train)\n",
    "    dynamic_predictions = []\n",
    "    for t in X_test:\n",
    "        distances, indexes = knn.kneighbors(t.reshape(1, -1))\n",
    "        distances = np.ravel(distances)\n",
    "        indexes = np.ravel(indexes)\n",
    "        x_nn = X_train[indexes]\n",
    "\n",
    "        options = list(set(np.concatenate((np.ravel(x_nn), t)).tolist()))\n",
    "        best_option = options[0]\n",
    "        options_weight = {o: 0 for o in options}\n",
    "        for o in options_weight.keys():\n",
    "            options_weight[o] += float(np.count_nonzero(t == o))\n",
    "            for i, x in enumerate(x_nn):\n",
    "                d = distances[i] if distances[i] != 0 else 1\n",
    "                options_weight[o] += float(np.count_nonzero(x == o) * trust_models[i]/d)\n",
    "\n",
    "            best_option = options_weight[o] if options_weight[o] > best_option else best_option\n",
    "\n",
    "        dynamic_predictions.append(int(best_option))\n",
    "\n",
    "    report = classification_report(y_test, dynamic_predictions, output_dict=True)\n",
    "    return {\n",
    "        'accuracy': report['accuracy'],\n",
    "        'macro avg': report['macro avg'],\n",
    "        'weighted avg': report['weighted avg'],\n",
    "    }"
   ],
   "id": "900785a77447eec0",
   "outputs": [],
   "execution_count": 129
  },
  {
   "metadata": {},
   "cell_type": "markdown",
   "source": "#### Mix of statistical and",
   "id": "75cf67ba7a3e3649"
  },
  {
   "metadata": {
    "ExecuteTime": {
     "end_time": "2025-06-28T06:02:05.526264Z",
     "start_time": "2025-06-28T06:02:05.522799Z"
    }
   },
   "cell_type": "code",
   "source": [
    "def statistic_decision_weighted_distance():\n",
    "    knn = NearestNeighbors(n_neighbors=1, metric='euclidean')\n",
    "    knn.fit(X_train)\n",
    "    statistic_predictions = []\n",
    "    for t in X_test:\n",
    "        if np.std(t) == 0:\n",
    "            statistic_predictions.append(int(t[0]))\n",
    "        else:\n",
    "            mode = stats.mode(t)\n",
    "            if mode.count > 7:\n",
    "                statistic_predictions.append(int(mode.mode))\n",
    "            else:\n",
    "                distances, indexes = knn.kneighbors(t.reshape(1, -1))\n",
    "                distances = np.ravel(distances)\n",
    "                indexes = np.ravel(indexes)\n",
    "                x_nn = X_train[indexes]\n",
    "\n",
    "                options = list(set(np.concatenate((np.ravel(x_nn), t)).tolist()))\n",
    "                best_option = options[0]\n",
    "                options_weight = {o: 0 for o in options}\n",
    "                for o in options_weight.keys():\n",
    "                    options_weight[o] += float(np.count_nonzero(t == o))\n",
    "                    for i, x in enumerate(x_nn):\n",
    "                        d = distances[i] if distances[i] != 0 else 1\n",
    "                        options_weight[o] += float(np.count_nonzero(x == o) * trust_models[i]/d)\n",
    "\n",
    "                    best_option = options_weight[o] if options_weight[o] > best_option else best_option\n",
    "\n",
    "                statistic_predictions.append(int(best_option))\n",
    "\n",
    "    report = classification_report(y_test, statistic_predictions, output_dict=True)\n",
    "    return {\n",
    "        'accuracy': report['accuracy'],\n",
    "        'macro avg': report['macro avg'],\n",
    "        'weighted avg': report['weighted avg'],\n",
    "    }"
   ],
   "id": "8b95b2a64529faa0",
   "outputs": [],
   "execution_count": 128
  },
  {
   "metadata": {},
   "cell_type": "markdown",
   "source": "#### Choosing decision",
   "id": "b2f6462421dd6f82"
  },
  {
   "metadata": {
    "ExecuteTime": {
     "end_time": "2025-06-28T06:02:18.173084Z",
     "start_time": "2025-06-28T06:02:17.833064Z"
    }
   },
   "cell_type": "code",
   "source": [
    "decisions = {\n",
    "    'statistic_decision': statistic_decision(),\n",
    "    'weighted_combination': weighted_combination(),\n",
    "    'statistic_decision_weighted_combination': statistic_decision_weighted_combination(),\n",
    "    'weighted_distance_decision': weighted_distance_decision(),\n",
    "    'statistic_decision_weighted_distance': statistic_decision_weighted_distance()\n",
    "}\n",
    "decisions"
   ],
   "id": "83df8bd1b3445ad9",
   "outputs": [
    {
     "name": "stderr",
     "output_type": "stream",
     "text": [
      "/home/ja1/Faculdade/recpad/hybrid-classification-resumes/.venv/lib/python3.12/site-packages/sklearn/metrics/_classification.py:1706: UndefinedMetricWarning: Precision is ill-defined and being set to 0.0 in labels with no predicted samples. Use `zero_division` parameter to control this behavior.\n",
      "  _warn_prf(average, modifier, f\"{metric.capitalize()} is\", result.shape[0])\n",
      "/home/ja1/Faculdade/recpad/hybrid-classification-resumes/.venv/lib/python3.12/site-packages/sklearn/metrics/_classification.py:1706: UndefinedMetricWarning: Precision is ill-defined and being set to 0.0 in labels with no predicted samples. Use `zero_division` parameter to control this behavior.\n",
      "  _warn_prf(average, modifier, f\"{metric.capitalize()} is\", result.shape[0])\n",
      "/home/ja1/Faculdade/recpad/hybrid-classification-resumes/.venv/lib/python3.12/site-packages/sklearn/metrics/_classification.py:1706: UndefinedMetricWarning: Precision is ill-defined and being set to 0.0 in labels with no predicted samples. Use `zero_division` parameter to control this behavior.\n",
      "  _warn_prf(average, modifier, f\"{metric.capitalize()} is\", result.shape[0])\n",
      "/home/ja1/Faculdade/recpad/hybrid-classification-resumes/.venv/lib/python3.12/site-packages/sklearn/metrics/_classification.py:1706: UndefinedMetricWarning: Precision is ill-defined and being set to 0.0 in labels with no predicted samples. Use `zero_division` parameter to control this behavior.\n",
      "  _warn_prf(average, modifier, f\"{metric.capitalize()} is\", result.shape[0])\n",
      "/home/ja1/Faculdade/recpad/hybrid-classification-resumes/.venv/lib/python3.12/site-packages/sklearn/metrics/_classification.py:1706: UndefinedMetricWarning: Precision is ill-defined and being set to 0.0 in labels with no predicted samples. Use `zero_division` parameter to control this behavior.\n",
      "  _warn_prf(average, modifier, f\"{metric.capitalize()} is\", result.shape[0])\n",
      "/home/ja1/Faculdade/recpad/hybrid-classification-resumes/.venv/lib/python3.12/site-packages/sklearn/metrics/_classification.py:1706: UndefinedMetricWarning: Precision is ill-defined and being set to 0.0 in labels with no predicted samples. Use `zero_division` parameter to control this behavior.\n",
      "  _warn_prf(average, modifier, f\"{metric.capitalize()} is\", result.shape[0])\n"
     ]
    },
    {
     "data": {
      "text/plain": [
       "{'statistic_decision': {'accuracy': 0.9726277372262774,\n",
       "  'macro avg': {'precision': 0.9765900327742432,\n",
       "   'recall': 0.9772886762360445,\n",
       "   'f1-score': 0.9752009095965537,\n",
       "   'support': 548.0},\n",
       "  'weighted avg': {'precision': 0.9755889715515629,\n",
       "   'recall': 0.9726277372262774,\n",
       "   'f1-score': 0.9725290581834755,\n",
       "   'support': 548.0}},\n",
       " 'weighted_combination': {'accuracy': 0.7737226277372263,\n",
       "  'macro avg': {'precision': 0.7069394640447272,\n",
       "   'recall': 0.7856486203854625,\n",
       "   'f1-score': 0.7269806736875338,\n",
       "   'support': 548.0},\n",
       "  'weighted avg': {'precision': 0.715711402344614,\n",
       "   'recall': 0.7737226277372263,\n",
       "   'f1-score': 0.7275791768642212,\n",
       "   'support': 548.0}},\n",
       " 'statistic_decision_weighted_combination': {'accuracy': 0.9653284671532847,\n",
       "  'macro avg': {'precision': 0.9696658312447788,\n",
       "   'recall': 0.9740568787937209,\n",
       "   'f1-score': 0.9685340633646066,\n",
       "   'support': 548.0},\n",
       "  'weighted avg': {'precision': 0.9701338199513382,\n",
       "   'recall': 0.9653284671532847,\n",
       "   'f1-score': 0.9647420996066373,\n",
       "   'support': 548.0}},\n",
       " 'weighted_distance_decision': {'accuracy': 0.7645985401459854,\n",
       "  'macro avg': {'precision': 0.7946028732427899,\n",
       "   'recall': 0.7976813245234297,\n",
       "   'f1-score': 0.7898019173808646,\n",
       "   'support': 548.0},\n",
       "  'weighted avg': {'precision': 0.7654669678085158,\n",
       "   'recall': 0.7645985401459854,\n",
       "   'f1-score': 0.759849444958934,\n",
       "   'support': 548.0}},\n",
       " 'statistic_decision_weighted_distance': {'accuracy': 0.9543795620437956,\n",
       "  'macro avg': {'precision': 0.9612022480443533,\n",
       "   'recall': 0.9660458255195097,\n",
       "   'f1-score': 0.9583831576508922,\n",
       "   'support': 548.0},\n",
       "  'weighted avg': {'precision': 0.9649014914525863,\n",
       "   'recall': 0.9543795620437956,\n",
       "   'f1-score': 0.9553926855259766,\n",
       "   'support': 548.0}}}"
      ]
     },
     "execution_count": 130,
     "metadata": {},
     "output_type": "execute_result"
    }
   ],
   "execution_count": 130
  },
  {
   "metadata": {},
   "cell_type": "markdown",
   "source": "### Meta-learning",
   "id": "2e7797070d57eb38"
  },
  {
   "metadata": {
    "ExecuteTime": {
     "end_time": "2025-06-28T05:53:31.045631Z",
     "start_time": "2025-06-28T05:52:27.980863Z"
    }
   },
   "cell_type": "code",
   "source": [
    "from sklearn.linear_model import LogisticRegression\n",
    "\n",
    "lr = LogisticRegression(penalty='l2', tol=0.0001, C=100, solver='newton-cg', max_iter=5000)\n",
    "lr.fit(X_train, y_train)\n",
    "pred = lr.predict(X_test)\n",
    "accuracy = classification_report(y_test, pred)\n",
    "accuracy"
   ],
   "id": "d5de9d261820fc61",
   "outputs": [
    {
     "ename": "KeyboardInterrupt",
     "evalue": "",
     "output_type": "error",
     "traceback": [
      "\u001B[31m---------------------------------------------------------------------------\u001B[39m",
      "\u001B[31mKeyboardInterrupt\u001B[39m                         Traceback (most recent call last)",
      "\u001B[36mCell\u001B[39m\u001B[36m \u001B[39m\u001B[32mIn[105]\u001B[39m\u001B[32m, line 4\u001B[39m\n\u001B[32m      1\u001B[39m \u001B[38;5;28;01mfrom\u001B[39;00m\u001B[38;5;250m \u001B[39m\u001B[34;01msklearn\u001B[39;00m\u001B[34;01m.\u001B[39;00m\u001B[34;01mlinear_model\u001B[39;00m\u001B[38;5;250m \u001B[39m\u001B[38;5;28;01mimport\u001B[39;00m LogisticRegression\n\u001B[32m      3\u001B[39m lr = LogisticRegression(penalty=\u001B[33m'\u001B[39m\u001B[33ml2\u001B[39m\u001B[33m'\u001B[39m, tol=\u001B[32m0.0001\u001B[39m, C=\u001B[32m100\u001B[39m, solver=\u001B[33m'\u001B[39m\u001B[33mnewton-cg\u001B[39m\u001B[33m'\u001B[39m, max_iter=\u001B[32m5000\u001B[39m)\n\u001B[32m----> \u001B[39m\u001B[32m4\u001B[39m \u001B[43mlr\u001B[49m\u001B[43m.\u001B[49m\u001B[43mfit\u001B[49m\u001B[43m(\u001B[49m\u001B[43mX_train\u001B[49m\u001B[43m,\u001B[49m\u001B[43m \u001B[49m\u001B[43my_train\u001B[49m\u001B[43m)\u001B[49m\n\u001B[32m      5\u001B[39m pred = lr.predict(X_test)\n\u001B[32m      6\u001B[39m accuracy = classification_report(y_test, pred)\n",
      "\u001B[36mFile \u001B[39m\u001B[32m~/Faculdade/recpad/hybrid-classification-resumes/.venv/lib/python3.12/site-packages/sklearn/base.py:1363\u001B[39m, in \u001B[36m_fit_context.<locals>.decorator.<locals>.wrapper\u001B[39m\u001B[34m(estimator, *args, **kwargs)\u001B[39m\n\u001B[32m   1356\u001B[39m     estimator._validate_params()\n\u001B[32m   1358\u001B[39m \u001B[38;5;28;01mwith\u001B[39;00m config_context(\n\u001B[32m   1359\u001B[39m     skip_parameter_validation=(\n\u001B[32m   1360\u001B[39m         prefer_skip_nested_validation \u001B[38;5;129;01mor\u001B[39;00m global_skip_validation\n\u001B[32m   1361\u001B[39m     )\n\u001B[32m   1362\u001B[39m ):\n\u001B[32m-> \u001B[39m\u001B[32m1363\u001B[39m     \u001B[38;5;28;01mreturn\u001B[39;00m \u001B[43mfit_method\u001B[49m\u001B[43m(\u001B[49m\u001B[43mestimator\u001B[49m\u001B[43m,\u001B[49m\u001B[43m \u001B[49m\u001B[43m*\u001B[49m\u001B[43margs\u001B[49m\u001B[43m,\u001B[49m\u001B[43m \u001B[49m\u001B[43m*\u001B[49m\u001B[43m*\u001B[49m\u001B[43mkwargs\u001B[49m\u001B[43m)\u001B[49m\n",
      "\u001B[36mFile \u001B[39m\u001B[32m~/Faculdade/recpad/hybrid-classification-resumes/.venv/lib/python3.12/site-packages/sklearn/linear_model/_logistic.py:1376\u001B[39m, in \u001B[36mLogisticRegression.fit\u001B[39m\u001B[34m(self, X, y, sample_weight)\u001B[39m\n\u001B[32m   1373\u001B[39m \u001B[38;5;28;01melse\u001B[39;00m:\n\u001B[32m   1374\u001B[39m     n_threads = \u001B[32m1\u001B[39m\n\u001B[32m-> \u001B[39m\u001B[32m1376\u001B[39m fold_coefs_ = \u001B[43mParallel\u001B[49m\u001B[43m(\u001B[49m\u001B[43mn_jobs\u001B[49m\u001B[43m=\u001B[49m\u001B[38;5;28;43mself\u001B[39;49m\u001B[43m.\u001B[49m\u001B[43mn_jobs\u001B[49m\u001B[43m,\u001B[49m\u001B[43m \u001B[49m\u001B[43mverbose\u001B[49m\u001B[43m=\u001B[49m\u001B[38;5;28;43mself\u001B[39;49m\u001B[43m.\u001B[49m\u001B[43mverbose\u001B[49m\u001B[43m,\u001B[49m\u001B[43m \u001B[49m\u001B[43mprefer\u001B[49m\u001B[43m=\u001B[49m\u001B[43mprefer\u001B[49m\u001B[43m)\u001B[49m\u001B[43m(\u001B[49m\n\u001B[32m   1377\u001B[39m \u001B[43m    \u001B[49m\u001B[43mpath_func\u001B[49m\u001B[43m(\u001B[49m\n\u001B[32m   1378\u001B[39m \u001B[43m        \u001B[49m\u001B[43mX\u001B[49m\u001B[43m,\u001B[49m\n\u001B[32m   1379\u001B[39m \u001B[43m        \u001B[49m\u001B[43my\u001B[49m\u001B[43m,\u001B[49m\n\u001B[32m   1380\u001B[39m \u001B[43m        \u001B[49m\u001B[43mpos_class\u001B[49m\u001B[43m=\u001B[49m\u001B[43mclass_\u001B[49m\u001B[43m,\u001B[49m\n\u001B[32m   1381\u001B[39m \u001B[43m        \u001B[49m\u001B[43mCs\u001B[49m\u001B[43m=\u001B[49m\u001B[43m[\u001B[49m\u001B[43mC_\u001B[49m\u001B[43m]\u001B[49m\u001B[43m,\u001B[49m\n\u001B[32m   1382\u001B[39m \u001B[43m        \u001B[49m\u001B[43ml1_ratio\u001B[49m\u001B[43m=\u001B[49m\u001B[38;5;28;43mself\u001B[39;49m\u001B[43m.\u001B[49m\u001B[43ml1_ratio\u001B[49m\u001B[43m,\u001B[49m\n\u001B[32m   1383\u001B[39m \u001B[43m        \u001B[49m\u001B[43mfit_intercept\u001B[49m\u001B[43m=\u001B[49m\u001B[38;5;28;43mself\u001B[39;49m\u001B[43m.\u001B[49m\u001B[43mfit_intercept\u001B[49m\u001B[43m,\u001B[49m\n\u001B[32m   1384\u001B[39m \u001B[43m        \u001B[49m\u001B[43mtol\u001B[49m\u001B[43m=\u001B[49m\u001B[38;5;28;43mself\u001B[39;49m\u001B[43m.\u001B[49m\u001B[43mtol\u001B[49m\u001B[43m,\u001B[49m\n\u001B[32m   1385\u001B[39m \u001B[43m        \u001B[49m\u001B[43mverbose\u001B[49m\u001B[43m=\u001B[49m\u001B[38;5;28;43mself\u001B[39;49m\u001B[43m.\u001B[49m\u001B[43mverbose\u001B[49m\u001B[43m,\u001B[49m\n\u001B[32m   1386\u001B[39m \u001B[43m        \u001B[49m\u001B[43msolver\u001B[49m\u001B[43m=\u001B[49m\u001B[43msolver\u001B[49m\u001B[43m,\u001B[49m\n\u001B[32m   1387\u001B[39m \u001B[43m        \u001B[49m\u001B[43mmulti_class\u001B[49m\u001B[43m=\u001B[49m\u001B[43mmulti_class\u001B[49m\u001B[43m,\u001B[49m\n\u001B[32m   1388\u001B[39m \u001B[43m        \u001B[49m\u001B[43mmax_iter\u001B[49m\u001B[43m=\u001B[49m\u001B[38;5;28;43mself\u001B[39;49m\u001B[43m.\u001B[49m\u001B[43mmax_iter\u001B[49m\u001B[43m,\u001B[49m\n\u001B[32m   1389\u001B[39m \u001B[43m        \u001B[49m\u001B[43mclass_weight\u001B[49m\u001B[43m=\u001B[49m\u001B[38;5;28;43mself\u001B[39;49m\u001B[43m.\u001B[49m\u001B[43mclass_weight\u001B[49m\u001B[43m,\u001B[49m\n\u001B[32m   1390\u001B[39m \u001B[43m        \u001B[49m\u001B[43mcheck_input\u001B[49m\u001B[43m=\u001B[49m\u001B[38;5;28;43;01mFalse\u001B[39;49;00m\u001B[43m,\u001B[49m\n\u001B[32m   1391\u001B[39m \u001B[43m        \u001B[49m\u001B[43mrandom_state\u001B[49m\u001B[43m=\u001B[49m\u001B[38;5;28;43mself\u001B[39;49m\u001B[43m.\u001B[49m\u001B[43mrandom_state\u001B[49m\u001B[43m,\u001B[49m\n\u001B[32m   1392\u001B[39m \u001B[43m        \u001B[49m\u001B[43mcoef\u001B[49m\u001B[43m=\u001B[49m\u001B[43mwarm_start_coef_\u001B[49m\u001B[43m,\u001B[49m\n\u001B[32m   1393\u001B[39m \u001B[43m        \u001B[49m\u001B[43mpenalty\u001B[49m\u001B[43m=\u001B[49m\u001B[43mpenalty\u001B[49m\u001B[43m,\u001B[49m\n\u001B[32m   1394\u001B[39m \u001B[43m        \u001B[49m\u001B[43mmax_squared_sum\u001B[49m\u001B[43m=\u001B[49m\u001B[43mmax_squared_sum\u001B[49m\u001B[43m,\u001B[49m\n\u001B[32m   1395\u001B[39m \u001B[43m        \u001B[49m\u001B[43msample_weight\u001B[49m\u001B[43m=\u001B[49m\u001B[43msample_weight\u001B[49m\u001B[43m,\u001B[49m\n\u001B[32m   1396\u001B[39m \u001B[43m        \u001B[49m\u001B[43mn_threads\u001B[49m\u001B[43m=\u001B[49m\u001B[43mn_threads\u001B[49m\u001B[43m,\u001B[49m\n\u001B[32m   1397\u001B[39m \u001B[43m    \u001B[49m\u001B[43m)\u001B[49m\n\u001B[32m   1398\u001B[39m \u001B[43m    \u001B[49m\u001B[38;5;28;43;01mfor\u001B[39;49;00m\u001B[43m \u001B[49m\u001B[43mclass_\u001B[49m\u001B[43m,\u001B[49m\u001B[43m \u001B[49m\u001B[43mwarm_start_coef_\u001B[49m\u001B[43m \u001B[49m\u001B[38;5;129;43;01min\u001B[39;49;00m\u001B[43m \u001B[49m\u001B[38;5;28;43mzip\u001B[39;49m\u001B[43m(\u001B[49m\u001B[43mclasses_\u001B[49m\u001B[43m,\u001B[49m\u001B[43m \u001B[49m\u001B[43mwarm_start_coef\u001B[49m\u001B[43m)\u001B[49m\n\u001B[32m   1399\u001B[39m \u001B[43m\u001B[49m\u001B[43m)\u001B[49m\n\u001B[32m   1401\u001B[39m fold_coefs_, _, n_iter_ = \u001B[38;5;28mzip\u001B[39m(*fold_coefs_)\n\u001B[32m   1402\u001B[39m \u001B[38;5;28mself\u001B[39m.n_iter_ = np.asarray(n_iter_, dtype=np.int32)[:, \u001B[32m0\u001B[39m]\n",
      "\u001B[36mFile \u001B[39m\u001B[32m~/Faculdade/recpad/hybrid-classification-resumes/.venv/lib/python3.12/site-packages/sklearn/utils/parallel.py:82\u001B[39m, in \u001B[36mParallel.__call__\u001B[39m\u001B[34m(self, iterable)\u001B[39m\n\u001B[32m     73\u001B[39m warning_filters = warnings.filters\n\u001B[32m     74\u001B[39m iterable_with_config_and_warning_filters = (\n\u001B[32m     75\u001B[39m     (\n\u001B[32m     76\u001B[39m         _with_config_and_warning_filters(delayed_func, config, warning_filters),\n\u001B[32m   (...)\u001B[39m\u001B[32m     80\u001B[39m     \u001B[38;5;28;01mfor\u001B[39;00m delayed_func, args, kwargs \u001B[38;5;129;01min\u001B[39;00m iterable\n\u001B[32m     81\u001B[39m )\n\u001B[32m---> \u001B[39m\u001B[32m82\u001B[39m \u001B[38;5;28;01mreturn\u001B[39;00m \u001B[38;5;28;43msuper\u001B[39;49m\u001B[43m(\u001B[49m\u001B[43m)\u001B[49m\u001B[43m.\u001B[49m\u001B[34;43m__call__\u001B[39;49m\u001B[43m(\u001B[49m\u001B[43miterable_with_config_and_warning_filters\u001B[49m\u001B[43m)\u001B[49m\n",
      "\u001B[36mFile \u001B[39m\u001B[32m~/Faculdade/recpad/hybrid-classification-resumes/.venv/lib/python3.12/site-packages/joblib/parallel.py:1986\u001B[39m, in \u001B[36mParallel.__call__\u001B[39m\u001B[34m(self, iterable)\u001B[39m\n\u001B[32m   1984\u001B[39m     output = \u001B[38;5;28mself\u001B[39m._get_sequential_output(iterable)\n\u001B[32m   1985\u001B[39m     \u001B[38;5;28mnext\u001B[39m(output)\n\u001B[32m-> \u001B[39m\u001B[32m1986\u001B[39m     \u001B[38;5;28;01mreturn\u001B[39;00m output \u001B[38;5;28;01mif\u001B[39;00m \u001B[38;5;28mself\u001B[39m.return_generator \u001B[38;5;28;01melse\u001B[39;00m \u001B[38;5;28;43mlist\u001B[39;49m\u001B[43m(\u001B[49m\u001B[43moutput\u001B[49m\u001B[43m)\u001B[49m\n\u001B[32m   1988\u001B[39m \u001B[38;5;66;03m# Let's create an ID that uniquely identifies the current call. If the\u001B[39;00m\n\u001B[32m   1989\u001B[39m \u001B[38;5;66;03m# call is interrupted early and that the same instance is immediately\u001B[39;00m\n\u001B[32m   1990\u001B[39m \u001B[38;5;66;03m# reused, this id will be used to prevent workers that were\u001B[39;00m\n\u001B[32m   1991\u001B[39m \u001B[38;5;66;03m# concurrently finalizing a task from the previous call to run the\u001B[39;00m\n\u001B[32m   1992\u001B[39m \u001B[38;5;66;03m# callback.\u001B[39;00m\n\u001B[32m   1993\u001B[39m \u001B[38;5;28;01mwith\u001B[39;00m \u001B[38;5;28mself\u001B[39m._lock:\n",
      "\u001B[36mFile \u001B[39m\u001B[32m~/Faculdade/recpad/hybrid-classification-resumes/.venv/lib/python3.12/site-packages/joblib/parallel.py:1914\u001B[39m, in \u001B[36mParallel._get_sequential_output\u001B[39m\u001B[34m(self, iterable)\u001B[39m\n\u001B[32m   1912\u001B[39m \u001B[38;5;28mself\u001B[39m.n_dispatched_batches += \u001B[32m1\u001B[39m\n\u001B[32m   1913\u001B[39m \u001B[38;5;28mself\u001B[39m.n_dispatched_tasks += \u001B[32m1\u001B[39m\n\u001B[32m-> \u001B[39m\u001B[32m1914\u001B[39m res = \u001B[43mfunc\u001B[49m\u001B[43m(\u001B[49m\u001B[43m*\u001B[49m\u001B[43margs\u001B[49m\u001B[43m,\u001B[49m\u001B[43m \u001B[49m\u001B[43m*\u001B[49m\u001B[43m*\u001B[49m\u001B[43mkwargs\u001B[49m\u001B[43m)\u001B[49m\n\u001B[32m   1915\u001B[39m \u001B[38;5;28mself\u001B[39m.n_completed_tasks += \u001B[32m1\u001B[39m\n\u001B[32m   1916\u001B[39m \u001B[38;5;28mself\u001B[39m.print_progress()\n",
      "\u001B[36mFile \u001B[39m\u001B[32m~/Faculdade/recpad/hybrid-classification-resumes/.venv/lib/python3.12/site-packages/sklearn/utils/parallel.py:147\u001B[39m, in \u001B[36m_FuncWrapper.__call__\u001B[39m\u001B[34m(self, *args, **kwargs)\u001B[39m\n\u001B[32m    145\u001B[39m \u001B[38;5;28;01mwith\u001B[39;00m config_context(**config), warnings.catch_warnings():\n\u001B[32m    146\u001B[39m     warnings.filters = warning_filters\n\u001B[32m--> \u001B[39m\u001B[32m147\u001B[39m     \u001B[38;5;28;01mreturn\u001B[39;00m \u001B[38;5;28;43mself\u001B[39;49m\u001B[43m.\u001B[49m\u001B[43mfunction\u001B[49m\u001B[43m(\u001B[49m\u001B[43m*\u001B[49m\u001B[43margs\u001B[49m\u001B[43m,\u001B[49m\u001B[43m \u001B[49m\u001B[43m*\u001B[49m\u001B[43m*\u001B[49m\u001B[43mkwargs\u001B[49m\u001B[43m)\u001B[49m\n",
      "\u001B[36mFile \u001B[39m\u001B[32m~/Faculdade/recpad/hybrid-classification-resumes/.venv/lib/python3.12/site-packages/sklearn/linear_model/_logistic.py:480\u001B[39m, in \u001B[36m_logistic_regression_path\u001B[39m\u001B[34m(X, y, pos_class, Cs, fit_intercept, max_iter, tol, verbose, solver, coef, class_weight, dual, penalty, intercept_scaling, multi_class, random_state, check_input, max_squared_sum, sample_weight, l1_ratio, n_threads)\u001B[39m\n\u001B[32m    478\u001B[39m     l2_reg_strength = \u001B[32m1.0\u001B[39m / (C * sw_sum)\n\u001B[32m    479\u001B[39m     args = (X, target, sample_weight, l2_reg_strength, n_threads)\n\u001B[32m--> \u001B[39m\u001B[32m480\u001B[39m     w0, n_iter_i = \u001B[43m_newton_cg\u001B[49m\u001B[43m(\u001B[49m\n\u001B[32m    481\u001B[39m \u001B[43m        \u001B[49m\u001B[43mgrad_hess\u001B[49m\u001B[43m=\u001B[49m\u001B[43mhess\u001B[49m\u001B[43m,\u001B[49m\n\u001B[32m    482\u001B[39m \u001B[43m        \u001B[49m\u001B[43mfunc\u001B[49m\u001B[43m=\u001B[49m\u001B[43mfunc\u001B[49m\u001B[43m,\u001B[49m\n\u001B[32m    483\u001B[39m \u001B[43m        \u001B[49m\u001B[43mgrad\u001B[49m\u001B[43m=\u001B[49m\u001B[43mgrad\u001B[49m\u001B[43m,\u001B[49m\n\u001B[32m    484\u001B[39m \u001B[43m        \u001B[49m\u001B[43mx0\u001B[49m\u001B[43m=\u001B[49m\u001B[43mw0\u001B[49m\u001B[43m,\u001B[49m\n\u001B[32m    485\u001B[39m \u001B[43m        \u001B[49m\u001B[43margs\u001B[49m\u001B[43m=\u001B[49m\u001B[43margs\u001B[49m\u001B[43m,\u001B[49m\n\u001B[32m    486\u001B[39m \u001B[43m        \u001B[49m\u001B[43mmaxiter\u001B[49m\u001B[43m=\u001B[49m\u001B[43mmax_iter\u001B[49m\u001B[43m,\u001B[49m\n\u001B[32m    487\u001B[39m \u001B[43m        \u001B[49m\u001B[43mtol\u001B[49m\u001B[43m=\u001B[49m\u001B[43mtol\u001B[49m\u001B[43m,\u001B[49m\n\u001B[32m    488\u001B[39m \u001B[43m        \u001B[49m\u001B[43mverbose\u001B[49m\u001B[43m=\u001B[49m\u001B[43mverbose\u001B[49m\u001B[43m,\u001B[49m\n\u001B[32m    489\u001B[39m \u001B[43m    \u001B[49m\u001B[43m)\u001B[49m\n\u001B[32m    490\u001B[39m \u001B[38;5;28;01melif\u001B[39;00m solver == \u001B[33m\"\u001B[39m\u001B[33mnewton-cholesky\u001B[39m\u001B[33m\"\u001B[39m:\n\u001B[32m    491\u001B[39m     l2_reg_strength = \u001B[32m1.0\u001B[39m / (C * sw_sum)\n",
      "\u001B[36mFile \u001B[39m\u001B[32m~/Faculdade/recpad/hybrid-classification-resumes/.venv/lib/python3.12/site-packages/sklearn/utils/optimize.py:276\u001B[39m, in \u001B[36m_newton_cg\u001B[39m\u001B[34m(grad_hess, func, grad, x0, args, tol, maxiter, maxinner, line_search, warn, verbose)\u001B[39m\n\u001B[32m    272\u001B[39m \u001B[38;5;66;03m# Outer loop: our Newton iteration\u001B[39;00m\n\u001B[32m    273\u001B[39m \u001B[38;5;28;01mwhile\u001B[39;00m k < maxiter:\n\u001B[32m    274\u001B[39m     \u001B[38;5;66;03m# Compute a search direction pk by applying the CG method to\u001B[39;00m\n\u001B[32m    275\u001B[39m     \u001B[38;5;66;03m#  del2 f(xk) p = - fgrad f(xk) starting from 0.\u001B[39;00m\n\u001B[32m--> \u001B[39m\u001B[32m276\u001B[39m     fgrad, fhess_p = \u001B[43mgrad_hess\u001B[49m\u001B[43m(\u001B[49m\u001B[43mxk\u001B[49m\u001B[43m,\u001B[49m\u001B[43m \u001B[49m\u001B[43m*\u001B[49m\u001B[43margs\u001B[49m\u001B[43m)\u001B[49m\n\u001B[32m    278\u001B[39m     absgrad = np.abs(fgrad)\n\u001B[32m    279\u001B[39m     max_absgrad = np.max(absgrad)\n",
      "\u001B[36mFile \u001B[39m\u001B[32m~/Faculdade/recpad/hybrid-classification-resumes/.venv/lib/python3.12/site-packages/sklearn/linear_model/_linear_loss.py:766\u001B[39m, in \u001B[36mLinearModelLoss.gradient_hessian_product\u001B[39m\u001B[34m(self, coef, X, y, sample_weight, l2_reg_strength, n_threads)\u001B[39m\n\u001B[32m    758\u001B[39m         \u001B[38;5;28;01mreturn\u001B[39;00m ret\n\u001B[32m    760\u001B[39m \u001B[38;5;28;01melse\u001B[39;00m:\n\u001B[32m    761\u001B[39m     \u001B[38;5;66;03m# Here we may safely assume HalfMultinomialLoss aka categorical\u001B[39;00m\n\u001B[32m    762\u001B[39m     \u001B[38;5;66;03m# cross-entropy.\u001B[39;00m\n\u001B[32m    763\u001B[39m     \u001B[38;5;66;03m# HalfMultinomialLoss computes only the diagonal part of the hessian, i.e.\u001B[39;00m\n\u001B[32m    764\u001B[39m     \u001B[38;5;66;03m# diagonal in the classes. Here, we want the matrix-vector product of the\u001B[39;00m\n\u001B[32m    765\u001B[39m     \u001B[38;5;66;03m# full hessian. Therefore, we call gradient_proba.\u001B[39;00m\n\u001B[32m--> \u001B[39m\u001B[32m766\u001B[39m     grad_pointwise, proba = \u001B[38;5;28;43mself\u001B[39;49m\u001B[43m.\u001B[49m\u001B[43mbase_loss\u001B[49m\u001B[43m.\u001B[49m\u001B[43mgradient_proba\u001B[49m\u001B[43m(\u001B[49m\n\u001B[32m    767\u001B[39m \u001B[43m        \u001B[49m\u001B[43my_true\u001B[49m\u001B[43m=\u001B[49m\u001B[43my\u001B[49m\u001B[43m,\u001B[49m\n\u001B[32m    768\u001B[39m \u001B[43m        \u001B[49m\u001B[43mraw_prediction\u001B[49m\u001B[43m=\u001B[49m\u001B[43mraw_prediction\u001B[49m\u001B[43m,\u001B[49m\n\u001B[32m    769\u001B[39m \u001B[43m        \u001B[49m\u001B[43msample_weight\u001B[49m\u001B[43m=\u001B[49m\u001B[43msample_weight\u001B[49m\u001B[43m,\u001B[49m\n\u001B[32m    770\u001B[39m \u001B[43m        \u001B[49m\u001B[43mn_threads\u001B[49m\u001B[43m=\u001B[49m\u001B[43mn_threads\u001B[49m\u001B[43m,\u001B[49m\n\u001B[32m    771\u001B[39m \u001B[43m    \u001B[49m\u001B[43m)\u001B[49m\n\u001B[32m    772\u001B[39m     grad_pointwise /= sw_sum\n\u001B[32m    773\u001B[39m     grad = np.empty((n_classes, n_dof), dtype=weights.dtype, order=\u001B[33m\"\u001B[39m\u001B[33mF\u001B[39m\u001B[33m\"\u001B[39m)\n",
      "\u001B[36mFile \u001B[39m\u001B[32m~/Faculdade/recpad/hybrid-classification-resumes/.venv/lib/python3.12/site-packages/sklearn/_loss/loss.py:1086\u001B[39m, in \u001B[36mHalfMultinomialLoss.gradient_proba\u001B[39m\u001B[34m(self, y_true, raw_prediction, sample_weight, gradient_out, proba_out, n_threads)\u001B[39m\n\u001B[32m   1083\u001B[39m \u001B[38;5;28;01melif\u001B[39;00m proba_out \u001B[38;5;129;01mis\u001B[39;00m \u001B[38;5;28;01mNone\u001B[39;00m:\n\u001B[32m   1084\u001B[39m     proba_out = np.empty_like(gradient_out)\n\u001B[32m-> \u001B[39m\u001B[32m1086\u001B[39m \u001B[38;5;28;43mself\u001B[39;49m\u001B[43m.\u001B[49m\u001B[43mcloss\u001B[49m\u001B[43m.\u001B[49m\u001B[43mgradient_proba\u001B[49m\u001B[43m(\u001B[49m\n\u001B[32m   1087\u001B[39m \u001B[43m    \u001B[49m\u001B[43my_true\u001B[49m\u001B[43m=\u001B[49m\u001B[43my_true\u001B[49m\u001B[43m,\u001B[49m\n\u001B[32m   1088\u001B[39m \u001B[43m    \u001B[49m\u001B[43mraw_prediction\u001B[49m\u001B[43m=\u001B[49m\u001B[43mraw_prediction\u001B[49m\u001B[43m,\u001B[49m\n\u001B[32m   1089\u001B[39m \u001B[43m    \u001B[49m\u001B[43msample_weight\u001B[49m\u001B[43m=\u001B[49m\u001B[43msample_weight\u001B[49m\u001B[43m,\u001B[49m\n\u001B[32m   1090\u001B[39m \u001B[43m    \u001B[49m\u001B[43mgradient_out\u001B[49m\u001B[43m=\u001B[49m\u001B[43mgradient_out\u001B[49m\u001B[43m,\u001B[49m\n\u001B[32m   1091\u001B[39m \u001B[43m    \u001B[49m\u001B[43mproba_out\u001B[49m\u001B[43m=\u001B[49m\u001B[43mproba_out\u001B[49m\u001B[43m,\u001B[49m\n\u001B[32m   1092\u001B[39m \u001B[43m    \u001B[49m\u001B[43mn_threads\u001B[49m\u001B[43m=\u001B[49m\u001B[43mn_threads\u001B[49m\u001B[43m,\u001B[49m\n\u001B[32m   1093\u001B[39m \u001B[43m\u001B[49m\u001B[43m)\u001B[49m\n\u001B[32m   1094\u001B[39m \u001B[38;5;28;01mreturn\u001B[39;00m gradient_out, proba_out\n",
      "\u001B[31mKeyboardInterrupt\u001B[39m: "
     ]
    }
   ],
   "execution_count": 105
  },
  {
   "metadata": {
    "ExecuteTime": {
     "end_time": "2025-06-28T05:53:31.055532098Z",
     "start_time": "2025-06-26T19:38:09.764591Z"
    }
   },
   "cell_type": "code",
   "source": [
    "from sklearn.neighbors import KNeighborsClassifier\n",
    "\n",
    "knn = KNeighborsClassifier(n_neighbors=2, metric='euclidean')\n",
    "knn.fit(X_train, y_train)\n",
    "pred = knn.predict(X_test)\n",
    "accuracy = classification_report(y_test, pred)\n",
    "accuracy"
   ],
   "id": "63922f0a6a8f16b6",
   "outputs": [
    {
     "data": {
      "text/plain": [
       "0.9361313868613139"
      ]
     },
     "execution_count": 11,
     "metadata": {},
     "output_type": "execute_result"
    }
   ],
   "execution_count": 11
  },
  {
   "metadata": {
    "ExecuteTime": {
     "end_time": "2025-06-28T05:53:31.070455781Z",
     "start_time": "2025-06-26T19:38:11.209556Z"
    }
   },
   "cell_type": "code",
   "source": [
    "from sklearn.neural_network import MLPClassifier\n",
    "\n",
    "mlp = MLPClassifier(hidden_layer_sizes=(32,64,128,64,32), activation='relu', alpha=0.001, solver='adam', max_iter=10000)\n",
    "mlp.fit(X_train, y_train)\n",
    "pred = mlp.predict(X_test)\n",
    "accuracy = classification_report(y_test, pred)\n",
    "accuracy"
   ],
   "id": "90cb43b82678cc5a",
   "outputs": [
    {
     "data": {
      "text/plain": [
       "0.4835766423357664"
      ]
     },
     "execution_count": 12,
     "metadata": {},
     "output_type": "execute_result"
    }
   ],
   "execution_count": 12
  }
 ],
 "metadata": {
  "kernelspec": {
   "display_name": "Python 3",
   "language": "python",
   "name": "python3"
  },
  "language_info": {
   "codemirror_mode": {
    "name": "ipython",
    "version": 2
   },
   "file_extension": ".py",
   "mimetype": "text/x-python",
   "name": "python",
   "nbconvert_exporter": "python",
   "pygments_lexer": "ipython2",
   "version": "2.7.6"
  }
 },
 "nbformat": 4,
 "nbformat_minor": 5
}
